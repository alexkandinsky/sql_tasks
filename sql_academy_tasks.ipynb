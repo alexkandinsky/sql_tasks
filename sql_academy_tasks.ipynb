{
  "nbformat": 4,
  "nbformat_minor": 0,
  "metadata": {
    "colab": {
      "provenance": []
    },
    "kernelspec": {
      "name": "python3",
      "display_name": "Python 3"
    },
    "language_info": {
      "name": "python"
    }
  },
  "cells": [
    {
      "cell_type": "markdown",
      "source": [
        "ССЫЛКА НА ИСТОЧНИК ЗАДАЧ: https://sql-academy.org/ru/trainer"
      ],
      "metadata": {
        "id": "SsbnSGqL3yyf"
      }
    },
    {
      "cell_type": "markdown",
      "source": [
        "Задание 1\n",
        "\n",
        "Вывести имена всех людей, которые есть в базе данных авиакомпаний"
      ],
      "metadata": {
        "id": "opU8GnvfuOVA"
      }
    },
    {
      "cell_type": "code",
      "source": [
        "SELECT p.name\n",
        "FROM Passenger as p"
      ],
      "metadata": {
        "id": "hyCOfAYMutLC"
      },
      "execution_count": null,
      "outputs": []
    },
    {
      "cell_type": "markdown",
      "source": [
        "Задание 2\n",
        "\n",
        "Вывести названия всеx авиакомпаний"
      ],
      "metadata": {
        "id": "m0iNk1QXuzJC"
      }
    },
    {
      "cell_type": "code",
      "source": [
        "SELECT c.name\n",
        "FROM Company as c"
      ],
      "metadata": {
        "id": "-RpHlN9jvIOj"
      },
      "execution_count": null,
      "outputs": []
    },
    {
      "cell_type": "markdown",
      "source": [
        "Задание 3\n",
        "\n",
        "Вывести все рейсы, совершенные из Москвы\n"
      ],
      "metadata": {
        "id": "KSZnc5gEvWVZ"
      }
    },
    {
      "cell_type": "code",
      "source": [
        "SELECT t.*\n",
        "FROM Trip as t\n",
        "WHERE t.town_from = 'Moscow'"
      ],
      "metadata": {
        "id": "-FEKq9uKvXt-"
      },
      "execution_count": null,
      "outputs": []
    },
    {
      "cell_type": "markdown",
      "source": [
        "Задание 4\n",
        "\n",
        "Вывести имена людей, которые заканчиваются на \"man\""
      ],
      "metadata": {
        "id": "j8YddyC7wWtu"
      }
    },
    {
      "cell_type": "code",
      "source": [
        "SELECT p.name\n",
        "FROM Passenger as p\n",
        "WHERE p.name LIKE '%man'"
      ],
      "metadata": {
        "id": "Dk-ns94Cwbf4"
      },
      "execution_count": null,
      "outputs": []
    },
    {
      "cell_type": "markdown",
      "source": [
        "Задание 5\n",
        "\n",
        "Вывести количество рейсов, совершенных на TU-134"
      ],
      "metadata": {
        "id": "UkF89Ju1wmNh"
      }
    },
    {
      "cell_type": "code",
      "source": [
        "SELECT t.count(*) as count\n",
        "FROM Trip as t\n",
        "WHERE t.plane = 'TU-134'"
      ],
      "metadata": {
        "id": "s9e1NmIiwnVH"
      },
      "execution_count": null,
      "outputs": []
    },
    {
      "cell_type": "markdown",
      "source": [
        "Задание 6\n",
        "\n",
        "Какие компании совершали перелеты на Boeing"
      ],
      "metadata": {
        "id": "Q6bjlWF7wyKc"
      }
    },
    {
      "cell_type": "code",
      "source": [
        "SELECT c.name\n",
        "FROM Company as c\n",
        "\tINNER JOIN Trip as t ON c.id = t.company\n",
        "WHERE t.plane = 'Boeing'\n",
        "GROUP BY c.name"
      ],
      "metadata": {
        "id": "GmB4IHQfwzx4"
      },
      "execution_count": null,
      "outputs": []
    },
    {
      "cell_type": "markdown",
      "source": [
        "Задание 7\n",
        "\n",
        "Вывести все названия самолётов, на которых можно улететь в Москву (Moscow)"
      ],
      "metadata": {
        "id": "Bm-5bonAw-3J"
      }
    },
    {
      "cell_type": "code",
      "source": [
        "SELECT t.plane\n",
        "FROM Trip as t\n",
        "WHERE t.town_from = 'Moscow'\n",
        "GROUP BY t.plane"
      ],
      "metadata": {
        "id": "y2T8IEg-xAeG"
      },
      "execution_count": null,
      "outputs": []
    },
    {
      "cell_type": "markdown",
      "source": [
        "Задание 8\n",
        "\n",
        "В какие города можно улететь из Парижа (Paris) и сколько времени это займёт?"
      ],
      "metadata": {
        "id": "0gt96JMXxIhf"
      }
    },
    {
      "cell_type": "code",
      "source": [
        "SELECT t.town_to,\n",
        "\tTIMEDIFF(t.time_in, t.time_out) as flight_time\n",
        "FROM Trip as t\n",
        "WHERE t.town_from = 'Paris'"
      ],
      "metadata": {
        "id": "zJdMLUV-xKQp"
      },
      "execution_count": null,
      "outputs": []
    },
    {
      "cell_type": "markdown",
      "source": [
        "Задание 9\n",
        "\n",
        "Какие компании организуют перелеты из Владивостока (Vladivostok)?"
      ],
      "metadata": {
        "id": "FLMIKY8ExStV"
      }
    },
    {
      "cell_type": "code",
      "source": [
        "SELECT c.name\n",
        "FROM Company as c\n",
        "WHERE c.id IN (\n",
        "\t\tSELECT t.company\n",
        "\t\tFROM Trip as t\n",
        "\t\tWHERE t.town_from = 'Vladivostok'\n",
        "\t)"
      ],
      "metadata": {
        "id": "LLudq89fxTri"
      },
      "execution_count": null,
      "outputs": []
    },
    {
      "cell_type": "markdown",
      "source": [
        "Задание 10\n",
        "\n",
        "Вывести вылеты, совершенные с 10 ч. по 14 ч. 1 января 1900 г."
      ],
      "metadata": {
        "id": "eX6bR4DZxc2f"
      }
    },
    {
      "cell_type": "code",
      "source": [
        "SELECT t.*\n",
        "FROM Trip as t\n",
        "WHERE t.time_out BETWEEN '1900-01-01 10:00:00' AND '1900-01-01 14:00:00'"
      ],
      "metadata": {
        "id": "GZXKO3IWxd5i"
      },
      "execution_count": null,
      "outputs": []
    },
    {
      "cell_type": "markdown",
      "source": [
        "Задание 11\n",
        "\n",
        "Вывести пассажиров с самым длинным именем"
      ],
      "metadata": {
        "id": "CaIr3XGpxjXO"
      }
    },
    {
      "cell_type": "code",
      "source": [
        "SELECT p.name\n",
        "FROM Passenger as p\n",
        "WHERE LENGTH(p.name) = (\n",
        "\t\tSELECT MAX(LENGTH(p.name))\n",
        "\t\tFROM Passenger as p\n",
        "\t)"
      ],
      "metadata": {
        "id": "6KYJQR_yxq8x"
      },
      "execution_count": null,
      "outputs": []
    },
    {
      "cell_type": "markdown",
      "source": [
        "Задание 12\n",
        "\n",
        "Вывести id и количество пассажиров для всех прошедших полётов"
      ],
      "metadata": {
        "id": "UnLHVLGxx1O4"
      }
    },
    {
      "cell_type": "code",
      "source": [
        "SELECT t.id as trip,\n",
        "\tCOUNT(p.passenger) as count\n",
        "FROM Trip as t\n",
        "INNER JOIN Pass_in_trip as p ON t.id = p.trip\n",
        "GROUP BY t.id"
      ],
      "metadata": {
        "id": "_TjbQ8T2x6qB"
      },
      "execution_count": null,
      "outputs": []
    },
    {
      "cell_type": "markdown",
      "source": [
        "Задание 13\n",
        "\n",
        "Вывести имена людей, у которых есть полный тёзка среди пассажиров"
      ],
      "metadata": {
        "id": "tZTyojDOyCNS"
      }
    },
    {
      "cell_type": "code",
      "source": [
        "SELECT p.name\n",
        "FROM Passenger as p\n",
        "GROUP BY p.name\n",
        "HAVING COUNT(*) > 1"
      ],
      "metadata": {
        "id": "cYZioFY6yIls"
      },
      "execution_count": null,
      "outputs": []
    },
    {
      "cell_type": "markdown",
      "source": [
        "Задание 14\n",
        "\n",
        "В какие города летал Bruce Willis"
      ],
      "metadata": {
        "id": "YFjNtcs5yOdX"
      }
    },
    {
      "cell_type": "code",
      "source": [
        "SELECT t.town_to\n",
        "FROM Trip as t\n",
        "INNER JOIN Pass_in_trip as p ON t.id = p.trip\n",
        "INNER JOIN Passenger as ps ON p.passenger = ps.id\n",
        "WHERE ps.name = 'Bruce Willis'"
      ],
      "metadata": {
        "id": "-WZ3uDhoyUQu"
      },
      "execution_count": null,
      "outputs": []
    },
    {
      "cell_type": "markdown",
      "source": [
        "Задание 15\n",
        "\n",
        "Выведите дату и время прилёта пассажира Стив Мартин (Steve Martin) в Лондон (London)"
      ],
      "metadata": {
        "id": "td1fDXANy3O9"
      }
    },
    {
      "cell_type": "code",
      "source": [
        "SELECT t.time_in\n",
        "FROM Trip as t\n",
        "INNER JOIN Pass_in_trip as p ON t.id = p.trip\n",
        "INNER JOIN Passenger as ps ON p.passenger = ps.id\n",
        "WHERE ps.name = 'Steve Martin'\n",
        "AND t.town_to = 'London'"
      ],
      "metadata": {
        "id": "F-K5zCiwy5tG"
      },
      "execution_count": null,
      "outputs": []
    },
    {
      "cell_type": "markdown",
      "source": [
        "Задание 16\n",
        "\n",
        "Вывести отсортированный по количеству перелетов (по убыванию) и имени (по возрастанию) список пассажиров, совершивших хотя бы 1 полет."
      ],
      "metadata": {
        "id": "2RDD2inrzD5I"
      }
    },
    {
      "cell_type": "code",
      "source": [
        "SELECT p.name,\n",
        "COUNT(pt.trip) as count\n",
        "FROM Passenger as p\n",
        "INNER JOIN Pass_in_trip as pt ON p.id = pt.passenger\n",
        "GROUP BY p.name\n",
        "ORDER BY COUNT(pt.trip) DESC, p.name"
      ],
      "metadata": {
        "id": "P8bjX3RszFZS"
      },
      "execution_count": null,
      "outputs": []
    },
    {
      "cell_type": "markdown",
      "source": [
        "Задание 17\n",
        "\n",
        "Определить, сколько потратил в 2005 году каждый из членов семьи. В результирующей выборке не выводите тех членов семьи, которые ничего не потратили."
      ],
      "metadata": {
        "id": "6PSIa304zQ4O"
      }
    },
    {
      "cell_type": "code",
      "source": [
        "SELECT f.member_name, f.status, SUM(p.amount * p.unit_price) as costs\n",
        "FROM FamilyMembers as f\n",
        "INNER JOIN Payments as p ON f.member_id = p.family_member\n",
        "WHERE YEAR(p.date) = 2005\n",
        "GROUP BY f.member_name, f.status"
      ],
      "metadata": {
        "id": "Urk_L98nzO7G"
      },
      "execution_count": null,
      "outputs": []
    },
    {
      "cell_type": "markdown",
      "source": [
        "Задание 18\n",
        "\n",
        "Узнать, кто старше всех в семьe"
      ],
      "metadata": {
        "id": "dIfE4_zI3FJN"
      }
    },
    {
      "cell_type": "code",
      "source": [
        "SELECT f.member_name\n",
        "FROM FamilyMembers as f\n",
        "WHERE YEAR(f.birthday) = (\n",
        "\t\tSELECT MIN(YEAR(f.birthday))\n",
        "\t\tFROM FamilyMembers as f\n",
        "\t)"
      ],
      "metadata": {
        "id": "5atONMh_3FoW"
      },
      "execution_count": null,
      "outputs": []
    },
    {
      "cell_type": "markdown",
      "source": [
        "Задание 19\n",
        "\n",
        "Определить, кто из членов семьи покупал картошку (potato)"
      ],
      "metadata": {
        "id": "doVeNwSJ3GDF"
      }
    },
    {
      "cell_type": "code",
      "source": [
        "SELECT f.status\n",
        "FROM FamilyMembers as f\n",
        "INNER JOIN Payments as p ON f.member_id = p.family_member\n",
        "INNER JOIN Goods as g ON p.good = g.good_id\n",
        "WHERE g.good_name = 'potato'\n",
        "GROUP BY f.status"
      ],
      "metadata": {
        "id": "hr8sAp2s3GVU"
      },
      "execution_count": null,
      "outputs": []
    },
    {
      "cell_type": "markdown",
      "source": [
        "Задание 20\n",
        "\n",
        "Сколько и кто из семьи потратил на развлечения (entertainment). Вывести статус в семье, имя, сумму"
      ],
      "metadata": {
        "id": "GX7pwyLR3Gj3"
      }
    },
    {
      "cell_type": "code",
      "source": [
        "SELECT f.status, f.member_name, SUM(p.unit_price * p.amount) as costs\n",
        "FROM FamilyMembers as f\n",
        "INNER JOIN Payments as p ON f.member_id = p.family_member\n",
        "INNER JOIN Goods as g ON p.good = g.good_id\n",
        "INNER JOIN GoodTypes as gt ON g.type = gt.good_type_id\n",
        "WHERE gt.good_type_name = 'entertainment'\n",
        "GROUP BY f.status, f.member_name"
      ],
      "metadata": {
        "id": "cLz5dqID3Gyl"
      },
      "execution_count": null,
      "outputs": []
    },
    {
      "cell_type": "markdown",
      "source": [
        "Задание 21\n",
        "\n",
        "Определить товары, которые покупали более 1 раза"
      ],
      "metadata": {
        "id": "qqIYohlIcefB"
      }
    },
    {
      "cell_type": "code",
      "source": [
        "SELECT g.good_name\n",
        "FROM Goods as g\n",
        "INNER JOIN Payments as p ON g.good_id = p.good\n",
        "GROUP BY g.good_name\n",
        "HAVING COUNT(*) > 1"
      ],
      "metadata": {
        "id": "6AO5nU2acf-s"
      },
      "execution_count": null,
      "outputs": []
    },
    {
      "cell_type": "markdown",
      "source": [
        "Задание 22\n",
        "\n",
        "Найти имена всех матерей (mother)"
      ],
      "metadata": {
        "id": "A8oJjDDRcgRL"
      }
    },
    {
      "cell_type": "code",
      "source": [
        "SELECT f.member_name\n",
        "FROM FamilyMembers as f\n",
        "WHERE f.status = 'mother'"
      ],
      "metadata": {
        "id": "Uety9wFbcgaW"
      },
      "execution_count": null,
      "outputs": []
    },
    {
      "cell_type": "markdown",
      "source": [
        "Задание 23\n",
        "\n",
        "Найдите самый дорогой деликатес (delicacies) и выведите его цену"
      ],
      "metadata": {
        "id": "7DpL7qSucgl9"
      }
    },
    {
      "cell_type": "code",
      "source": [
        "SELECT g.good_name, p.unit_price\n",
        "FROM Goods as g\n",
        "INNER JOIN Payments as p ON g.good_id = p.good\n",
        "INNER JOIN GoodTypes as gt ON g.type = gt.good_type_id\n",
        "WHERE p.unit_price = (\n",
        "\t\tSELECT MAX(p.unit_price)\n",
        "\t\tFROM Goods as g\n",
        "\t\tINNER JOIN Payments as p ON g.good_id = p.good\n",
        "\t\tINNER JOIN GoodTypes as gt ON g.type = gt.good_type_id\n",
        "\t\tWHERE gt.good_type_name = 'delicacies'\n",
        "\t)"
      ],
      "metadata": {
        "id": "jLeq4-Kscgug"
      },
      "execution_count": null,
      "outputs": []
    },
    {
      "cell_type": "markdown",
      "source": [
        "Задание 24\n",
        "\n",
        "Определить кто и сколько потратил в июне 2005"
      ],
      "metadata": {
        "id": "GblYuo6ocg2L"
      }
    },
    {
      "cell_type": "code",
      "source": [
        "SELECT f.member_name, SUM(p.unit_price * p.amount) as costs\n",
        "FROM FamilyMembers as f\n",
        "INNER JOIN Payments as p ON f.member_id = p.family_member\n",
        "WHERE YEAR(p.date) = 2005\n",
        "AND MONTH(p.date) = 06\n",
        "GROUP BY f.member_name"
      ],
      "metadata": {
        "id": "-nFnNlkCchA-"
      },
      "execution_count": null,
      "outputs": []
    },
    {
      "cell_type": "markdown",
      "source": [
        "Задание 25\n",
        "\n",
        "Определить, какие товары не покупались в 2005 году"
      ],
      "metadata": {
        "id": "S8doGu_7chJN"
      }
    },
    {
      "cell_type": "code",
      "source": [
        "SELECT g.good_name\n",
        "FROM Goods as g\n",
        "WHERE g.good_id NOT IN (\n",
        "\t\tSELECT p.good\n",
        "\t\tFROM Payments as p\n",
        "\t\tWHERE YEAR(p.date) = 2005\n",
        "\t)"
      ],
      "metadata": {
        "id": "tef9Sly4chRF"
      },
      "execution_count": null,
      "outputs": []
    },
    {
      "cell_type": "markdown",
      "source": [
        "Задание 26\n",
        "\n",
        "Определить группы товаров, которые не приобретались в 2005 году"
      ],
      "metadata": {
        "id": "_RQw4xDUchai"
      }
    },
    {
      "cell_type": "code",
      "source": [
        "SELECT gt.good_type_name\n",
        "FROM GoodTypes as gt\n",
        "WHERE gt.good_type_id NOT IN (\n",
        "\t\tSELECT g.type\n",
        "\t\tFROM Goods as g\n",
        "\t  INNER JOIN Payments as p ON g.good_id = p.good\n",
        "\t\tWHERE YEAR(p.date) = 2005\n",
        "\t)"
      ],
      "metadata": {
        "id": "DrDvtxqxchjO"
      },
      "execution_count": null,
      "outputs": []
    },
    {
      "cell_type": "markdown",
      "source": [
        "Задание 27\n",
        "\n",
        "Узнать, сколько потрачено на каждую из групп товаров в 2005 году. Вывести название группы и сумму"
      ],
      "metadata": {
        "id": "WumhzJL2chq3"
      }
    },
    {
      "cell_type": "code",
      "source": [
        "SELECT gt.good_type_name, SUM(p.unit_price * p.amount) as costs\n",
        "FROM GoodTypes as gt\n",
        "INNER JOIN Goods as g ON gt.good_type_id = g.type\n",
        "INNER JOIN Payments as p ON g.good_id = p.good\n",
        "WHERE YEAR(p.date) = 2005\n",
        "GROUP BY gt.good_type_name"
      ],
      "metadata": {
        "id": "9n02kbATchxz"
      },
      "execution_count": null,
      "outputs": []
    },
    {
      "cell_type": "markdown",
      "source": [
        "Задание 28\n",
        "\n",
        "Сколько рейсов совершили авиакомпании из Ростова (Rostov) в Москву (Moscow) ?"
      ],
      "metadata": {
        "id": "G1Q0n53Xch4w"
      }
    },
    {
      "cell_type": "code",
      "source": [
        "SELECT COUNT(*) as count\n",
        "FROM Trip as t\n",
        "WHERE t.town_from = 'Rostov'\n",
        "\tAND t.town_to = 'Moscow'"
      ],
      "metadata": {
        "id": "MQXyLo1vciAG"
      },
      "execution_count": null,
      "outputs": []
    },
    {
      "cell_type": "markdown",
      "source": [
        "Задание 29\n",
        "\n",
        "Выведите имена пассажиров улетевших в Москву (Moscow) на самолете TU-134"
      ],
      "metadata": {
        "id": "Z4X7-04gciIQ"
      }
    },
    {
      "cell_type": "code",
      "source": [
        "SELECT p.name\n",
        "FROM Passenger as p\n",
        "INNER JOIN Pass_in_trip as pt ON p.id = pt.passenger\n",
        "INNER JOIN Trip as t ON pt.trip = t.id\n",
        "WHERE t.plane = 'TU-134'\n",
        "AND t.town_to = 'Moscow'\n",
        "GROUP BY p.name"
      ],
      "metadata": {
        "id": "fqlB7yl_ciRz"
      },
      "execution_count": null,
      "outputs": []
    },
    {
      "cell_type": "markdown",
      "source": [
        "Задание 30\n",
        "\n",
        "Выведите нагруженность (число пассажиров) каждого рейса (trip).<br>\n",
        "Результат вывести в отсортированном виде по убыванию нагруженности."
      ],
      "metadata": {
        "id": "Veg115TYeKwl"
      }
    },
    {
      "cell_type": "code",
      "source": [
        "SELECT t.id as trip, COUNT(pt.passenger) as count\n",
        "FROM Trip as t\n",
        "INNER JOIN Pass_in_trip as pt ON t.id = pt.trip\n",
        "GROUP BY t.id\n",
        "ORDER BY 2 DESC"
      ],
      "metadata": {
        "id": "GhGvXGbmeLzO"
      },
      "execution_count": null,
      "outputs": []
    },
    {
      "cell_type": "markdown",
      "source": [
        "Задание 31\n",
        "\n",
        "Вывести всех членов семьи с фамилией Quincey."
      ],
      "metadata": {
        "id": "pRduM3SleMB7"
      }
    },
    {
      "cell_type": "code",
      "source": [
        "SELECT *\n",
        "FROM FamilyMembers as f\n",
        "WHERE member_name LIKE '%Quincey%'"
      ],
      "metadata": {
        "id": "roLPIyv1eMKZ"
      },
      "execution_count": null,
      "outputs": []
    },
    {
      "cell_type": "markdown",
      "source": [
        "Задание 32\n",
        "\n",
        "Вывести средний возраст людей (в годах), хранящихся в базе данных. Результат округлите до целого в меньшую сторону."
      ],
      "metadata": {
        "id": "Qlic2djkeMQr"
      }
    },
    {
      "cell_type": "code",
      "source": [
        "SELECT ROUND(AVG(YEAR(CURDATE()) - YEAR(f.birthday))) as age\n",
        "FROM FamilyMembers as f"
      ],
      "metadata": {
        "id": "qzFskOcNeMXp"
      },
      "execution_count": null,
      "outputs": []
    },
    {
      "cell_type": "markdown",
      "source": [
        "Задание 33\n",
        "\n",
        "Найдите среднюю стоимость икры. В базе данных хранятся данные о покупках красной (red caviar) и черной икры (black caviar)."
      ],
      "metadata": {
        "id": "bNy-AQNceMfF"
      }
    },
    {
      "cell_type": "code",
      "source": [
        "SELECT AVG(p.unit_price) as cost\n",
        "FROM Payments as p\n",
        "WHERE p.good IN (\n",
        "\t\tSELECT g.good_id\n",
        "\t\tFROM Goods as g\n",
        "\t\tWHERE g.good_name LIKE '%caviar%'\n",
        "\t)"
      ],
      "metadata": {
        "id": "rxeJOq7PeMmu"
      },
      "execution_count": null,
      "outputs": []
    },
    {
      "cell_type": "markdown",
      "source": [
        "Задание 34\n",
        "\n",
        "Сколько всего 10-ых классов"
      ],
      "metadata": {
        "id": "pSs63YRleMs4"
      }
    },
    {
      "cell_type": "code",
      "source": [
        "SELECT COUNT(c.name) as count\n",
        "FROM Class as c\n",
        "WHERE c.name LIKE '%10%'"
      ],
      "metadata": {
        "id": "RdVChBSNeMz5"
      },
      "execution_count": null,
      "outputs": []
    },
    {
      "cell_type": "markdown",
      "source": [
        "Задание 35\n",
        "\n",
        "Сколько различных кабинетов школы использовались 2.09.2019 в образовательных целях ?"
      ],
      "metadata": {
        "id": "LidMnNaieM7C"
      }
    },
    {
      "cell_type": "code",
      "source": [
        "SELECT COUNT(s.classroom) as count\n",
        "FROM Schedule as s\n",
        "WHERE s.date = '2019-09-02'"
      ],
      "metadata": {
        "id": "m7SDfJOGeNCE"
      },
      "execution_count": null,
      "outputs": []
    },
    {
      "cell_type": "markdown",
      "source": [
        "Задание 36\n",
        "\n",
        "Выведите информацию об обучающихся живущих на улице Пушкина (ul. Pushkina)?"
      ],
      "metadata": {
        "id": "WJWHAInmeNJA"
      }
    },
    {
      "cell_type": "code",
      "source": [
        "SELECT *\n",
        "FROM Student as s\n",
        "WHERE s.address LIKE '%ul. Pushkina%'"
      ],
      "metadata": {
        "id": "M513okOueNQd"
      },
      "execution_count": null,
      "outputs": []
    },
    {
      "cell_type": "markdown",
      "source": [
        "Задание 37\n",
        "\n",
        "Сколько лет самому молодому обучающемуся ?"
      ],
      "metadata": {
        "id": "NHV3HGh9eNXL"
      }
    },
    {
      "cell_type": "code",
      "source": [
        "SELECT MIN(TIMESTAMPDIFF(YEAR, s.birthday, CURDATE())) as year\n",
        "FROM Student as s"
      ],
      "metadata": {
        "id": "VNqdAtFwfScd"
      },
      "execution_count": null,
      "outputs": []
    },
    {
      "cell_type": "markdown",
      "source": [
        "Задание 38\n",
        "\n",
        "Сколько Анн (Anna) учится в школе ?"
      ],
      "metadata": {
        "id": "xpI33nXgfSqA"
      }
    },
    {
      "cell_type": "code",
      "source": [
        "SELECT COUNT(s.first_name) as count\n",
        "FROM Student as s\n",
        "WHERE s.first_name = 'Anna'"
      ],
      "metadata": {
        "id": "CmgICzbefSzO"
      },
      "execution_count": null,
      "outputs": []
    },
    {
      "cell_type": "markdown",
      "source": [
        "Задание 39\n",
        "\n",
        "Сколько обучающихся в 10 B классе ?"
      ],
      "metadata": {
        "id": "25Doa3-ufS-_"
      }
    },
    {
      "cell_type": "code",
      "source": [
        "SELECT COUNT(*) as count\n",
        "FROM Student_in_class as sc\n",
        "INNER JOIN Class as c ON sc.class = c.id\n",
        "WHERE c.name = '10 B'"
      ],
      "metadata": {
        "id": "nB9IrlGTfTLi"
      },
      "execution_count": null,
      "outputs": []
    },
    {
      "cell_type": "markdown",
      "source": [
        "Задание 40\n",
        "\n",
        "Выведите название предметов, которые преподает Ромашкин П.П. (Romashkin P.P.) ?"
      ],
      "metadata": {
        "id": "hQNec7zrfTTf"
      }
    },
    {
      "cell_type": "code",
      "source": [
        "SELECT s.name as subjects\n",
        "FROM Subject as s\n",
        "INNER JOIN Schedule as sc ON s.id = sc.subject\n",
        "INNER JOIN Teacher as t ON sc.teacher = t.id\n",
        "WHERE t.last_name LIKE '%Romashkin%'"
      ],
      "metadata": {
        "id": "3Zu6ffKKfTcN"
      },
      "execution_count": null,
      "outputs": []
    },
    {
      "cell_type": "markdown",
      "source": [
        "Задание 41\n",
        "\n",
        "Во сколько начинается 4-ый учебный предмет по расписанию ?"
      ],
      "metadata": {
        "id": "V71ZZGwSfTkQ"
      }
    },
    {
      "cell_type": "code",
      "source": [
        "SELECT t.start_pair\n",
        "FROM Timepair as t\n",
        "WHERE t.id IN (\n",
        "\t\tSELECT s.number_pair\n",
        "\t\tFROM Schedule as s\n",
        "\t\tWHERE s.number_pair = 4\n",
        "\t)"
      ],
      "metadata": {
        "id": "xc0EBzGqfTuh"
      },
      "execution_count": null,
      "outputs": []
    },
    {
      "cell_type": "markdown",
      "source": [
        "Задание 42\n",
        "\n",
        "Сколько времени обучающийся будет находиться в школе, учась со 2-го по 4-ый уч. предмет ?"
      ],
      "metadata": {
        "id": "DGxqUzp7fT2u"
      }
    },
    {
      "cell_type": "code",
      "source": [
        "SELECT DISTINCT TIMEDIFF(\n",
        "\t\t(\n",
        "\t\t\tSELECT t.end_pair\n",
        "\t\t\tFROM Timepair as t\n",
        "\t\t\tWHERE id = 4\n",
        "\t\t),\n",
        "\t\t(\n",
        "\t\t\tSELECT t.start_pair\n",
        "\t\t\tFROM Timepair as t\n",
        "\t\t\twhere id = 2\n",
        "\t\t)\n",
        "\t) as time\n",
        "FROM Timepair"
      ],
      "metadata": {
        "id": "7tMjUxorfT-9"
      },
      "execution_count": null,
      "outputs": []
    },
    {
      "cell_type": "markdown",
      "source": [
        "Задание 43\n",
        "\n",
        "Выведите фамилии преподавателей, которые ведут физическую культуру (Physical Culture).<br> Отcортируйте преподавателей по фамилии.\n"
      ],
      "metadata": {
        "id": "mEEAzhqJfUGo"
      }
    },
    {
      "cell_type": "code",
      "source": [
        "SELECT t.last_name\n",
        "FROM Teacher as t\n",
        "WHERE t.id IN (\n",
        "\t\tSELECT s.teacher\n",
        "\t\tFROM Schedule as s\n",
        "\t\t\tINNER JOIN Subject as sb ON s.subject = sb.id\n",
        "\t\tWHERE sb.name = 'Physical Culture'\n",
        "\t)\n",
        "ORDER BY t.last_name"
      ],
      "metadata": {
        "id": "kwnmgkKffUOn"
      },
      "execution_count": null,
      "outputs": []
    },
    {
      "cell_type": "markdown",
      "source": [
        "Задание 44\n",
        "\n",
        "Найдите максимальный возраст (колич. лет) среди обучающихся 10 классов ?"
      ],
      "metadata": {
        "id": "gA_R-Q3ofUUm"
      }
    },
    {
      "cell_type": "code",
      "source": [
        "SELECT MAX(TIMESTAMPDIFF(YEAR, s.birthday, CURDATE())) as max_year\n",
        "FROM Student as s\n",
        "WHERE s.id IN (\n",
        "\t\tSELECT sc.student\n",
        "\t\tFROM Student_in_class as sc\n",
        "\t\t\tINNER JOIN Class as c ON sc.class = c.id\n",
        "\t\tWHERE c.name LIKE '%10%'\n",
        "\t)"
      ],
      "metadata": {
        "id": "xWc5ovPOgS4k"
      },
      "execution_count": null,
      "outputs": []
    },
    {
      "cell_type": "markdown",
      "source": [
        "Задание 45\n",
        "\n",
        "Какие кабинеты чаще всего использовались для проведения занятий? <br>Выведите те, которые использовались максимальное количество раз."
      ],
      "metadata": {
        "id": "HnQwekmQgTGB"
      }
    },
    {
      "cell_type": "code",
      "source": [
        "SELECT s.classroom\n",
        "FROM Schedule as s\n",
        "GROUP BY s.classroom\n",
        "HAVING COUNT(classroom) = (\n",
        "\t\tSELECT(COUNT(s.classroom))\n",
        "\t\tFROM Schedule as s\n",
        "\t\tGROUP BY s.classroom\n",
        "\t\tORDER BY 1 DESC\n",
        "\t\tLIMIT 1\n",
        "\t)"
      ],
      "metadata": {
        "id": "8HAyVCzzgTOM"
      },
      "execution_count": null,
      "outputs": []
    },
    {
      "cell_type": "markdown",
      "source": [
        "Задание 46\n",
        "\n",
        "В каких классах введет занятия преподаватель \"Krauze\" ?"
      ],
      "metadata": {
        "id": "8yzEAZeYgTUE"
      }
    },
    {
      "cell_type": "code",
      "source": [
        "SELECT c.name\n",
        "FROM Class as c\n",
        "WHERE c.id IN (\n",
        "\t\tSELECT s.class\n",
        "\t\tFROM Schedule as s\n",
        "\t\t\tINNER JOIN Teacher as t ON s.teacher = t.id\n",
        "\t\tWHERE t.last_name = 'Krauze'\n",
        "\t)"
      ],
      "metadata": {
        "id": "mXe1RykOgTbe"
      },
      "execution_count": null,
      "outputs": []
    },
    {
      "cell_type": "markdown",
      "source": [
        "Задание 47\n",
        "\n",
        "Сколько занятий провел Krauze 30 августа 2019 г.?"
      ],
      "metadata": {
        "id": "4iArLILUgTil"
      }
    },
    {
      "cell_type": "code",
      "source": [
        "SELECT count(s.subject) as count\n",
        "FROM Schedule as s\n",
        "WHERE s.date = '2019-08-30'\n",
        "\tAND s.teacher IN (\n",
        "\t\tSELECT t.id\n",
        "\t\tFROM Teacher as t\n",
        "\t\tWHERE t.last_name = 'Krauze'\n",
        "\t)"
      ],
      "metadata": {
        "id": "tP_vATqPgTq6"
      },
      "execution_count": null,
      "outputs": []
    },
    {
      "cell_type": "markdown",
      "source": [
        "Задание 48\n",
        "\n",
        "Выведите заполненность классов в порядке убывания"
      ],
      "metadata": {
        "id": "YbTuz-ZpgTx_"
      }
    },
    {
      "cell_type": "code",
      "source": [
        "SELECT c.name,\n",
        "\tCOUNT(sc.student) as count\n",
        "FROM Class as c\n",
        "\tINNER JOIN Student_in_class as sc ON c.id = sc.class\n",
        "GROUP BY 1\n",
        "ORDER BY 2 DESC"
      ],
      "metadata": {
        "id": "Nspelma0gT6D"
      },
      "execution_count": null,
      "outputs": []
    },
    {
      "cell_type": "markdown",
      "source": [
        "Задание 49\n",
        "\n",
        "Какой процент обучающихся учится в 10 A классе ?"
      ],
      "metadata": {
        "id": "qybDKfPvgUBE"
      }
    },
    {
      "cell_type": "code",
      "source": [
        "SELECT (\n",
        "\t\t(\n",
        "\t\t\tSELECT COUNT(sc.student)\n",
        "\t\t\tFROM Student_in_class as sc\n",
        "\t\t\t\tINNER JOIN Class as c ON sc.class = c.id\n",
        "\t\t\tWHERE c.name = '10 A'\n",
        "\t\t) / (\n",
        "\t\t\tSELECT count(sc.student)\n",
        "\t\t\tFROM Student_in_class as sc\n",
        "\t\t) * 100\n",
        "\t) as percent"
      ],
      "metadata": {
        "id": "LyTgXjc2gUH_"
      },
      "execution_count": null,
      "outputs": []
    },
    {
      "cell_type": "markdown",
      "source": [
        "Задание 50\n",
        "\n",
        "Какой процент обучающихся родился в 2000 году? Результат округлить до целого в меньшую сторону."
      ],
      "metadata": {
        "id": "NUF3Qte4gUOd"
      }
    },
    {
      "cell_type": "code",
      "source": [
        "SELECT FLOOR(\n",
        "\t\t(\n",
        "\t\t\tSELECT COUNT(sc.student)\n",
        "\t\t\tFROM Student_in_class as sc\n",
        "\t\t\t\tINNER JOIN Student as s ON sc.student = s.id\n",
        "\t\t\tWHERE YEAR(s.birthday) = 2000\n",
        "\t\t) / (\n",
        "\t\t\tSELECT COUNT(sc.student)\n",
        "\t\t\tFROM Student_in_class as sc\n",
        "\t\t) * 100\n",
        "\t) as percent"
      ],
      "metadata": {
        "id": "LDzHYZTvgUVM"
      },
      "execution_count": null,
      "outputs": []
    },
    {
      "cell_type": "markdown",
      "source": [
        "Задание 51\n",
        "\n",
        "Добавьте товар с именем \"Cheese\" и типом \"food\" в список товаров (Goods)."
      ],
      "metadata": {
        "id": "do1t0DZPhr7W"
      }
    },
    {
      "cell_type": "code",
      "source": [
        "INSERT INTO Goods(good_id, good_name, type)\n",
        "VALUES (\n",
        "\t\t(\n",
        "\t\t\tSELECT COUNT(*) + 1\n",
        "\t\t\tFROM Goods as g\n",
        "\t\t),\n",
        "\t\t'Cheese',\n",
        "\t\t(\n",
        "\t\t\tSELECT good_type_id\n",
        "\t\t\tFROM GoodTypes as gt\n",
        "\t\t\tWHERE good_type_name = 'food'\n",
        "\t\t)\n",
        "\t)"
      ],
      "metadata": {
        "id": "cnjgwHlthsLI"
      },
      "execution_count": null,
      "outputs": []
    },
    {
      "cell_type": "markdown",
      "source": [
        "Задание 52\n",
        "\n",
        "Добавьте в список типов товаров (GoodTypes) новый тип \"auto\"."
      ],
      "metadata": {
        "id": "TtgLxqPohsUP"
      }
    },
    {
      "cell_type": "code",
      "source": [
        "INSERT INTO GoodTypes(good_type_id, good_type_name)\n",
        "VALUES (\n",
        "\t\t(\n",
        "\t\t\tSELECT COUNT(*) + 1\n",
        "\t\t\tFROM GoodTypes as gt\n",
        "\t\t),\n",
        "\t\t'auto'\n",
        "\t)"
      ],
      "metadata": {
        "id": "puWMwX5Ihscz"
      },
      "execution_count": null,
      "outputs": []
    },
    {
      "cell_type": "markdown",
      "source": [
        "Задание 53\n",
        "\n",
        "Измените имя \"Andie Quincey\" на новое \"Andie Anthony\"."
      ],
      "metadata": {
        "id": "AmrEFgC8hskg"
      }
    },
    {
      "cell_type": "code",
      "source": [
        "UPDATE FamilyMembers\n",
        "SET member_name = 'Andie Anthony'\n",
        "WHERE member_name = 'Andie Quincey'"
      ],
      "metadata": {
        "id": "ltgNRkKDhstX"
      },
      "execution_count": null,
      "outputs": []
    },
    {
      "cell_type": "markdown",
      "source": [
        "Задание 54\n",
        "\n",
        "Удалить всех членов семьи с фамилией \"Quincey\"."
      ],
      "metadata": {
        "id": "Yh7vGNn3hs0t"
      }
    },
    {
      "cell_type": "code",
      "source": [
        "DELETE FROM FamilyMembers\n",
        "WHERE member_name LIKE '%Quincey%'"
      ],
      "metadata": {
        "id": "zbc2k_GYhs9L"
      },
      "execution_count": null,
      "outputs": []
    },
    {
      "cell_type": "markdown",
      "source": [
        "Задание 55\n",
        "\n",
        "Удалить компании, совершившие наименьшее количество рейсов."
      ],
      "metadata": {
        "id": "fP0y5ZfhhtEY"
      }
    },
    {
      "cell_type": "code",
      "source": [
        "DELETE FROM Company as c\n",
        "WHERE c.id IN (\n",
        "\t\tSELECT t.company\n",
        "\t\tFROM Trip as t\n",
        "\t\tGROUP BY t.company\n",
        "\t\tHAVING COUNT(t.id) = (\n",
        "\t\t\t\tSELECT MIN(cnt)\n",
        "\t\t\t\tFROM (\n",
        "\t\t\t\t\t\tSELECT COUNT(t.id) as cnt\n",
        "\t\t\t\t\t\tFROM Trip as t\n",
        "\t\t\t\t\t\tGROUP BY t.company\n",
        "\t\t\t\t\t) as sub_q\n",
        "\t\t\t)\n",
        "\t)"
      ],
      "metadata": {
        "id": "wv_mBPTphtMk"
      },
      "execution_count": null,
      "outputs": []
    },
    {
      "cell_type": "markdown",
      "source": [
        "Задание 56\n",
        "\n",
        "Удалить все перелеты, совершенные из Москвы (Moscow)."
      ],
      "metadata": {
        "id": "YwppvmDuhtTw"
      }
    },
    {
      "cell_type": "code",
      "source": [
        "DELETE FROM Trip as t\n",
        "WHERE t.town_from = 'Moscow'"
      ],
      "metadata": {
        "id": "b2kq_TLWhtb2"
      },
      "execution_count": null,
      "outputs": []
    },
    {
      "cell_type": "markdown",
      "source": [
        "Задание 57\n",
        "\n",
        "Перенести расписание всех занятий на 30 мин. вперед."
      ],
      "metadata": {
        "id": "t1OLAuuKhtjX"
      }
    },
    {
      "cell_type": "code",
      "source": [
        "UPDATE Timepair as t\n",
        "SET t.start_pair = t.start_pair + INTERVAL 30 MINUTE,\n",
        "\tt.end_pair = t.end_pair + INTERVAL 30 MINUTE"
      ],
      "metadata": {
        "id": "XT3FJo2Jhtql"
      },
      "execution_count": null,
      "outputs": []
    },
    {
      "cell_type": "markdown",
      "source": [
        "Задание 58\n",
        "\n",
        "Добавить отзыв с рейтингом 5 на жилье, находящиеся по адресу \"11218, Friel Place, New York\", от имени \"George Clooney\""
      ],
      "metadata": {
        "id": "XqStsYPqhtxs"
      }
    },
    {
      "cell_type": "code",
      "source": [
        "INSERT INTO Reviews\n",
        "VALUES(\n",
        "\t\t(\n",
        "\t\t\tSELECT COUNT(*) + 1\n",
        "\t\t\tFROM Reviews as r\n",
        "\t\t),\n",
        "\t\t(\n",
        "\t\t\tSELECT r.id\n",
        "\t\t\tFROM Reservations as r\n",
        "\t\t\t\tINNER JOIN Users as u ON r.user_id = u.id\n",
        "\t\t\t\tINNER JOIN Rooms as rm ON r.room_id = rm.id\n",
        "\t\t\tWHERE rm.address = '11218, Friel Place, New York'\n",
        "\t\t\t\tAND u.name = 'George Clooney'\n",
        "\t\t),\n",
        "\t\t5\n",
        "\t)"
      ],
      "metadata": {
        "id": "WnnolAmQht5T"
      },
      "execution_count": null,
      "outputs": []
    },
    {
      "cell_type": "markdown",
      "source": [
        "Задание 59\n",
        "\n",
        "Вывести пользователей,указавших Белорусский номер телефона ? Телефонный код Белоруссии +375."
      ],
      "metadata": {
        "id": "hPQ5Go6shuAh"
      }
    },
    {
      "cell_type": "code",
      "source": [
        "SELECT *\n",
        "FROM Users as u\n",
        "WHERE u.phone_number LIKE '%+375%'"
      ],
      "metadata": {
        "id": "GUXBSZP5huIO"
      },
      "execution_count": null,
      "outputs": []
    },
    {
      "cell_type": "markdown",
      "source": [
        "Задание 60\n",
        "\n",
        "Выведите идентификаторы преподавателей, которые хотя бы один раз за всё время преподавали в каждом из 11-х классов."
      ],
      "metadata": {
        "id": "NOoea6eGhuO_"
      }
    },
    {
      "cell_type": "code",
      "source": [
        "SELECT s.teacher\n",
        "FROM Schedule as s\n",
        "INNER JOIN Class as c ON s.class = c.id\n",
        "WHERE c.name LIKE '%11%'\n",
        "GROUP BY s.teacher\n",
        "HAVING COUNT(DISTINCT c.name) > 1"
      ],
      "metadata": {
        "id": "eqFW3gh9huYe"
      },
      "execution_count": null,
      "outputs": []
    },
    {
      "cell_type": "markdown",
      "source": [
        "Задание 61\n",
        "\n",
        "Выведите список комнат, которые были зарезервированы в течение 12 недели 2020 года.\n"
      ],
      "metadata": {
        "id": "DRQbOdjmhuen"
      }
    },
    {
      "cell_type": "code",
      "source": [
        "SELECT r.*\n",
        "FROM Rooms as r\n",
        "INNER JOIN Reservations as rs ON r.id = rs.room_id\n",
        "WHERE WEEK(rs.start_date, 1) = 12\n",
        "AND YEAR(rs.start_date) = 2020"
      ],
      "metadata": {
        "id": "rMcv5kEGikNP"
      },
      "execution_count": null,
      "outputs": []
    },
    {
      "cell_type": "markdown",
      "source": [
        "Задание 62\n",
        "\n",
        "Вывести в порядке убывания популярности доменные имена 2-го уровня, используемые пользователями для электронной почты. Полученный результат необходимо дополнительно отсортировать по возрастанию названий доменных имён."
      ],
      "metadata": {
        "id": "AcELgM-UikaG"
      }
    },
    {
      "cell_type": "code",
      "source": [
        "SELECT SUBSTRING_INDEX(u.email, '@', -1) as domain,\n",
        "\tCOUNT(SUBSTRING_INDEX(u.email, '@', -1)) as count\n",
        "FROM Users as u\n",
        "GROUP BY 1\n",
        "ORDER BY 2 DESC, 1"
      ],
      "metadata": {
        "id": "ESvtFFqYiklP"
      },
      "execution_count": null,
      "outputs": []
    },
    {
      "cell_type": "markdown",
      "source": [
        "Задание 63\n",
        "\n",
        "Выведите отсортированный список (по возрастанию) фамилий и имен студентов в виде Фамилия.И."
      ],
      "metadata": {
        "id": "q7HH93oQiktT"
      }
    },
    {
      "cell_type": "code",
      "source": [
        "SELECT CONCAT(s.last_name, '.', LEFT(s.first_name, 1), '.') as name\n",
        "FROM Student as s\n",
        "ORDER BY 1"
      ],
      "metadata": {
        "id": "W7yGjGU8ik1F"
      },
      "execution_count": null,
      "outputs": []
    },
    {
      "cell_type": "markdown",
      "source": [
        "Задание 64\n",
        "\n",
        "Вывести количество бронирований по каждому месяцу каждого года, в которых было хотя бы 1 бронирование. <br>Результат отсортируйте в порядке возрастания даты бронирования."
      ],
      "metadata": {
        "id": "L4qYhQk9ik8e"
      }
    },
    {
      "cell_type": "code",
      "source": [
        "SELECT YEAR(r.start_date) as year,\n",
        "\tMONTH(r.start_date) as month,\n",
        "\tCOUNT(*) as amount\n",
        "FROM Reservations as r\n",
        "GROUP BY 1, 2\n",
        "ORDER BY 1, 2"
      ],
      "metadata": {
        "id": "HHMve8vOilFK"
      },
      "execution_count": null,
      "outputs": []
    },
    {
      "cell_type": "markdown",
      "source": [
        "Задание 65\n",
        "\n",
        "Необходимо вывести рейтинг для комнат, которые арендовали, как среднее значение рейтинга отзывов округленное до целого вниз."
      ],
      "metadata": {
        "id": "8Qrk-WEdilMZ"
      }
    },
    {
      "cell_type": "code",
      "source": [
        "SELECT r.room_id,\n",
        "\tFLOOR(AVG(rw.rating)) as rating\n",
        "FROM Reservations as r\n",
        "INNER JOIN Reviews as rw ON r.id = rw.reservation_id\n",
        "GROUP BY 1"
      ],
      "metadata": {
        "id": "mM9H-3AEilVX"
      },
      "execution_count": null,
      "outputs": []
    },
    {
      "cell_type": "markdown",
      "source": [
        "Задание 66\n",
        "\n",
        "Вывести список комнат со всеми удобствами (наличие ТВ, интернета, кухни и кондиционера), а также общее количество дней и сумму за все дни аренды каждой из таких комнат."
      ],
      "metadata": {
        "id": "oJI-778Vildv"
      }
    },
    {
      "cell_type": "code",
      "source": [
        "SELECT r.home_type,\n",
        "\tr.address,\n",
        "\tIFNULL(\n",
        "\t\tSUM(TIMESTAMPDIFF(DAY, rv.start_date, rv.end_date)),\n",
        "\t\t0\n",
        "\t) as days,\n",
        "\tIFNULL(SUM(rv.total), 0) as total_fee\n",
        "FROM Rooms as r\n",
        "\tLEFT JOIN Reservations as rv ON rv.room_id = r.id\n",
        "WHERE (\n",
        "\t\tr.has_tv,\n",
        "\t\tr.has_internet,\n",
        "\t\tr.has_kitchen,\n",
        "\t\tr.has_air_con\n",
        "\t) = (1, 1, 1, 1)\n",
        "GROUP BY 1"
      ],
      "metadata": {
        "id": "asVPfEf8ilmi"
      },
      "execution_count": null,
      "outputs": []
    },
    {
      "cell_type": "markdown",
      "source": [
        "Задание 67\n",
        "\n",
        "Вывести время отлета и время прилета для каждого перелета в формате \"ЧЧ:ММ, ДД.ММ - ЧЧ:ММ, ДД.ММ\", где часы и минуты с ведущим нулем, а день и месяц без.\n"
      ],
      "metadata": {
        "id": "Zj1406wbiluD"
      }
    },
    {
      "cell_type": "code",
      "source": [
        "SELECT CONCAT(\n",
        "\t\tDATE_FORMAT(t.time_out, '%H:%i, %e.%c'),\n",
        "\t\t' - ',\n",
        "\t\tDATE_FORMAT(t.time_in, '%H:%i, %e.%c')\n",
        "\t) as flight_time\n",
        "FROM Trip as t"
      ],
      "metadata": {
        "id": "DoRZTcKKil2f"
      },
      "execution_count": null,
      "outputs": []
    },
    {
      "cell_type": "markdown",
      "source": [
        "Задание 68\n",
        "\n",
        "Для каждой комнаты, которую снимали как минимум 1 раз, найдите имя человека, снимавшего ее последний раз, и дату, когда он выехал"
      ],
      "metadata": {
        "id": "PoG7kNCTil-V"
      }
    },
    {
      "cell_type": "code",
      "source": [
        "SELECT r.room_id,\n",
        "\tu.name,\n",
        "\tr.end_date\n",
        "FROM Reservations as r\n",
        "INNER JOIN Users as u ON r.user_id = u.id\n",
        "WHERE r.end_date IN (\n",
        "\t\tSELECT MAX(r.end_date)\n",
        "\t\tFROM Reservations as r\n",
        "\t\tGROUP BY r.room_id\n",
        "\t)"
      ],
      "metadata": {
        "id": "gLTbDj6BimGo"
      },
      "execution_count": null,
      "outputs": []
    },
    {
      "cell_type": "markdown",
      "source": [
        "Задание 69\n",
        "\n",
        "Вывести идентификаторы всех владельцев комнат, что размещены на сервисе бронирования жилья и сумму, которую они заработали"
      ],
      "metadata": {
        "id": "c3yYEpdZimN3"
      }
    },
    {
      "cell_type": "code",
      "source": [
        "SELECT r.owner_id,\n",
        "\tIFNULL(SUM(rv.total), 0) as total_earn\n",
        "FROM Rooms as r\n",
        "\tLEFT JOIN Reservations as rv ON r.id = rv.room_id\n",
        "GROUP BY 1"
      ],
      "metadata": {
        "id": "9SzJBx1jimWw"
      },
      "execution_count": null,
      "outputs": []
    },
    {
      "cell_type": "markdown",
      "source": [
        "Задание 70\n",
        "\n",
        "Необходимо категоризовать жилье на economy, comfort, premium по цене соответственно <= 100, 100 < цена < 200, >= 200. В качестве результата вывести таблицу с названием категории и количеством жилья, попадающего в данную категорию"
      ],
      "metadata": {
        "id": "SqrOnIoRimd3"
      }
    },
    {
      "cell_type": "code",
      "source": [
        "SELECT CASE\n",
        "\t\tWHEN r.price <= 100 THEN 'economy'\n",
        "\t\tWHEN r.price > 100\n",
        "\t\tAND r.price < 200 THEN 'comfort'\n",
        "\t\tWHEN r.price >= 200 THEN 'premium'\n",
        "\tEND AS category,\n",
        "\tCOUNT(r.id) as count\n",
        "FROM Rooms as r\n",
        "GROUP BY 1"
      ],
      "metadata": {
        "id": "qaXjCaL2immx"
      },
      "execution_count": null,
      "outputs": []
    },
    {
      "cell_type": "markdown",
      "source": [
        "Задание 71\n",
        "\n",
        "Найдите какой процент пользователей, зарегистрированных на сервисе бронирования, хоть раз арендовали или сдавали в аренду жилье. Результат округлите до сотых."
      ],
      "metadata": {
        "id": "OvwWmuxbimvL"
      }
    },
    {
      "cell_type": "code",
      "source": [
        "WITH active_users as (\n",
        "\tSELECT DISTINCT r.owner_id\n",
        "\tFROM Rooms as r\n",
        "\t\tINNER JOIN Reservations as rv ON r.id = rv.room_id\n",
        "\tUNION\n",
        "\tSELECT DISTINCT rv.user_id\n",
        "\tFROM Reservations as rv\n",
        "),\n",
        "all_users as (\n",
        "\tSELECT DISTINCT(u.id)\n",
        "\tFROM Users as u\n",
        ")\n",
        "SELECT ROUND(\n",
        "\t\t(\n",
        "\t\t\tSELECT COUNT(*)\n",
        "\t\t\tFROM active_users\n",
        "\t\t) / (\n",
        "\t\t\tSELECT COUNT(*)\n",
        "\t\t\tFROM all_users\n",
        "\t\t) * 100,\n",
        "\t\t2\n",
        "\t) as percent"
      ],
      "metadata": {
        "id": "T0siXjULkPog"
      },
      "execution_count": null,
      "outputs": []
    },
    {
      "cell_type": "markdown",
      "source": [
        "Задание 72\n",
        "\n",
        "Выведите среднюю стоимость бронирования для комнат, которых бронировали хотя бы один раз. Среднюю стоимость необходимо округлить до целого значения вверх."
      ],
      "metadata": {
        "id": "MwIdDctNkP7P"
      }
    },
    {
      "cell_type": "code",
      "source": [
        "SELECT r.room_id,\n",
        "\tCEILING(AVG(r.price)) as avg_price\n",
        "FROM Reservations as r\n",
        "GROUP BY 1"
      ],
      "metadata": {
        "id": "r_JhXdSjkQHF"
      },
      "execution_count": null,
      "outputs": []
    },
    {
      "cell_type": "markdown",
      "source": [
        "Задание 73\n",
        "\n",
        "Выведите id тех комнат, которые арендовали нечетное количество раз"
      ],
      "metadata": {
        "id": "0eajZwPSkQQp"
      }
    },
    {
      "cell_type": "code",
      "source": [
        "SELECT r.room_id,\n",
        "\tCOUNT(r.start_date) as count\n",
        "FROM Reservations as r\n",
        "GROUP BY r.room_id\n",
        "HAVING count % 2 != 0"
      ],
      "metadata": {
        "id": "Aq0AFqaskQdJ"
      },
      "execution_count": null,
      "outputs": []
    },
    {
      "cell_type": "markdown",
      "source": [
        "Задание 74\n",
        "\n",
        "Выведите идентификатор и признак наличия интернета в помещении. Если интернет в сдаваемом жилье присутствует, то выведите «YES», иначе «NO»."
      ],
      "metadata": {
        "id": "MobMFx3PkQlP"
      }
    },
    {
      "cell_type": "code",
      "source": [
        "SELECT r.id,\n",
        "\tCASE\n",
        "\t\tWHEN r.has_internet = 1 THEN 'YES'\n",
        "\t\tELSE 'NO'\n",
        "\tEND as has_internet\n",
        "FROM Rooms as r"
      ],
      "metadata": {
        "id": "LOimT5hBkQvR"
      },
      "execution_count": null,
      "outputs": []
    },
    {
      "cell_type": "markdown",
      "source": [
        "Задание 75\n",
        "\n",
        "Выведите фамилию, имя и дату рождения студентов, кто был рожден в мае."
      ],
      "metadata": {
        "id": "_ORgocazkQ32"
      }
    },
    {
      "cell_type": "code",
      "source": [
        "SELECT s.last_name,\n",
        "\ts.first_name,\n",
        "\ts.birthday\n",
        "FROM Student as s\n",
        "WHERE MONTH(s.birthday) = 05"
      ],
      "metadata": {
        "id": "So9zAREIkRAw"
      },
      "execution_count": null,
      "outputs": []
    },
    {
      "cell_type": "markdown",
      "source": [
        "Задание 76\n",
        "\n",
        "Вывести имена всех пользователей сервиса бронирования жилья, а также два признака: является ли пользователь собственником какого-либо жилья (is_owner) и является ли пользователь арендатором (is_tenant). В случае наличия у пользователя признака необходимо вывести в соответствующее поле 1, иначе 0."
      ],
      "metadata": {
        "id": "tGZEuFa4kRHh"
      }
    },
    {
      "cell_type": "code",
      "source": [
        "SELECT u.name,\n",
        "\tIF( u.id IN (SELECT DISTINCT r.owner_id\n",
        "\t\t           FROM Rooms as r ), 1, 0) as is_owner,\n",
        "\tIF(u.id IN (SELECT DISTINCT rv.user_id\n",
        "\t\t\t        FROM Reservations as rv), 1, 0) as is_tenant\n",
        "FROM Users as u"
      ],
      "metadata": {
        "id": "PD0VqXT_kRQ3"
      },
      "execution_count": null,
      "outputs": []
    },
    {
      "cell_type": "markdown",
      "source": [],
      "metadata": {
        "id": "KbSbiV2tkRme"
      }
    }
  ]
}