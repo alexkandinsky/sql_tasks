{
  "nbformat": 4,
  "nbformat_minor": 0,
  "metadata": {
    "colab": {
      "provenance": []
    },
    "kernelspec": {
      "name": "python3",
      "display_name": "Python 3"
    },
    "language_info": {
      "name": "python"
    }
  },
  "cells": [
    {
      "cell_type": "markdown",
      "source": [
        "ССЫЛКА НА ИСТОЧНИК ЗАДАЧ: https://sql-academy.org/ru/trainer"
      ],
      "metadata": {
        "id": "SsbnSGqL3yyf"
      }
    },
    {
      "cell_type": "markdown",
      "source": [
        "Задание 1\n",
        "\n",
        "Вывести имена всех людей, которые есть в базе данных авиакомпаний"
      ],
      "metadata": {
        "id": "opU8GnvfuOVA"
      }
    },
    {
      "cell_type": "code",
      "source": [
        "SELECT p.name\n",
        "FROM Passenger as p"
      ],
      "metadata": {
        "id": "hyCOfAYMutLC"
      },
      "execution_count": null,
      "outputs": []
    },
    {
      "cell_type": "markdown",
      "source": [
        "Задание 2\n",
        "\n",
        "Вывести названия всеx авиакомпаний"
      ],
      "metadata": {
        "id": "m0iNk1QXuzJC"
      }
    },
    {
      "cell_type": "code",
      "source": [
        "SELECT c.name\n",
        "FROM Company as c"
      ],
      "metadata": {
        "id": "-RpHlN9jvIOj"
      },
      "execution_count": null,
      "outputs": []
    },
    {
      "cell_type": "markdown",
      "source": [
        "Задание 3\n",
        "\n",
        "Вывести все рейсы, совершенные из Москвы\n"
      ],
      "metadata": {
        "id": "KSZnc5gEvWVZ"
      }
    },
    {
      "cell_type": "code",
      "source": [
        "SELECT t.*\n",
        "FROM Trip as t\n",
        "WHERE t.town_from = 'Moscow'"
      ],
      "metadata": {
        "id": "-FEKq9uKvXt-"
      },
      "execution_count": null,
      "outputs": []
    },
    {
      "cell_type": "markdown",
      "source": [
        "Задание 4\n",
        "\n",
        "Вывести имена людей, которые заканчиваются на \"man\""
      ],
      "metadata": {
        "id": "j8YddyC7wWtu"
      }
    },
    {
      "cell_type": "code",
      "source": [
        "SELECT p.name\n",
        "FROM Passenger as p\n",
        "WHERE p.name LIKE '%man'"
      ],
      "metadata": {
        "id": "Dk-ns94Cwbf4"
      },
      "execution_count": null,
      "outputs": []
    },
    {
      "cell_type": "markdown",
      "source": [
        "Задание 5\n",
        "\n",
        "Вывести количество рейсов, совершенных на TU-134"
      ],
      "metadata": {
        "id": "UkF89Ju1wmNh"
      }
    },
    {
      "cell_type": "code",
      "source": [
        "SELECT t.count(*) as count\n",
        "FROM Trip as t\n",
        "WHERE t.plane = 'TU-134'"
      ],
      "metadata": {
        "id": "s9e1NmIiwnVH"
      },
      "execution_count": null,
      "outputs": []
    },
    {
      "cell_type": "markdown",
      "source": [
        "Задание 6\n",
        "\n",
        "Какие компании совершали перелеты на Boeing"
      ],
      "metadata": {
        "id": "Q6bjlWF7wyKc"
      }
    },
    {
      "cell_type": "code",
      "source": [
        "SELECT c.name\n",
        "FROM Company as c\n",
        "\tINNER JOIN Trip as t ON c.id = t.company\n",
        "WHERE t.plane = 'Boeing'\n",
        "GROUP BY c.name"
      ],
      "metadata": {
        "id": "GmB4IHQfwzx4"
      },
      "execution_count": null,
      "outputs": []
    },
    {
      "cell_type": "markdown",
      "source": [
        "Задание 7\n",
        "\n",
        "Вывести все названия самолётов, на которых можно улететь в Москву (Moscow)"
      ],
      "metadata": {
        "id": "Bm-5bonAw-3J"
      }
    },
    {
      "cell_type": "code",
      "source": [
        "SELECT t.plane\n",
        "FROM Trip as t\n",
        "WHERE t.town_from = 'Moscow'\n",
        "GROUP BY t.plane"
      ],
      "metadata": {
        "id": "y2T8IEg-xAeG"
      },
      "execution_count": null,
      "outputs": []
    },
    {
      "cell_type": "markdown",
      "source": [
        "Задание 8\n",
        "\n",
        "В какие города можно улететь из Парижа (Paris) и сколько времени это займёт?"
      ],
      "metadata": {
        "id": "0gt96JMXxIhf"
      }
    },
    {
      "cell_type": "code",
      "source": [
        "SELECT t.town_to,\n",
        "\tTIMEDIFF(t.time_in, t.time_out) as flight_time\n",
        "FROM Trip as t\n",
        "WHERE t.town_from = 'Paris'"
      ],
      "metadata": {
        "id": "zJdMLUV-xKQp"
      },
      "execution_count": null,
      "outputs": []
    },
    {
      "cell_type": "markdown",
      "source": [
        "Задание 9\n",
        "\n",
        "Какие компании организуют перелеты из Владивостока (Vladivostok)?"
      ],
      "metadata": {
        "id": "FLMIKY8ExStV"
      }
    },
    {
      "cell_type": "code",
      "source": [
        "SELECT c.name\n",
        "FROM Company as c\n",
        "WHERE c.id IN (\n",
        "\t\tSELECT t.company\n",
        "\t\tFROM Trip as t\n",
        "\t\tWHERE t.town_from = 'Vladivostok'\n",
        "\t)"
      ],
      "metadata": {
        "id": "LLudq89fxTri"
      },
      "execution_count": null,
      "outputs": []
    },
    {
      "cell_type": "markdown",
      "source": [
        "Задание 10\n",
        "\n",
        "Вывести вылеты, совершенные с 10 ч. по 14 ч. 1 января 1900 г."
      ],
      "metadata": {
        "id": "eX6bR4DZxc2f"
      }
    },
    {
      "cell_type": "code",
      "source": [
        "SELECT t.*\n",
        "FROM Trip as t\n",
        "WHERE t.time_out BETWEEN '1900-01-01 10:00:00' AND '1900-01-01 14:00:00'"
      ],
      "metadata": {
        "id": "GZXKO3IWxd5i"
      },
      "execution_count": null,
      "outputs": []
    },
    {
      "cell_type": "markdown",
      "source": [
        "Задание 11\n",
        "\n",
        "Вывести пассажиров с самым длинным именем"
      ],
      "metadata": {
        "id": "CaIr3XGpxjXO"
      }
    },
    {
      "cell_type": "code",
      "source": [
        "SELECT p.name\n",
        "FROM Passenger as p\n",
        "WHERE LENGTH(p.name) = (\n",
        "\t\tSELECT MAX(LENGTH(p.name))\n",
        "\t\tFROM Passenger as p\n",
        "\t)"
      ],
      "metadata": {
        "id": "6KYJQR_yxq8x"
      },
      "execution_count": null,
      "outputs": []
    },
    {
      "cell_type": "markdown",
      "source": [
        "Задание 12\n",
        "\n",
        "Вывести id и количество пассажиров для всех прошедших полётов"
      ],
      "metadata": {
        "id": "UnLHVLGxx1O4"
      }
    },
    {
      "cell_type": "code",
      "source": [
        "SELECT t.id as trip,\n",
        "\tCOUNT(p.passenger) as count\n",
        "FROM Trip as t\n",
        "INNER JOIN Pass_in_trip as p ON t.id = p.trip\n",
        "GROUP BY t.id"
      ],
      "metadata": {
        "id": "_TjbQ8T2x6qB"
      },
      "execution_count": null,
      "outputs": []
    },
    {
      "cell_type": "markdown",
      "source": [
        "Задание 13\n",
        "\n",
        "Вывести имена людей, у которых есть полный тёзка среди пассажиров"
      ],
      "metadata": {
        "id": "tZTyojDOyCNS"
      }
    },
    {
      "cell_type": "code",
      "source": [
        "SELECT p.name\n",
        "FROM Passenger as p\n",
        "GROUP BY p.name\n",
        "HAVING COUNT(*) > 1"
      ],
      "metadata": {
        "id": "cYZioFY6yIls"
      },
      "execution_count": null,
      "outputs": []
    },
    {
      "cell_type": "markdown",
      "source": [
        "Задание 14\n",
        "\n",
        "В какие города летал Bruce Willis"
      ],
      "metadata": {
        "id": "YFjNtcs5yOdX"
      }
    },
    {
      "cell_type": "code",
      "source": [
        "SELECT t.town_to\n",
        "FROM Trip as t\n",
        "INNER JOIN Pass_in_trip as p ON t.id = p.trip\n",
        "INNER JOIN Passenger as ps ON p.passenger = ps.id\n",
        "WHERE ps.name = 'Bruce Willis'"
      ],
      "metadata": {
        "id": "-WZ3uDhoyUQu"
      },
      "execution_count": null,
      "outputs": []
    },
    {
      "cell_type": "markdown",
      "source": [
        "Задание 15\n",
        "\n",
        "Выведите дату и время прилёта пассажира Стив Мартин (Steve Martin) в Лондон (London)"
      ],
      "metadata": {
        "id": "td1fDXANy3O9"
      }
    },
    {
      "cell_type": "code",
      "source": [
        "SELECT t.time_in\n",
        "FROM Trip as t\n",
        "INNER JOIN Pass_in_trip as p ON t.id = p.trip\n",
        "INNER JOIN Passenger as ps ON p.passenger = ps.id\n",
        "WHERE ps.name = 'Steve Martin'\n",
        "AND t.town_to = 'London'"
      ],
      "metadata": {
        "id": "F-K5zCiwy5tG"
      },
      "execution_count": null,
      "outputs": []
    },
    {
      "cell_type": "markdown",
      "source": [
        "Задание 16\n",
        "\n",
        "Вывести отсортированный по количеству перелетов (по убыванию) и имени (по возрастанию) список пассажиров, совершивших хотя бы 1 полет."
      ],
      "metadata": {
        "id": "2RDD2inrzD5I"
      }
    },
    {
      "cell_type": "code",
      "source": [
        "SELECT p.name,\n",
        "COUNT(pt.trip) as count\n",
        "FROM Passenger as p\n",
        "INNER JOIN Pass_in_trip as pt ON p.id = pt.passenger\n",
        "GROUP BY p.name\n",
        "ORDER BY COUNT(pt.trip) DESC, p.name"
      ],
      "metadata": {
        "id": "P8bjX3RszFZS"
      },
      "execution_count": null,
      "outputs": []
    },
    {
      "cell_type": "markdown",
      "source": [
        "Задание 17\n",
        "\n",
        "Определить, сколько потратил в 2005 году каждый из членов семьи. В результирующей выборке не выводите тех членов семьи, которые ничего не потратили."
      ],
      "metadata": {
        "id": "6PSIa304zQ4O"
      }
    },
    {
      "cell_type": "code",
      "source": [
        "SELECT f.member_name, f.status, SUM(p.amount * p.unit_price) as costs\n",
        "FROM FamilyMembers as f\n",
        "INNER JOIN Payments as p ON f.member_id = p.family_member\n",
        "WHERE YEAR(p.date) = 2005\n",
        "GROUP BY f.member_name, f.status"
      ],
      "metadata": {
        "id": "Urk_L98nzO7G"
      },
      "execution_count": null,
      "outputs": []
    },
    {
      "cell_type": "markdown",
      "source": [
        "Задание 18\n",
        "\n",
        "Узнать, кто старше всех в семьe"
      ],
      "metadata": {
        "id": "dIfE4_zI3FJN"
      }
    },
    {
      "cell_type": "code",
      "source": [
        "SELECT f.member_name\n",
        "FROM FamilyMembers as f\n",
        "WHERE YEAR(f.birthday) = (\n",
        "\t\tSELECT MIN(YEAR(f.birthday))\n",
        "\t\tFROM FamilyMembers as f\n",
        "\t)"
      ],
      "metadata": {
        "id": "5atONMh_3FoW"
      },
      "execution_count": null,
      "outputs": []
    },
    {
      "cell_type": "markdown",
      "source": [
        "Задание 19\n",
        "\n",
        "Определить, кто из членов семьи покупал картошку (potato)"
      ],
      "metadata": {
        "id": "doVeNwSJ3GDF"
      }
    },
    {
      "cell_type": "code",
      "source": [
        "SELECT f.status\n",
        "FROM FamilyMembers as f\n",
        "INNER JOIN Payments as p ON f.member_id = p.family_member\n",
        "INNER JOIN Goods as g ON p.good = g.good_id\n",
        "WHERE g.good_name = 'potato'\n",
        "GROUP BY f.status"
      ],
      "metadata": {
        "id": "hr8sAp2s3GVU"
      },
      "execution_count": null,
      "outputs": []
    },
    {
      "cell_type": "markdown",
      "source": [
        "Задание 20\n",
        "\n",
        "Сколько и кто из семьи потратил на развлечения (entertainment). Вывести статус в семье, имя, сумму"
      ],
      "metadata": {
        "id": "GX7pwyLR3Gj3"
      }
    },
    {
      "cell_type": "code",
      "source": [
        "SELECT f.status, f.member_name, SUM(p.unit_price * p.amount) as costs\n",
        "FROM FamilyMembers as f\n",
        "INNER JOIN Payments as p ON f.member_id = p.family_member\n",
        "INNER JOIN Goods as g ON p.good = g.good_id\n",
        "INNER JOIN GoodTypes as gt ON g.type = gt.good_type_id\n",
        "WHERE gt.good_type_name = 'entertainment'\n",
        "GROUP BY f.status, f.member_name"
      ],
      "metadata": {
        "id": "cLz5dqID3Gyl"
      },
      "execution_count": null,
      "outputs": []
    },
    {
      "cell_type": "code",
      "source": [],
      "metadata": {
        "id": "RZ8AV0ez3uML"
      },
      "execution_count": null,
      "outputs": []
    }
  ]
}