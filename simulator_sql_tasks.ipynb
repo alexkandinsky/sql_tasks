{
  "nbformat": 4,
  "nbformat_minor": 0,
  "metadata": {
    "colab": {
      "provenance": []
    },
    "kernelspec": {
      "name": "python3",
      "display_name": "Python 3"
    },
    "language_info": {
      "name": "python"
    }
  },
  "cells": [
    {
      "cell_type": "markdown",
      "source": [
        "ССЫЛКА НА ИСТОЧНИК ЗАДАЧ: https://karpov.courses/simulator-sql"
      ],
      "metadata": {
        "id": "LusNnATXsbmN"
      }
    },
    {
      "cell_type": "markdown",
      "source": [
        "<b>Задача 1</b>\n",
        "\n",
        "Выведите все записи из таблицы products.\n",
        "\n",
        "Поля в результирующей таблице: product_id, name, price\n"
      ],
      "metadata": {
        "id": "AdFIOz6-o-M4"
      }
    },
    {
      "cell_type": "code",
      "execution_count": null,
      "metadata": {
        "id": "GU074YSEncWV"
      },
      "outputs": [],
      "source": [
        "SELECT *\n",
        "FROM products as p"
      ]
    },
    {
      "cell_type": "markdown",
      "source": [
        "<b>Задача 2</b>\n",
        "\n",
        "Выведите все записи из таблицы products, отсортировав их по наименованиям товаров в алфавитном порядке, т.е. по возрастанию.\n",
        "\n",
        "Поля в результирующей таблице: product_id, name, price"
      ],
      "metadata": {
        "id": "ePMC5ScepeIf"
      }
    },
    {
      "cell_type": "code",
      "source": [
        "SELECT *\n",
        "FROM products as p\n",
        "ORDER BY p.name"
      ],
      "metadata": {
        "id": "3dzQ_pInpUYU"
      },
      "execution_count": null,
      "outputs": []
    },
    {
      "cell_type": "markdown",
      "source": [
        "<b>Задача 3</b>\n",
        "\n",
        "Отсортируйте таблицу courier_actions сначала по колонке courier_id по возрастанию id курьера, потом по колонке action, а затем по колонке time, но уже по убыванию — от самого последнего действия к самому первому.\n",
        "\n",
        "Добавьте в запрос оператор LIMIT и выведите только первые 1000 строк результирующей таблицы.\n",
        "\n",
        "Поля в результирующей таблице: courier_id, order_id, action, time"
      ],
      "metadata": {
        "id": "1Y6xCsAVpjNb"
      }
    },
    {
      "cell_type": "code",
      "source": [
        "SELECT *\n",
        "FROM courier_actions as ca\n",
        "ORDER BY ca.courier_id, ca.action, ca.time DESC\n",
        "LIMIT 1000"
      ],
      "metadata": {
        "id": "50HH2FxIpjX8"
      },
      "execution_count": null,
      "outputs": []
    },
    {
      "cell_type": "markdown",
      "source": [
        "<b>Задача 4</b>\n",
        "\n",
        "Используя операторы SELECT, FROM, ORDER BY и LIMIT, определите 5 самых дорогих товаров в таблице products, которые доставляет наш сервис. Выведите их наименования и цену.\n",
        "\n",
        "Поля в результирующей таблице: name, price"
      ],
      "metadata": {
        "id": "Zp0FS-rbpjh-"
      }
    },
    {
      "cell_type": "code",
      "source": [
        "SELECT p.name, p.price\n",
        "FROM products as p\n",
        "ORDER BY p.price DESC\n",
        "LIMIT 5"
      ],
      "metadata": {
        "id": "6jKNYp2upjqG"
      },
      "execution_count": null,
      "outputs": []
    },
    {
      "cell_type": "markdown",
      "source": [
        "<b>Задача 5</b>\n",
        "\n",
        "Повторите запрос из предыдущего задания, но теперь колонки name и price переименуйте соответственно в product_name и product_price.\n",
        "\n",
        "Поля в результирующей таблице: product_name, product_price"
      ],
      "metadata": {
        "id": "RWLuL46Upjxr"
      }
    },
    {
      "cell_type": "code",
      "source": [
        "SELECT p.name as product_name, p.price as product_price\n",
        "FROM products as p\n",
        "ORDER BY p.price DESC\n",
        "LIMIT 5"
      ],
      "metadata": {
        "id": "BzaB6quCpj6D"
      },
      "execution_count": null,
      "outputs": []
    },
    {
      "cell_type": "markdown",
      "source": [
        "<b>Задача 6</b>\n",
        "\n",
        "Используя операторы SELECT, FROM, ORDER BY и LIMIT, а также функцию LENGTH, определите товар с самым длинным названием в таблице products. Выведите его наименование, длину наименования в символах, а также цену этого товара. Колонку с длиной наименования в символах назовите name_length.\n",
        "\n",
        "Поля в результирующей таблице: name, name_length, price"
      ],
      "metadata": {
        "id": "GbfHVGd-pkAX"
      }
    },
    {
      "cell_type": "code",
      "source": [
        "SELECT p.name,\n",
        "       length(p.name) as name_length,\n",
        "       p.price\n",
        "FROM products as p\n",
        "ORDER BY 2 desc\n",
        "LIMIT 1"
      ],
      "metadata": {
        "id": "-_U6YtODpkGx"
      },
      "execution_count": null,
      "outputs": []
    },
    {
      "cell_type": "markdown",
      "source": [
        "<b>Задача 7</b>\n",
        "\n",
        "Примените последовательно функции UPPER и SPLIT_PART к колонке name и преобразуйте наименования товаров в таблице products так, чтобы от названий осталось только первое слово, записанное в верхнем регистре. Колонку с новым названием, состоящим из первого слова, назовите first_word.\n",
        "\n",
        "В результат включите исходные наименования товаров, новые наименования из первого слова, а также цену товаров. Результат отсортируйте по возрастанию исходного наименования товара в колонке name.\n",
        "\n",
        "Поля в результирующей таблице: name, first_word, price"
      ],
      "metadata": {
        "id": "39-mqg6TpkND"
      }
    },
    {
      "cell_type": "code",
      "source": [
        "SELECT p.name,\n",
        "       UPPER(SPLIT_PART(p.name, ' ', 1)) as first_word,\n",
        "       p.price\n",
        "FROM products as p\n",
        "ORDER BY p.name"
      ],
      "metadata": {
        "id": "f60_HHX1pkUg"
      },
      "execution_count": null,
      "outputs": []
    },
    {
      "cell_type": "markdown",
      "source": [
        "<b>Задача 8</b>\n",
        "\n",
        "Измените тип колонки price из таблицы products на VARCHAR. Выведите колонки с наименованием товаров, ценой в исходном формате и ценой в формате VARCHAR. Новую колонку с ценой в новом формате назовите price_char.\n",
        "\n",
        "Результат отсортируйте по возрастанию исходного наименования товара в колонке name. Количество выводимых записей не ограничивайте.\n",
        "\n",
        "Поле в результирующей таблице: name, price, price_char"
      ],
      "metadata": {
        "id": "qkLs8Ntzpkbc"
      }
    },
    {
      "cell_type": "code",
      "source": [
        "SELECT p.name,\n",
        "       p.price,\n",
        "       p.price::VARCHAR as price_char\n",
        "FROM products as p\n",
        "ORDER BY p.name"
      ],
      "metadata": {
        "id": "fUdupYyFpklD"
      },
      "execution_count": null,
      "outputs": []
    },
    {
      "cell_type": "markdown",
      "source": [
        "<b>Задача 9</b>\n",
        "\n",
        "Для первых 200 записей из таблицы orders выведите информацию в следующем виде (обратите внимание на пробелы):\n",
        "\n",
        "Заказ № [id_заказа] создан [дата]\n",
        "\n",
        "Полученную колонку назовите order_info."
      ],
      "metadata": {
        "id": "F0aB4vs9pkqJ"
      }
    },
    {
      "cell_type": "code",
      "source": [
        "SELECT CONCAT('Заказ № ', o.order_id, ' создан ', o.creation_time::DATE) as order_info\n",
        "FROM orders as o\n",
        "LIMIT 200"
      ],
      "metadata": {
        "id": "GnJDQuDOpkwH"
      },
      "execution_count": null,
      "outputs": []
    },
    {
      "cell_type": "markdown",
      "source": [
        "<b>Задача 10</b>\n",
        "\n",
        "Выведите id всех курьеров и их годы рождения из таблицы couriers.\n",
        "\n",
        "Год рождения необходимо получить из колонки birth_date. Новую колонку с годом назовите birth_year. Результат отсортируйте сначала по убыванию года рождения курьера (т.е. от самых младших к самым старшим), затем по возрастанию id курьера.\n",
        "\n",
        "Поля в результирующей таблице: courier_id, birth_year"
      ],
      "metadata": {
        "id": "l1WdIIdTpk0y"
      }
    },
    {
      "cell_type": "code",
      "source": [
        "SELECT c.courier_id,\n",
        "       DATE_PART('YEAR', c.birth_date) as birth_year\n",
        "FROM couriers as c\n",
        "ORDER BY 2 DESC, 1"
      ],
      "metadata": {
        "id": "uoGklX9rpk5u"
      },
      "execution_count": null,
      "outputs": []
    },
    {
      "cell_type": "markdown",
      "source": [
        "<b>Задача 11</b>\n",
        "\n",
        "Как и в предыдущем задании, снова выведите id всех курьеров и их годы рождения, только теперь к извлеченному году примените функцию COALESCE. Укажите параметры функции так, чтобы вместо NULL значений в результат попадало текстовое значение unknown. Названия полей оставьте прежними.\n",
        "\n",
        "Отсортируйте итоговую таблицу сначала по убыванию года рождения курьера, затем по возрастанию id курьера.\n",
        "\n",
        "Поля в результирующей таблице: courier_id, birth_year"
      ],
      "metadata": {
        "id": "NIY83dg5pk-3"
      }
    },
    {
      "cell_type": "code",
      "source": [
        "SELECT c.courier_id,\n",
        "       COALESCE(DATE_PART('YEAR', c.birth_date)::varchar, 'unknown') as birth_year\n",
        "FROM couriers as c\n",
        "ORDER BY 2 DESC, 1"
      ],
      "metadata": {
        "id": "r4iAVh5RplFH"
      },
      "execution_count": null,
      "outputs": []
    },
    {
      "cell_type": "markdown",
      "source": [
        "<b>Задача 12</b>\n",
        "\n",
        "Давайте представим, что по какой-то необъяснимой причине мы вдруг решили в одночасье повысить цену всех товаров в таблице products на 5%.\n",
        "\n",
        "Выведите id и наименования всех товаров, их старую и новую цену. Колонку со старой ценой назовите old_price, а колонку с новой — new_price.\n",
        "\n",
        "Результат отсортируйте сначала по убыванию новой цены, затем по возрастанию id товара.\n",
        "\n",
        "Поля в результирующей таблице: product_id, name, old_price, new_price"
      ],
      "metadata": {
        "id": "zeWDaAQzqtrt"
      }
    },
    {
      "cell_type": "code",
      "source": [
        "SELECT p.product_id,\n",
        "       p.name,\n",
        "       p.price as old_price,\n",
        "       p.price * 1.05 as new_price\n",
        "FROM products as p\n",
        "ORDER BY 4 DESC, 1"
      ],
      "metadata": {
        "id": "7YTubkRxquVQ"
      },
      "execution_count": null,
      "outputs": []
    },
    {
      "cell_type": "markdown",
      "source": [
        "<b>Задача 13</b>\n",
        "\n",
        "Вновь, как и в прошлом задании, повысьте цену всех товаров на 5%, только теперь к колонке с новой ценой примените функцию ROUND. Выведите id и наименования товаров, их старую цену, а также новую цену с округлением. Новую цену округлите до одного знака после запятой, но тип данных не меняйте.\n",
        "\n",
        "Результат отсортируйте сначала по убыванию новой цены, затем по возрастанию id товара.\n",
        "\n",
        "Поля в результирующей таблице: product_id, name, old_price, new_price\n",
        "\n"
      ],
      "metadata": {
        "id": "0R7AhmknqucJ"
      }
    },
    {
      "cell_type": "code",
      "source": [
        "SELECT p.product_id,\n",
        "       p.name,\n",
        "       p.price as old_price,\n",
        "       ROUND(p.price * 1.05, 1) as new_price\n",
        "FROM products as p\n",
        "ORDER BY 4 DESC, 1"
      ],
      "metadata": {
        "id": "ylYid4n6qxxH"
      },
      "execution_count": null,
      "outputs": []
    },
    {
      "cell_type": "markdown",
      "source": [
        "<b>Задача 14</b>\n",
        "\n",
        "Повысьте цену на 5% только на те товары, цена которых превышает 100 рублей. Цену остальных товаров оставьте без изменений. Также не повышайте цену на икру, которая и так стоит 800 рублей. Выведите id и наименования всех товаров, их старую и новую цену. Цену округлять не нужно.\n",
        "\n",
        "Результат отсортируйте сначала по убыванию новой цены, затем по возрастанию id товара.\n",
        "\n",
        "Поля в результирующей таблице: product_id, name, old_price, new_price"
      ],
      "metadata": {
        "id": "ueo_Tnk9qyDM"
      }
    },
    {
      "cell_type": "code",
      "source": [
        "SELECT p.product_id,\n",
        "       p.name,\n",
        "       p.price as old_price,\n",
        "       CASE\n",
        "       WHEN p.price > 100 AND p.name != 'икра' THEN p.price * 1.05\n",
        "       ELSE p.price END as new_price\n",
        "FROM products as p\n",
        "ORDER BY 4 DESC, 1"
      ],
      "metadata": {
        "id": "a2EsYGd6qyQr"
      },
      "execution_count": null,
      "outputs": []
    },
    {
      "cell_type": "markdown",
      "source": [
        "<b>Задача 15</b>\n",
        "\n",
        "Вычислите НДС каждого товара в таблице products и рассчитайте цену без учёта НДС. Выведите всю информацию о товарах, включая сумму налога и цену без его учёта. Колонки с суммой налога и ценой без НДС назовите соответственно tax и price_before_tax. Округлите значения в этих колонках до двух знаков после запятой.\n",
        "\n",
        "Результат отсортируйте сначала по убыванию цены товара без учёта НДС, затем по возрастанию id товара.\n",
        "\n",
        "Поля в результирующей таблице: product_id, name, price, tax, price_before_tax"
      ],
      "metadata": {
        "id": "km55nUwFqyi1"
      }
    },
    {
      "cell_type": "code",
      "source": [
        "SELECT p.product_id,\n",
        "       p.name,\n",
        "       p.price,\n",
        "       ROUND(p.price / 120 * 20, 2) as tax,\n",
        "       ROUND(p.price - p.price / 120 * 20, 2) as price_before_tax\n",
        "FROM products as p\n",
        "ORDER BY 5 DESC, 1"
      ],
      "metadata": {
        "id": "ist7QKlDqyvn"
      },
      "execution_count": null,
      "outputs": []
    },
    {
      "cell_type": "markdown",
      "source": [
        "<b>Задача 16</b>\n",
        "\n",
        "Напишите SQL-запрос к таблице products и выведите всю информацию о товарах, цена которых не превышает 100 рублей. Результат отсортируйте по возрастанию id товара.\n",
        "\n",
        "Поля в результирующей таблице: product_id, name, price"
      ],
      "metadata": {
        "id": "kUPIZVCpPmqW"
      }
    },
    {
      "cell_type": "code",
      "source": [
        "SELECT p.product_id,\n",
        "       p.name,\n",
        "       p.price\n",
        "FROM products as p\n",
        "WHERE p.price <= 100\n",
        "ORDER BY 1"
      ],
      "metadata": {
        "id": "RoZGb9EtPm-5"
      },
      "execution_count": null,
      "outputs": []
    },
    {
      "cell_type": "markdown",
      "source": [
        "<b>Задача 17</b>\n",
        "\n",
        "Отберите пользователей женского пола из таблицы users. Выведите только id этих пользователей. Результат отсортируйте по возрастанию id.\n",
        "\n",
        "Добавьте в запрос оператор LIMIT и выведите только 1000 первых id из отсортированного списка.\n",
        "\n",
        "Поле в результирующей таблице: user_id"
      ],
      "metadata": {
        "id": "j4Bee-BtPnOA"
      }
    },
    {
      "cell_type": "code",
      "source": [
        "SELECT u.user_id\n",
        "FROM users as u\n",
        "WHERE sex = 'female'\n",
        "ORDER BY 1\n",
        "LIMIT 1000"
      ],
      "metadata": {
        "id": "qiowF6i6PnaG"
      },
      "execution_count": null,
      "outputs": []
    },
    {
      "cell_type": "markdown",
      "source": [
        "<b>Задача 18</b>\n",
        "\n",
        "Отберите из таблицы user_actions все действия пользователей по созданию заказов, которые были совершены ими после полуночи 6 сентября 2022 года. Выведите колонки с id пользователей, id созданных заказов и временем их создания.\n",
        "\n",
        "Результат должен быть отсортирован по возрастанию id заказа.\n",
        "\n",
        "Поля в результирующей таблице: user_id, order_id, time"
      ],
      "metadata": {
        "id": "vGNjkoY0Pnnp"
      }
    },
    {
      "cell_type": "code",
      "source": [
        "SELECT ua.user_id,\n",
        "       ua.order_id,\n",
        "       ua.time\n",
        "FROM user_actions as ua\n",
        "WHERE ua.action = 'create_order'\n",
        "AND ua.time >= '2022-09-06'\n",
        "ORDER BY ua.order_id"
      ],
      "metadata": {
        "id": "JCjPWlLWPn0d"
      },
      "execution_count": null,
      "outputs": []
    },
    {
      "cell_type": "markdown",
      "source": [
        "<b>Задача 19</b>\n",
        "\n",
        "Назначьте скидку 20% на все товары из таблицы products и отберите те, цена на которые с учётом скидки превышает 100 рублей. Выведите id товаров, их наименования, прежнюю цену и новую цену с учётом скидки. <br>Колонку со старой ценой назовите old_price, с новой — new_price.\n",
        "\n",
        "Результат должен быть отсортирован по возрастанию id товара.\n",
        "\n",
        "Поля в результирующей таблице: product_id, name, old_price, new_price"
      ],
      "metadata": {
        "id": "_S25l7SVPoGp"
      }
    },
    {
      "cell_type": "code",
      "source": [
        "SELECT p.product_id,\n",
        "       p.name,\n",
        "       p.price as old_price,\n",
        "      (p.price * 0.8) as new_price\n",
        "FROM products as p\n",
        "WHERE p.price * 0.8 > 100\n",
        "ORDER BY 1"
      ],
      "metadata": {
        "id": "pcF1lMwIPoVW"
      },
      "execution_count": null,
      "outputs": []
    },
    {
      "cell_type": "markdown",
      "source": [
        "<b>Задача 20</b>\n",
        "\n",
        "Отберите из таблицы products все товары, названия которых либо начинаются со слова «чай», либо состоят из пяти символов. Выведите две колонки: id товаров и их наименования.\n",
        "\n",
        "Результат должен быть отсортирован по возрастанию id товара.\n",
        "\n",
        "Поля в результирующей таблице: product_id, name"
      ],
      "metadata": {
        "id": "3UHrcN6BQHiz"
      }
    },
    {
      "cell_type": "code",
      "source": [
        "SELECT p.product_id,\n",
        "       p.name\n",
        "FROM products as p\n",
        "WHERE SPLIT_PART(p.name,' ', 1) = 'чай'\n",
        "OR LENGTH(p.name) = 5\n",
        "ORDER BY 1"
      ],
      "metadata": {
        "id": "oUliUbkUQHzX"
      },
      "execution_count": null,
      "outputs": []
    },
    {
      "cell_type": "markdown",
      "source": [
        "<b>Задача 21</b>\n",
        "\n",
        "Отберите из таблицы products все товары, содержащие в своём названии последовательность символов «чай» (без кавычек). Выведите две колонки: id продукта и его название.\n",
        "\n",
        "Результат должен быть отсортирован по возрастанию id товара.\n",
        "\n",
        "Поля в результирующей таблице: product_id, name"
      ],
      "metadata": {
        "id": "9FEiJrxiQICZ"
      }
    },
    {
      "cell_type": "code",
      "source": [
        "SELECT p.product_id,\n",
        "       p.name\n",
        "FROM products as p\n",
        "WHERE p.name LIKE '%чай%'\n",
        "ORDER BY 1"
      ],
      "metadata": {
        "id": "WG2aVA9jQINM"
      },
      "execution_count": null,
      "outputs": []
    },
    {
      "cell_type": "markdown",
      "source": [
        "<b>Задача 22</b>\n",
        "\n",
        "Выберите из таблицы products id и наименования только тех товаров, названия которых начинаются на букву «с» и содержат только одно слово.\n",
        "\n",
        "Результат должен быть отсортирован по возрастанию id товара.\n",
        "\n",
        "Поля в результирующей таблице: product_id, name"
      ],
      "metadata": {
        "id": "3Or4TLPXQIUu"
      }
    },
    {
      "cell_type": "code",
      "source": [
        "SELECT p.product_id,\n",
        "       p.name\n",
        "FROM products as p\n",
        "WHERE p.name LIKE 'с%'\n",
        "AND p.name NOT LIKE '% %'\n",
        "ORDER BY 1"
      ],
      "metadata": {
        "id": "L554HtrIQIcZ"
      },
      "execution_count": null,
      "outputs": []
    },
    {
      "cell_type": "markdown",
      "source": [
        "<b>Задача 23</b>\n",
        "\n",
        "Составьте SQL-запрос, который выбирает из таблицы products все чаи стоимостью больше 60 рублей и вычисляет для них цену со скидкой 25%.\n",
        "\n",
        "Скидку в % менеджер попросил указать в отдельном столбце в формате текста, то есть вот так: «25%» (без кавычек). Столбцы со скидкой и новой ценой назовите соответственно discount и new_price.\n",
        "\n",
        "Также необходимо любым известным способом избавиться от «чайного гриба»: вряд ли менеджер имел в виду и его, когда ставил нам задачу.\n",
        "\n",
        "Результат должен быть отсортирован по возрастанию id товара.\n",
        "\n",
        "Поля в результирующей таблице: product_id, name, price, discount, new_price"
      ],
      "metadata": {
        "id": "31XkF0McQIiu"
      }
    },
    {
      "cell_type": "code",
      "source": [
        "SELECT p.product_id,\n",
        "       p.name,\n",
        "       p.price,\n",
        "       '25%' as discount,\n",
        "       p.price * 0.75 as new_price\n",
        "FROM products as p\n",
        "WHERE p.price > 60\n",
        "AND SPLIT_PART(p.name, ' ', 1) = 'чай'\n",
        "ORDER BY 1"
      ],
      "metadata": {
        "id": "WMrCI61WQIrZ"
      },
      "execution_count": null,
      "outputs": []
    },
    {
      "cell_type": "markdown",
      "source": [
        "<b>Задача 24</b>\n",
        "\n",
        "Из таблицы user_actions выведите всю информацию о действиях пользователей с id 170, 200 и 230 за период с 25 августа по 4 сентября 2022 года включительно. Результат отсортируйте по убыванию id заказа — то есть от самых поздних действий к самым первым.\n",
        "\n",
        "Поля в результирующей таблице: user_id, order_id, action, time"
      ],
      "metadata": {
        "id": "xaEvgjYLQIyk"
      }
    },
    {
      "cell_type": "code",
      "source": [
        "SELECT ua.user_id,\n",
        "       ua.order_id,\n",
        "       ua.action,\n",
        "       ua.time\n",
        "FROM user_actions as ua\n",
        "WHERE ua.user_id IN (170, 200, 230)\n",
        "AND ua.time BETWEEN '2022-08-25' AND '2022-09-05'\n",
        "ORDER BY 2 DESC"
      ],
      "metadata": {
        "id": "C1BgZNj4QI5R"
      },
      "execution_count": null,
      "outputs": []
    },
    {
      "cell_type": "markdown",
      "source": [
        "<b>Задача 25</b>\n",
        "\n",
        "Напишите SQL-запрос к таблице couriers и выведите всю информацию о курьерах, у которых не указан их день рождения.\n",
        "\n",
        "Результат должен быть отсортирован по возрастанию id курьера.\n",
        "\n",
        "Поля в результирующей таблице: birth_date, courier_id, sex"
      ],
      "metadata": {
        "id": "L487ENfUQJAn"
      }
    },
    {
      "cell_type": "code",
      "source": [
        "SELECT c.birth_date,\n",
        "       c.courier_id,\n",
        "       c.sex\n",
        "FROM couriers as c\n",
        "WHERE c.birth_date IS NULL\n",
        "ORDER BY 2"
      ],
      "metadata": {
        "id": "GM4S5OHzQJKH"
      },
      "execution_count": null,
      "outputs": []
    },
    {
      "cell_type": "markdown",
      "source": [
        "<b>Задача 26</b>\n",
        "\n",
        "Определите id и даты рождения 50 самых молодых пользователей мужского пола из таблицы users. Не учитывайте тех пользователей, у которых не указана дата рождения.\n",
        "\n",
        "Поле в результирующей таблице: user_id, birth_date"
      ],
      "metadata": {
        "id": "QAnMX_PdEoYr"
      }
    },
    {
      "cell_type": "code",
      "source": [
        "SELECT u.user_id,\n",
        "       u.birth_date\n",
        "FROM users as u\n",
        "WHERE u.birth_date IS NOT NULL\n",
        "AND u.sex = 'male'\n",
        "ORDER BY u.birth_date DESC\n",
        "LIMIT 50;"
      ],
      "metadata": {
        "id": "PbW47M6SEvzh"
      },
      "execution_count": null,
      "outputs": []
    },
    {
      "cell_type": "markdown",
      "source": [
        "<b>Задача 27</b>\n",
        "\n",
        "Напишите SQL-запрос к таблице courier_actions, чтобы узнать id и время доставки последних 10 заказов, доставленных курьером с id 100.\n",
        "\n",
        "Поля в результирующей таблице: order_id, time"
      ],
      "metadata": {
        "id": "p0A3cVybFurc"
      }
    },
    {
      "cell_type": "code",
      "source": [
        "SELECT ca.order_id,\n",
        "       ca.time\n",
        "FROM courier_actions as ca\n",
        "WHERE ca.courier_id = 100\n",
        "AND ca.action = 'deliver_order'\n",
        "ORDER BY 2 DESC\n",
        "LIMIT 10;"
      ],
      "metadata": {
        "id": "q6e9zo6_FzSn"
      },
      "execution_count": null,
      "outputs": []
    },
    {
      "cell_type": "markdown",
      "source": [
        "<b>Задача 28</b>\n",
        "\n",
        "Из таблицы user_actions получите id всех заказов, сделанных пользователями сервиса в августе 2022 года.\n",
        "\n",
        "Результат отсортируйте по возрастанию id заказа.\n",
        "\n",
        "Поле в результирующей таблице: order_id"
      ],
      "metadata": {
        "id": "XFqnUsfsFzkr"
      }
    },
    {
      "cell_type": "code",
      "source": [
        "SELECT ua.order_id\n",
        "FROM user_actions as ua\n",
        "WHERE DATE_PART('year', ua.time) = 2022\n",
        "AND DATE_PART('month', ua.time) = 8\n",
        "AND ua.action = 'create_order'\n",
        "ORDER BY 1;"
      ],
      "metadata": {
        "id": "Ywj-2JyvFz0X"
      },
      "execution_count": null,
      "outputs": []
    },
    {
      "cell_type": "markdown",
      "source": [
        "<b>Задача 29</b>\n",
        "\n",
        "Из таблицы couriers отберите id всех курьеров, родившихся в период с 1990 по 1995 год включительно.\n",
        "\n",
        "Результат отсортируйте по возрастанию id курьера.\n",
        "\n",
        "Поле в результирующей таблице: courier_id"
      ],
      "metadata": {
        "id": "J9TPwmW0F0F3"
      }
    },
    {
      "cell_type": "code",
      "source": [
        "SELECT c.courier_id\n",
        "FROM couriers as c\n",
        "WHERE DATE_PART('year', c.birth_date) BETWEEN 1990 AND 1995\n",
        "ORDER BY 1;"
      ],
      "metadata": {
        "id": "kGdJm1qwF0SG"
      },
      "execution_count": null,
      "outputs": []
    },
    {
      "cell_type": "markdown",
      "source": [
        "<b>Задача 30</b>\n",
        "\n",
        "Из таблицы user_actions получите информацию о всех отменах заказов, которые пользователи совершали в течение августа 2022 года по средам с 12:00 до 15:59.\n",
        "\n",
        "Результат отсортируйте по убыванию id отменённых заказов.\n",
        "\n",
        "Поля в результирующей таблице: user_id, order_id, action, time"
      ],
      "metadata": {
        "id": "tj4WhUP_F0ek"
      }
    },
    {
      "cell_type": "code",
      "source": [
        "SELECT ua.user_id,\n",
        "       ua.order_id,\n",
        "       ua.action,\n",
        "       ua.time\n",
        "FROM user_actions as ua\n",
        "WHERE ua.action = 'cancel_order'\n",
        "AND DATE_PART('year', ua.time) = 2022\n",
        "AND DATE_PART('month', ua.time) = 8\n",
        "AND DATE_PART('dow', ua.time) = 3\n",
        "AND DATE_PART('hour', ua.time) BETWEEN 12 AND 15\n",
        "AND DATE_PART('minute', ua.time) BETWEEN 0 AND 59\n",
        "ORDER BY 2 DESC;"
      ],
      "metadata": {
        "id": "5qYCs0NsF0ub"
      },
      "execution_count": null,
      "outputs": []
    },
    {
      "cell_type": "markdown",
      "source": [
        "<b>Задача 31</b>\n",
        "\n",
        "Как и в задаче из прошлого урока, вычислите НДС каждого товара в таблице products и рассчитайте цену без учёта НДС. Однако теперь примите во внимание, что для товаров из списка налог составляет 10%. Для остальных товаров НДС тот же — 20%.\n",
        "\n",
        "Выведите всю информацию о товарах, включая сумму налога и цену без его учёта. Колонки с суммой налога и ценой без НДС назовите соответственно tax и price_before_tax. Округлите значения в этих колонках до двух знаков после запятой.\n",
        "\n",
        "Результат отсортируйте сначала по убыванию цены товара без учёта НДС, затем по возрастанию id товара.\n",
        "\n",
        "Поля в результирующей таблице: product_id, name, price, tax, price_before_tax"
      ],
      "metadata": {
        "id": "xc01wlskKAUQ"
      }
    },
    {
      "cell_type": "code",
      "source": [
        "SELECT p.product_id,\n",
        "       p.name,\n",
        "       p.price,\n",
        "       CASE WHEN p.name IN ('сахар', 'сухарики', 'сушки',\n",
        "                            'семечки', 'масло льняное', 'виноград',\n",
        "                            'масло оливковое', 'арбуз', 'батон', 'йогурт',\n",
        "                            'сливки', 'гречка', 'овсянка', 'макароны',\n",
        "                            'баранина', 'апельсины', 'бублики', 'хлеб',\n",
        "                            'горох', 'сметана', 'рыба копченая', 'мука',\n",
        "                            'шпроты', 'сосиски', 'свинина', 'рис', 'масло кунжутное',\n",
        "                            'сгущенка', 'ананас', 'говядина', 'соль', 'рыба вяленая',\n",
        "                            'масло подсолнечное', 'яблоки', 'груши', 'лепешка', 'молоко',\n",
        "                            'курица', 'лаваш', 'вафли', 'мандарины')\n",
        "       THEN ROUND(p.price / 110 * 10, 2)\n",
        "       ELSE ROUND(p.price / 120 * 20, 2) END as tax,\n",
        "       CASE WHEN p.name in ('сахар', 'сухарики', 'сушки',\n",
        "                            'семечки', 'масло льняное', 'виноград',\n",
        "                            'масло оливковое', 'арбуз', 'батон', 'йогурт',\n",
        "                            'сливки', 'гречка', 'овсянка', 'макароны',\n",
        "                            'баранина', 'апельсины', 'бублики', 'хлеб',\n",
        "                            'горох', 'сметана', 'рыба копченая', 'мука',\n",
        "                            'шпроты', 'сосиски', 'свинина', 'рис', 'масло кунжутное',\n",
        "                            'сгущенка', 'ананас', 'говядина', 'соль', 'рыба вяленая',\n",
        "                            'масло подсолнечное', 'яблоки', 'груши', 'лепешка', 'молоко',\n",
        "                            'курица', 'лаваш', 'вафли', 'мандарины')\n",
        "       THEN ROUND(p.price - p.price / 110 * 10, 2)\n",
        "       ELSE ROUND(p.price - p.price / 120 * 20, 2) END as price_before_tax\n",
        "FROM products as p\n",
        "ORDER BY 5 desc, 1;"
      ],
      "metadata": {
        "id": "Txx5p4NfKAje"
      },
      "execution_count": null,
      "outputs": []
    },
    {
      "cell_type": "markdown",
      "source": [
        "<b>Задача 32</b>\n",
        "\n",
        "Выведите id всех уникальных пользователей из таблицы user_actions. Результат отсортируйте по возрастанию id.\n",
        "\n",
        "Поле в результирующей таблице: user_id"
      ],
      "metadata": {
        "id": "on_AW3mzYUQV"
      }
    },
    {
      "cell_type": "code",
      "source": [
        "SELECT DISTINCT ua.user_id\n",
        "FROM user_actions as ua\n",
        "ORDER BY 1;"
      ],
      "metadata": {
        "id": "IE4SYbcdYaU3"
      },
      "execution_count": null,
      "outputs": []
    },
    {
      "cell_type": "markdown",
      "source": [
        "<b>Задача 33</b>\n",
        "\n",
        "Примените DISTINCT сразу к двум колонкам таблицы courier_actions и отберите уникальные пары значений courier_id и order_id.\n",
        "\n",
        "Результат отсортируйте сначала по возрастанию id курьера, затем по возрастанию id заказа.\n",
        "\n",
        "Поля в результирующей таблице: courier_id, order_id"
      ],
      "metadata": {
        "id": "QbxFBHsqYceF"
      }
    },
    {
      "cell_type": "code",
      "source": [
        "SELECT DISTINCT ca.courier_id,\n",
        "                ca.order_id\n",
        "FROM courier_actions as ca\n",
        "ORDER BY 1, 2;"
      ],
      "metadata": {
        "id": "9E1esEZ9YhoN"
      },
      "execution_count": null,
      "outputs": []
    },
    {
      "cell_type": "markdown",
      "source": [
        "<b>Задача 34</b>\n",
        "\n",
        "Посчитайте максимальную и минимальную цены товаров в таблице products. Поля назовите соответственно max_price, min_price.\n",
        "\n",
        "Поля в результирующей таблице: max_price, min_price"
      ],
      "metadata": {
        "id": "4DgAvpnuYh32"
      }
    },
    {
      "cell_type": "code",
      "source": [
        "SELECT MAX(p.price) as max_price,\n",
        "       MIN(p.price) as min_price\n",
        "FROM products as p;"
      ],
      "metadata": {
        "id": "uylrjHLkYiIG"
      },
      "execution_count": null,
      "outputs": []
    },
    {
      "cell_type": "markdown",
      "source": [
        "<b>Задача 35</b>\n",
        "\n",
        "Как вы помните, в таблице users у некоторых пользователей не были указаны их даты рождения.\n",
        "\n",
        "Посчитайте в одном запросе количество всех записей в таблице и количество только тех записей, для которых в колонке birth_date указана дата рождения.\n",
        "\n",
        "Колонку с общим числом записей назовите dates, а колонку с записями без пропусков — dates_not_null.\n",
        "\n",
        "Поля в результирующей таблице: dates, dates_not_null"
      ],
      "metadata": {
        "id": "xakPzq2bYiZI"
      }
    },
    {
      "cell_type": "code",
      "source": [
        "SELECT COUNT(*) as dates,\n",
        "       COUNT(u.birth_date) as dates_not_null\n",
        "FROM users as u;"
      ],
      "metadata": {
        "id": "Jf-v9BtnYijl"
      },
      "execution_count": null,
      "outputs": []
    },
    {
      "cell_type": "markdown",
      "source": [
        "<b>Задача 36</b>\n",
        "\n",
        "Посчитайте количество всех значений в колонке user_id в таблице user_actions, а также количество уникальных значений в этой колонке (т.е. количество уникальных пользователей сервиса).\n",
        "\n",
        "Колонку с первым полученным значением назовите users, а колонку со вторым — unique_users.\n",
        "\n",
        "Поля в результирующей таблице: users, unique_users"
      ],
      "metadata": {
        "id": "TQq03TmkYis1"
      }
    },
    {
      "cell_type": "code",
      "source": [
        "SELECT COUNT(ua.user_id) as users,\n",
        "       COUNT(DISTINCT ua.user_id) as unique_users\n",
        "FROM user_actions as ua;"
      ],
      "metadata": {
        "id": "G7ebOagwYi3a"
      },
      "execution_count": null,
      "outputs": []
    },
    {
      "cell_type": "markdown",
      "source": [
        "<b>Задача 37</b>\n",
        "\n",
        "Посчитайте количество курьеров женского пола в таблице couriers. Полученный столбец с одним значением назовите couriers.\n",
        "\n",
        "Поле в результирующей таблице: couriers"
      ],
      "metadata": {
        "id": "YmTHHxZJ8uSy"
      }
    },
    {
      "cell_type": "code",
      "source": [
        "SELECT COUNT(c.courier_id) as couriers\n",
        "FROM couriers as c\n",
        "WHERE c.sex = 'female'"
      ],
      "metadata": {
        "id": "QXqsSVRR8uuw"
      },
      "execution_count": null,
      "outputs": []
    },
    {
      "cell_type": "markdown",
      "source": [
        "<b>Задача 38</b>\n",
        "\n",
        "Рассчитайте время, когда были совершены первая и последняя доставки заказов в таблице courier_actions.\n",
        "\n",
        "Колонку с временем первой доставки назовите first_delivery, а колонку с временем последней — last_delivery.\n",
        "\n",
        "Поля в результирующей таблице: first_delivery, last_delivery"
      ],
      "metadata": {
        "id": "LcYVJ7WE8u7o"
      }
    },
    {
      "cell_type": "code",
      "source": [
        "SELECT MIN(ca.time) as first_delivery,\n",
        "       MAX(ca.time) as last_delivery\n",
        "FROM courier_actions as ca\n",
        "WHERE ca.action = 'deliver_order'"
      ],
      "metadata": {
        "id": "oTiMs1O08vIt"
      },
      "execution_count": null,
      "outputs": []
    },
    {
      "cell_type": "markdown",
      "source": [
        "<b>Задача 39</b>\n",
        "\n",
        "Представьте, что один из пользователей сервиса сделал заказ, в который вошли одна пачка сухариков, одна пачка чипсов и один энергетический напиток. Посчитайте стоимость такого заказа.\n",
        "\n",
        "Колонку с рассчитанной стоимостью заказа назовите order_price.\n",
        "\n",
        "Для расчётов используйте таблицу products.\n",
        "\n",
        "Поле в результирующей таблице: order_price"
      ],
      "metadata": {
        "id": "rBIqMijd8vUM"
      }
    },
    {
      "cell_type": "code",
      "source": [
        "SELECT SUM(p.price) as order_price\n",
        "FROM products as p\n",
        "WHERE p.name IN ('сухарики', 'чипсы', 'энергетический напиток')"
      ],
      "metadata": {
        "id": "9pmutTTU8vhD"
      },
      "execution_count": null,
      "outputs": []
    },
    {
      "cell_type": "markdown",
      "source": [
        "<b>Задача 40</b>\n",
        "\n",
        "Посчитайте количество заказов в таблице orders с девятью и более товарами. Для этого воспользуйтесь функцией array_length, отфильтруйте данные по количеству товаров в заказе и проведите агрегацию. Полученный столбец назовите orders.\n",
        "\n",
        "Поле в результирующей таблице: orders"
      ],
      "metadata": {
        "id": "m1_pn9B08vsj"
      }
    },
    {
      "cell_type": "code",
      "source": [
        "SELECT COUNT(o.order_id) as orders\n",
        "FROM orders as o\n",
        "WHERE ARRAY_LENGTH(o.product_ids, 1) >= 9"
      ],
      "metadata": {
        "id": "1FbafBRH8v32"
      },
      "execution_count": null,
      "outputs": []
    },
    {
      "cell_type": "markdown",
      "source": [
        "<b>Задача 41</b>\n",
        "\n",
        "С помощью функции AGE и агрегирующей функции рассчитайте возраст самого молодого курьера мужского пола в таблице couriers.\n",
        "\n",
        "Возраст выразите количеством лет, месяцев и дней (как в примере выше), переведя его в тип VARCHAR.\n",
        "\n",
        "В качестве даты, относительно которой считать возраст курьеров, используйте свою текущую дату (либо не указывайте её на месте первого аргумента, как показано в примерах).\n",
        "\n",
        "Полученную колонку со значением возраста назовите min_age.\n",
        "\n",
        "Поле в результирующей таблице: min_age"
      ],
      "metadata": {
        "id": "ZULN_1vr8wEQ"
      }
    },
    {
      "cell_type": "code",
      "source": [
        "SELECT MIN(AGE(current_date, c.birth_date))::VARCHAR as min_age\n",
        "FROM couriers as c\n",
        "WHERE c.sex = 'male'"
      ],
      "metadata": {
        "id": "cTYu1Bqb8wTd"
      },
      "execution_count": null,
      "outputs": []
    },
    {
      "cell_type": "markdown",
      "source": [
        "<b>Задача 42</b>\n",
        "\n",
        "Посчитайте стоимость заказа, в котором будут три пачки сухариков, две пачки чипсов и один энергетический напиток.<br> Колонку с рассчитанной стоимостью заказа назовите order_price.\n",
        "\n",
        "Для расчётов используйте таблицу products.\n",
        "\n",
        "Поле в результирующей таблице: order_price"
      ],
      "metadata": {
        "id": "nJHxOhmE8wd9"
      }
    },
    {
      "cell_type": "code",
      "source": [
        "SELECT SUM(CASE WHEN p.name = 'сухарики' THEN p.price * 3\n",
        "                WHEN p.name = 'чипсы' THEN p.price * 2\n",
        "                WHEN p.name = 'энергетический напиток' THEN p.price * 1\n",
        "                else 0 end) as order_price\n",
        "FROM products as p"
      ],
      "metadata": {
        "id": "HdYwwSR68wqh"
      },
      "execution_count": null,
      "outputs": []
    },
    {
      "cell_type": "markdown",
      "source": [
        "<b>Задача 43</b>\n",
        "\n",
        "Рассчитайте среднюю цену товаров в таблице products, в названиях которых присутствуют слова «чай» или «кофе». <br>Любым известным способом исключите из расчёта товары содержащие «иван-чай» или «чайный гриб».\n",
        "\n",
        "Среднюю цену округлите до двух знаков после запятой. Столбец с полученным значением назовите avg_price.\n",
        "\n",
        "Поле в результирующей таблице: avg_price"
      ],
      "metadata": {
        "id": "FaOd5f5G8w1L"
      }
    },
    {
      "cell_type": "code",
      "source": [
        "SELECT ROUND(AVG(p.price), 2) as avg_price\n",
        "FROM products as p\n",
        "WHERE (p.name LIKE '%чай%'\n",
        "OR p.name LIKE '%кофе%')\n",
        "AND (p.name NOT LIKE '%иван-чай%'\n",
        "AND p.name NOT LIKE '%чайный гриб%')"
      ],
      "metadata": {
        "id": "yRXdRgyz8xBU"
      },
      "execution_count": null,
      "outputs": []
    },
    {
      "cell_type": "markdown",
      "source": [
        "<b>Задача 44</b>\n",
        "\n",
        "Воспользуйтесь функцией AGE и рассчитайте разницу в возрасте между самым старым и самым молодым пользователями мужского пола в таблице users.\n",
        "\n",
        "Разницу в возрасте выразите количеством лет, месяцев и дней, переведя её в тип VARCHAR.\n",
        "\n",
        "Колонку с посчитанным значением назовите age_diff.\n",
        "\n",
        "Поле в результирующей таблице: age_diff"
      ],
      "metadata": {
        "id": "C0uTD0O68xK2"
      }
    },
    {
      "cell_type": "code",
      "source": [
        "SELECT AGE(MAX(u.birth_date),MIN(u.birth_date))::VARCHAR as age_diff\n",
        "FROM users as u\n",
        "WHERE u.sex = 'male'"
      ],
      "metadata": {
        "id": "QddIUU1Q8xWh"
      },
      "execution_count": null,
      "outputs": []
    },
    {
      "cell_type": "markdown",
      "source": [
        "<b>Задача 45</b>\n",
        "\n",
        "Рассчитайте среднее количество товаров в заказах из таблицы orders, которые пользователи оформляли по выходным дням (суббота и воскресенье) в течение всего времени работы сервиса.\n",
        "\n",
        "Полученное значение округлите до двух знаков после запятой. Колонку с ним назовите avg_order_size.\n",
        "\n",
        "Поле в результирующей таблице: avg_order_size"
      ],
      "metadata": {
        "id": "n0EjLyhJ8xgd"
      }
    },
    {
      "cell_type": "code",
      "source": [
        "SELECT ROUND(AVG(ARRAY_LENGTH(o.product_ids, 1)), 2) as avg_order_size\n",
        "FROM orders as o\n",
        "WHERE DATE_PART('dow', o.creation_time) IN (6, 0)"
      ],
      "metadata": {
        "id": "UsYYiLCj8xqb"
      },
      "execution_count": null,
      "outputs": []
    },
    {
      "cell_type": "markdown",
      "source": [
        "<b>Задача 46</b>\n",
        "\n",
        "На основе данных в таблице user_actions посчитайте количество уникальных пользователей сервиса, количество уникальных заказов, поделите одно на другое и выясните, сколько заказов приходится на одного пользователя.\n",
        "\n",
        "В результирующей таблице отразите все три значения — поля назовите соответственно unique_users, unique_orders, orders_per_user.\n",
        "\n",
        "Показатель числа заказов на пользователя округлите до двух знаков после запятой.\n",
        "\n",
        "Поля в результирующей таблице: unique_users, unique_orders, orders_per_user"
      ],
      "metadata": {
        "id": "wC2PXzQ9-So1"
      }
    },
    {
      "cell_type": "code",
      "source": [
        "SELECT COUNT(DISTINCT ua.user_id) as unique_users,\n",
        "       COUNT(DISTINCT ua.order_id) as unique_orders,\n",
        "       ROUND(COUNT(DISTINCT ua.order_id)::DECIMAL / COUNT(DISTINCT ua.user_id),\n",
        "             2) as orders_per_user\n",
        "FROM user_actions as ua"
      ],
      "metadata": {
        "id": "fVCO6chT-S7s"
      },
      "execution_count": null,
      "outputs": []
    },
    {
      "cell_type": "markdown",
      "source": [
        "<b>Задача 47</b>\n",
        "\n",
        "Посчитайте, сколько пользователей никогда не отменяли свой заказ. Для этого из общего числа всех уникальных пользователей отнимите число уникальных пользователей, которые хотя бы раз отменяли заказ. Подумайте, какое условие необходимо указать в FILTER, чтобы получить корректный результат.\n",
        "\n",
        "Полученный столбец назовите users_count.\n",
        "\n",
        "Поле в результирующей таблице: users_count"
      ],
      "metadata": {
        "id": "G9ODRdmn-TJW"
      }
    },
    {
      "cell_type": "code",
      "source": [
        "SELECT COUNT(DISTINCT ua.user_id) - COUNT(DISTINCT ua.user_id) FILTER (WHERE ua.action = 'cancel_order') as users_count\n",
        "FROM user_actions as ua"
      ],
      "metadata": {
        "id": "Pz3CNjPr-TZ0"
      },
      "execution_count": null,
      "outputs": []
    },
    {
      "cell_type": "markdown",
      "source": [
        "<b>Задача 48</b>\n",
        "\n",
        "Посчитайте общее количество заказов в таблице orders, количество заказов с пятью и более товарами и найдите долю заказов с пятью и более товарами в общем количестве заказов.\n",
        "\n",
        "В результирующей таблице отразите все три значения — поля назовите соответственно orders, large_orders, large_orders_share.\n",
        "\n",
        "Долю заказов с пятью и более товарами в общем количестве товаров округлите до двух знаков после запятой.\n",
        "\n",
        "Поля в результирующей таблице: orders, large_orders, large_orders_share"
      ],
      "metadata": {
        "id": "S5eV74Tk-TnX"
      }
    },
    {
      "cell_type": "code",
      "source": [
        "SELECT COUNT(o.order_id) as orders,\n",
        "       COUNT(o.order_id)  FILTER (WHERE ARRAY_LENGTH(product_ids, 1) >= 5) as large_orders,\n",
        "       ROUND(COUNT(o.order_id) FILTER (WHERE ARRAY_LENGTH(product_ids, 1) >= 5)::DECIMAL / COUNT(o.order_id),\n",
        "             2) as large_orders_share\n",
        "FROM orders as o"
      ],
      "metadata": {
        "id": "YU5eouCs-TyX"
      },
      "execution_count": null,
      "outputs": []
    },
    {
      "cell_type": "markdown",
      "source": [
        "<b>Задача 49</b>\n",
        "\n",
        "С помощью оператора GROUP BY посчитайте количество курьеров мужского и женского пола в таблице couriers.\n",
        "\n",
        "Новую колонку с числом курьеров назовите couriers_count.\n",
        "\n",
        "Результат отсортируйте по этой колонке по возрастанию.\n",
        "\n",
        "Поля в результирующей таблице: sex, couriers_count"
      ],
      "metadata": {
        "id": "5Q8WEEWCQ_Hq"
      }
    },
    {
      "cell_type": "code",
      "source": [
        "SELECT c.sex,\n",
        "       COUNT(*) as couriers_count\n",
        "FROM couriers as c\n",
        "GROUP BY 1\n",
        "ORDER BY 2"
      ],
      "metadata": {
        "id": "7UaeezJIQ_bv"
      },
      "execution_count": null,
      "outputs": []
    },
    {
      "cell_type": "markdown",
      "source": [
        "<b>Задача 50</b>\n",
        "\n",
        "Посчитайте количество созданных и отменённых заказов в таблице user_actions.\n",
        "\n",
        "Новую колонку с числом заказов назовите orders_count.\n",
        "\n",
        "Результат отсортируйте по числу заказов по возрастанию.\n",
        "\n",
        "Поля в результирующей таблице: action, orders_count"
      ],
      "metadata": {
        "id": "NnyfOHpKQ_ok"
      }
    },
    {
      "cell_type": "code",
      "source": [
        "SELECT ua.action,\n",
        "       COUNT(*) as orders_count\n",
        "FROM user_actions as ua\n",
        "GROUP BY 1\n",
        "ORDER BY 2"
      ],
      "metadata": {
        "id": "j8E-MYkzQ_zb"
      },
      "execution_count": null,
      "outputs": []
    },
    {
      "cell_type": "markdown",
      "source": [
        "<b>Задача 51</b>\n",
        "\n",
        "Используя группировку и функцию DATE_TRUNC, приведите все даты к началу месяца и посчитайте, <br>сколько заказов было сделано в каждом из них.\n",
        "\n",
        "Расчёты проведите по таблице orders. Колонку с усечённой датой назовите month, колонку с количеством заказов — orders_count.\n",
        "\n",
        "Результат отсортируйте по месяцам — по возрастанию.\n",
        "\n",
        "Поля в результирующей таблице: month, orders_count"
      ],
      "metadata": {
        "id": "gGYE-bFxQ_95"
      }
    },
    {
      "cell_type": "code",
      "source": [
        "SELECT DATE_TRUNC('month', o.creation_time) as month,\n",
        "       COUNT(*) as orders_count\n",
        "FROM orders as o\n",
        "GROUP BY 1\n",
        "ORDER BY 2"
      ],
      "metadata": {
        "id": "PfXARjYlRALj"
      },
      "execution_count": null,
      "outputs": []
    },
    {
      "cell_type": "markdown",
      "source": [
        "<b>Задача 52</b>\n",
        "\n",
        "Используя группировку и функцию DATE_TRUNC, приведите все даты к началу месяца и посчитайте, <br>сколько заказов было сделано и сколько было отменено в каждом из них.\n",
        "\n",
        "В этот раз расчёты проведите по таблице user_actions. <br>Колонку с усечённой датой назовите month, колонку с количеством заказов — orders_count.\n",
        "\n",
        "Результат отсортируйте сначала по месяцам — по возрастанию, затем по типу действия — тоже по возрастанию.\n",
        "\n",
        "Поля в результирующей таблице: month, action, orders_count"
      ],
      "metadata": {
        "id": "KVsx4Qw0RAXH"
      }
    },
    {
      "cell_type": "code",
      "source": [
        "SELECT DATE_TRUNC('month', ua.time) as month,\n",
        "       ua.action,\n",
        "       COUNT(*) as orders_count\n",
        "FROM user_actions as ua\n",
        "GROUP BY 1, 2\n",
        "ORDER BY 1, 2"
      ],
      "metadata": {
        "id": "QGa4V3MWRAhn"
      },
      "execution_count": null,
      "outputs": []
    },
    {
      "cell_type": "markdown",
      "source": [
        "<b>Задача 53</b>\n",
        "\n",
        "По данным в таблице users посчитайте максимальный порядковый номер месяца среди всех порядковых номеров месяцев рождения пользователей сервиса. С помощью группировки проведите расчёты отдельно в двух группах — для пользователей мужского и женского пола.\n",
        "\n",
        "Новую колонку с максимальным номером месяца рождения в группах назовите max_month. Преобразуйте значения в новой колонке в формат INTEGER, чтобы порядковый номер был выражен целым числом.\n",
        "\n",
        "Результат отсортируйте по колонке с полом пользователей.\n",
        "\n",
        "Поля в результирующей таблице: sex, max_month"
      ],
      "metadata": {
        "id": "2ftNOv8aRAtW"
      }
    },
    {
      "cell_type": "code",
      "source": [
        "SELECT u.sex,\n",
        "       MAX(DATE_PART('month', u.birth_date))::integer as max_month\n",
        "FROM users as u\n",
        "GROUP BY 1\n",
        "ORDER BY 1"
      ],
      "metadata": {
        "id": "Itcy6eKLRA39"
      },
      "execution_count": null,
      "outputs": []
    },
    {
      "cell_type": "markdown",
      "source": [
        "<b>Задача 54</b>\n",
        "\n",
        "По данным в таблице users посчитайте порядковый номер месяца рождения самого молодого пользователя сервиса. С помощью группировки проведите расчёты отдельно в двух группах — для пользователей мужского и женского пола.\n",
        "\n",
        "Новую колонку с максимальным номером месяца рождения в группах назовите max_month. Преобразуйте значения в новой колонке в формат INTEGER, чтобы порядковый номер был выражен целым числом.\n",
        "\n",
        "Результат отсортируйте по колонке с полом пользователей.\n",
        "\n",
        "Поля в результирующей таблице: sex, max_month"
      ],
      "metadata": {
        "id": "hZy5CzjgRBCg"
      }
    },
    {
      "cell_type": "code",
      "source": [
        "SELECT u.sex,\n",
        "       DATE_PART('month', max(u.birth_date))::integer as max_month\n",
        "FROM users as u\n",
        "GROUP BY 1\n",
        "ORDER BY 1"
      ],
      "metadata": {
        "id": "oD0bEwUHRBNX"
      },
      "execution_count": null,
      "outputs": []
    },
    {
      "cell_type": "markdown",
      "source": [
        "<b>Задача 55</b>\n",
        "\n",
        "Посчитайте максимальный возраст пользователей мужского и женского пола в таблице users. Возраст измерьте числом полных лет.\n",
        "\n",
        "Новую колонку с возрастом назовите max_age. Преобразуйте значения в новой колонке в формат INTEGER, чтобы возраст был выражен целым числом.\n",
        "\n",
        "Результат отсортируйте по новой колонке по возрастанию возраста.\n",
        "\n",
        "Поля в результирующей таблице: sex, max_age"
      ],
      "metadata": {
        "id": "thYA0u3_RBWy"
      }
    },
    {
      "cell_type": "code",
      "source": [
        "SELECT u.sex,\n",
        "       DATE_PART('year', MAX(AGE(current_date, u.birth_date)))::integer as max_age\n",
        "FROM users as u\n",
        "GROUP BY 1\n",
        "ORDER BY 2"
      ],
      "metadata": {
        "id": "mSN3usZTRBgk"
      },
      "execution_count": null,
      "outputs": []
    },
    {
      "cell_type": "markdown",
      "source": [
        "<b>Задача 56</b>\n",
        "\n",
        "Разбейте пользователей из таблицы users на группы по возрасту (возраст по-прежнему измеряем числом полных лет) и посчитайте количество пользователей каждого возраста.\n",
        "\n",
        "Колонку с возрастом назовите age, а колонку с числом пользователей — users_count. Преобразуйте значения в колонке с возрастом в формат INTEGER, чтобы возраст был выражен целым числом.\n",
        "\n",
        "Результат отсортируйте по колонке с возрастом по возрастанию.\n",
        "\n",
        "Поля в результирующей таблице: age, users_count"
      ],
      "metadata": {
        "id": "zP9SPFc3RBp1"
      }
    },
    {
      "cell_type": "code",
      "source": [
        "SELECT DATE_PART('year', AGE(current_date, u.birth_date))::integer as age,\n",
        "       COUNT(*) as users_count\n",
        "FROM users as u\n",
        "GROUP BY 1\n",
        "ORDER BY 1"
      ],
      "metadata": {
        "id": "3gH5WCOtRBzV"
      },
      "execution_count": null,
      "outputs": []
    },
    {
      "cell_type": "markdown",
      "source": [
        "<b>Задача 57</b>\n",
        "\n",
        "Вновь разбейте пользователей из таблицы users на группы по возрасту (возраст по-прежнему измеряем количеством полных лет), только теперь добавьте в группировку ещё и пол пользователя. Затем посчитайте количество пользователей в каждой половозрастной группе.\n",
        "\n",
        "Все NULL значения в колонке birth_date заранее отфильтруйте с помощью WHERE.\n",
        "\n",
        "Колонку с возрастом назовите age, а колонку с числом пользователей — users_count, имя колонки с полом оставьте без изменений. Преобразуйте значения в колонке с возрастом в формат INTEGER, чтобы возраст был выражен целым числом.\n",
        "\n",
        "Отсортируйте полученную таблицу сначала по колонке с возрастом по возрастанию, затем по колонке с полом — тоже по возрастанию.\n",
        "\n",
        "Поля в результирующей таблице: age, sex, users_count"
      ],
      "metadata": {
        "id": "QnBfZSkgRB8b"
      }
    },
    {
      "cell_type": "code",
      "source": [
        "SELECT DATE_PART('year', AGE(current_date, u.birth_date))::integer as age,\n",
        "       u.sex,\n",
        "       COUNT(*) as users_count\n",
        "FROM users as u\n",
        "WHERE u.birth_date is not null\n",
        "GROUP BY 1, 2\n",
        "ORDER BY 1, 2"
      ],
      "metadata": {
        "id": "x2-8BXy8RCF1"
      },
      "execution_count": null,
      "outputs": []
    },
    {
      "cell_type": "markdown",
      "source": [
        "<b>Задача 58</b>\n",
        "\n",
        "Посчитайте количество товаров в каждом заказе, примените к этим значениям группировку и рассчитайте количество заказов в каждой группе за неделю с 29 августа по 4 сентября 2022 года включительно. Для расчётов используйте данные из таблицы orders.\n",
        "\n",
        "Выведите две колонки: размер заказа и число заказов такого размера за указанный период. Колонки назовите соответственно order_size и orders_count.\n",
        "\n",
        "Результат отсортируйте по возрастанию размера заказа.\n",
        "\n",
        "Поля в результирующей таблице: order_size, orders_count"
      ],
      "metadata": {
        "id": "OBzs7SRLRCOr"
      }
    },
    {
      "cell_type": "code",
      "source": [
        "SELECT array_length(o.product_ids, 1) as order_size,\n",
        "       COUNT(*) as orders_count\n",
        "FROM orders as o\n",
        "WHERE o.creation_time BETWEEN '2022-08-29' AND '2022-09-05'\n",
        "GROUP BY 1\n",
        "ORDER BY 1"
      ],
      "metadata": {
        "id": "qSs352dLRCYB"
      },
      "execution_count": null,
      "outputs": []
    },
    {
      "cell_type": "markdown",
      "source": [
        "<b>Задача 59</b>\n",
        "\n",
        "Посчитайте количество товаров в каждом заказе, примените к этим значениям группировку и рассчитайте количество заказов в каждой группе. Учитывайте только заказы, оформленные по будням. В результат включите только те размеры заказов, общее число которых превышает 2000. Для расчётов используйте данные из таблицы orders.\n",
        "\n",
        "Выведите две колонки: размер заказа и число заказов такого размера. Колонки назовите соответственно order_size и orders_count.\n",
        "\n",
        "Результат отсортируйте по возрастанию размера заказа.\n",
        "\n",
        "Поля в результирующей таблице: order_size, orders_count\n",
        "\n",
        "Когда решите эту задачу, вернитесь к одной из предыдущих и подумайте, могли бы мы ещё каким-то способом сделать так, чтобы в результат не попала группа с NULL значениями. Можете самостоятельно написать ещё один запрос и попробовать сдать его в качестве альтернативного решения."
      ],
      "metadata": {
        "id": "acvxKvIWRCgX"
      }
    },
    {
      "cell_type": "code",
      "source": [
        "SELECT array_length(o.product_ids, 1) as order_size,\n",
        "       COUNT(*) as orders_count\n",
        "FROM orders as o\n",
        "WHERE DATE_PART('isodow', o.creation_time)::integer BETWEEN 1 AND 5\n",
        "GROUP BY 1\n",
        "HAVING COUNT(*) > 2000\n",
        "ORDER BY 1"
      ],
      "metadata": {
        "id": "msR0Z282RCtY"
      },
      "execution_count": null,
      "outputs": []
    },
    {
      "cell_type": "markdown",
      "source": [
        "<b>Задача 60</b>\n",
        "\n",
        "По данным из таблицы user_actions определите пять пользователей, сделавших в августе 2022 года наибольшее количество заказов.\n",
        "\n",
        "Выведите две колонки — id пользователей и число оформленных ими заказов. Колонку с числом оформленных заказов назовите created_orders.\n",
        "\n",
        "Результат отсортируйте сначала по убыванию числа заказов, сделанных пятью пользователями, затем по возрастанию id этих пользователей.\n",
        "\n",
        "Поля в результирующей таблице: user_id, created_orders"
      ],
      "metadata": {
        "id": "8zX-nQN6RC1v"
      }
    },
    {
      "cell_type": "code",
      "source": [
        "SELECT ua.user_id,\n",
        "       COUNT(*) as created_orders\n",
        "FROM user_actions as ua\n",
        "WHERE ua.action = 'create_order'\n",
        "AND DATE_PART('month', ua.time) = 8\n",
        "GROUP BY 1\n",
        "ORDER BY 2 DESC, 1\n",
        "LIMIT 5"
      ],
      "metadata": {
        "id": "iDk532XnRC_q"
      },
      "execution_count": null,
      "outputs": []
    },
    {
      "cell_type": "markdown",
      "source": [
        "<b>Задача 61</b>\n",
        "\n",
        "А теперь по данным таблицы courier_actions определите курьеров, которые в сентябре 2022 года доставили только по одному заказу.\n",
        "\n",
        "В этот раз выведите всего одну колонку с id курьеров. Колонку с числом заказов в результат включать не нужно.\n",
        "\n",
        "Результат отсортируйте по возрастанию id курьера.\n",
        "\n",
        "Поле в результирующей таблице: courier_id"
      ],
      "metadata": {
        "id": "a24E0Hx8LWOn"
      }
    },
    {
      "cell_type": "code",
      "source": [
        "SELECT ca.courier_id\n",
        "FROM courier_actions as ca\n",
        "WHERE DATE_PART('month', ca.time) = 9\n",
        "AND DATE_PART('year', ca.time) = 2022\n",
        "AND ca.action = 'deliver_order'\n",
        "GROUP BY 1\n",
        "HAVING COUNT(DISTINCT ca.order_id) = 1\n",
        "ORDER BY 1"
      ],
      "metadata": {
        "id": "Fp7nCdfJLeK2"
      },
      "execution_count": null,
      "outputs": []
    },
    {
      "cell_type": "markdown",
      "source": [
        "<b>Задача 62</b>\n",
        "\n",
        "Из таблицы user_actions отберите пользователей, у которых последний заказ был создан до 8 сентября 2022 года.\n",
        "\n",
        "Выведите только их id, дату создания заказа выводить не нужно.\n",
        "\n",
        "Результат отсортируйте по возрастанию id пользователя.\n",
        "\n",
        "Поле в результирующей таблице: user_id"
      ],
      "metadata": {
        "id": "5ZRGDGhWLWq0"
      }
    },
    {
      "cell_type": "code",
      "source": [
        "SELECT ua.user_id\n",
        "FROM user_actions as ua\n",
        "WHERE ua.action = 'create_order'\n",
        "GROUP BY 1\n",
        "HAVING MAX(ua.time) < '2022-09-08'\n",
        "ORDER BY 1"
      ],
      "metadata": {
        "id": "w5_kvxjlLgEt"
      },
      "execution_count": null,
      "outputs": []
    },
    {
      "cell_type": "markdown",
      "source": [
        "<b>Задача 63</b>\n",
        "\n",
        "По данным из таблицы orders рассчитайте средний размер заказа по выходным и по будням.\n",
        "\n",
        "Группу с выходными днями (суббота и воскресенье) назовите «weekend», а группу с будними днями (с понедельника по пятницу) — «weekdays» (без кавычек).\n",
        "\n",
        "В результат включите две колонки: колонку с группами назовите week_part, а колонку со средним размером заказа — avg_order_size.\n",
        "\n",
        "Средний размер заказа округлите до двух знаков после запятой.\n",
        "\n",
        "Результат отсортируйте по колонке со средним размером заказа — по возрастанию.\n",
        "\n",
        "Поля в результирующей таблице: week_part, avg_order_size"
      ],
      "metadata": {
        "id": "suR3qSCkLXBG"
      }
    },
    {
      "cell_type": "code",
      "source": [
        "SELECT\n",
        "      CASE\n",
        "      WHEN DATE_PART('dow', o.creation_time) BETWEEN 1 AND 5 THEN 'weekdays'\n",
        "      WHEN DATE_PART('dow', o.creation_time) IN (6, 0) THEN 'weekend'\n",
        "      END as week_part,\n",
        "      ROUND(AVG(ARRAY_LENGTH(o.product_ids, 1)), 2) as avg_order_size\n",
        "FROM orders as o\n",
        "GROUP BY 1\n",
        "ORDER BY 2"
      ],
      "metadata": {
        "id": "NupPTzMSLXLY"
      },
      "execution_count": null,
      "outputs": []
    },
    {
      "cell_type": "markdown",
      "source": [
        "<b>Задача 64</b>\n",
        "\n",
        "Разбейте пользователей из таблицы users на 4 возрастные группы:\n",
        "\n",
        "от 19 до 24 лет;<br>\n",
        "от 25 до 29 лет;<br>\n",
        "от 30 до 35 лет;<br>\n",
        "от 36 до 41 года.<br>\n",
        "Посчитайте число пользователей, попавших в каждую возрастную группу. Группы назовите соответственно «19-24», «25-29», «30-35», «36-41» (без кавычек).\n",
        "\n",
        "Выведите наименования групп и число пользователей в них. Колонку с наименованием групп назовите group_age, а колонку с числом пользователей — users_count.\n",
        "\n",
        "Отсортируйте полученную таблицу по колонке с наименованием групп по возрастанию.\n",
        "\n",
        "Поля в результирующей таблице: group_age, users_count"
      ],
      "metadata": {
        "id": "xJycyrmHLXVC"
      }
    },
    {
      "cell_type": "code",
      "source": [
        "SELECT\n",
        "      CASE\n",
        "      WHEN DATE_PART('year', AGE(current_date, u.birth_date))::integer BETWEEN 19 AND 24 THEN '19-24'\n",
        "      WHEN DATE_PART('year', AGE(current_date, u.birth_date))::integer BETWEEN 25 and 29 THEN '25-29'\n",
        "      WHEN DATE_PART('year', AGE(current_date, u.birth_date))::integer BETWEEN 30 and 35 THEN '30-35'\n",
        "      WHEN DATE_PART('year', AGE(current_date, u.birth_date))::integer BETWEEN 36 and 41 THEN '36-41'\n",
        "      END as group_age,\n",
        "      COUNT(u.user_id) as users_count\n",
        "FROM users as u\n",
        "WHERE u.birth_date IS NOT NULL\n",
        "GROUP BY 1\n",
        "ORDER BY 1"
      ],
      "metadata": {
        "id": "XvsuQ4TOLXfB"
      },
      "execution_count": null,
      "outputs": []
    },
    {
      "cell_type": "markdown",
      "source": [
        "<b>Задача 65</b>\n",
        "\n",
        "Для каждого пользователя в таблице user_actions посчитайте общее количество оформленных заказов и долю отменённых заказов.\n",
        "\n",
        "Новые колонки назовите соответственно orders_count и cancel_rate. Колонку с долей отменённых заказов округлите до двух знаков после запятой.\n",
        "\n",
        "В результат включите только тех пользователей, которые оформили больше трёх заказов и у которых показатель cancel_rate составляет не менее 0.5.\n",
        "\n",
        "Результат отсортируйте по возрастанию id пользователя.\n",
        "\n",
        "Поля в результирующей таблице: user_id, orders_count, cancel_rate"
      ],
      "metadata": {
        "id": "WT9bYIvsLXoZ"
      }
    },
    {
      "cell_type": "code",
      "source": [
        "SELECT ua.user_id,\n",
        "       COUNT(DISTINCT ua.order_id) as orders_count,\n",
        "       ROUND(COUNT(DISTINCT ua.order_id) FILTER(WHERE ua.action = 'cancel_order')::decimal / COUNT(DISTINCT ua.order_id), 2) as cancel_rate\n",
        "FROM user_actions as ua\n",
        "GROUP BY 1\n",
        "HAVING COUNT(DISTINCT ua.order_id) > 3\n",
        "AND ROUND(COUNT(DISTINCT ua.order_id) FILTER(WHERE  ua.action = 'cancel_order')::decimal / COUNT(DISTINCT ua.order_id), 2) >= 0.5\n",
        "ORDER BY 1"
      ],
      "metadata": {
        "id": "EaqmhOUNLXxz"
      },
      "execution_count": null,
      "outputs": []
    },
    {
      "cell_type": "markdown",
      "source": [
        "<b>Задача 66</b>\n",
        "\n",
        "Для каждого дня недели в таблице user_actions посчитайте:\n",
        "\n",
        "Общее количество оформленных заказов.<br>\n",
        "Общее количество отменённых заказов.<br>\n",
        "Общее количество неотменённых заказов (т.е. доставленных).<br>\n",
        "Долю неотменённых заказов в общем числе заказов (success rate).<br>\n",
        "Новые колонки назовите соответственно created_orders, canceled_orders, actual_orders и success_rate. Колонку с долей неотменённых заказов округлите до трёх знаков после запятой.\n",
        "\n",
        "Все расчёты проводите за период с 24 августа по 6 сентября 2022 года включительно, чтобы во временной интервал попало равное количество разных дней недели."
      ],
      "metadata": {
        "id": "E8U-EvekLX6I"
      }
    },
    {
      "cell_type": "code",
      "source": [
        "SELECT DATE_PART('isodow', ua.time)::integer as weekday_number,\n",
        "       TO_CHAR(ua.time, 'Dy') as weekday,\n",
        "       COUNT(DISTINCT ua.order_id) FILTER (WHERE ua.action = 'create_order') as created_orders,\n",
        "       COUNT(DISTINCT ua.order_id) FILTER (WHERE ua.action = 'cancel_order') as canceled_orders,\n",
        "       COUNT(DISTINCT ua.order_id) FILTER (WHERE ua.action = 'create_order') - COUNT(DISTINCT ua.order_id) FILTER (WHERE ua.action = 'cancel_order') as actual_orders,\n",
        "       ROUND((COUNT(DISTINCT ua.order_id) FILTER (WHERE ua.action = 'create_order') - COUNT(DISTINCT ua.order_id) FILTER (WHERE ua.action = 'cancel_order'))::decimal / COUNT(DISTINCT ua.order_id) FILTER (WHERE ua.action = 'create_order'), 3) as success_rate\n",
        "FROM user_actions as ua\n",
        "WHERE ua.time BETWEEN '2022-08-24'\n",
        "AND '2022-09-07'\n",
        "GROUP BY 1, 2\n",
        "ORDER BY 1"
      ],
      "metadata": {
        "id": "qVpLWZKXLYHI"
      },
      "execution_count": null,
      "outputs": []
    }
  ]
}