{
  "nbformat": 4,
  "nbformat_minor": 0,
  "metadata": {
    "colab": {
      "provenance": []
    },
    "kernelspec": {
      "name": "python3",
      "display_name": "Python 3"
    },
    "language_info": {
      "name": "python"
    }
  },
  "cells": [
    {
      "cell_type": "markdown",
      "source": [
        "ССЫЛКА НА ИСТОЧНИК ЗАДАЧ: https://karpov.courses/simulator-sql"
      ],
      "metadata": {
        "id": "LusNnATXsbmN"
      }
    },
    {
      "cell_type": "markdown",
      "source": [
        "<b>Задача 1</b>\n",
        "\n",
        "Выведите все записи из таблицы products.\n",
        "\n",
        "Поля в результирующей таблице: product_id, name, price\n"
      ],
      "metadata": {
        "id": "AdFIOz6-o-M4"
      }
    },
    {
      "cell_type": "code",
      "execution_count": null,
      "metadata": {
        "id": "GU074YSEncWV"
      },
      "outputs": [],
      "source": [
        "SELECT *\n",
        "FROM products as p"
      ]
    },
    {
      "cell_type": "markdown",
      "source": [
        "<b>Задача 2</b>\n",
        "\n",
        "Выведите все записи из таблицы products, отсортировав их по наименованиям товаров в алфавитном порядке, т.е. по возрастанию.\n",
        "\n",
        "Поля в результирующей таблице: product_id, name, price"
      ],
      "metadata": {
        "id": "ePMC5ScepeIf"
      }
    },
    {
      "cell_type": "code",
      "source": [
        "SELECT *\n",
        "FROM products as p\n",
        "ORDER BY p.name"
      ],
      "metadata": {
        "id": "3dzQ_pInpUYU"
      },
      "execution_count": null,
      "outputs": []
    },
    {
      "cell_type": "markdown",
      "source": [
        "<b>Задача 3</b>\n",
        "\n",
        "Отсортируйте таблицу courier_actions сначала по колонке courier_id по возрастанию id курьера, потом по колонке action, а затем по колонке time, но уже по убыванию — от самого последнего действия к самому первому.\n",
        "\n",
        "Добавьте в запрос оператор LIMIT и выведите только первые 1000 строк результирующей таблицы.\n",
        "\n",
        "Поля в результирующей таблице: courier_id, order_id, action, time"
      ],
      "metadata": {
        "id": "1Y6xCsAVpjNb"
      }
    },
    {
      "cell_type": "code",
      "source": [
        "SELECT *\n",
        "FROM courier_actions as ca\n",
        "ORDER BY ca.courier_id, ca.action, ca.time DESC\n",
        "LIMIT 1000"
      ],
      "metadata": {
        "id": "50HH2FxIpjX8"
      },
      "execution_count": null,
      "outputs": []
    },
    {
      "cell_type": "markdown",
      "source": [
        "<b>Задача 4</b>\n",
        "\n",
        "Используя операторы SELECT, FROM, ORDER BY и LIMIT, определите 5 самых дорогих товаров в таблице products, которые доставляет наш сервис. Выведите их наименования и цену.\n",
        "\n",
        "Поля в результирующей таблице: name, price"
      ],
      "metadata": {
        "id": "Zp0FS-rbpjh-"
      }
    },
    {
      "cell_type": "code",
      "source": [
        "SELECT p.name, p.price\n",
        "FROM products as p\n",
        "ORDER BY p.price DESC\n",
        "LIMIT 5"
      ],
      "metadata": {
        "id": "6jKNYp2upjqG"
      },
      "execution_count": null,
      "outputs": []
    },
    {
      "cell_type": "markdown",
      "source": [
        "<b>Задача 5</b>\n",
        "\n",
        "Повторите запрос из предыдущего задания, но теперь колонки name и price переименуйте соответственно в product_name и product_price.\n",
        "\n",
        "Поля в результирующей таблице: product_name, product_price"
      ],
      "metadata": {
        "id": "RWLuL46Upjxr"
      }
    },
    {
      "cell_type": "code",
      "source": [
        "SELECT p.name as product_name, p.price as product_price\n",
        "FROM products as p\n",
        "ORDER BY p.price DESC\n",
        "LIMIT 5"
      ],
      "metadata": {
        "id": "BzaB6quCpj6D"
      },
      "execution_count": null,
      "outputs": []
    },
    {
      "cell_type": "markdown",
      "source": [
        "<b>Задача 6</b>\n",
        "\n",
        "Используя операторы SELECT, FROM, ORDER BY и LIMIT, а также функцию LENGTH, определите товар с самым длинным названием в таблице products. Выведите его наименование, длину наименования в символах, а также цену этого товара. Колонку с длиной наименования в символах назовите name_length.\n",
        "\n",
        "Поля в результирующей таблице: name, name_length, price"
      ],
      "metadata": {
        "id": "GbfHVGd-pkAX"
      }
    },
    {
      "cell_type": "code",
      "source": [
        "SELECT p.name,\n",
        "       length(p.name) as name_length,\n",
        "       p.price\n",
        "FROM   products as p\n",
        "ORDER BY 2 desc\n",
        "LIMIT 1"
      ],
      "metadata": {
        "id": "-_U6YtODpkGx"
      },
      "execution_count": null,
      "outputs": []
    },
    {
      "cell_type": "markdown",
      "source": [
        "<b>Задача 7</b>\n",
        "\n",
        "Примените последовательно функции UPPER и SPLIT_PART к колонке name и преобразуйте наименования товаров в таблице products так, чтобы от названий осталось только первое слово, записанное в верхнем регистре. Колонку с новым названием, состоящим из первого слова, назовите first_word.\n",
        "\n",
        "В результат включите исходные наименования товаров, новые наименования из первого слова, а также цену товаров. Результат отсортируйте по возрастанию исходного наименования товара в колонке name.\n",
        "\n",
        "Поля в результирующей таблице: name, first_word, price"
      ],
      "metadata": {
        "id": "39-mqg6TpkND"
      }
    },
    {
      "cell_type": "code",
      "source": [
        "SELECT p.name,\n",
        "       UPPER(SPLIT_PART(p.name, ' ', 1)) as first_word,\n",
        "       p.price\n",
        "FROM products as p\n",
        "ORDER BY p.name"
      ],
      "metadata": {
        "id": "f60_HHX1pkUg"
      },
      "execution_count": null,
      "outputs": []
    },
    {
      "cell_type": "markdown",
      "source": [
        "<b>Задача 8</b>\n",
        "\n",
        "Измените тип колонки price из таблицы products на VARCHAR. Выведите колонки с наименованием товаров, ценой в исходном формате и ценой в формате VARCHAR. Новую колонку с ценой в новом формате назовите price_char.\n",
        "\n",
        "Результат отсортируйте по возрастанию исходного наименования товара в колонке name. Количество выводимых записей не ограничивайте.\n",
        "\n",
        "Поле в результирующей таблице: name, price, price_char"
      ],
      "metadata": {
        "id": "qkLs8Ntzpkbc"
      }
    },
    {
      "cell_type": "code",
      "source": [
        "SELECT p.name,\n",
        "       p.price,\n",
        "       p.price::VARCHAR as price_char\n",
        "FROM products as p\n",
        "ORDER BY p.name"
      ],
      "metadata": {
        "id": "fUdupYyFpklD"
      },
      "execution_count": null,
      "outputs": []
    },
    {
      "cell_type": "markdown",
      "source": [
        "<b>Задача 9</b>\n",
        "\n",
        "Для первых 200 записей из таблицы orders выведите информацию в следующем виде (обратите внимание на пробелы):\n",
        "\n",
        "Заказ № [id_заказа] создан [дата]\n",
        "\n",
        "Полученную колонку назовите order_info."
      ],
      "metadata": {
        "id": "F0aB4vs9pkqJ"
      }
    },
    {
      "cell_type": "code",
      "source": [
        "SELECT CONCAT('Заказ № ', o.order_id, ' создан ', o.creation_time::DATE) as order_info\n",
        "FROM orders as o\n",
        "LIMIT 200"
      ],
      "metadata": {
        "id": "GnJDQuDOpkwH"
      },
      "execution_count": null,
      "outputs": []
    },
    {
      "cell_type": "markdown",
      "source": [
        "<b>Задача 10</b>\n",
        "\n",
        "Выведите id всех курьеров и их годы рождения из таблицы couriers.\n",
        "\n",
        "Год рождения необходимо получить из колонки birth_date. Новую колонку с годом назовите birth_year. Результат отсортируйте сначала по убыванию года рождения курьера (т.е. от самых младших к самым старшим), затем по возрастанию id курьера.\n",
        "\n",
        "Поля в результирующей таблице: courier_id, birth_year"
      ],
      "metadata": {
        "id": "l1WdIIdTpk0y"
      }
    },
    {
      "cell_type": "code",
      "source": [
        "SELECT c.courier_id,\n",
        "       DATE_PART('YEAR', c.birth_date) as birth_year\n",
        "FROM couriers as c\n",
        "ORDER BY 2 DESC, 1"
      ],
      "metadata": {
        "id": "uoGklX9rpk5u"
      },
      "execution_count": null,
      "outputs": []
    },
    {
      "cell_type": "markdown",
      "source": [
        "<b>Задача 11</b>\n",
        "\n",
        "Как и в предыдущем задании, снова выведите id всех курьеров и их годы рождения, только теперь к извлеченному году примените функцию COALESCE. Укажите параметры функции так, чтобы вместо NULL значений в результат попадало текстовое значение unknown. Названия полей оставьте прежними.\n",
        "\n",
        "Отсортируйте итоговую таблицу сначала по убыванию года рождения курьера, затем по возрастанию id курьера.\n",
        "\n",
        "Поля в результирующей таблице: courier_id, birth_year"
      ],
      "metadata": {
        "id": "NIY83dg5pk-3"
      }
    },
    {
      "cell_type": "code",
      "source": [
        "SELECT c.courier_id,\n",
        "       COALESCE(DATE_PART('YEAR', c.birth_date)::varchar, 'unknown') as birth_year\n",
        "FROM couriers as c\n",
        "ORDER BY 2 DESC, 1"
      ],
      "metadata": {
        "id": "r4iAVh5RplFH"
      },
      "execution_count": null,
      "outputs": []
    },
    {
      "cell_type": "markdown",
      "source": [
        "<b>Задача 12</b>\n",
        "\n",
        "Давайте представим, что по какой-то необъяснимой причине мы вдруг решили в одночасье повысить цену всех товаров в таблице products на 5%.\n",
        "\n",
        "Выведите id и наименования всех товаров, их старую и новую цену. Колонку со старой ценой назовите old_price, а колонку с новой — new_price.\n",
        "\n",
        "Результат отсортируйте сначала по убыванию новой цены, затем по возрастанию id товара.\n",
        "\n",
        "Поля в результирующей таблице: product_id, name, old_price, new_price"
      ],
      "metadata": {
        "id": "zeWDaAQzqtrt"
      }
    },
    {
      "cell_type": "code",
      "source": [
        "SELECT p.product_id,\n",
        "       p.name,\n",
        "       p.price as old_price,\n",
        "       p.price * 1.05 as new_price\n",
        "FROM products as p\n",
        "ORDER BY 4 DESC, 1"
      ],
      "metadata": {
        "id": "7YTubkRxquVQ"
      },
      "execution_count": null,
      "outputs": []
    },
    {
      "cell_type": "markdown",
      "source": [
        "<b>Задача 13</b>\n",
        "\n",
        "Вновь, как и в прошлом задании, повысьте цену всех товаров на 5%, только теперь к колонке с новой ценой примените функцию ROUND. Выведите id и наименования товаров, их старую цену, а также новую цену с округлением. Новую цену округлите до одного знака после запятой, но тип данных не меняйте.\n",
        "\n",
        "Результат отсортируйте сначала по убыванию новой цены, затем по возрастанию id товара.\n",
        "\n",
        "Поля в результирующей таблице: product_id, name, old_price, new_price\n",
        "\n"
      ],
      "metadata": {
        "id": "0R7AhmknqucJ"
      }
    },
    {
      "cell_type": "code",
      "source": [
        "SELECT p.product_id,\n",
        "       p.name,\n",
        "       p.price as old_price,\n",
        "       ROUND(p.price * 1.05, 1) as new_price\n",
        "FROM products as p\n",
        "ORDER BY 4 DESC, 1"
      ],
      "metadata": {
        "id": "ylYid4n6qxxH"
      },
      "execution_count": null,
      "outputs": []
    },
    {
      "cell_type": "markdown",
      "source": [
        "<b>Задача 14</b>\n",
        "\n",
        "Повысьте цену на 5% только на те товары, цена которых превышает 100 рублей. Цену остальных товаров оставьте без изменений. Также не повышайте цену на икру, которая и так стоит 800 рублей. Выведите id и наименования всех товаров, их старую и новую цену. Цену округлять не нужно.\n",
        "\n",
        "Результат отсортируйте сначала по убыванию новой цены, затем по возрастанию id товара.\n",
        "\n",
        "Поля в результирующей таблице: product_id, name, old_price, new_price"
      ],
      "metadata": {
        "id": "ueo_Tnk9qyDM"
      }
    },
    {
      "cell_type": "code",
      "source": [
        "SELECT p.product_id,\n",
        "       p.name,\n",
        "       p.price as old_price,\n",
        "       CASE\n",
        "       WHEN p.price > 100 AND p.name != 'икра' THEN p.price * 1.05\n",
        "       ELSE p.price END as new_price\n",
        "FROM products as p\n",
        "ORDER BY 4 DESC, 1"
      ],
      "metadata": {
        "id": "a2EsYGd6qyQr"
      },
      "execution_count": null,
      "outputs": []
    },
    {
      "cell_type": "markdown",
      "source": [
        "<b>Задача 15</b>\n",
        "\n",
        "Вычислите НДС каждого товара в таблице products и рассчитайте цену без учёта НДС. Выведите всю информацию о товарах, включая сумму налога и цену без его учёта. Колонки с суммой налога и ценой без НДС назовите соответственно tax и price_before_tax. Округлите значения в этих колонках до двух знаков после запятой.\n",
        "\n",
        "Результат отсортируйте сначала по убыванию цены товара без учёта НДС, затем по возрастанию id товара.\n",
        "\n",
        "Поля в результирующей таблице: product_id, name, price, tax, price_before_tax"
      ],
      "metadata": {
        "id": "km55nUwFqyi1"
      }
    },
    {
      "cell_type": "code",
      "source": [
        "SELECT p.product_id,\n",
        "       p.name,\n",
        "       p.price,\n",
        "       ROUND(p.price / 120 * 20, 2) as tax,\n",
        "       ROUND(p.price - p.price / 120 * 20, 2) as price_before_tax\n",
        "FROM products as p\n",
        "ORDER BY 5 DESC, 1"
      ],
      "metadata": {
        "id": "ist7QKlDqyvn"
      },
      "execution_count": null,
      "outputs": []
    }
  ]
}