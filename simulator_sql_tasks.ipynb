{
  "nbformat": 4,
  "nbformat_minor": 0,
  "metadata": {
    "colab": {
      "provenance": [],
      "authorship_tag": "ABX9TyPXa6HuXtyZERB/cpuabIZQ"
    },
    "kernelspec": {
      "name": "python3",
      "display_name": "Python 3"
    },
    "language_info": {
      "name": "python"
    }
  },
  "cells": [
    {
      "cell_type": "markdown",
      "source": [
        "ССЫЛКА НА ИСТОЧНИК ЗАДАЧ: https://karpov.courses/simulator-sql"
      ],
      "metadata": {
        "id": "LusNnATXsbmN"
      }
    },
    {
      "cell_type": "markdown",
      "source": [
        "<b>Задача 1</b>\n",
        "\n",
        "Выведите все записи из таблицы products.\n",
        "\n",
        "Поля в результирующей таблице: product_id, name, price\n"
      ],
      "metadata": {
        "id": "AdFIOz6-o-M4"
      }
    },
    {
      "cell_type": "code",
      "execution_count": null,
      "metadata": {
        "id": "GU074YSEncWV"
      },
      "outputs": [],
      "source": [
        "SELECT *\n",
        "FROM products as p"
      ]
    },
    {
      "cell_type": "markdown",
      "source": [
        "<b>Задача 2</b>\n",
        "\n",
        "Выведите все записи из таблицы products, отсортировав их по наименованиям товаров в алфавитном порядке, т.е. по возрастанию.\n",
        "\n",
        "Поля в результирующей таблице: product_id, name, price"
      ],
      "metadata": {
        "id": "ePMC5ScepeIf"
      }
    },
    {
      "cell_type": "code",
      "source": [
        "SELECT *\n",
        "FROM products as p\n",
        "ORDER BY p.name"
      ],
      "metadata": {
        "id": "3dzQ_pInpUYU"
      },
      "execution_count": null,
      "outputs": []
    },
    {
      "cell_type": "markdown",
      "source": [
        "<b>Задача 3</b>\n",
        "\n",
        "Отсортируйте таблицу courier_actions сначала по колонке courier_id по возрастанию id курьера, потом по колонке action, а затем по колонке time, но уже по убыванию — от самого последнего действия к самому первому.\n",
        "\n",
        "Добавьте в запрос оператор LIMIT и выведите только первые 1000 строк результирующей таблицы.\n",
        "\n",
        "Поля в результирующей таблице: courier_id, order_id, action, time"
      ],
      "metadata": {
        "id": "1Y6xCsAVpjNb"
      }
    },
    {
      "cell_type": "code",
      "source": [
        "SELECT *\n",
        "FROM courier_actions as ca\n",
        "ORDER BY ca.courier_id, ca.action, ca.time DESC\n",
        "LIMIT 1000"
      ],
      "metadata": {
        "id": "50HH2FxIpjX8"
      },
      "execution_count": null,
      "outputs": []
    },
    {
      "cell_type": "markdown",
      "source": [
        "<b>Задача 4</b>\n",
        "\n",
        "Используя операторы SELECT, FROM, ORDER BY и LIMIT, определите 5 самых дорогих товаров в таблице products, которые доставляет наш сервис. Выведите их наименования и цену.\n",
        "\n",
        "Поля в результирующей таблице: name, price"
      ],
      "metadata": {
        "id": "Zp0FS-rbpjh-"
      }
    },
    {
      "cell_type": "code",
      "source": [
        "SELECT p.name, p.price\n",
        "FROM products as p\n",
        "ORDER BY p.price DESC\n",
        "LIMIT 5"
      ],
      "metadata": {
        "id": "6jKNYp2upjqG"
      },
      "execution_count": null,
      "outputs": []
    },
    {
      "cell_type": "markdown",
      "source": [
        "<b>Задача 5</b>\n",
        "\n",
        "Повторите запрос из предыдущего задания, но теперь колонки name и price переименуйте соответственно в product_name и product_price.\n",
        "\n",
        "Поля в результирующей таблице: product_name, product_price"
      ],
      "metadata": {
        "id": "RWLuL46Upjxr"
      }
    },
    {
      "cell_type": "code",
      "source": [
        "SELECT p.name as product_name, p.price as product_price\n",
        "FROM products as p\n",
        "ORDER BY p.price DESC\n",
        "LIMIT 5"
      ],
      "metadata": {
        "id": "BzaB6quCpj6D"
      },
      "execution_count": null,
      "outputs": []
    },
    {
      "cell_type": "markdown",
      "source": [
        "<b>Задача 6</b>\n",
        "\n",
        "Используя операторы SELECT, FROM, ORDER BY и LIMIT, а также функцию LENGTH, определите товар с самым длинным названием в таблице products. Выведите его наименование, длину наименования в символах, а также цену этого товара. Колонку с длиной наименования в символах назовите name_length.\n",
        "\n",
        "Поля в результирующей таблице: name, name_length, price"
      ],
      "metadata": {
        "id": "GbfHVGd-pkAX"
      }
    },
    {
      "cell_type": "code",
      "source": [
        "SELECT p.name,\n",
        "       length(p.name) as name_length,\n",
        "       p.price\n",
        "FROM products as p\n",
        "ORDER BY 2 desc\n",
        "LIMIT 1"
      ],
      "metadata": {
        "id": "-_U6YtODpkGx"
      },
      "execution_count": null,
      "outputs": []
    },
    {
      "cell_type": "markdown",
      "source": [
        "<b>Задача 7</b>\n",
        "\n",
        "Примените последовательно функции UPPER и SPLIT_PART к колонке name и преобразуйте наименования товаров в таблице products так, чтобы от названий осталось только первое слово, записанное в верхнем регистре. Колонку с новым названием, состоящим из первого слова, назовите first_word.\n",
        "\n",
        "В результат включите исходные наименования товаров, новые наименования из первого слова, а также цену товаров. Результат отсортируйте по возрастанию исходного наименования товара в колонке name.\n",
        "\n",
        "Поля в результирующей таблице: name, first_word, price"
      ],
      "metadata": {
        "id": "39-mqg6TpkND"
      }
    },
    {
      "cell_type": "code",
      "source": [
        "SELECT p.name,\n",
        "       UPPER(SPLIT_PART(p.name, ' ', 1)) as first_word,\n",
        "       p.price\n",
        "FROM products as p\n",
        "ORDER BY p.name"
      ],
      "metadata": {
        "id": "f60_HHX1pkUg"
      },
      "execution_count": null,
      "outputs": []
    },
    {
      "cell_type": "markdown",
      "source": [
        "<b>Задача 8</b>\n",
        "\n",
        "Измените тип колонки price из таблицы products на VARCHAR. Выведите колонки с наименованием товаров, ценой в исходном формате и ценой в формате VARCHAR. Новую колонку с ценой в новом формате назовите price_char.\n",
        "\n",
        "Результат отсортируйте по возрастанию исходного наименования товара в колонке name. Количество выводимых записей не ограничивайте.\n",
        "\n",
        "Поле в результирующей таблице: name, price, price_char"
      ],
      "metadata": {
        "id": "qkLs8Ntzpkbc"
      }
    },
    {
      "cell_type": "code",
      "source": [
        "SELECT p.name,\n",
        "       p.price,\n",
        "       p.price::VARCHAR as price_char\n",
        "FROM products as p\n",
        "ORDER BY p.name"
      ],
      "metadata": {
        "id": "fUdupYyFpklD"
      },
      "execution_count": null,
      "outputs": []
    },
    {
      "cell_type": "markdown",
      "source": [
        "<b>Задача 9</b>\n",
        "\n",
        "Для первых 200 записей из таблицы orders выведите информацию в следующем виде (обратите внимание на пробелы):\n",
        "\n",
        "Заказ № [id_заказа] создан [дата]\n",
        "\n",
        "Полученную колонку назовите order_info."
      ],
      "metadata": {
        "id": "F0aB4vs9pkqJ"
      }
    },
    {
      "cell_type": "code",
      "source": [
        "SELECT CONCAT('Заказ № ', o.order_id, ' создан ', o.creation_time::DATE) as order_info\n",
        "FROM orders as o\n",
        "LIMIT 200"
      ],
      "metadata": {
        "id": "GnJDQuDOpkwH"
      },
      "execution_count": null,
      "outputs": []
    },
    {
      "cell_type": "markdown",
      "source": [
        "<b>Задача 10</b>\n",
        "\n",
        "Выведите id всех курьеров и их годы рождения из таблицы couriers.\n",
        "\n",
        "Год рождения необходимо получить из колонки birth_date. Новую колонку с годом назовите birth_year. Результат отсортируйте сначала по убыванию года рождения курьера (т.е. от самых младших к самым старшим), затем по возрастанию id курьера.\n",
        "\n",
        "Поля в результирующей таблице: courier_id, birth_year"
      ],
      "metadata": {
        "id": "l1WdIIdTpk0y"
      }
    },
    {
      "cell_type": "code",
      "source": [
        "SELECT c.courier_id,\n",
        "       DATE_PART('YEAR', c.birth_date) as birth_year\n",
        "FROM couriers as c\n",
        "ORDER BY 2 DESC, 1"
      ],
      "metadata": {
        "id": "uoGklX9rpk5u"
      },
      "execution_count": null,
      "outputs": []
    },
    {
      "cell_type": "markdown",
      "source": [
        "<b>Задача 11</b>\n",
        "\n",
        "Как и в предыдущем задании, снова выведите id всех курьеров и их годы рождения, только теперь к извлеченному году примените функцию COALESCE. Укажите параметры функции так, чтобы вместо NULL значений в результат попадало текстовое значение unknown. Названия полей оставьте прежними.\n",
        "\n",
        "Отсортируйте итоговую таблицу сначала по убыванию года рождения курьера, затем по возрастанию id курьера.\n",
        "\n",
        "Поля в результирующей таблице: courier_id, birth_year"
      ],
      "metadata": {
        "id": "NIY83dg5pk-3"
      }
    },
    {
      "cell_type": "code",
      "source": [
        "SELECT c.courier_id,\n",
        "       COALESCE(DATE_PART('YEAR', c.birth_date)::varchar, 'unknown') as birth_year\n",
        "FROM couriers as c\n",
        "ORDER BY 2 DESC, 1"
      ],
      "metadata": {
        "id": "r4iAVh5RplFH"
      },
      "execution_count": null,
      "outputs": []
    },
    {
      "cell_type": "markdown",
      "source": [
        "<b>Задача 12</b>\n",
        "\n",
        "Давайте представим, что по какой-то необъяснимой причине мы вдруг решили в одночасье повысить цену всех товаров в таблице products на 5%.\n",
        "\n",
        "Выведите id и наименования всех товаров, их старую и новую цену. Колонку со старой ценой назовите old_price, а колонку с новой — new_price.\n",
        "\n",
        "Результат отсортируйте сначала по убыванию новой цены, затем по возрастанию id товара.\n",
        "\n",
        "Поля в результирующей таблице: product_id, name, old_price, new_price"
      ],
      "metadata": {
        "id": "zeWDaAQzqtrt"
      }
    },
    {
      "cell_type": "code",
      "source": [
        "SELECT p.product_id,\n",
        "       p.name,\n",
        "       p.price as old_price,\n",
        "       p.price * 1.05 as new_price\n",
        "FROM products as p\n",
        "ORDER BY 4 DESC, 1"
      ],
      "metadata": {
        "id": "7YTubkRxquVQ"
      },
      "execution_count": null,
      "outputs": []
    },
    {
      "cell_type": "markdown",
      "source": [
        "<b>Задача 13</b>\n",
        "\n",
        "Вновь, как и в прошлом задании, повысьте цену всех товаров на 5%, только теперь к колонке с новой ценой примените функцию ROUND. Выведите id и наименования товаров, их старую цену, а также новую цену с округлением. Новую цену округлите до одного знака после запятой, но тип данных не меняйте.\n",
        "\n",
        "Результат отсортируйте сначала по убыванию новой цены, затем по возрастанию id товара.\n",
        "\n",
        "Поля в результирующей таблице: product_id, name, old_price, new_price\n",
        "\n"
      ],
      "metadata": {
        "id": "0R7AhmknqucJ"
      }
    },
    {
      "cell_type": "code",
      "source": [
        "SELECT p.product_id,\n",
        "       p.name,\n",
        "       p.price as old_price,\n",
        "       ROUND(p.price * 1.05, 1) as new_price\n",
        "FROM products as p\n",
        "ORDER BY 4 DESC, 1"
      ],
      "metadata": {
        "id": "ylYid4n6qxxH"
      },
      "execution_count": null,
      "outputs": []
    },
    {
      "cell_type": "markdown",
      "source": [
        "<b>Задача 14</b>\n",
        "\n",
        "Повысьте цену на 5% только на те товары, цена которых превышает 100 рублей. Цену остальных товаров оставьте без изменений. Также не повышайте цену на икру, которая и так стоит 800 рублей. Выведите id и наименования всех товаров, их старую и новую цену. Цену округлять не нужно.\n",
        "\n",
        "Результат отсортируйте сначала по убыванию новой цены, затем по возрастанию id товара.\n",
        "\n",
        "Поля в результирующей таблице: product_id, name, old_price, new_price"
      ],
      "metadata": {
        "id": "ueo_Tnk9qyDM"
      }
    },
    {
      "cell_type": "code",
      "source": [
        "SELECT p.product_id,\n",
        "       p.name,\n",
        "       p.price as old_price,\n",
        "       CASE\n",
        "       WHEN p.price > 100 AND p.name != 'икра' THEN p.price * 1.05\n",
        "       ELSE p.price END as new_price\n",
        "FROM products as p\n",
        "ORDER BY 4 DESC, 1"
      ],
      "metadata": {
        "id": "a2EsYGd6qyQr"
      },
      "execution_count": null,
      "outputs": []
    },
    {
      "cell_type": "markdown",
      "source": [
        "<b>Задача 15</b>\n",
        "\n",
        "Вычислите НДС каждого товара в таблице products и рассчитайте цену без учёта НДС. Выведите всю информацию о товарах, включая сумму налога и цену без его учёта. Колонки с суммой налога и ценой без НДС назовите соответственно tax и price_before_tax. Округлите значения в этих колонках до двух знаков после запятой.\n",
        "\n",
        "Результат отсортируйте сначала по убыванию цены товара без учёта НДС, затем по возрастанию id товара.\n",
        "\n",
        "Поля в результирующей таблице: product_id, name, price, tax, price_before_tax"
      ],
      "metadata": {
        "id": "km55nUwFqyi1"
      }
    },
    {
      "cell_type": "code",
      "source": [
        "SELECT p.product_id,\n",
        "       p.name,\n",
        "       p.price,\n",
        "       ROUND(p.price / 120 * 20, 2) as tax,\n",
        "       ROUND(p.price - p.price / 120 * 20, 2) as price_before_tax\n",
        "FROM products as p\n",
        "ORDER BY 5 DESC, 1"
      ],
      "metadata": {
        "id": "ist7QKlDqyvn"
      },
      "execution_count": null,
      "outputs": []
    },
    {
      "cell_type": "markdown",
      "source": [
        "<b>Задача 16</b>\n",
        "\n",
        "Напишите SQL-запрос к таблице products и выведите всю информацию о товарах, цена которых не превышает 100 рублей. Результат отсортируйте по возрастанию id товара.\n",
        "\n",
        "Поля в результирующей таблице: product_id, name, price"
      ],
      "metadata": {
        "id": "kUPIZVCpPmqW"
      }
    },
    {
      "cell_type": "code",
      "source": [
        "SELECT p.product_id,\n",
        "       p.name,\n",
        "       p.price\n",
        "FROM products as p\n",
        "WHERE p.price <= 100\n",
        "ORDER BY 1"
      ],
      "metadata": {
        "id": "RoZGb9EtPm-5"
      },
      "execution_count": null,
      "outputs": []
    },
    {
      "cell_type": "markdown",
      "source": [
        "<b>Задача 17</b>\n",
        "\n",
        "Отберите пользователей женского пола из таблицы users. Выведите только id этих пользователей. Результат отсортируйте по возрастанию id.\n",
        "\n",
        "Добавьте в запрос оператор LIMIT и выведите только 1000 первых id из отсортированного списка.\n",
        "\n",
        "Поле в результирующей таблице: user_id"
      ],
      "metadata": {
        "id": "j4Bee-BtPnOA"
      }
    },
    {
      "cell_type": "code",
      "source": [
        "SELECT u.user_id\n",
        "FROM users as u\n",
        "WHERE sex = 'female'\n",
        "ORDER BY 1\n",
        "LIMIT 1000"
      ],
      "metadata": {
        "id": "qiowF6i6PnaG"
      },
      "execution_count": null,
      "outputs": []
    },
    {
      "cell_type": "markdown",
      "source": [
        "<b>Задача 18</b>\n",
        "\n",
        "Отберите из таблицы user_actions все действия пользователей по созданию заказов, которые были совершены ими после полуночи 6 сентября 2022 года. Выведите колонки с id пользователей, id созданных заказов и временем их создания.\n",
        "\n",
        "Результат должен быть отсортирован по возрастанию id заказа.\n",
        "\n",
        "Поля в результирующей таблице: user_id, order_id, time"
      ],
      "metadata": {
        "id": "vGNjkoY0Pnnp"
      }
    },
    {
      "cell_type": "code",
      "source": [
        "SELECT ua.user_id,\n",
        "       ua.order_id,\n",
        "       ua.time\n",
        "FROM user_actions as ua\n",
        "WHERE ua.action = 'create_order'\n",
        "AND ua.time >= '2022-09-06'\n",
        "ORDER BY ua.order_id"
      ],
      "metadata": {
        "id": "JCjPWlLWPn0d"
      },
      "execution_count": null,
      "outputs": []
    },
    {
      "cell_type": "markdown",
      "source": [
        "<b>Задача 19</b>\n",
        "\n",
        "Назначьте скидку 20% на все товары из таблицы products и отберите те, цена на которые с учётом скидки превышает 100 рублей. Выведите id товаров, их наименования, прежнюю цену и новую цену с учётом скидки. <br>Колонку со старой ценой назовите old_price, с новой — new_price.\n",
        "\n",
        "Результат должен быть отсортирован по возрастанию id товара.\n",
        "\n",
        "Поля в результирующей таблице: product_id, name, old_price, new_price"
      ],
      "metadata": {
        "id": "_S25l7SVPoGp"
      }
    },
    {
      "cell_type": "code",
      "source": [
        "SELECT p.product_id,\n",
        "       p.name,\n",
        "       p.price as old_price,\n",
        "      (p.price * 0.8) as new_price\n",
        "FROM products as p\n",
        "WHERE p.price * 0.8 > 100\n",
        "ORDER BY 1"
      ],
      "metadata": {
        "id": "pcF1lMwIPoVW"
      },
      "execution_count": null,
      "outputs": []
    },
    {
      "cell_type": "markdown",
      "source": [
        "<b>Задача 20</b>\n",
        "\n",
        "Отберите из таблицы products все товары, названия которых либо начинаются со слова «чай», либо состоят из пяти символов. Выведите две колонки: id товаров и их наименования.\n",
        "\n",
        "Результат должен быть отсортирован по возрастанию id товара.\n",
        "\n",
        "Поля в результирующей таблице: product_id, name"
      ],
      "metadata": {
        "id": "3UHrcN6BQHiz"
      }
    },
    {
      "cell_type": "code",
      "source": [
        "SELECT p.product_id,\n",
        "       p.name\n",
        "FROM products as p\n",
        "WHERE SPLIT_PART(p.name,' ', 1) = 'чай'\n",
        "OR LENGTH(p.name) = 5\n",
        "ORDER BY 1"
      ],
      "metadata": {
        "id": "oUliUbkUQHzX"
      },
      "execution_count": null,
      "outputs": []
    },
    {
      "cell_type": "markdown",
      "source": [
        "<b>Задача 21</b>\n",
        "\n",
        "Отберите из таблицы products все товары, содержащие в своём названии последовательность символов «чай» (без кавычек). Выведите две колонки: id продукта и его название.\n",
        "\n",
        "Результат должен быть отсортирован по возрастанию id товара.\n",
        "\n",
        "Поля в результирующей таблице: product_id, name"
      ],
      "metadata": {
        "id": "9FEiJrxiQICZ"
      }
    },
    {
      "cell_type": "code",
      "source": [
        "SELECT p.product_id,\n",
        "       p.name\n",
        "FROM products as p\n",
        "WHERE p.name LIKE '%чай%'\n",
        "ORDER BY 1"
      ],
      "metadata": {
        "id": "WG2aVA9jQINM"
      },
      "execution_count": null,
      "outputs": []
    },
    {
      "cell_type": "markdown",
      "source": [
        "<b>Задача 22</b>\n",
        "\n",
        "Выберите из таблицы products id и наименования только тех товаров, названия которых начинаются на букву «с» и содержат только одно слово.\n",
        "\n",
        "Результат должен быть отсортирован по возрастанию id товара.\n",
        "\n",
        "Поля в результирующей таблице: product_id, name"
      ],
      "metadata": {
        "id": "3Or4TLPXQIUu"
      }
    },
    {
      "cell_type": "code",
      "source": [
        "SELECT p.product_id,\n",
        "       p.name\n",
        "FROM products as p\n",
        "WHERE p.name LIKE 'с%'\n",
        "AND p.name NOT LIKE '% %'\n",
        "ORDER BY 1"
      ],
      "metadata": {
        "id": "L554HtrIQIcZ"
      },
      "execution_count": null,
      "outputs": []
    },
    {
      "cell_type": "markdown",
      "source": [
        "<b>Задача 23</b>\n",
        "\n",
        "Составьте SQL-запрос, который выбирает из таблицы products все чаи стоимостью больше 60 рублей и вычисляет для них цену со скидкой 25%.\n",
        "\n",
        "Скидку в % менеджер попросил указать в отдельном столбце в формате текста, то есть вот так: «25%» (без кавычек). Столбцы со скидкой и новой ценой назовите соответственно discount и new_price.\n",
        "\n",
        "Также необходимо любым известным способом избавиться от «чайного гриба»: вряд ли менеджер имел в виду и его, когда ставил нам задачу.\n",
        "\n",
        "Результат должен быть отсортирован по возрастанию id товара.\n",
        "\n",
        "Поля в результирующей таблице: product_id, name, price, discount, new_price"
      ],
      "metadata": {
        "id": "31XkF0McQIiu"
      }
    },
    {
      "cell_type": "code",
      "source": [
        "SELECT p.product_id,\n",
        "       p.name,\n",
        "       p.price,\n",
        "       '25%' as discount,\n",
        "       p.price * 0.75 as new_price\n",
        "FROM products as p\n",
        "WHERE p.price > 60\n",
        "AND SPLIT_PART(p.name, ' ', 1) = 'чай'\n",
        "ORDER BY 1"
      ],
      "metadata": {
        "id": "WMrCI61WQIrZ"
      },
      "execution_count": null,
      "outputs": []
    },
    {
      "cell_type": "markdown",
      "source": [
        "<b>Задача 24</b>\n",
        "\n",
        "Из таблицы user_actions выведите всю информацию о действиях пользователей с id 170, 200 и 230 за период с 25 августа по 4 сентября 2022 года включительно. Результат отсортируйте по убыванию id заказа — то есть от самых поздних действий к самым первым.\n",
        "\n",
        "Поля в результирующей таблице: user_id, order_id, action, time"
      ],
      "metadata": {
        "id": "xaEvgjYLQIyk"
      }
    },
    {
      "cell_type": "code",
      "source": [
        "SELECT ua.user_id,\n",
        "       ua.order_id,\n",
        "       ua.action,\n",
        "       ua.time\n",
        "FROM user_actions as ua\n",
        "WHERE ua.user_id IN (170, 200, 230)\n",
        "AND ua.time BETWEEN '2022-08-25' AND '2022-09-05'\n",
        "ORDER BY 2 DESC"
      ],
      "metadata": {
        "id": "C1BgZNj4QI5R"
      },
      "execution_count": null,
      "outputs": []
    },
    {
      "cell_type": "markdown",
      "source": [
        "<b>Задача 25</b>\n",
        "\n",
        "Напишите SQL-запрос к таблице couriers и выведите всю информацию о курьерах, у которых не указан их день рождения.\n",
        "\n",
        "Результат должен быть отсортирован по возрастанию id курьера.\n",
        "\n",
        "Поля в результирующей таблице: birth_date, courier_id, sex"
      ],
      "metadata": {
        "id": "L487ENfUQJAn"
      }
    },
    {
      "cell_type": "code",
      "source": [
        "SELECT c.birth_date,\n",
        "       c.courier_id,\n",
        "       c.sex\n",
        "FROM couriers as c\n",
        "WHERE c.birth_date IS NULL\n",
        "ORDER BY 2"
      ],
      "metadata": {
        "id": "GM4S5OHzQJKH"
      },
      "execution_count": null,
      "outputs": []
    },
    {
      "cell_type": "markdown",
      "source": [
        "<b>Задача 26</b>\n",
        "\n",
        "Определите id и даты рождения 50 самых молодых пользователей мужского пола из таблицы users. Не учитывайте тех пользователей, у которых не указана дата рождения.\n",
        "\n",
        "Поле в результирующей таблице: user_id, birth_date"
      ],
      "metadata": {
        "id": "QAnMX_PdEoYr"
      }
    },
    {
      "cell_type": "code",
      "source": [
        "SELECT u.user_id,\n",
        "       u.birth_date\n",
        "FROM users as u\n",
        "WHERE u.birth_date IS NOT NULL\n",
        "AND u.sex = 'male'\n",
        "ORDER BY u.birth_date DESC\n",
        "LIMIT 50;"
      ],
      "metadata": {
        "id": "PbW47M6SEvzh"
      },
      "execution_count": null,
      "outputs": []
    },
    {
      "cell_type": "markdown",
      "source": [
        "<b>Задача 27</b>\n",
        "\n",
        "Напишите SQL-запрос к таблице courier_actions, чтобы узнать id и время доставки последних 10 заказов, доставленных курьером с id 100.\n",
        "\n",
        "Поля в результирующей таблице: order_id, time"
      ],
      "metadata": {
        "id": "p0A3cVybFurc"
      }
    },
    {
      "cell_type": "code",
      "source": [
        "SELECT ca.order_id,\n",
        "       ca.time\n",
        "FROM courier_actions as ca\n",
        "WHERE ca.courier_id = 100\n",
        "AND ca.action = 'deliver_order'\n",
        "ORDER BY 2 DESC\n",
        "LIMIT 10;"
      ],
      "metadata": {
        "id": "q6e9zo6_FzSn"
      },
      "execution_count": null,
      "outputs": []
    },
    {
      "cell_type": "markdown",
      "source": [
        "<b>Задача 28</b>\n",
        "\n",
        "Из таблицы user_actions получите id всех заказов, сделанных пользователями сервиса в августе 2022 года.\n",
        "\n",
        "Результат отсортируйте по возрастанию id заказа.\n",
        "\n",
        "Поле в результирующей таблице: order_id"
      ],
      "metadata": {
        "id": "XFqnUsfsFzkr"
      }
    },
    {
      "cell_type": "code",
      "source": [
        "SELECT ua.order_id\n",
        "FROM user_actions as ua\n",
        "WHERE DATE_PART('year', ua.time) = 2022\n",
        "AND DATE_PART('month', ua.time) = 8\n",
        "AND ua.action = 'create_order'\n",
        "ORDER BY 1;"
      ],
      "metadata": {
        "id": "Ywj-2JyvFz0X"
      },
      "execution_count": null,
      "outputs": []
    },
    {
      "cell_type": "markdown",
      "source": [
        "<b>Задача 29</b>\n",
        "\n",
        "Из таблицы couriers отберите id всех курьеров, родившихся в период с 1990 по 1995 год включительно.\n",
        "\n",
        "Результат отсортируйте по возрастанию id курьера.\n",
        "\n",
        "Поле в результирующей таблице: courier_id"
      ],
      "metadata": {
        "id": "J9TPwmW0F0F3"
      }
    },
    {
      "cell_type": "code",
      "source": [
        "SELECT c.courier_id\n",
        "FROM couriers as c\n",
        "WHERE DATE_PART('year', c.birth_date) BETWEEN 1990 AND 1995\n",
        "ORDER BY 1;"
      ],
      "metadata": {
        "id": "kGdJm1qwF0SG"
      },
      "execution_count": null,
      "outputs": []
    },
    {
      "cell_type": "markdown",
      "source": [
        "<b>Задача 30</b>\n",
        "\n",
        "Из таблицы user_actions получите информацию о всех отменах заказов, которые пользователи совершали в течение августа 2022 года по средам с 12:00 до 15:59.\n",
        "\n",
        "Результат отсортируйте по убыванию id отменённых заказов.\n",
        "\n",
        "Поля в результирующей таблице: user_id, order_id, action, time"
      ],
      "metadata": {
        "id": "tj4WhUP_F0ek"
      }
    },
    {
      "cell_type": "code",
      "source": [
        "SELECT ua.user_id,\n",
        "       ua.order_id,\n",
        "       ua.action,\n",
        "       ua.time\n",
        "FROM user_actions as ua\n",
        "WHERE ua.action = 'cancel_order'\n",
        "AND DATE_PART('year', ua.time) = 2022\n",
        "AND DATE_PART('month', ua.time) = 8\n",
        "AND DATE_PART('dow', ua.time) = 3\n",
        "AND DATE_PART('hour', ua.time) BETWEEN 12 AND 15\n",
        "AND DATE_PART('minute', ua.time) BETWEEN 0 AND 59\n",
        "ORDER BY 2 DESC;"
      ],
      "metadata": {
        "id": "5qYCs0NsF0ub"
      },
      "execution_count": null,
      "outputs": []
    },
    {
      "cell_type": "markdown",
      "source": [
        "<b>Задача 31</b>\n",
        "\n",
        "Как и в задаче из прошлого урока, вычислите НДС каждого товара в таблице products и рассчитайте цену без учёта НДС. Однако теперь примите во внимание, что для товаров из списка налог составляет 10%. Для остальных товаров НДС тот же — 20%.\n",
        "\n",
        "Выведите всю информацию о товарах, включая сумму налога и цену без его учёта. Колонки с суммой налога и ценой без НДС назовите соответственно tax и price_before_tax. Округлите значения в этих колонках до двух знаков после запятой.\n",
        "\n",
        "Результат отсортируйте сначала по убыванию цены товара без учёта НДС, затем по возрастанию id товара.\n",
        "\n",
        "Поля в результирующей таблице: product_id, name, price, tax, price_before_tax"
      ],
      "metadata": {
        "id": "xc01wlskKAUQ"
      }
    },
    {
      "cell_type": "code",
      "source": [
        "SELECT p.product_id,\n",
        "       p.name,\n",
        "       p.price,\n",
        "       CASE WHEN p.name IN ('сахар', 'сухарики', 'сушки',\n",
        "                            'семечки', 'масло льняное', 'виноград',\n",
        "                            'масло оливковое', 'арбуз', 'батон', 'йогурт',\n",
        "                            'сливки', 'гречка', 'овсянка', 'макароны',\n",
        "                            'баранина', 'апельсины', 'бублики', 'хлеб',\n",
        "                            'горох', 'сметана', 'рыба копченая', 'мука',\n",
        "                            'шпроты', 'сосиски', 'свинина', 'рис', 'масло кунжутное',\n",
        "                            'сгущенка', 'ананас', 'говядина', 'соль', 'рыба вяленая',\n",
        "                            'масло подсолнечное', 'яблоки', 'груши', 'лепешка', 'молоко',\n",
        "                            'курица', 'лаваш', 'вафли', 'мандарины')\n",
        "       THEN ROUND(p.price / 110 * 10, 2)\n",
        "       ELSE ROUND(p.price / 120 * 20, 2) END as tax,\n",
        "       CASE WHEN p.name in ('сахар', 'сухарики', 'сушки',\n",
        "                            'семечки', 'масло льняное', 'виноград',\n",
        "                            'масло оливковое', 'арбуз', 'батон', 'йогурт',\n",
        "                            'сливки', 'гречка', 'овсянка', 'макароны',\n",
        "                            'баранина', 'апельсины', 'бублики', 'хлеб',\n",
        "                            'горох', 'сметана', 'рыба копченая', 'мука',\n",
        "                            'шпроты', 'сосиски', 'свинина', 'рис', 'масло кунжутное',\n",
        "                            'сгущенка', 'ананас', 'говядина', 'соль', 'рыба вяленая',\n",
        "                            'масло подсолнечное', 'яблоки', 'груши', 'лепешка', 'молоко',\n",
        "                            'курица', 'лаваш', 'вафли', 'мандарины')\n",
        "       THEN ROUND(p.price - p.price / 110 * 10, 2)\n",
        "       ELSE ROUND(p.price - p.price / 120 * 20, 2) END as price_before_tax\n",
        "FROM products as p\n",
        "ORDER BY 5 desc, 1;"
      ],
      "metadata": {
        "id": "Txx5p4NfKAje"
      },
      "execution_count": null,
      "outputs": []
    },
    {
      "cell_type": "markdown",
      "source": [
        "<b>Задача 32</b>\n",
        "\n",
        "Выведите id всех уникальных пользователей из таблицы user_actions. Результат отсортируйте по возрастанию id.\n",
        "\n",
        "Поле в результирующей таблице: user_id"
      ],
      "metadata": {
        "id": "on_AW3mzYUQV"
      }
    },
    {
      "cell_type": "code",
      "source": [
        "SELECT DISTINCT ua.user_id\n",
        "FROM user_actions as ua\n",
        "ORDER BY 1;"
      ],
      "metadata": {
        "id": "IE4SYbcdYaU3"
      },
      "execution_count": null,
      "outputs": []
    },
    {
      "cell_type": "markdown",
      "source": [
        "<b>Задача 33</b>\n",
        "\n",
        "Примените DISTINCT сразу к двум колонкам таблицы courier_actions и отберите уникальные пары значений courier_id и order_id.\n",
        "\n",
        "Результат отсортируйте сначала по возрастанию id курьера, затем по возрастанию id заказа.\n",
        "\n",
        "Поля в результирующей таблице: courier_id, order_id"
      ],
      "metadata": {
        "id": "QbxFBHsqYceF"
      }
    },
    {
      "cell_type": "code",
      "source": [
        "SELECT DISTINCT ca.courier_id,\n",
        "                ca.order_id\n",
        "FROM courier_actions as ca\n",
        "ORDER BY 1, 2;"
      ],
      "metadata": {
        "id": "9E1esEZ9YhoN"
      },
      "execution_count": null,
      "outputs": []
    },
    {
      "cell_type": "markdown",
      "source": [
        "<b>Задача 34</b>\n",
        "\n",
        "Посчитайте максимальную и минимальную цены товаров в таблице products. Поля назовите соответственно max_price, min_price.\n",
        "\n",
        "Поля в результирующей таблице: max_price, min_price"
      ],
      "metadata": {
        "id": "4DgAvpnuYh32"
      }
    },
    {
      "cell_type": "code",
      "source": [
        "SELECT MAX(p.price) as max_price,\n",
        "       MIN(p.price) as min_price\n",
        "FROM products as p;"
      ],
      "metadata": {
        "id": "uylrjHLkYiIG"
      },
      "execution_count": null,
      "outputs": []
    },
    {
      "cell_type": "markdown",
      "source": [
        "<b>Задача 35</b>\n",
        "\n",
        "Как вы помните, в таблице users у некоторых пользователей не были указаны их даты рождения.\n",
        "\n",
        "Посчитайте в одном запросе количество всех записей в таблице и количество только тех записей, для которых в колонке birth_date указана дата рождения.\n",
        "\n",
        "Колонку с общим числом записей назовите dates, а колонку с записями без пропусков — dates_not_null.\n",
        "\n",
        "Поля в результирующей таблице: dates, dates_not_null"
      ],
      "metadata": {
        "id": "xakPzq2bYiZI"
      }
    },
    {
      "cell_type": "code",
      "source": [
        "SELECT COUNT(*) as dates,\n",
        "       COUNT(u.birth_date) as dates_not_null\n",
        "FROM users as u;"
      ],
      "metadata": {
        "id": "Jf-v9BtnYijl"
      },
      "execution_count": null,
      "outputs": []
    },
    {
      "cell_type": "markdown",
      "source": [
        "<b>Задача 36</b>\n",
        "\n",
        "Посчитайте количество всех значений в колонке user_id в таблице user_actions, а также количество уникальных значений в этой колонке (т.е. количество уникальных пользователей сервиса).\n",
        "\n",
        "Колонку с первым полученным значением назовите users, а колонку со вторым — unique_users.\n",
        "\n",
        "Поля в результирующей таблице: users, unique_users"
      ],
      "metadata": {
        "id": "TQq03TmkYis1"
      }
    },
    {
      "cell_type": "code",
      "source": [
        "SELECT COUNT(ua.user_id) as users,\n",
        "       COUNT(DISTINCT ua.user_id) as unique_users\n",
        "FROM user_actions as ua;"
      ],
      "metadata": {
        "id": "G7ebOagwYi3a"
      },
      "execution_count": null,
      "outputs": []
    },
    {
      "cell_type": "markdown",
      "source": [
        "<b>Задача 37</b>\n",
        "\n",
        "Посчитайте количество курьеров женского пола в таблице couriers. Полученный столбец с одним значением назовите couriers.\n",
        "\n",
        "Поле в результирующей таблице: couriers"
      ],
      "metadata": {
        "id": "YmTHHxZJ8uSy"
      }
    },
    {
      "cell_type": "code",
      "source": [
        "SELECT COUNT(c.courier_id) as couriers\n",
        "FROM couriers as c\n",
        "WHERE c.sex = 'female'"
      ],
      "metadata": {
        "id": "QXqsSVRR8uuw"
      },
      "execution_count": null,
      "outputs": []
    },
    {
      "cell_type": "markdown",
      "source": [
        "<b>Задача 38</b>\n",
        "\n",
        "Рассчитайте время, когда были совершены первая и последняя доставки заказов в таблице courier_actions.\n",
        "\n",
        "Колонку с временем первой доставки назовите first_delivery, а колонку с временем последней — last_delivery.\n",
        "\n",
        "Поля в результирующей таблице: first_delivery, last_delivery"
      ],
      "metadata": {
        "id": "LcYVJ7WE8u7o"
      }
    },
    {
      "cell_type": "code",
      "source": [
        "SELECT MIN(ca.time) as first_delivery,\n",
        "       MAX(ca.time) as last_delivery\n",
        "FROM courier_actions as ca\n",
        "WHERE ca.action = 'deliver_order'"
      ],
      "metadata": {
        "id": "oTiMs1O08vIt"
      },
      "execution_count": null,
      "outputs": []
    },
    {
      "cell_type": "markdown",
      "source": [
        "<b>Задача 39</b>\n",
        "\n",
        "Представьте, что один из пользователей сервиса сделал заказ, в который вошли одна пачка сухариков, одна пачка чипсов и один энергетический напиток. Посчитайте стоимость такого заказа.\n",
        "\n",
        "Колонку с рассчитанной стоимостью заказа назовите order_price.\n",
        "\n",
        "Для расчётов используйте таблицу products.\n",
        "\n",
        "Поле в результирующей таблице: order_price"
      ],
      "metadata": {
        "id": "rBIqMijd8vUM"
      }
    },
    {
      "cell_type": "code",
      "source": [
        "SELECT SUM(p.price) as order_price\n",
        "FROM products as p\n",
        "WHERE p.name IN ('сухарики', 'чипсы', 'энергетический напиток')"
      ],
      "metadata": {
        "id": "9pmutTTU8vhD"
      },
      "execution_count": null,
      "outputs": []
    },
    {
      "cell_type": "markdown",
      "source": [
        "<b>Задача 40</b>\n",
        "\n",
        "Посчитайте количество заказов в таблице orders с девятью и более товарами. Для этого воспользуйтесь функцией array_length, отфильтруйте данные по количеству товаров в заказе и проведите агрегацию. Полученный столбец назовите orders.\n",
        "\n",
        "Поле в результирующей таблице: orders"
      ],
      "metadata": {
        "id": "m1_pn9B08vsj"
      }
    },
    {
      "cell_type": "code",
      "source": [
        "SELECT COUNT(o.order_id) as orders\n",
        "FROM orders as o\n",
        "WHERE ARRAY_LENGTH(o.product_ids, 1) >= 9"
      ],
      "metadata": {
        "id": "1FbafBRH8v32"
      },
      "execution_count": null,
      "outputs": []
    },
    {
      "cell_type": "markdown",
      "source": [
        "<b>Задача 41</b>\n",
        "\n",
        "С помощью функции AGE и агрегирующей функции рассчитайте возраст самого молодого курьера мужского пола в таблице couriers.\n",
        "\n",
        "Возраст выразите количеством лет, месяцев и дней (как в примере выше), переведя его в тип VARCHAR.\n",
        "\n",
        "В качестве даты, относительно которой считать возраст курьеров, используйте свою текущую дату (либо не указывайте её на месте первого аргумента, как показано в примерах).\n",
        "\n",
        "Полученную колонку со значением возраста назовите min_age.\n",
        "\n",
        "Поле в результирующей таблице: min_age"
      ],
      "metadata": {
        "id": "ZULN_1vr8wEQ"
      }
    },
    {
      "cell_type": "code",
      "source": [
        "SELECT MIN(AGE(current_date, c.birth_date))::VARCHAR as min_age\n",
        "FROM couriers as c\n",
        "WHERE c.sex = 'male'"
      ],
      "metadata": {
        "id": "cTYu1Bqb8wTd"
      },
      "execution_count": null,
      "outputs": []
    },
    {
      "cell_type": "markdown",
      "source": [
        "<b>Задача 42</b>\n",
        "\n",
        "Посчитайте стоимость заказа, в котором будут три пачки сухариков, две пачки чипсов и один энергетический напиток.<br> Колонку с рассчитанной стоимостью заказа назовите order_price.\n",
        "\n",
        "Для расчётов используйте таблицу products.\n",
        "\n",
        "Поле в результирующей таблице: order_price"
      ],
      "metadata": {
        "id": "nJHxOhmE8wd9"
      }
    },
    {
      "cell_type": "code",
      "source": [
        "SELECT SUM(CASE WHEN p.name = 'сухарики' THEN p.price * 3\n",
        "                WHEN p.name = 'чипсы' THEN p.price * 2\n",
        "                WHEN p.name = 'энергетический напиток' THEN p.price * 1\n",
        "                else 0 end) as order_price\n",
        "FROM products as p"
      ],
      "metadata": {
        "id": "HdYwwSR68wqh"
      },
      "execution_count": null,
      "outputs": []
    },
    {
      "cell_type": "markdown",
      "source": [
        "<b>Задача 43</b>\n",
        "\n",
        "Рассчитайте среднюю цену товаров в таблице products, в названиях которых присутствуют слова «чай» или «кофе». <br>Любым известным способом исключите из расчёта товары содержащие «иван-чай» или «чайный гриб».\n",
        "\n",
        "Среднюю цену округлите до двух знаков после запятой. Столбец с полученным значением назовите avg_price.\n",
        "\n",
        "Поле в результирующей таблице: avg_price"
      ],
      "metadata": {
        "id": "FaOd5f5G8w1L"
      }
    },
    {
      "cell_type": "code",
      "source": [
        "SELECT ROUND(AVG(p.price), 2) as avg_price\n",
        "FROM products as p\n",
        "WHERE (p.name LIKE '%чай%'\n",
        "OR p.name LIKE '%кофе%')\n",
        "AND (p.name NOT LIKE '%иван-чай%'\n",
        "AND p.name NOT LIKE '%чайный гриб%')"
      ],
      "metadata": {
        "id": "yRXdRgyz8xBU"
      },
      "execution_count": null,
      "outputs": []
    },
    {
      "cell_type": "markdown",
      "source": [
        "<b>Задача 44</b>\n",
        "\n",
        "Воспользуйтесь функцией AGE и рассчитайте разницу в возрасте между самым старым и самым молодым пользователями мужского пола в таблице users.\n",
        "\n",
        "Разницу в возрасте выразите количеством лет, месяцев и дней, переведя её в тип VARCHAR.\n",
        "\n",
        "Колонку с посчитанным значением назовите age_diff.\n",
        "\n",
        "Поле в результирующей таблице: age_diff"
      ],
      "metadata": {
        "id": "C0uTD0O68xK2"
      }
    },
    {
      "cell_type": "code",
      "source": [
        "SELECT AGE(MAX(u.birth_date),MIN(u.birth_date))::VARCHAR as age_diff\n",
        "FROM users as u\n",
        "WHERE u.sex = 'male'"
      ],
      "metadata": {
        "id": "QddIUU1Q8xWh"
      },
      "execution_count": null,
      "outputs": []
    },
    {
      "cell_type": "markdown",
      "source": [
        "<b>Задача 45</b>\n",
        "\n",
        "Рассчитайте среднее количество товаров в заказах из таблицы orders, которые пользователи оформляли по выходным дням (суббота и воскресенье) в течение всего времени работы сервиса.\n",
        "\n",
        "Полученное значение округлите до двух знаков после запятой. Колонку с ним назовите avg_order_size.\n",
        "\n",
        "Поле в результирующей таблице: avg_order_size"
      ],
      "metadata": {
        "id": "n0EjLyhJ8xgd"
      }
    },
    {
      "cell_type": "code",
      "source": [
        "SELECT ROUND(AVG(ARRAY_LENGTH(o.product_ids, 1)), 2) as avg_order_size\n",
        "FROM orders as o\n",
        "WHERE DATE_PART('dow', o.creation_time) IN (6, 0)"
      ],
      "metadata": {
        "id": "UsYYiLCj8xqb"
      },
      "execution_count": null,
      "outputs": []
    },
    {
      "cell_type": "markdown",
      "source": [
        "<b>Задача 46</b>\n",
        "\n",
        "На основе данных в таблице user_actions посчитайте количество уникальных пользователей сервиса, количество уникальных заказов, поделите одно на другое и выясните, сколько заказов приходится на одного пользователя.\n",
        "\n",
        "В результирующей таблице отразите все три значения — поля назовите соответственно unique_users, unique_orders, orders_per_user.\n",
        "\n",
        "Показатель числа заказов на пользователя округлите до двух знаков после запятой.\n",
        "\n",
        "Поля в результирующей таблице: unique_users, unique_orders, orders_per_user"
      ],
      "metadata": {
        "id": "wC2PXzQ9-So1"
      }
    },
    {
      "cell_type": "code",
      "source": [
        "SELECT COUNT(DISTINCT ua.user_id) as unique_users,\n",
        "       COUNT(DISTINCT ua.order_id) as unique_orders,\n",
        "       ROUND(COUNT(DISTINCT ua.order_id)::DECIMAL / COUNT(DISTINCT ua.user_id),\n",
        "             2) as orders_per_user\n",
        "FROM user_actions as ua"
      ],
      "metadata": {
        "id": "fVCO6chT-S7s"
      },
      "execution_count": null,
      "outputs": []
    },
    {
      "cell_type": "markdown",
      "source": [
        "<b>Задача 47</b>\n",
        "\n",
        "Посчитайте, сколько пользователей никогда не отменяли свой заказ. Для этого из общего числа всех уникальных пользователей отнимите число уникальных пользователей, которые хотя бы раз отменяли заказ. Подумайте, какое условие необходимо указать в FILTER, чтобы получить корректный результат.\n",
        "\n",
        "Полученный столбец назовите users_count.\n",
        "\n",
        "Поле в результирующей таблице: users_count"
      ],
      "metadata": {
        "id": "G9ODRdmn-TJW"
      }
    },
    {
      "cell_type": "code",
      "source": [
        "SELECT COUNT(DISTINCT ua.user_id) - COUNT(DISTINCT ua.user_id) FILTER (WHERE ua.action = 'cancel_order') as users_count\n",
        "FROM user_actions as ua"
      ],
      "metadata": {
        "id": "Pz3CNjPr-TZ0"
      },
      "execution_count": null,
      "outputs": []
    },
    {
      "cell_type": "markdown",
      "source": [
        "<b>Задача 48</b>\n",
        "\n",
        "Посчитайте общее количество заказов в таблице orders, количество заказов с пятью и более товарами и найдите долю заказов с пятью и более товарами в общем количестве заказов.\n",
        "\n",
        "В результирующей таблице отразите все три значения — поля назовите соответственно orders, large_orders, large_orders_share.\n",
        "\n",
        "Долю заказов с пятью и более товарами в общем количестве товаров округлите до двух знаков после запятой.\n",
        "\n",
        "Поля в результирующей таблице: orders, large_orders, large_orders_share"
      ],
      "metadata": {
        "id": "S5eV74Tk-TnX"
      }
    },
    {
      "cell_type": "code",
      "source": [
        "SELECT COUNT(o.order_id) as orders,\n",
        "       COUNT(o.order_id)  FILTER (WHERE ARRAY_LENGTH(product_ids, 1) >= 5) as large_orders,\n",
        "       ROUND(COUNT(o.order_id) FILTER (WHERE ARRAY_LENGTH(product_ids, 1) >= 5)::DECIMAL / COUNT(o.order_id),\n",
        "             2) as large_orders_share\n",
        "FROM orders as o"
      ],
      "metadata": {
        "id": "YU5eouCs-TyX"
      },
      "execution_count": null,
      "outputs": []
    },
    {
      "cell_type": "markdown",
      "source": [
        "<b>Задача 49</b>\n",
        "\n",
        "С помощью оператора GROUP BY посчитайте количество курьеров мужского и женского пола в таблице couriers.\n",
        "\n",
        "Новую колонку с числом курьеров назовите couriers_count.\n",
        "\n",
        "Результат отсортируйте по этой колонке по возрастанию.\n",
        "\n",
        "Поля в результирующей таблице: sex, couriers_count"
      ],
      "metadata": {
        "id": "5Q8WEEWCQ_Hq"
      }
    },
    {
      "cell_type": "code",
      "source": [
        "SELECT c.sex,\n",
        "       COUNT(*) as couriers_count\n",
        "FROM couriers as c\n",
        "GROUP BY 1\n",
        "ORDER BY 2"
      ],
      "metadata": {
        "id": "7UaeezJIQ_bv"
      },
      "execution_count": null,
      "outputs": []
    },
    {
      "cell_type": "markdown",
      "source": [
        "<b>Задача 50</b>\n",
        "\n",
        "Посчитайте количество созданных и отменённых заказов в таблице user_actions.\n",
        "\n",
        "Новую колонку с числом заказов назовите orders_count.\n",
        "\n",
        "Результат отсортируйте по числу заказов по возрастанию.\n",
        "\n",
        "Поля в результирующей таблице: action, orders_count"
      ],
      "metadata": {
        "id": "NnyfOHpKQ_ok"
      }
    },
    {
      "cell_type": "code",
      "source": [
        "SELECT ua.action,\n",
        "       COUNT(*) as orders_count\n",
        "FROM user_actions as ua\n",
        "GROUP BY 1\n",
        "ORDER BY 2"
      ],
      "metadata": {
        "id": "j8E-MYkzQ_zb"
      },
      "execution_count": null,
      "outputs": []
    },
    {
      "cell_type": "markdown",
      "source": [
        "<b>Задача 51</b>\n",
        "\n",
        "Используя группировку и функцию DATE_TRUNC, приведите все даты к началу месяца и посчитайте, <br>сколько заказов было сделано в каждом из них.\n",
        "\n",
        "Расчёты проведите по таблице orders. Колонку с усечённой датой назовите month, колонку с количеством заказов — orders_count.\n",
        "\n",
        "Результат отсортируйте по месяцам — по возрастанию.\n",
        "\n",
        "Поля в результирующей таблице: month, orders_count"
      ],
      "metadata": {
        "id": "gGYE-bFxQ_95"
      }
    },
    {
      "cell_type": "code",
      "source": [
        "SELECT DATE_TRUNC('month', o.creation_time) as month,\n",
        "       COUNT(*) as orders_count\n",
        "FROM orders as o\n",
        "GROUP BY 1\n",
        "ORDER BY 2"
      ],
      "metadata": {
        "id": "PfXARjYlRALj"
      },
      "execution_count": null,
      "outputs": []
    },
    {
      "cell_type": "markdown",
      "source": [
        "<b>Задача 52</b>\n",
        "\n",
        "Используя группировку и функцию DATE_TRUNC, приведите все даты к началу месяца и посчитайте, <br>сколько заказов было сделано и сколько было отменено в каждом из них.\n",
        "\n",
        "В этот раз расчёты проведите по таблице user_actions. <br>Колонку с усечённой датой назовите month, колонку с количеством заказов — orders_count.\n",
        "\n",
        "Результат отсортируйте сначала по месяцам — по возрастанию, затем по типу действия — тоже по возрастанию.\n",
        "\n",
        "Поля в результирующей таблице: month, action, orders_count"
      ],
      "metadata": {
        "id": "KVsx4Qw0RAXH"
      }
    },
    {
      "cell_type": "code",
      "source": [
        "SELECT DATE_TRUNC('month', ua.time) as month,\n",
        "       ua.action,\n",
        "       COUNT(*) as orders_count\n",
        "FROM user_actions as ua\n",
        "GROUP BY 1, 2\n",
        "ORDER BY 1, 2"
      ],
      "metadata": {
        "id": "QGa4V3MWRAhn"
      },
      "execution_count": null,
      "outputs": []
    },
    {
      "cell_type": "markdown",
      "source": [
        "<b>Задача 53</b>\n",
        "\n",
        "По данным в таблице users посчитайте максимальный порядковый номер месяца среди всех порядковых номеров месяцев рождения пользователей сервиса. С помощью группировки проведите расчёты отдельно в двух группах — для пользователей мужского и женского пола.\n",
        "\n",
        "Новую колонку с максимальным номером месяца рождения в группах назовите max_month. Преобразуйте значения в новой колонке в формат INTEGER, чтобы порядковый номер был выражен целым числом.\n",
        "\n",
        "Результат отсортируйте по колонке с полом пользователей.\n",
        "\n",
        "Поля в результирующей таблице: sex, max_month"
      ],
      "metadata": {
        "id": "2ftNOv8aRAtW"
      }
    },
    {
      "cell_type": "code",
      "source": [
        "SELECT u.sex,\n",
        "       MAX(DATE_PART('month', u.birth_date))::integer as max_month\n",
        "FROM users as u\n",
        "GROUP BY 1\n",
        "ORDER BY 1"
      ],
      "metadata": {
        "id": "Itcy6eKLRA39"
      },
      "execution_count": null,
      "outputs": []
    },
    {
      "cell_type": "markdown",
      "source": [
        "<b>Задача 54</b>\n",
        "\n",
        "По данным в таблице users посчитайте порядковый номер месяца рождения самого молодого пользователя сервиса. С помощью группировки проведите расчёты отдельно в двух группах — для пользователей мужского и женского пола.\n",
        "\n",
        "Новую колонку с максимальным номером месяца рождения в группах назовите max_month. Преобразуйте значения в новой колонке в формат INTEGER, чтобы порядковый номер был выражен целым числом.\n",
        "\n",
        "Результат отсортируйте по колонке с полом пользователей.\n",
        "\n",
        "Поля в результирующей таблице: sex, max_month"
      ],
      "metadata": {
        "id": "hZy5CzjgRBCg"
      }
    },
    {
      "cell_type": "code",
      "source": [
        "SELECT u.sex,\n",
        "       DATE_PART('month', max(u.birth_date))::integer as max_month\n",
        "FROM users as u\n",
        "GROUP BY 1\n",
        "ORDER BY 1"
      ],
      "metadata": {
        "id": "oD0bEwUHRBNX"
      },
      "execution_count": null,
      "outputs": []
    },
    {
      "cell_type": "markdown",
      "source": [
        "<b>Задача 55</b>\n",
        "\n",
        "Посчитайте максимальный возраст пользователей мужского и женского пола в таблице users. Возраст измерьте числом полных лет.\n",
        "\n",
        "Новую колонку с возрастом назовите max_age. Преобразуйте значения в новой колонке в формат INTEGER, чтобы возраст был выражен целым числом.\n",
        "\n",
        "Результат отсортируйте по новой колонке по возрастанию возраста.\n",
        "\n",
        "Поля в результирующей таблице: sex, max_age"
      ],
      "metadata": {
        "id": "thYA0u3_RBWy"
      }
    },
    {
      "cell_type": "code",
      "source": [
        "SELECT u.sex,\n",
        "       DATE_PART('year', MAX(AGE(current_date, u.birth_date)))::integer as max_age\n",
        "FROM users as u\n",
        "GROUP BY 1\n",
        "ORDER BY 2"
      ],
      "metadata": {
        "id": "mSN3usZTRBgk"
      },
      "execution_count": null,
      "outputs": []
    },
    {
      "cell_type": "markdown",
      "source": [
        "<b>Задача 56</b>\n",
        "\n",
        "Разбейте пользователей из таблицы users на группы по возрасту (возраст по-прежнему измеряем числом полных лет) и посчитайте количество пользователей каждого возраста.\n",
        "\n",
        "Колонку с возрастом назовите age, а колонку с числом пользователей — users_count. Преобразуйте значения в колонке с возрастом в формат INTEGER, чтобы возраст был выражен целым числом.\n",
        "\n",
        "Результат отсортируйте по колонке с возрастом по возрастанию.\n",
        "\n",
        "Поля в результирующей таблице: age, users_count"
      ],
      "metadata": {
        "id": "zP9SPFc3RBp1"
      }
    },
    {
      "cell_type": "code",
      "source": [
        "SELECT DATE_PART('year', AGE(current_date, u.birth_date))::integer as age,\n",
        "       COUNT(*) as users_count\n",
        "FROM users as u\n",
        "GROUP BY 1\n",
        "ORDER BY 1"
      ],
      "metadata": {
        "id": "3gH5WCOtRBzV"
      },
      "execution_count": null,
      "outputs": []
    },
    {
      "cell_type": "markdown",
      "source": [
        "<b>Задача 57</b>\n",
        "\n",
        "Вновь разбейте пользователей из таблицы users на группы по возрасту (возраст по-прежнему измеряем количеством полных лет), только теперь добавьте в группировку ещё и пол пользователя. Затем посчитайте количество пользователей в каждой половозрастной группе.\n",
        "\n",
        "Все NULL значения в колонке birth_date заранее отфильтруйте с помощью WHERE.\n",
        "\n",
        "Колонку с возрастом назовите age, а колонку с числом пользователей — users_count, имя колонки с полом оставьте без изменений. Преобразуйте значения в колонке с возрастом в формат INTEGER, чтобы возраст был выражен целым числом.\n",
        "\n",
        "Отсортируйте полученную таблицу сначала по колонке с возрастом по возрастанию, затем по колонке с полом — тоже по возрастанию.\n",
        "\n",
        "Поля в результирующей таблице: age, sex, users_count"
      ],
      "metadata": {
        "id": "QnBfZSkgRB8b"
      }
    },
    {
      "cell_type": "code",
      "source": [
        "SELECT DATE_PART('year', AGE(current_date, u.birth_date))::integer as age,\n",
        "       u.sex,\n",
        "       COUNT(*) as users_count\n",
        "FROM users as u\n",
        "WHERE u.birth_date is not null\n",
        "GROUP BY 1, 2\n",
        "ORDER BY 1, 2"
      ],
      "metadata": {
        "id": "x2-8BXy8RCF1"
      },
      "execution_count": null,
      "outputs": []
    },
    {
      "cell_type": "markdown",
      "source": [
        "<b>Задача 58</b>\n",
        "\n",
        "Посчитайте количество товаров в каждом заказе, примените к этим значениям группировку и рассчитайте количество заказов в каждой группе за неделю с 29 августа по 4 сентября 2022 года включительно. Для расчётов используйте данные из таблицы orders.\n",
        "\n",
        "Выведите две колонки: размер заказа и число заказов такого размера за указанный период. Колонки назовите соответственно order_size и orders_count.\n",
        "\n",
        "Результат отсортируйте по возрастанию размера заказа.\n",
        "\n",
        "Поля в результирующей таблице: order_size, orders_count"
      ],
      "metadata": {
        "id": "OBzs7SRLRCOr"
      }
    },
    {
      "cell_type": "code",
      "source": [
        "SELECT array_length(o.product_ids, 1) as order_size,\n",
        "       COUNT(*) as orders_count\n",
        "FROM orders as o\n",
        "WHERE o.creation_time BETWEEN '2022-08-29' AND '2022-09-05'\n",
        "GROUP BY 1\n",
        "ORDER BY 1"
      ],
      "metadata": {
        "id": "qSs352dLRCYB"
      },
      "execution_count": null,
      "outputs": []
    },
    {
      "cell_type": "markdown",
      "source": [
        "<b>Задача 59</b>\n",
        "\n",
        "Посчитайте количество товаров в каждом заказе, примените к этим значениям группировку и рассчитайте количество заказов в каждой группе. Учитывайте только заказы, оформленные по будням. В результат включите только те размеры заказов, общее число которых превышает 2000. Для расчётов используйте данные из таблицы orders.\n",
        "\n",
        "Выведите две колонки: размер заказа и число заказов такого размера. Колонки назовите соответственно order_size и orders_count.\n",
        "\n",
        "Результат отсортируйте по возрастанию размера заказа.\n",
        "\n",
        "Поля в результирующей таблице: order_size, orders_count\n",
        "\n",
        "Когда решите эту задачу, вернитесь к одной из предыдущих и подумайте, могли бы мы ещё каким-то способом сделать так, чтобы в результат не попала группа с NULL значениями. Можете самостоятельно написать ещё один запрос и попробовать сдать его в качестве альтернативного решения."
      ],
      "metadata": {
        "id": "acvxKvIWRCgX"
      }
    },
    {
      "cell_type": "code",
      "source": [
        "SELECT array_length(o.product_ids, 1) as order_size,\n",
        "       COUNT(*) as orders_count\n",
        "FROM orders as o\n",
        "WHERE DATE_PART('isodow', o.creation_time)::integer BETWEEN 1 AND 5\n",
        "GROUP BY 1\n",
        "HAVING COUNT(*) > 2000\n",
        "ORDER BY 1"
      ],
      "metadata": {
        "id": "msR0Z282RCtY"
      },
      "execution_count": null,
      "outputs": []
    },
    {
      "cell_type": "markdown",
      "source": [
        "<b>Задача 60</b>\n",
        "\n",
        "По данным из таблицы user_actions определите пять пользователей, сделавших в августе 2022 года наибольшее количество заказов.\n",
        "\n",
        "Выведите две колонки — id пользователей и число оформленных ими заказов. Колонку с числом оформленных заказов назовите created_orders.\n",
        "\n",
        "Результат отсортируйте сначала по убыванию числа заказов, сделанных пятью пользователями, затем по возрастанию id этих пользователей.\n",
        "\n",
        "Поля в результирующей таблице: user_id, created_orders"
      ],
      "metadata": {
        "id": "8zX-nQN6RC1v"
      }
    },
    {
      "cell_type": "code",
      "source": [
        "SELECT ua.user_id,\n",
        "       COUNT(*) as created_orders\n",
        "FROM user_actions as ua\n",
        "WHERE ua.action = 'create_order'\n",
        "AND DATE_PART('month', ua.time) = 8\n",
        "GROUP BY 1\n",
        "ORDER BY 2 DESC, 1\n",
        "LIMIT 5"
      ],
      "metadata": {
        "id": "iDk532XnRC_q"
      },
      "execution_count": null,
      "outputs": []
    },
    {
      "cell_type": "markdown",
      "source": [
        "<b>Задача 61</b>\n",
        "\n",
        "А теперь по данным таблицы courier_actions определите курьеров, которые в сентябре 2022 года доставили только по одному заказу.\n",
        "\n",
        "В этот раз выведите всего одну колонку с id курьеров. Колонку с числом заказов в результат включать не нужно.\n",
        "\n",
        "Результат отсортируйте по возрастанию id курьера.\n",
        "\n",
        "Поле в результирующей таблице: courier_id"
      ],
      "metadata": {
        "id": "a24E0Hx8LWOn"
      }
    },
    {
      "cell_type": "code",
      "source": [
        "SELECT ca.courier_id\n",
        "FROM courier_actions as ca\n",
        "WHERE DATE_PART('month', ca.time) = 9\n",
        "AND DATE_PART('year', ca.time) = 2022\n",
        "AND ca.action = 'deliver_order'\n",
        "GROUP BY 1\n",
        "HAVING COUNT(DISTINCT ca.order_id) = 1\n",
        "ORDER BY 1"
      ],
      "metadata": {
        "id": "Fp7nCdfJLeK2"
      },
      "execution_count": null,
      "outputs": []
    },
    {
      "cell_type": "markdown",
      "source": [
        "<b>Задача 62</b>\n",
        "\n",
        "Из таблицы user_actions отберите пользователей, у которых последний заказ был создан до 8 сентября 2022 года.\n",
        "\n",
        "Выведите только их id, дату создания заказа выводить не нужно.\n",
        "\n",
        "Результат отсортируйте по возрастанию id пользователя.\n",
        "\n",
        "Поле в результирующей таблице: user_id"
      ],
      "metadata": {
        "id": "5ZRGDGhWLWq0"
      }
    },
    {
      "cell_type": "code",
      "source": [
        "SELECT ua.user_id\n",
        "FROM user_actions as ua\n",
        "WHERE ua.action = 'create_order'\n",
        "GROUP BY 1\n",
        "HAVING MAX(ua.time) < '2022-09-08'\n",
        "ORDER BY 1"
      ],
      "metadata": {
        "id": "w5_kvxjlLgEt"
      },
      "execution_count": null,
      "outputs": []
    },
    {
      "cell_type": "markdown",
      "source": [
        "<b>Задача 63</b>\n",
        "\n",
        "По данным из таблицы orders рассчитайте средний размер заказа по выходным и по будням.\n",
        "\n",
        "Группу с выходными днями (суббота и воскресенье) назовите «weekend», а группу с будними днями (с понедельника по пятницу) — «weekdays» (без кавычек).\n",
        "\n",
        "В результат включите две колонки: колонку с группами назовите week_part, а колонку со средним размером заказа — avg_order_size.\n",
        "\n",
        "Средний размер заказа округлите до двух знаков после запятой.\n",
        "\n",
        "Результат отсортируйте по колонке со средним размером заказа — по возрастанию.\n",
        "\n",
        "Поля в результирующей таблице: week_part, avg_order_size"
      ],
      "metadata": {
        "id": "suR3qSCkLXBG"
      }
    },
    {
      "cell_type": "code",
      "source": [
        "SELECT\n",
        "      CASE\n",
        "      WHEN DATE_PART('dow', o.creation_time) BETWEEN 1 AND 5 THEN 'weekdays'\n",
        "      WHEN DATE_PART('dow', o.creation_time) IN (6, 0) THEN 'weekend'\n",
        "      END as week_part,\n",
        "      ROUND(AVG(ARRAY_LENGTH(o.product_ids, 1)), 2) as avg_order_size\n",
        "FROM orders as o\n",
        "GROUP BY 1\n",
        "ORDER BY 2"
      ],
      "metadata": {
        "id": "NupPTzMSLXLY"
      },
      "execution_count": null,
      "outputs": []
    },
    {
      "cell_type": "markdown",
      "source": [
        "<b>Задача 64</b>\n",
        "\n",
        "Разбейте пользователей из таблицы users на 4 возрастные группы:\n",
        "\n",
        "от 19 до 24 лет;<br>\n",
        "от 25 до 29 лет;<br>\n",
        "от 30 до 35 лет;<br>\n",
        "от 36 до 41 года.<br>\n",
        "Посчитайте число пользователей, попавших в каждую возрастную группу. Группы назовите соответственно «19-24», «25-29», «30-35», «36-41» (без кавычек).\n",
        "\n",
        "Выведите наименования групп и число пользователей в них. Колонку с наименованием групп назовите group_age, а колонку с числом пользователей — users_count.\n",
        "\n",
        "Отсортируйте полученную таблицу по колонке с наименованием групп по возрастанию.\n",
        "\n",
        "Поля в результирующей таблице: group_age, users_count"
      ],
      "metadata": {
        "id": "xJycyrmHLXVC"
      }
    },
    {
      "cell_type": "code",
      "source": [
        "SELECT\n",
        "      CASE\n",
        "      WHEN DATE_PART('year', AGE(current_date, u.birth_date))::integer BETWEEN 19 AND 24 THEN '19-24'\n",
        "      WHEN DATE_PART('year', AGE(current_date, u.birth_date))::integer BETWEEN 25 and 29 THEN '25-29'\n",
        "      WHEN DATE_PART('year', AGE(current_date, u.birth_date))::integer BETWEEN 30 and 35 THEN '30-35'\n",
        "      WHEN DATE_PART('year', AGE(current_date, u.birth_date))::integer BETWEEN 36 and 41 THEN '36-41'\n",
        "      END as group_age,\n",
        "      COUNT(u.user_id) as users_count\n",
        "FROM users as u\n",
        "WHERE u.birth_date IS NOT NULL\n",
        "GROUP BY 1\n",
        "ORDER BY 1"
      ],
      "metadata": {
        "id": "XvsuQ4TOLXfB"
      },
      "execution_count": null,
      "outputs": []
    },
    {
      "cell_type": "markdown",
      "source": [
        "<b>Задача 65</b>\n",
        "\n",
        "Для каждого пользователя в таблице user_actions посчитайте общее количество оформленных заказов и долю отменённых заказов.\n",
        "\n",
        "Новые колонки назовите соответственно orders_count и cancel_rate. Колонку с долей отменённых заказов округлите до двух знаков после запятой.\n",
        "\n",
        "В результат включите только тех пользователей, которые оформили больше трёх заказов и у которых показатель cancel_rate составляет не менее 0.5.\n",
        "\n",
        "Результат отсортируйте по возрастанию id пользователя.\n",
        "\n",
        "Поля в результирующей таблице: user_id, orders_count, cancel_rate"
      ],
      "metadata": {
        "id": "WT9bYIvsLXoZ"
      }
    },
    {
      "cell_type": "code",
      "source": [
        "SELECT ua.user_id,\n",
        "       COUNT(DISTINCT ua.order_id) as orders_count,\n",
        "       ROUND(COUNT(DISTINCT ua.order_id) FILTER(WHERE ua.action = 'cancel_order')::decimal / COUNT(DISTINCT ua.order_id), 2) as cancel_rate\n",
        "FROM user_actions as ua\n",
        "GROUP BY 1\n",
        "HAVING COUNT(DISTINCT ua.order_id) > 3\n",
        "AND ROUND(COUNT(DISTINCT ua.order_id) FILTER(WHERE  ua.action = 'cancel_order')::decimal / COUNT(DISTINCT ua.order_id), 2) >= 0.5\n",
        "ORDER BY 1"
      ],
      "metadata": {
        "id": "EaqmhOUNLXxz"
      },
      "execution_count": null,
      "outputs": []
    },
    {
      "cell_type": "markdown",
      "source": [
        "<b>Задача 66</b>\n",
        "\n",
        "Для каждого дня недели в таблице user_actions посчитайте:\n",
        "\n",
        "Общее количество оформленных заказов.<br>\n",
        "Общее количество отменённых заказов.<br>\n",
        "Общее количество неотменённых заказов (т.е. доставленных).<br>\n",
        "Долю неотменённых заказов в общем числе заказов (success rate).<br>\n",
        "Новые колонки назовите соответственно created_orders, canceled_orders, actual_orders и success_rate. Колонку с долей неотменённых заказов округлите до трёх знаков после запятой.\n",
        "\n",
        "Все расчёты проводите за период с 24 августа по 6 сентября 2022 года включительно, чтобы во временной интервал попало равное количество разных дней недели."
      ],
      "metadata": {
        "id": "E8U-EvekLX6I"
      }
    },
    {
      "cell_type": "code",
      "source": [
        "SELECT DATE_PART('isodow', ua.time)::integer as weekday_number,\n",
        "       TO_CHAR(ua.time, 'Dy') as weekday,\n",
        "       COUNT(DISTINCT ua.order_id) FILTER (WHERE ua.action = 'create_order') as created_orders,\n",
        "       COUNT(DISTINCT ua.order_id) FILTER (WHERE ua.action = 'cancel_order') as canceled_orders,\n",
        "       COUNT(DISTINCT ua.order_id) FILTER (WHERE ua.action = 'create_order') - COUNT(DISTINCT ua.order_id) FILTER (WHERE ua.action = 'cancel_order') as actual_orders,\n",
        "       ROUND((COUNT(DISTINCT ua.order_id) FILTER (WHERE ua.action = 'create_order') - COUNT(DISTINCT ua.order_id) FILTER (WHERE ua.action = 'cancel_order'))::decimal / COUNT(DISTINCT ua.order_id) FILTER (WHERE ua.action = 'create_order'), 3) as success_rate\n",
        "FROM user_actions as ua\n",
        "WHERE ua.time BETWEEN '2022-08-24'\n",
        "AND '2022-09-07'\n",
        "GROUP BY 1, 2\n",
        "ORDER BY 1"
      ],
      "metadata": {
        "id": "qVpLWZKXLYHI"
      },
      "execution_count": null,
      "outputs": []
    },
    {
      "cell_type": "markdown",
      "source": [
        "<b>Задача 67</b>\n",
        "\n",
        "Используя данные из таблицы user_actions, рассчитайте среднее число заказов всех пользователей нашего сервиса.\n",
        "\n",
        "Для этого сначала в подзапросе посчитайте, сколько заказов сделал каждый пользователь, а затем обратитесь к результату подзапроса в блоке FROM и уже в основном запросе усредните количество заказов по всем пользователям.\n",
        "\n",
        "Полученное среднее число заказов всех пользователей округлите до двух знаков после запятой. Колонку с этим значением назовите orders_avg.\n",
        "\n",
        "Поле в результирующей таблице: orders_avg\n"
      ],
      "metadata": {
        "id": "6vZF5_zx-Pt9"
      }
    },
    {
      "cell_type": "code",
      "source": [
        "SELECT ROUND(AVG(orders_count), 2) as orders_avg\n",
        "FROM (SELECT user_id,\n",
        "             COUNT(order_id) as orders_count\n",
        "      FROM user_actions\n",
        "      WHERE action = 'create_order'\n",
        "      GROUP BY user_id) as t1"
      ],
      "metadata": {
        "id": "zysMAh1d-P46"
      },
      "execution_count": null,
      "outputs": []
    },
    {
      "cell_type": "markdown",
      "source": [
        "<b>Задача 68</b>\n",
        "\n",
        "Повторите запрос из предыдущего задания, но теперь вместо подзапроса используйте оператор WITH и табличное выражение. Условия задачи те же.\n",
        "\n",
        "Поле в результирующей таблице: orders_avg\n"
      ],
      "metadata": {
        "id": "4VAylGQQ-QGV"
      }
    },
    {
      "cell_type": "code",
      "source": [
        "WITH subquery_1 as (SELECT user_id,\n",
        "                           COUNT(order_id) as orders_count\n",
        "                    FROM  user_actions\n",
        "                    WHERE action = 'create_order'\n",
        "                    GROUP BY 1)\n",
        "\n",
        "SELECT ROUND(AVG(orders_count), 2) as orders_avg\n",
        "FROM subquery_1"
      ],
      "metadata": {
        "id": "nnCQJAiq-QRD"
      },
      "execution_count": null,
      "outputs": []
    },
    {
      "cell_type": "markdown",
      "source": [
        "<b>Задача 69</b>\n",
        "\n",
        "Выведите из таблицы products информацию о всех товарах кроме самого дешёвого. Результат отсортируйте по убыванию id товара.\n",
        "\n",
        "Поля в результирующей таблице: product_id, name, price\n"
      ],
      "metadata": {
        "id": "5l-chApO-QeO"
      }
    },
    {
      "cell_type": "code",
      "source": [
        "SELECT p.product_id,\n",
        "       p.name,\n",
        "       p.price\n",
        "FROM products as p\n",
        "WHERE p.price != (SELECT MIN(p.price)\n",
        "                  FROM products as p)\n",
        "ORDER BY 1 DESC"
      ],
      "metadata": {
        "id": "pUkIX_hK-QpG"
      },
      "execution_count": null,
      "outputs": []
    },
    {
      "cell_type": "markdown",
      "source": [
        "<b>Задача 70</b>\n",
        "\n",
        "Выведите информацию о товарах в таблице products, цена на которые превышает среднюю цену всех товаров на 20 рублей и более. Результат отсортируйте по убыванию id товара.\n",
        "\n",
        "Поля в результирующей таблице: product_id, name, price"
      ],
      "metadata": {
        "id": "662Azl3l-QzQ"
      }
    },
    {
      "cell_type": "code",
      "source": [
        "SELECT p.product_id,\n",
        "       p.name,\n",
        "       p.price\n",
        "FROM products as p\n",
        "WHERE p.price >= (SELECT AVG(p.price)\n",
        "                  FROM products as p) + 20\n",
        "ORDER BY 1 DESC"
      ],
      "metadata": {
        "id": "biHaY8TE-Q-O"
      },
      "execution_count": null,
      "outputs": []
    },
    {
      "cell_type": "markdown",
      "source": [
        "<b>Задача 71</b>\n",
        "\n",
        "Посчитайте количество уникальных клиентов в таблице user_actions, сделавших за последнюю неделю хотя бы один заказ. Полученную колонку со значением назовите users_count. В качестве текущей даты, от которой откладывать неделю, используйте последнюю дату в той же таблице user_actions.\n",
        "\n",
        "Поле в результирующей таблице: users_count"
      ],
      "metadata": {
        "id": "WwcHDcAK-RIk"
      }
    },
    {
      "cell_type": "code",
      "source": [
        "SELECT COUNT(DISTINCT ua.user_id) as users_count\n",
        "FROM user_actions as ua\n",
        "WHERE ua.time >= (SELECT MAX(ua.time)\n",
        "                  FROM user_actions as ua) - INTERVAL '1 week'\n",
        "                  AND ua.action = 'create_order'"
      ],
      "metadata": {
        "id": "tuCR1BFL-RSP"
      },
      "execution_count": null,
      "outputs": []
    },
    {
      "cell_type": "markdown",
      "source": [
        "<b>Задача 72</b>\n",
        "\n",
        "С помощью функции AGE() и агрегирующей функции снова рассчитайте возраст самого молодого курьера мужского пола в таблице couriers, но в этот раз в качестве первой даты используйте последнюю дату из таблицы courier_actions. Чтобы получилась именно дата, перед применением функции AGE() переведите посчитанную последнюю дату в формат DATE, как мы делали в этом задании. Возраст курьера измерьте количеством лет, месяцев и дней и переведите его в тип VARCHAR. Полученную колонку со значением возраста назовите min_age.\n",
        "\n",
        "Поле в результирующей таблице: min_age\n"
      ],
      "metadata": {
        "id": "eHo85Wm0-Rb5"
      }
    },
    {
      "cell_type": "code",
      "source": [
        "SELECT MIN(AGE((SELECT MAX(ca.time)\n",
        "                FROM courier_actions as ca)::date, c.birth_date)::varchar) as min_age\n",
        "FROM couriers as c\n",
        "WHERE c.sex = 'male'"
      ],
      "metadata": {
        "id": "90Zl0gVr-RlC"
      },
      "execution_count": null,
      "outputs": []
    },
    {
      "cell_type": "markdown",
      "source": [
        "<b>Задача 73</b>\n",
        "\n",
        "Из таблицы user_actions с помощью подзапроса или табличного выражения отберите все заказы, которые не были отменены пользователями. Выведите колонку с id этих заказов. Результат запроса отсортируйте по возрастанию id заказа. Добавьте в запрос оператор LIMIT и выведите только первые 1000 строк результирующей таблицы.\n",
        "\n",
        "Поле в результирующей таблице: order_id\n"
      ],
      "metadata": {
        "id": "EcrblnVL-RuR"
      }
    },
    {
      "cell_type": "code",
      "source": [
        "WITH subquery_1 as (SELECT ua.order_id\n",
        "                    FROM user_actions as ua\n",
        "                    WHERE action = 'cancel_order')\n",
        "SELECT ua.order_id\n",
        "FROM user_actions as ua\n",
        "WHERE ua.order_id NOT IN (SELECT *\n",
        "                          FROM subquery_1)\n",
        "ORDER BY 1\n",
        "LIMIT 1000"
      ],
      "metadata": {
        "id": "TVa5Kv0C-R2n"
      },
      "execution_count": null,
      "outputs": []
    },
    {
      "cell_type": "markdown",
      "source": [
        "<b>Задача 74</b>\n",
        "\n",
        "Используя данные из таблицы user_actions, рассчитайте, сколько заказов сделал каждый пользователь и отразите это в столбце orders_count. В отдельном столбце orders_avg напротив каждого пользователя укажите среднее число заказов всех пользователей, округлив его до двух знаков после запятой. Также для каждого пользователя посчитайте отклонение числа заказов от среднего значения. Отклонение считайте так: число заказов «минус» округлённое среднее значение. Колонку с отклонением назовите orders_diff. Результат отсортируйте по возрастанию id пользователя. Добавьте в запрос оператор LIMIT и выведите только первые 1000 строк результирующей таблицы.\n",
        "\n",
        "Поля в результирующей таблице: user_id, orders_count, orders_avg, orders_diff"
      ],
      "metadata": {
        "id": "e5lGpYTI-R_G"
      }
    },
    {
      "cell_type": "code",
      "source": [
        "WITH subquery_1 as (SELECT ua.user_id,\n",
        "                           COUNT(DISTINCT ua.order_id) as orders_count\n",
        "                    FROM user_actions as ua\n",
        "                    WHERE ua.action = 'create_order'\n",
        "                    GROUP BY 1),\n",
        "\n",
        "subquery_2 as (SELECT ROUND(AVG(orders_count), 2) as orders_avg\n",
        "               FROM subquery_1)\n",
        "SELECT user_id,\n",
        "       orders_count,\n",
        "       (SELECT orders_avg\n",
        "        FROM subquery_2),\n",
        "       orders_count - (SELECT orders_avg\n",
        "                       FROM subquery_2) as orders_diff\n",
        "FROM subquery_1\n",
        "ORDER BY 1\n",
        "LIMIT 1000"
      ],
      "metadata": {
        "id": "1klEvD7h-SHY"
      },
      "execution_count": null,
      "outputs": []
    },
    {
      "cell_type": "markdown",
      "source": [
        "<b>Задача 75\n",
        "\n",
        "Выведите id и содержимое 100 последних доставленных заказов из таблицы orders. Содержимым заказов считаются списки с id входящих в заказ товаров. Результат отсортируйте по возрастанию id заказа.\n",
        "\n",
        "Поля в результирующей таблице: order_id, product_ids\n"
      ],
      "metadata": {
        "id": "9_DB7vJA-SPZ"
      }
    },
    {
      "cell_type": "code",
      "source": [
        "WITH subquery_1 as(SELECT ca.order_id\n",
        "                   FROM courier_actions as ca\n",
        "                   WHERE ca.action = 'deliver_order'\n",
        "                   ORDER BY ca.time DESC\n",
        "                   LIMIT 100)\n",
        "\n",
        "SELECT o.order_id,\n",
        "       o.product_ids\n",
        "FROM orders as o\n",
        "WHERE o.order_id IN (SELECT *\n",
        "                      FROM subquery_1)\n",
        "ORDER BY 1"
      ],
      "metadata": {
        "id": "3tn6u2-Q-SXJ"
      },
      "execution_count": null,
      "outputs": []
    },
    {
      "cell_type": "markdown",
      "source": [
        "<b>Задача 76</b>\n",
        "\n",
        "Из таблицы couriers выведите всю информацию о курьерах, которые в сентябре 2022 года доставили 30 и более заказов. Результат отсортируйте по возрастанию id курьера.\n",
        "\n",
        "Поля в результирующей таблице: courier_id, birth_date, sex"
      ],
      "metadata": {
        "id": "WPuY3rpH-Se9"
      }
    },
    {
      "cell_type": "code",
      "source": [
        "WITH subquery_1 as(SELECT ca.courier_id\n",
        "                   FROM courier_actions as ca\n",
        "                   WHERE ca.action = 'deliver_order'\n",
        "                   AND DATE_PART('month', ca.time) = 9\n",
        "                   AND DATE_PART('year', ca.time) = 2022\n",
        "                   GROUP BY 1\n",
        "                   HAVING COUNT(ca.order_id) >= 30)\n",
        "\n",
        "SELECT c.courier_id,\n",
        "       c.birth_date,\n",
        "       c.sex\n",
        "FROM couriers as c\n",
        "WHERE c.courier_id IN (SELECT *\n",
        "                       FROM subquery_1)\n",
        "ORDER BY 1"
      ],
      "metadata": {
        "id": "MzWvrI7M-SmH"
      },
      "execution_count": null,
      "outputs": []
    },
    {
      "cell_type": "markdown",
      "source": [
        "<b>Задача 77</b>\n",
        "\n",
        "Назначьте скидку 15% на товары, цена которых превышает среднюю цену на все товары на 50 и более рублей, а также скидку 10% на товары, цена которых ниже средней на 50 и более рублей. Цену остальных товаров внутри диапазона (среднее - 50; среднее + 50) оставьте без изменений. При расчёте средней цены, округлите её до двух знаков после запятой.\n",
        "\n",
        "Выведите информацию о всех товарах с указанием старой и новой цены. Колонку с новой ценой назовите new_price. Результат отсортируйте сначала по убыванию прежней цены в колонке price, затем по возрастанию id товара.\n",
        "\n",
        "Поля в результирующей таблице: product_id, name, price, new_price"
      ],
      "metadata": {
        "id": "DgfzsHh3m-F0"
      }
    },
    {
      "cell_type": "code",
      "source": [
        "SELECT p.product_id,\n",
        "       p.name,\n",
        "       p.price,\n",
        "       CASE WHEN p.price > (SELECT ROUND(AVG(p.price), 2)\n",
        "                            FROM products as p) + 50 THEN p.price * 0.85\n",
        "            WHEN p.price < (SELECT ROUND(AVG(p.price), 2)\n",
        "                            FROM products as p) - 50 THEN p.price * 0.90\n",
        "            ELSE p.price\n",
        "            END as new_price\n",
        "FROM products as p\n",
        "ORDER BY 3 DESC, 1"
      ],
      "metadata": {
        "id": "1eI5PR7gm-V7"
      },
      "execution_count": null,
      "outputs": []
    },
    {
      "cell_type": "markdown",
      "source": [
        "<b>Задача 78</b>\n",
        "\n",
        "Выберите все колонки из таблицы orders, но в качестве последней колонки укажите функцию unnest, применённую к колонке product_ids. Новую колонку назовите product_id. Выведите только первые 100 записей результирующей таблицы. Посмотрите на результат работы функции unnest и постарайтесь разобраться, что произошло с исходной таблицей.\n",
        "\n",
        "Поля в результирующей таблице: creation_time, order_id, product_ids, product_id"
      ],
      "metadata": {
        "id": "-zf7Pl44m-ig"
      }
    },
    {
      "cell_type": "code",
      "source": [
        "SELECT o.creation_time,\n",
        "       o.order_id,\n",
        "       o.product_ids,\n",
        "       UNNEST(o.product_ids) as product_id\n",
        "FROM orders as o\n",
        "LIMIT 100"
      ],
      "metadata": {
        "id": "Vw4_Amw6m-th"
      },
      "execution_count": null,
      "outputs": []
    },
    {
      "cell_type": "markdown",
      "source": [
        "<b>Задача 79</b>\n",
        "\n",
        "Используя функцию unnest, определите 10 самых популярных товаров в таблице orders. Самыми популярными будем считать те, которые встречались в заказах чаще всего. Если товар встречается в одном заказе несколько раз (т.е. было куплено несколько единиц товара), то это тоже учитывается при подсчёте.\n",
        "\n",
        "Выведите id товаров и сколько раз они встречались в заказах. Новую колонку с количеством покупок товара назовите times_purchased.\n",
        "\n",
        "Поля в результирующей таблице: product_id, times_purchased"
      ],
      "metadata": {
        "id": "aF4nZS0km-4J"
      }
    },
    {
      "cell_type": "code",
      "source": [
        "WITH subquery_1 as(\n",
        "    SELECT UNNEST(o.product_ids) as product_id\n",
        "    FROM orders as o)\n",
        "\n",
        "SELECT product_id,\n",
        "       COUNT(product_id) as times_purchased\n",
        "FROM subquery_1\n",
        "GROUP BY 1\n",
        "ORDER BY 2 DESC\n",
        "LIMIT 10"
      ],
      "metadata": {
        "id": "ikcVISJBm_Dp"
      },
      "execution_count": null,
      "outputs": []
    },
    {
      "cell_type": "markdown",
      "source": [
        "<b>Задача 80</b>\n",
        "\n",
        "Из таблицы orders выведите id и содержимое заказов, которые включают хотя бы один из пяти самых дорогих товаров, доступных в нашем сервисе. Результат отсортируйте по возрастанию id заказа.\n",
        "\n",
        "Поля в результирующей таблице: order_id, product_ids"
      ],
      "metadata": {
        "id": "0bPo-8GHm_Nz"
      }
    },
    {
      "cell_type": "code",
      "source": [
        "WITH subquery_1 as (\n",
        "    SELECT DISTINCT p.product_id,\n",
        "                    p.price\n",
        "    FROM products as p\n",
        "    ORDER BY 2 DESC\n",
        "    LIMIT 5),\n",
        "\n",
        "    subquery_2 as(\n",
        "    SELECT DISTINCT o.order_id,\n",
        "                    o.product_ids,\n",
        "                    UNNEST(o.product_ids) as product_id\n",
        "    FROM orders as o)\n",
        "\n",
        "SELECT DISTINCT order_id,\n",
        "                product_ids\n",
        "FROM subquery_2\n",
        "WHERE product_id IN (SELECT product_id\n",
        "                      FROM subquery_1)\n",
        "ORDER BY 1"
      ],
      "metadata": {
        "id": "ybMvYnz8m_Yl"
      },
      "execution_count": null,
      "outputs": []
    },
    {
      "cell_type": "markdown",
      "source": [
        "<b>Задача 81</b>\n",
        "\n",
        "Посчитайте возраст каждого пользователя в таблице users. Возраст измерьте числом полных лет, как мы делали в прошлых уроках. Возраст считайте относительно последней даты в таблице user_actions. В результат включите колонки с id пользователя и возрастом. Для тех пользователей, у которых в таблице users не указана дата рождения, укажите среднее значение возраста всех остальных пользователей, округлённое до целого числа. Колонку с возрастом назовите age. Результат отсортируйте по возрастанию id пользователя.\n",
        "\n",
        "Поля в результирующей таблице: user_id, age"
      ],
      "metadata": {
        "id": "rMkiRf8Wm_iI"
      }
    },
    {
      "cell_type": "code",
      "source": [
        "WITH subquery_1 as (SELECT u.user_id,\n",
        "                    DATE_PART('year', AGE((SELECT MAX(ua.time)\n",
        "                                           FROM user_actions as ua), u.birth_date)) as age\n",
        "                   FROM users as u)\n",
        "SELECT user_id,\n",
        "       COALESCE(age, (SELECT ROUND(AVG(age))\n",
        "               FROM subquery_1)) as age\n",
        "FROM subquery_1\n",
        "ORDER BY 1"
      ],
      "metadata": {
        "id": "IZKVCVAvm_sl"
      },
      "execution_count": null,
      "outputs": []
    },
    {
      "cell_type": "markdown",
      "source": [
        "<b>Задача 82</b>\n",
        "\n",
        "Объедините таблицы user_actions и users по ключу user_id. В результат включите две колонки с user_id из обеих таблиц. Эти две колонки назовите соответственно user_id_left и user_id_right. Также в результат включите колонки order_id, time, action, sex, birth_date. Отсортируйте получившуюся таблицу по возрастанию id пользователя (в любой из двух колонок с id).\n",
        "\n",
        "Поля в результирующей таблице: user_id_left, user_id_right,  order_id, time, action, sex, birth_date"
      ],
      "metadata": {
        "id": "-zfhwksqkS1P"
      }
    },
    {
      "cell_type": "code",
      "source": [
        "SELECT ua.user_id as user_id_left,\n",
        "       u.user_id as user_id_right,\n",
        "       order_id,\n",
        "       time,\n",
        "       action,\n",
        "       sex,\n",
        "       birth_date\n",
        "FROM  user_actions as ua\n",
        "INNER JOIN users as u\n",
        "USING(user_id)\n",
        "ORDER BY 1"
      ],
      "metadata": {
        "id": "An43x_MnkTJ1"
      },
      "execution_count": null,
      "outputs": []
    },
    {
      "cell_type": "markdown",
      "source": [
        "<b>Задача 83</b>\n",
        "\n",
        "А теперь попробуйте немного переписать запрос из прошлого задания и посчитать количество уникальных id в объединённой таблице. То есть снова объедините таблицы, но в этот раз просто посчитайте уникальные user_id в одной из колонок с id. Выведите это количество в качестве результата. Колонку с посчитанным значением назовите users_count.\n",
        "\n",
        "Поле в результирующей таблице: users_count"
      ],
      "metadata": {
        "id": "2NKw0m46kTW1"
      }
    },
    {
      "cell_type": "code",
      "source": [
        "SELECT count(distinct ua.user_id) as users_count\n",
        "FROM user_actions as ua\n",
        "INNER JOIN users as u\n",
        "USING(user_id)"
      ],
      "metadata": {
        "id": "azB23zxtkTiP"
      },
      "execution_count": null,
      "outputs": []
    },
    {
      "cell_type": "markdown",
      "source": [
        "<b>Задача 84</b>\n",
        "\n",
        "С помощью LEFT JOIN объедините таблицы user_actions и users по ключу user_id. Обратите внимание на порядок таблиц — слева users_actions, справа users. В результат включите две колонки с user_id из обеих таблиц. Эти две колонки назовите соответственно user_id_left и user_id_right. Также в результат включите колонки order_id, time, action, sex, birth_date. Отсортируйте получившуюся таблицу по возрастанию id пользователя (в колонке из левой таблицы).\n",
        "\n",
        "Поля в результирующей таблице: user_id_left, user_id_right,  order_id, time, action, sex, birth_date"
      ],
      "metadata": {
        "id": "gs_cc4rokTs0"
      }
    },
    {
      "cell_type": "code",
      "source": [
        "SELECT ua.user_id as user_id_left,\n",
        "       u.user_id as user_id_right,\n",
        "       order_id,\n",
        "       time,\n",
        "       action,\n",
        "       sex,\n",
        "       birth_date\n",
        "FROM user_actions as ua\n",
        "LEFT JOIN users as u\n",
        "USING(user_id)\n",
        "ORDER BY 1"
      ],
      "metadata": {
        "id": "4rz4tE30kT4e"
      },
      "execution_count": null,
      "outputs": []
    },
    {
      "cell_type": "markdown",
      "source": [
        "<b>Задача 85</b>\n",
        "\n",
        "Теперь снова попробуйте немного переписать запрос из прошлого задания и посчитайте количество уникальных id в колонке user_id, пришедшей из левой таблицы user_actions. Выведите это количество в качестве результата. Колонку с посчитанным значением назовите users_count.\n",
        "\n",
        "Поле в результирующей таблице: users_count"
      ],
      "metadata": {
        "id": "8cRo0Wc3kUCa"
      }
    },
    {
      "cell_type": "code",
      "source": [
        "SELECT count(distinct ua.user_id) as users_count\n",
        "FROM user_actions as ua\n",
        "LEFT JOIN users as u\n",
        "USING(user_id)"
      ],
      "metadata": {
        "id": "m4EihIJzkUMq"
      },
      "execution_count": null,
      "outputs": []
    },
    {
      "cell_type": "markdown",
      "source": [
        "<b>Задача 86</b>\n",
        "\n",
        "Возьмите запрос из задания 84, где вы объединяли таблицы user_actions и users с помощью LEFT JOIN, добавьте к запросу оператор WHERE и исключите NULL значения в колонке user_id из правой таблицы. Включите в результат все те же колонки и отсортируйте получившуюся таблицу по возрастанию id пользователя в колонке из левой таблицы.\n",
        "\n",
        "Поля в результирующей таблице: user_id_left, user_id_right,  order_id, time, action, sex, birth_date\n"
      ],
      "metadata": {
        "id": "5RsEGouhkUVy"
      }
    },
    {
      "cell_type": "code",
      "source": [
        "SELECT ua.user_id as user_id_left,\n",
        "       u.user_id as user_id_right,\n",
        "       order_id,\n",
        "       time,\n",
        "       action,\n",
        "       sex,\n",
        "       birth_date\n",
        "FROM user_actions as ua\n",
        "LEFT JOIN users as u\n",
        "USING(user_id)\n",
        "WHERE  u.user_id is not null\n",
        "ORDER BY 1"
      ],
      "metadata": {
        "id": "PgBhEsHqkUfx"
      },
      "execution_count": null,
      "outputs": []
    },
    {
      "cell_type": "markdown",
      "source": [
        "<b>Задача 87</b>\n",
        "\n",
        "С помощью FULL JOIN объедините по ключу birth_date таблицы, полученные в результате вышеуказанных запросов (то есть объедините друг с другом два подзапроса). Не нужно изменять их, просто добавьте нужный JOIN.\n",
        "\n",
        "В результат включите две колонки с birth_date из обеих таблиц. Эти две колонки назовите соответственно users_birth_date и couriers_birth_date. Также включите в результат колонки с числом пользователей и курьеров — users_count и couriers_count.\n",
        "\n",
        "Отсортируйте получившуюся таблицу сначала по колонке users_birth_date по возрастанию, затем по колонке couriers_birth_date — тоже по возрастанию.\n",
        "\n",
        "Поля в результирующей таблице: users_birth_date, users_count,  couriers_birth_date, couriers_count"
      ],
      "metadata": {
        "id": "4AxPUEYKVdRe"
      }
    },
    {
      "cell_type": "code",
      "source": [
        "WITH users_birth as(SELECT birth_date,\n",
        "                           COUNT(user_id) as users_count\n",
        "                    FROM users\n",
        "                    WHERE birth_date IS NOT null\n",
        "                    GROUP BY birth_date),\n",
        "\n",
        "couriers_birth as (SELECT birth_date,\n",
        "                          COUNT(courier_id) as couriers_count\n",
        "                   FROM couriers\n",
        "                   WHERE birth_date IS NOT NULL\n",
        "                   GROUP BY birth_date)\n",
        "\n",
        "SELECT ub.birth_date as users_birth_date,\n",
        "       ub.users_count,\n",
        "       cb.birth_date as couriers_birth_date,\n",
        "       cb.couriers_count\n",
        "FROM users_birth as ub\n",
        "FULL JOIN couriers_birth as cb\n",
        "USING(birth_date)\n",
        "ORDER BY 1, 3"
      ],
      "metadata": {
        "id": "VGDpVBPRVdix"
      },
      "execution_count": null,
      "outputs": []
    },
    {
      "cell_type": "markdown",
      "source": [
        "<b>Задача 88</b>\n",
        "\n",
        "Объедините два следующих запроса друг с другом так, чтобы на выходе получился набор уникальных дат из таблиц users и couriers:\n",
        "\n",
        "SELECT birth_date\n",
        "FROM users\n",
        "WHERE birth_date IS NOT NULL\n",
        "\n",
        "\n",
        "SELECT birth_date\n",
        "FROM couriers\n",
        "WHERE birth_date IS NOT NULL\n",
        "\n",
        "\n",
        "Поместите в подзапрос полученный после объединения набор дат и посчитайте их количество. Колонку с числом дат назовите dates_count.\n",
        "\n",
        "Поле в результирующей таблице: dates_count"
      ],
      "metadata": {
        "id": "qRhVUiKmVdtB"
      }
    },
    {
      "cell_type": "code",
      "source": [
        "WITH birth_dates as (\n",
        "SELECT birth_date\n",
        "FROM users\n",
        "WHERE birth_date IS NOT NULL\n",
        "UNION\n",
        "SELECT birth_date\n",
        "FROM couriers\n",
        "WHERE birth_date IS NOT NULL)\n",
        "\n",
        "SELECT COUNT(birth_date) as dates_count\n",
        "FROM birth_dates"
      ],
      "metadata": {
        "id": "7uXYy_dAVd4m"
      },
      "execution_count": null,
      "outputs": []
    },
    {
      "cell_type": "markdown",
      "source": [
        "<b>Задача 89</b>\n",
        "\n",
        "Из таблицы users отберите id первых 100 пользователей (просто выберите первые 100 записей, используя простой LIMIT) и с помощью CROSS JOIN объедините их со всеми наименованиями товаров из таблицы products. Выведите две колонки — id пользователя и наименование товара. Результат отсортируйте сначала по возрастанию id пользователя, затем по имени товара — тоже по возрастанию.\n",
        "\n",
        "Поля в результирующей таблице: user_id, name"
      ],
      "metadata": {
        "id": "rJQcLKuaVeCE"
      }
    },
    {
      "cell_type": "code",
      "source": [
        "WITH first_id_us as(\n",
        "SELECT user_id\n",
        "FROM users\n",
        "LIMIT 100)\n",
        "\n",
        "SELECT user_id,\n",
        "       name\n",
        "FROM  first_id_us\n",
        "CROSS JOIN products\n",
        "ORDER BY 1, 2"
      ],
      "metadata": {
        "id": "Kzh_zv0SVeNL"
      },
      "execution_count": null,
      "outputs": []
    },
    {
      "cell_type": "markdown",
      "source": [
        "<b>Задача 90</b>\n",
        "\n",
        "Для начала объедините таблицы user_actions и orders — это вы уже умеете делать. В качестве ключа используйте поле order_id. Выведите id пользователей и заказов, а также список товаров в заказе. Отсортируйте таблицу по id пользователя по возрастанию, затем по id заказа — тоже по возрастанию.\n",
        "\n",
        "Добавьте в запрос оператор LIMIT и выведите только первые 1000 строк результирующей таблицы.\n",
        "\n",
        "Поля в результирующей таблице: user_id, order_id, product_ids"
      ],
      "metadata": {
        "id": "pV5iUv2xVeYZ"
      }
    },
    {
      "cell_type": "code",
      "source": [
        "SELECT ua.user_id,\n",
        "       ua.order_id,\n",
        "       o.product_ids\n",
        "FROM  user_actions as ua\n",
        "LEFT JOIN orders as o\n",
        "USING(order_id)\n",
        "ORDER BY 1, 2\n",
        "LIMIT 1000"
      ],
      "metadata": {
        "id": "6fJy7oxaVejR"
      },
      "execution_count": null,
      "outputs": []
    },
    {
      "cell_type": "markdown",
      "source": [
        "<b>Задача 91</b>\n",
        "\n",
        "Снова объедините таблицы user_actions и orders, но теперь оставьте только уникальные неотменённые заказы (мы делали похожий запрос на прошлом уроке). Остальные условия задачи те же: вывести id пользователей и заказов, а также список товаров в заказе. Отсортируйте таблицу по id пользователя по возрастанию, затем по id заказа — тоже по возрастанию.\n",
        "\n",
        "Добавьте в запрос оператор LIMIT и выведите только первые 1000 строк результирующей таблицы.\n",
        "\n",
        "Поля в результирующей таблице: user_id, order_id, product_ids"
      ],
      "metadata": {
        "id": "aEjiTLMlVetE"
      }
    },
    {
      "cell_type": "code",
      "source": [
        "WITH not_cancel_orders as(\n",
        "SELECT *\n",
        "FROM user_actions\n",
        "WHERE order_id NOT IN (SELECT order_id\n",
        "                        FROM user_actions\n",
        "                        WHERE action = 'cancel_order')\n",
        ")\n",
        "\n",
        "SELECT user_id,\n",
        "       order_id,\n",
        "       product_ids\n",
        "FROM not_cancel_orders\n",
        "JOIN orders\n",
        "USING(order_id)\n",
        "ORDER BY 1, 2\n",
        "LIMIT 1000"
      ],
      "metadata": {
        "id": "yhZrKc9jVe4M"
      },
      "execution_count": null,
      "outputs": []
    },
    {
      "cell_type": "markdown",
      "source": [
        "<b>Задача 92</b>\n",
        "\n",
        "Используя запрос из предыдущего задания, посчитайте, сколько в среднем товаров заказывает каждый пользователь. Выведите id пользователя и среднее количество товаров в заказе. Среднее значение округлите до двух знаков после запятой. Колонку посчитанными значениями назовите avg_order_size. Результат выполнения запроса отсортируйте по возрастанию id пользователя.\n",
        "\n",
        "Добавьте в запрос оператор LIMIT и выведите только первые 1000 строк результирующей таблицы.\n",
        "\n",
        "Поля в результирующей таблице: user_id, avg_order_size"
      ],
      "metadata": {
        "id": "D_a3AKD9VfCF"
      }
    },
    {
      "cell_type": "code",
      "source": [
        "WITH not_cancel_orders as(\n",
        "SELECT *\n",
        "FROM user_actions\n",
        "WHERE order_id NOT IN (SELECT order_id\n",
        "                       FROM user_actions\n",
        "                       WHERE action = 'cancel_order')\n",
        ")\n",
        "\n",
        "SELECT user_id,\n",
        "       ROUND(AVG(ARRAY_LENGTH(product_ids, 1)), 2) as avg_order_size\n",
        "FROM not_cancel_orders\n",
        "JOIN orders\n",
        "USING(order_id)\n",
        "GROUP BY 1\n",
        "ORDER BY 1\n",
        "LIMIT 1000"
      ],
      "metadata": {
        "id": "EJUaTSi1VfMQ"
      },
      "execution_count": null,
      "outputs": []
    },
    {
      "cell_type": "markdown",
      "source": [
        "<b>Задача 93</b>\n",
        "\n",
        "Для начала к таблице с заказами (orders) примените функцию unnest, как мы делали в прошлом уроке. Колонку с id товаров назовите product_id. Затем к образовавшейся расширенной таблице по ключу product_id добавьте информацию о ценах на товары (из таблицы products). Должна получиться таблица с заказами, товарами внутри каждого заказа и ценами на эти товары. Выведите колонки с id заказа, id товара и ценой товара. Результат отсортируйте сначала по возрастанию id заказа, затем по возрастанию id товара.\n",
        "\n",
        "Добавьте в запрос оператор LIMIT и выведите только первые 1000 строк результирующей таблицы.\n",
        "\n",
        "Поля в результирующей таблице: order_id, product_id, price"
      ],
      "metadata": {
        "id": "AKqAsFnJVfVt"
      }
    },
    {
      "cell_type": "code",
      "source": [
        "WITH order_product as(\n",
        "SELECT order_id,\n",
        "UNNEST(product_ids) as product_id\n",
        "FROM orders\n",
        ")\n",
        "\n",
        "SELECT order_id,\n",
        "       product_id,\n",
        "       price\n",
        "FROM order_product\n",
        "LEFT JOIN products\n",
        "USING(product_id)\n",
        "ORDER BY 1, 2\n",
        "LIMIT 1000"
      ],
      "metadata": {
        "id": "xYdxV1I_VffH"
      },
      "execution_count": null,
      "outputs": []
    },
    {
      "cell_type": "markdown",
      "source": [
        "<b>Задача 94</b>\n",
        "\n",
        "Используя запрос из предыдущего задания, рассчитайте суммарную стоимость каждого заказа. Выведите колонки с id заказов и их стоимостью. Колонку со стоимостью заказа назовите order_price. Результат отсортируйте по возрастанию id заказа.\n",
        "\n",
        "Добавьте в запрос оператор LIMIT и выведите только первые 1000 строк результирующей таблицы.\n",
        "\n",
        "Поля в результирующей таблице: order_id, order_price"
      ],
      "metadata": {
        "id": "mu7xnRqeVfm0"
      }
    },
    {
      "cell_type": "code",
      "source": [
        "WITH order_product as(\n",
        "SELECT order_id,\n",
        "UNNEST(product_ids) as product_id\n",
        "FROM orders\n",
        ")\n",
        "\n",
        "SELECT order_id,\n",
        "       SUM(price) as order_price\n",
        "FROM order_product\n",
        "LEFT JOIN products\n",
        "USING(product_id)\n",
        "GROUP BY 1\n",
        "ORDER BY 1\n",
        "LIMIT 1000"
      ],
      "metadata": {
        "id": "2JbnYAk5Vfvb"
      },
      "execution_count": null,
      "outputs": []
    },
    {
      "cell_type": "markdown",
      "source": [
        "<b>Задача 95</b>\n",
        "\n",
        "Объедините запрос из предыдущего задания с частью запроса, который вы составили в задаче 11, то есть объедините запрос со стоимостью заказов с запросом, в котором вы считали размер каждого заказа из таблицы user_actions.\n",
        "\n",
        "На основе объединённой таблицы для каждого пользователя рассчитайте следующие показатели:\n",
        "\n",
        "общее число заказов — колонку назовите orders_count\n",
        "среднее количество товаров в заказе — avg_order_size\n",
        "суммарную стоимость всех покупок — sum_order_value\n",
        "среднюю стоимость заказа — avg_order_value\n",
        "минимальную стоимость заказа — min_order_value\n",
        "максимальную стоимость заказа — max_order_value\n",
        "Полученный результат отсортируйте по возрастанию id пользователя.\n",
        "\n",
        "Добавьте в запрос оператор LIMIT и выведите только первые 1000 строк результирующей таблицы.\n",
        "\n",
        "Помните, что в расчётах мы по-прежнему учитываем только неотменённые заказы. При расчёте средних значений, округляйте их до двух знаков после запятой.\n",
        "\n",
        "Поля в результирующей таблице:\n",
        "\n",
        "user_id, orders_count, avg_order_size, sum_order_value, avg_order_value, min_order_value, max_order_value"
      ],
      "metadata": {
        "id": "y-0vbDOYkUAW"
      }
    },
    {
      "cell_type": "code",
      "source": [
        "WITH t1 as(SELECT user_id,\n",
        "                  order_id\n",
        "           FROM user_actions\n",
        "           WHERE order_id NOT IN (SELECT order_id\n",
        "                                   FROM user_actions\n",
        "                                   WHERE action = 'cancel_order')),\n",
        "t2 as(SELECT order_id,\n",
        "             SUM(price) as order_price\n",
        "      FROM (SELECT order_id,\n",
        "                   product_ids,\n",
        "                   UNNEST(product_ids) as product_id\n",
        "            FROM orders) as sub\n",
        "LEFT JOIN products\n",
        "USING(product_id)\n",
        "GROUP BY 1)\n",
        "\n",
        "SELECT user_id,\n",
        "       COUNT(order_id) as orders_count,\n",
        "       ROUND(AVG(ARRAY_LENGTH(product_ids, 1)), 2) as avg_order_size,\n",
        "       SUM(order_price) as sum_order_value,\n",
        "       ROUND(avg(order_price), 2) as avg_order_value,\n",
        "       MIN(order_price) as min_order_value,\n",
        "       MAX(order_price) as max_order_value\n",
        "FROM t1\n",
        "LEFT JOIN t2 using(order_id)\n",
        "LEFT JOIN orders using(order_id)\n",
        "GROUP BY 1\n",
        "ORDER BY 1\n",
        "LIMIT 1000"
      ],
      "metadata": {
        "id": "es-WKrWXkURo"
      },
      "execution_count": null,
      "outputs": []
    },
    {
      "cell_type": "markdown",
      "source": [
        "<b>Задача 96</b>\n",
        "\n",
        "По таблицам courier_actions , orders и products определите 10 самых популярных товаров, доставленных в сентябре 2022 года. Самыми популярными товарами будем считать те, которые встречались в заказах чаще всего. Если товар встречается в одном заказе несколько раз (было куплено несколько единиц товара), то при подсчёте учитываем только одну единицу товара. Выведите наименования товаров и сколько раз они встречались в заказах. Новую колонку с количеством покупок товара назовите times_purchased.\n",
        "\n",
        "Поля в результирующей таблице: name, times_purchased"
      ],
      "metadata": {
        "id": "6n1n826SkUiz"
      }
    },
    {
      "cell_type": "code",
      "source": [
        "SELECT name,\n",
        "       COUNT(DISTINCT order_id) as times_purchased\n",
        "FROM (SELECT order_id\n",
        "      FROM courier_actions\n",
        "      WHERE action = 'deliver_order'\n",
        "      AND DATE_PART('month', time) = 9\n",
        "      AND DATE_PART('year', time) = 2022) as t1\n",
        "LEFT JOIN (SELECT order_id,\n",
        "                  UNNEST(product_ids) as product_id\n",
        "          FROM orders) as t2 using(order_id)\n",
        "LEFT JOIN products\n",
        "USING(product_id)\n",
        "GROUP BY 1\n",
        "ORDER BY 2 DESC\n",
        "LIMIT 10"
      ],
      "metadata": {
        "id": "5v81wNLqkUxZ"
      },
      "execution_count": null,
      "outputs": []
    },
    {
      "cell_type": "markdown",
      "source": [
        "<b>Задача 97</b>\n",
        "\n",
        "Возьмите запрос, составленный на одном из прошлых уроков, и подтяните в него из таблицы users данные о поле пользователей таким образом, чтобы все пользователи из таблицы user_actions остались в результате. Затем посчитайте среднее значение cancel_rate для каждого пола, округлив его до трёх знаков после запятой. Колонку с посчитанным средним значением назовите avg_cancel_rate.\n",
        "\n",
        "Помните про отсутствие информации о поле некоторых пользователей после join, так как не все пользователи из таблицы user_action есть в таблице users. Для этой группы тоже посчитайте cancel_rate и в результирующей таблице для пустого значения в колонке с полом укажите ‘unknown’ (без кавычек). Возможно, для этого придётся вспомнить, как работает COALESCE.\n",
        "\n",
        "Результат отсортируйте по колонке с полом пользователя по возрастанию.\n",
        "\n",
        "Поля в результирующей таблице: sex, avg_cancel_rate"
      ],
      "metadata": {
        "id": "LvPgkGnmkU--"
      }
    },
    {
      "cell_type": "code",
      "source": [
        "WITH t1 as(SELECT ua.user_id,\n",
        "                  COUNT(DISTINCT ua.order_id) as orders_count,\n",
        "                  ROUND(COUNT(DISTINC ua.order_id) FILTER (WHERE ua.action = 'cancel_order')::decimal / COUNT(DISTINCT ua.order_id),2) as cancel_rate\n",
        "           FROM user_actions as ua\n",
        "           GROUP BY 1)\n",
        "\n",
        "SELECT COALESCE(sex, 'unknown') as sex,\n",
        "       ROUND(AVG(cancel_rate), 3) as avg_cancel_rate\n",
        "FROM t1\n",
        "LEFT JOIN users\n",
        "USING(user_id)\n",
        "GROUP BY 1\n",
        "ORDER BY 1"
      ],
      "metadata": {
        "id": "62tENbwMkVLO"
      },
      "execution_count": null,
      "outputs": []
    },
    {
      "cell_type": "markdown",
      "source": [
        "<b>Задача 98</b>\n",
        "\n",
        "Произведите замену списков с id товаров из таблицы orders на списки с наименованиями товаров. Наименования возьмите из таблицы products. Колонку с новыми списками наименований назовите product_names.\n",
        "\n",
        "Добавьте в запрос оператор LIMIT и выведите только первые 1000 строк результирующей таблицы.\n",
        "\n",
        "Поля в результирующей таблице: order_id, product_names\n",
        "\n"
      ],
      "metadata": {
        "id": "32vRi2bxRq3A"
      }
    },
    {
      "cell_type": "code",
      "source": [
        "SELECT order_id,\n",
        "       ARRAY_AGG(name) as product_names\n",
        "FROM (SELECT order_id,\n",
        "             UNNEST(product_ids) as product_id\n",
        "      FROM orders) as t1\n",
        "LEFT JOIN products\n",
        "USING(product_id)\n",
        "GROUP BY 1\n",
        "LIMIT 1000"
      ],
      "metadata": {
        "id": "VYO_tpaaRrEu"
      },
      "execution_count": null,
      "outputs": []
    },
    {
      "cell_type": "markdown",
      "source": [
        "<b>Задача 99</b>\n",
        "\n",
        "Выясните, кто заказывал и доставлял самые большие заказы. Самыми большими считайте заказы с наибольшим числом товаров.\n",
        "\n",
        "Выведите id заказа, id пользователя и id курьера. Также в отдельных колонках укажите возраст пользователя и возраст курьера. Возраст измерьте числом полных лет, как мы делали в прошлых уроках. Считайте его относительно последней даты в таблице user_actions — как для пользователей, так и для курьеров. Колонки с возрастом назовите user_age и courier_age. Результат отсортируйте по возрастанию id заказа.\n",
        "\n",
        "Поля в результирующей таблице: order_id, user_id, user_age, courier_id, courier_age"
      ],
      "metadata": {
        "id": "_4M78ltxRrVK"
      }
    },
    {
      "cell_type": "code",
      "source": [
        "SELECT DISTINCT order_id,\n",
        "                user_id,\n",
        "                DATE_PART('year', AGE((SELECT MAX(time)\n",
        "                                       FROM user_actions)::date, u.birth_date))::integer as user_age,\n",
        "                courier_id,\n",
        "                date_part('year', age((SELECT MAX(time)\n",
        "                                       FROM courier_actions)::date, c.birth_date))::integer as courier_age\n",
        "FROM users as u\n",
        "JOIN user_actions as ua\n",
        "USING(user_id)\n",
        "JOIN orders\n",
        "USING(order_id)\n",
        "JOIN courier_actions as ca\n",
        "USING(order_id)\n",
        "JOIN couriers as c\n",
        "USING(courier_id)\n",
        "WHERE order_id IN (SELECT order_id\n",
        "                    FROM orders\n",
        "                    WHERE ARRAY_LENGTH(product_ids, 1) IN (SELECT MAX(ARRAY_LENGTH(product_ids, 1))\n",
        "                                                           FROM orders))\n",
        "ORDER BY 1"
      ],
      "metadata": {
        "id": "iZJGM3nDRrf3"
      },
      "execution_count": null,
      "outputs": []
    },
    {
      "cell_type": "markdown",
      "source": [
        "<b>Задача 100</b>\n",
        "\n",
        "Выясните, какие пары товаров покупают вместе чаще всего.\n",
        "\n",
        "Пары товаров сформируйте на основе таблицы с заказами. Отменённые заказы не учитывайте. В качестве результата выведите две колонки — колонку с парами наименований товаров и колонку со значениями, показывающими, сколько раз конкретная пара встретилась в заказах пользователей. Колонки назовите соответственно pair и count_pair.\n",
        "\n",
        "Пары товаров должны быть представлены в виде списков из двух наименований. Пары товаров внутри списков должны быть отсортированы в порядке возрастания наименования. Результат отсортируйте сначала по убыванию частоты встречаемости пары товаров в заказах, затем по колонке pair — по возрастанию.\n",
        "\n",
        "Поля в результирующей таблице: pair, count_pair"
      ],
      "metadata": {
        "id": "9xIjleWoRruF"
      }
    },
    {
      "cell_type": "code",
      "source": [
        "WITH sub_1 as (SELECT DISTINCT order_id,\n",
        "                               UNNEST(product_ids) as product_id\n",
        "               FROM orders\n",
        "               WHERE order_id NOT IN (SELECT order_id\n",
        "                                       FROM user_actions\n",
        "                                       WHERE action = 'cancel_order')),\n",
        "sub_2 as (SELECT order_id,\n",
        "                 name\n",
        "          FROM sub_1\n",
        "          JOIN products\n",
        "          USING(product_id))\n",
        "\n",
        "\n",
        "SELECT ARRAY[t1.name, t2.name] as pair,\n",
        "       COUNT(ARRAY[t1.name, t2.name]) as count_pair\n",
        "FROM sub_2 as t1\n",
        "JOIN sub_2 as t2 ON t2.order_id = t1.order_id\n",
        "and t2.name > t1.name\n",
        "GROUP BY 1\n",
        "ORDER BY 2 DESC, 1"
      ],
      "metadata": {
        "id": "9acAZausRr5O"
      },
      "execution_count": null,
      "outputs": []
    },
    {
      "cell_type": "markdown",
      "source": [
        "<b>Задача 101</b>\n",
        "\n",
        "Примените оконные функции к таблице products и с помощью ранжирующих функций упорядочьте все товары по цене — от самых дорогих к самым дешёвым. Добавьте в таблицу следующие колонки:\n",
        "\n",
        "Колонку product_number с порядковым номером товара (функция ROW_NUMBER).\n",
        "Колонку product_rank с рангом товара с пропусками рангов (функция RANK).\n",
        "Колонку product_dense_rank с рангом товара без пропусков рангов (функция DENSE_RANK).\n",
        "Не забывайте указывать в окне сортировку записей — без неё ранжирующие функции могут давать некорректный результат, если таблица заранее не отсортирована. Деление на партиции внутри окна сейчас не требуется. Сортировать записи в результирующей таблице тоже не нужно.\n",
        "\n",
        "Поля в результирующей таблице: product_id, name, price, product_number, product_rank, product_dense_rank"
      ],
      "metadata": {
        "id": "mrhlUrHFKpuW"
      }
    },
    {
      "cell_type": "code",
      "source": [
        "SELECT product_id,\n",
        "       name,\n",
        "       price,\n",
        "       ROW_NUMBER() OVER(ORDER BY price DESC) as product_number,\n",
        "       RANK() OVER(ORDER BY price DESC) as product_rank,\n",
        "       DENSE_RANK() OVER(ORDER BY price DESC) as product_dense_rank\n",
        "FROM products"
      ],
      "metadata": {
        "id": "kXUklxeaKp_Z"
      },
      "execution_count": null,
      "outputs": []
    },
    {
      "cell_type": "markdown",
      "source": [
        "<b>Задача 102</b>\n",
        "\n",
        "Примените оконную функцию к таблице products и с помощью агрегирующей функции в отдельной колонке для каждой записи проставьте цену самого дорогого товара. Колонку с этим значением назовите max_price. Затем для каждого товара посчитайте долю его цены в стоимости самого дорогого товара — просто поделите одну колонку на другую. Полученные доли округлите до двух знаков после запятой. Колонку с долями назовите share_of_max.\n",
        "\n",
        "Выведите всю информацию о товарах, включая значения в новых колонках. Результат отсортируйте сначала по убыванию цены товара, затем по возрастанию id товара.\n",
        "\n",
        "Поля в результирующей таблице: product_id, name, price, max_price, share_of_max"
      ],
      "metadata": {
        "id": "4zT0HV_ZKqKt"
      }
    },
    {
      "cell_type": "code",
      "source": [
        "SELECT product_id,\n",
        "       name,\n",
        "       price,\n",
        "       MAX(price) OVER() as max_price,\n",
        "       ROUND(price / MAX(price) OVER(), 2) as share_of_max\n",
        "FROM products\n",
        "ORDER BY 3 DESC, 1"
      ],
      "metadata": {
        "id": "JTyVY5wUKqWL"
      },
      "execution_count": null,
      "outputs": []
    },
    {
      "cell_type": "markdown",
      "source": [
        "<b>Задача 103</b>\n",
        "\n",
        "Примените две оконные функции к таблице products — одну с агрегирующей функцией MAX, а другую с агрегирующей функцией MIN — для вычисления максимальной и минимальной цены. Для двух окон задайте инструкцию ORDER BY по убыванию цены. Поместите результат вычислений в две колонки max_price и min_price.\n",
        "\n",
        "Выведите всю информацию о товарах, включая значения в новых колонках. Результат отсортируйте сначала по убыванию цены товара, затем по возрастанию id товара.\n",
        "\n",
        "Поля в результирующей таблице: product_id, name, price, max_price, min_price"
      ],
      "metadata": {
        "id": "mUDHsBjLKqgg"
      }
    },
    {
      "cell_type": "code",
      "source": [
        "SELECT product_id,\n",
        "       name,\n",
        "       price,\n",
        "       MAX(price) OVER(ORDER BY price DESC) as max_price,\n",
        "       MIN(price) OVER(ORDER BY price DESC) as min_price\n",
        "FROM products\n",
        "ORDER BY 3 DESC, 1"
      ],
      "metadata": {
        "id": "Zcee_WFqKqqp"
      },
      "execution_count": null,
      "outputs": []
    },
    {
      "cell_type": "markdown",
      "source": [
        "<b>Задача 104</b>\n",
        "\n",
        "Сначала на основе таблицы orders сформируйте новую таблицу с общим числом заказов по дням. При подсчёте числа заказов не учитывайте отменённые заказы (их можно определить по таблице user_actions). Колонку с днями назовите date, а колонку с числом заказов — orders_count.\n",
        "\n",
        "Затем поместите полученную таблицу в подзапрос и примените к ней оконную функцию в паре с агрегирующей функцией SUM для расчёта накопительной суммы числа заказов. Не забудьте для окна задать инструкцию ORDER BY по дате.\n",
        "\n",
        "Колонку с накопительной суммой назовите orders_cum_count. В результате такой операции значение накопительной суммы для последнего дня должно получиться равным общему числу заказов за весь период.\n",
        "\n",
        "Сортировку результирующей таблицы делать не нужно.\n",
        "\n",
        "Поля в результирующей таблице: date, orders_count, orders_cum_count"
      ],
      "metadata": {
        "id": "jRkwJsHJKqzu"
      }
    },
    {
      "cell_type": "code",
      "source": [
        "WITH t1 as(\n",
        "SELECT creation_time::date as date,\n",
        "       COUNT(order_id) as orders_count\n",
        "FROM orders\n",
        "WHERE order_id NOT IN (SELECT order_id\n",
        "                       FROM user_actions\n",
        "                       WHERE action = 'cancel_order')\n",
        "GROUP BY 1)\n",
        "\n",
        "SELECT date,\n",
        "       orders_count,\n",
        "       SUM(orders_count) OVER(ORDER BY date)::integer as orders_cum_count\n",
        "FROM t1\n",
        "ORDER BY 1"
      ],
      "metadata": {
        "id": "TunsoCOGKq-Q"
      },
      "execution_count": null,
      "outputs": []
    },
    {
      "cell_type": "markdown",
      "source": [
        "<b>Задача 105</b>\n",
        "\n",
        "Для каждого пользователя в таблице user_actions посчитайте порядковый номер каждого заказа. Для этого примените оконную функцию ROW_NUMBER к колонке с временем заказа. Не забудьте указать деление на партиции по пользователям и сортировку внутри партиций. Отменённые заказы не учитывайте. Новую колонку с порядковым номером заказа назовите order_number. Результат отсортируйте сначала по возрастанию id пользователя, затем по возрастанию order_number. Добавьте LIMIT 1000.\n",
        "\n",
        "Поля в результирующей таблице: user_id, order_id, time, order_number"
      ],
      "metadata": {
        "id": "apx0aOWIKrHh"
      }
    },
    {
      "cell_type": "code",
      "source": [
        "SELECT user_id,\n",
        "       order_id,\n",
        "       time,\n",
        "       ROW_NUMBER() OVER(PARTITION BY user_id ORDER BY time) as order_number\n",
        "FROM user_actions\n",
        "WHERE order_id NOT IN (SELECT order_id\n",
        "                       FROM user_actions\n",
        "                       WHERE action = 'cancel_order')\n",
        "ORDER BY 1, 4\n",
        "LIMIT 1000"
      ],
      "metadata": {
        "id": "hjVSqRlPKrRW"
      },
      "execution_count": null,
      "outputs": []
    },
    {
      "cell_type": "markdown",
      "source": [
        "<b>Задача 106</b>\n",
        "\n",
        "Дополните запрос из предыдущего задания и с помощью оконной функции для каждого заказа каждого пользователя рассчитайте, сколько времени прошло с момента предыдущего заказа.\n",
        "\n",
        "Для этого сначала в отдельном столбце с помощью LAG сделайте смещение по столбцу time на одно значение назад. Столбец со смещёнными значениями назовите time_lag. Затем отнимите от каждого значения в колонке time новое значение со смещением (либо можете использовать уже знакомую функцию AGE). Колонку с полученным интервалом назовите time_diff. Менять формат отображения значений не нужно, они должны иметь примерно следующий вид:\n",
        "\n",
        "3 days, 12:18:22\n",
        "\n",
        "\n",
        "По-прежнему не учитывайте отменённые заказы. Также оставьте в запросе порядковый номер каждого заказа, рассчитанный на прошлом шаге. Результат отсортируйте сначала по возрастанию id пользователя, затем по возрастанию порядкового номера заказа. Добавьте LIMIT 1000.\n",
        "\n",
        "Поля в результирующей таблице: user_id, order_id, time, order_number, time_lag, time_diff"
      ],
      "metadata": {
        "id": "31xjBIlzKrag"
      }
    },
    {
      "cell_type": "code",
      "source": [
        "SELECT user_id,\n",
        "       order_id,\n",
        "       time,\n",
        "       ROW_NUMBER() OVER(PARTITION BY user_id ORDER BY time) as order_number,\n",
        "       LAG(time, 1) OVER(PARTITION BY user_id ORDER BY time) as time_lag,\n",
        "       AGE(time, LAG(time, 1) OVER(PARTITION BY user_id ORDER BY time)) as time_diff\n",
        "FROM user_actions\n",
        "WHERE order_id NOT IN (SELECT order_id\n",
        "                       FROM user_actions\n",
        "                       WHERE action = 'cancel_order')\n",
        "ORDER BY 1, 4\n",
        "LIMIT 1000"
      ],
      "metadata": {
        "id": "mVFp7jdEKrkL"
      },
      "execution_count": null,
      "outputs": []
    },
    {
      "cell_type": "markdown",
      "source": [
        "<b>Задача 107</b>\n",
        "\n",
        "На основе запроса из предыдущего задания для каждого пользователя рассчитайте, сколько в среднем времени проходит между его заказами. Посчитайте этот показатель только для тех пользователей, которые за всё время оформили более одного неотмененного заказа.\n",
        "\n",
        "Среднее время между заказами выразите в часах, округлив значения до целого числа. Колонку со средним значением времени назовите hours_between_orders. Результат отсортируйте по возрастанию id пользователя.\n",
        "\n",
        "Добавьте в запрос оператор LIMIT и включите в результат только первые 1000 записей.\n",
        "\n",
        "Поля в результирующей таблице: user_id, hours_between_orders"
      ],
      "metadata": {
        "id": "UWwYtyxMKrsj"
      }
    },
    {
      "cell_type": "code",
      "source": [
        "WITH t1 as(SELECT user_id,\n",
        "                  order_id,\n",
        "                  time,\n",
        "                  ROW_NUMBER() OVER(PARTITION BY user_id ORDER BY time) as order_number,\n",
        "                  LAG(time, 1) OVER(PARTITION BY user_id ORDER BY time) as time_lag,\n",
        "                  AGE(time, LAG(time, 1) OVER(PARTITION BY user_id ORDER BY time)) as time_diff\n",
        "           FROM user_actions\n",
        "           WHERE order_id NOT IN (SELECT order_id\n",
        "                                  FROM user_actions\n",
        "                                  WHERE action = 'cancel_order')\n",
        ")\n",
        "\n",
        "SELECT user_id,\n",
        "       ROUND(AVG(extract(epoch FROM time_diff) /3600))::integer as hours_between_orders\n",
        "FROM t1\n",
        "GROUP BY 1\n",
        "HAVING ROUND(AVG(extract(epoch FROM time_diff) /3600)) IS NOT NULL\n",
        "ORDER BY 1\n",
        "LIMIT 1000"
      ],
      "metadata": {
        "id": "RGyfDZN7Kr1t"
      },
      "execution_count": null,
      "outputs": []
    },
    {
      "cell_type": "markdown",
      "source": [
        "<b>Задача 108</b>\n",
        "\n",
        "Сначала на основе таблицы orders сформируйте новую таблицу с общим числом заказов по дням. Вы уже делали это в одной из предыдущих задач. При подсчёте числа заказов не учитывайте отменённые заказы (их можно определить по таблице user_actions). Колонку с числом заказов назовите orders_count.\n",
        "\n",
        "Затем поместите полученную таблицу в подзапрос и примените к ней оконную функцию в паре с агрегирующей функцией AVG для расчёта скользящего среднего числа заказов. Скользящее среднее для каждой записи считайте по трём предыдущим дням. Подумайте, как правильно задать границы рамки, чтобы получить корректные расчёты.\n",
        "\n",
        "Полученные значения скользящего среднего округлите до двух знаков после запятой. Колонку с рассчитанным показателем назовите moving_avg. Сортировку результирующей таблицы делать не нужно.\n",
        "\n",
        "Поля в результирующей таблице: date, orders_count, moving_avg"
      ],
      "metadata": {
        "id": "rWU-17G7Kr90"
      }
    },
    {
      "cell_type": "code",
      "source": [
        "WITH t1 as (\n",
        "SELECT creation_time::date as date,\n",
        "       COUNT(order_id) as orders_count\n",
        "FROM orders\n",
        "WHERE order_id NOT IN (SELECT order_id\n",
        "                       FROM user_actions\n",
        "                       WHERE action = 'cancel_order')\n",
        "GROUP BY 1)\n",
        "\n",
        "SELECT date,\n",
        "       orders_count,\n",
        "       ROUND(AVG(orders_count) OVER(ORDER BY date ROWS BETWEEN 3 PRECEDING AND 1 PRECEDING),2) as moving_avg\n",
        "FROM t1"
      ],
      "metadata": {
        "id": "iGWntAm4KsHg"
      },
      "execution_count": null,
      "outputs": []
    },
    {
      "cell_type": "markdown",
      "source": [
        "<b>Задача 109</b>\n",
        "\n",
        "Выясните, есть ли в таблице courier_actions такие заказы, которые были приняты курьерами, но не были созданы пользователями. Посчитайте количество таких заказов.\n",
        "\n",
        "Колонку с числом заказов назовите orders_count.\n",
        "\n",
        "Поле в результирующей таблице: orders_count"
      ],
      "metadata": {
        "id": "aRGlzur18-nh"
      }
    },
    {
      "cell_type": "code",
      "source": [
        "SELECT COUNT(DISTINCT order_id) as orders_count\n",
        "FROM courier_actions\n",
        "WHERE order_id NOT IN (SELECT order_id\n",
        "                       FROM user_actions)"
      ],
      "metadata": {
        "id": "q_NFtOjY8_JU"
      },
      "execution_count": null,
      "outputs": []
    },
    {
      "cell_type": "markdown",
      "source": [
        "<b>Задача 110</b>\n",
        "\n",
        "Выясните, есть ли в таблице courier_actions такие заказы, которые были приняты курьерами, но не были доставлены пользователям. Посчитайте количество таких заказов.\n",
        "\n",
        "Колонку с числом заказов назовите orders_count.\n",
        "\n",
        "Поле в результирующей таблице: orders_count"
      ],
      "metadata": {
        "id": "39RwKlzA9F6I"
      }
    },
    {
      "cell_type": "code",
      "source": [
        "SELECT COUNT(DISTINCT order_id) as orders_count\n",
        "FROM courier_actions\n",
        "WHERE order_id NOT IN (SELECT order_id\n",
        "                       FROM courier_actions\n",
        "                       WHERE action = 'deliver_order')"
      ],
      "metadata": {
        "id": "VNnLs-Gb9H3I"
      },
      "execution_count": null,
      "outputs": []
    },
    {
      "cell_type": "markdown",
      "source": [
        "<b>Задача 111</b>\n",
        "\n",
        "Определите количество отменённых заказов в таблице courier_actions и выясните, есть ли в этой таблице такие заказы, которые были отменены пользователями, но при этом всё равно были доставлены. Посчитайте количество таких заказов.\n",
        "\n",
        "Колонку с отменёнными заказами назовите orders_canceled. Колонку с отменёнными, но доставленными заказами назовите orders_canceled_and_delivered.\n",
        "\n",
        "Поля в результирующей таблице: orders_canceled, orders_canceled_and_delivered"
      ],
      "metadata": {
        "id": "H28wg30i9IMM"
      }
    },
    {
      "cell_type": "code",
      "source": [
        "SELECT COUNT(order_id) as orders_canceled,\n",
        "       COUNT(order_id) FILTER (WHERE order_id IN (SELECT order_id\n",
        "                                                  FROM courier_actions\n",
        "                                                  WHERE action = 'deliver_order')) as orders_canceled_and_delivered\n",
        "FROM user_actions\n",
        "WHERE action = 'cancel_order'"
      ],
      "metadata": {
        "id": "CDHjDVdk9J0A"
      },
      "execution_count": null,
      "outputs": []
    },
    {
      "cell_type": "markdown",
      "source": [
        "<b>Задача 112</b>\n",
        "\n",
        "По таблицам courier_actions и user_actions снова определите число недоставленных заказов и среди них посчитайте количество отменённых заказов и количество заказов, которые не были отменены (и соответственно, пока ещё не были доставлены).\n",
        "\n",
        "Колонку с недоставленными заказами назовите orders_undelivered, колонку с отменёнными заказами назовите orders_canceled, колонку с заказами «в пути» назовите orders_in_process.\n",
        "\n",
        "Поля в результирующей таблице: orders_undelivered, orders_canceled, orders_in_process"
      ],
      "metadata": {
        "id": "BL1cETs99KEV"
      }
    },
    {
      "cell_type": "code",
      "source": [
        "from typing_extensions import Counter\n",
        "SELECT COUNT(distinct order_id) as orders_undelivered,\n",
        "       COUNT(order_id) FILTER (WHERE order_id IN (SELECT order_id\n",
        "                                                  FROM user_actions\n",
        "                                                  WHERE action = 'cancel_order')) as orders_canceled,\n",
        "       COUNT(order_id) FILTER (WHERE order_id NOT IN (SELECT order_id\n",
        "                               FROM user_actions\n",
        "                               WHERE action = 'cancel_order')) as orders_in_process\n",
        "FROM courier_actions\n",
        "WHERE order_id NOT IN (SELECT order_id\n",
        "                       FROM courier_actions\n",
        "                       WHERE action = 'deliver_order')"
      ],
      "metadata": {
        "id": "AbQHW8Tn9LjB"
      },
      "execution_count": null,
      "outputs": []
    },
    {
      "cell_type": "markdown",
      "source": [
        "<b>Задача 113</b>\n",
        "\n",
        "Отберите из таблицы users пользователей мужского пола, которые старше всех пользователей женского пола.\n",
        "\n",
        "Выведите две колонки: id пользователя и дату рождения. Результат отсортируйте по возрастанию id пользователя.\n",
        "\n",
        "Поля в результирующей таблице: user_id, birth_date"
      ],
      "metadata": {
        "id": "U6suhAxc9L4y"
      }
    },
    {
      "cell_type": "code",
      "source": [
        "SELECT user_id,\n",
        "       birth_date\n",
        "FROM  users\n",
        "WHERE sex = 'male'\n",
        "and birth_date < (SELECT MIN(birth_date)\n",
        "                  FROM users\n",
        "                  WHERE sex = 'female')\n",
        "ORDER BY user_id"
      ],
      "metadata": {
        "id": "rytJv2Ya9Nh5"
      },
      "execution_count": null,
      "outputs": []
    },
    {
      "cell_type": "markdown",
      "source": [
        "<b>Задача 114</b>\n",
        "\n",
        "Рассчитайте средний размер заказов, отменённых пользователями мужского пола.\n",
        "\n",
        "Средний размер заказа округлите до трёх знаков после запятой. Колонку со значением назовите avg_order_size.\n",
        "\n",
        "Поле в результирующей таблице: avg_order_size"
      ],
      "metadata": {
        "id": "yzRoYJOy-7jn"
      }
    },
    {
      "cell_type": "code",
      "source": [
        "SELECT ROUND(AVG(array_length(product_ids, 1)), 3) as avg_order_size\n",
        "FROM orders\n",
        "WHERE order_id IN (SELECT order_id\n",
        "                    FROM user_actions\n",
        "                    WHERE action = 'cancel_order'\n",
        "                    AND user_id IN (SELECT user_id\n",
        "                                    FROM users\n",
        "                                    WHERE sex = 'male'))"
      ],
      "metadata": {
        "id": "V2HrXeN0-6ET"
      },
      "execution_count": null,
      "outputs": []
    },
    {
      "cell_type": "markdown",
      "source": [
        "<b>Задача 115</b>\n",
        "\n",
        "Для каждого заказа, в котором больше 5 товаров, рассчитайте время, затраченное на его доставку.\n",
        "\n",
        "В результат включите id заказа, время принятия заказа курьером, время доставки заказа и время, затраченное на доставку. Новые колонки назовите соответственно time_accepted, time_delivered и delivery_time.\n",
        "\n",
        "В расчётах учитывайте только неотменённые заказы. Время, затраченное на доставку, выразите в минутах, округлив значения до целого числа. Результат отсортируйте по возрастанию id заказа.\n",
        "\n",
        "Поля в результирующей таблице: order_id, time_accepted, time_delivered и delivery_time"
      ],
      "metadata": {
        "id": "OKjnkTlR-9HO"
      }
    },
    {
      "cell_type": "code",
      "source": [
        "SELECT DISTINCT order_id,\n",
        "                MIN(time) as time_accepted,\n",
        "                MIN(time) as time_delivered,\n",
        "                (extract(epoch FROM (MAX(time) - MIN(time)))/60)::int as delivery_time\n",
        "FROM courier_actions\n",
        "WHERE order_id IN (SELECT order_id\n",
        "                    FROM orders\n",
        "                    WHERE array_length(product_ids, 1) > 5)\n",
        "AND order_id NOT IN (SELECT order_id\n",
        "                     FROM user_actions\n",
        "                     WHERE action = 'cancel_order')\n",
        "GROUP BY order_id\n",
        "ORDER BY order_id"
      ],
      "metadata": {
        "id": "48Gbpjcy-9Ra"
      },
      "execution_count": null,
      "outputs": []
    },
    {
      "cell_type": "markdown",
      "source": [
        "<b>Задача 116</b>\n",
        "\n",
        "Для каждой даты в таблице user_actions посчитайте количество первых заказов, совершённых пользователями.\n",
        "\n",
        "Первыми заказами будем считать заказы, которые пользователи сделали в нашем сервисе впервые. В расчётах учитывайте только неотменённые заказы.\n",
        "\n",
        "В результат включите две колонки: дату и количество первых заказов в эту дату. Колонку с датами назовите date, а колонку с первыми заказами — first_orders.\n",
        "\n",
        "Результат отсортируйте по возрастанию даты.\n",
        "\n",
        "Поля в результирующей таблице: date, first_orders"
      ],
      "metadata": {
        "id": "aYsRAeKzIEQs"
      }
    },
    {
      "cell_type": "code",
      "source": [
        "with first_orders as(SELECT user_id,\n",
        "                            MIN(time) as first_order_time\n",
        "                     FROM user_actions\n",
        "                     WHERE order_id NOT IN (SELECT order_id\n",
        "                                             FROM user_actions\n",
        "                                             WHERE action = 'cancel_order')\n",
        "                                             GROUP BY user_id)\n",
        "\n",
        "SELECT DATE_TRUNC('day', first_order_time)::date as date,\n",
        "       COUNT(*) as first_orders\n",
        "FROM first_orders\n",
        "GROUP BY DATE_TRUNC('day', first_order_time)\n",
        "ORDER BY DATE_TRUNC('day', first_order_time)"
      ],
      "metadata": {
        "id": "LCrLG8SzIPdm"
      },
      "execution_count": null,
      "outputs": []
    }
  ]
}