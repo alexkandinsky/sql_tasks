{
  "nbformat": 4,
  "nbformat_minor": 0,
  "metadata": {
    "colab": {
      "provenance": []
    },
    "kernelspec": {
      "name": "python3",
      "display_name": "Python 3"
    },
    "language_info": {
      "name": "python"
    }
  },
  "cells": [
    {
      "cell_type": "markdown",
      "source": [
        "ССЫЛКА НА ИСТОЧНИК ЗАДАЧ: https://karpov.courses/simulator-sql"
      ],
      "metadata": {
        "id": "LusNnATXsbmN"
      }
    },
    {
      "cell_type": "markdown",
      "source": [
        "<b>Задача 1</b>\n",
        "\n",
        "Выведите все записи из таблицы products.\n",
        "\n",
        "Поля в результирующей таблице: product_id, name, price\n"
      ],
      "metadata": {
        "id": "AdFIOz6-o-M4"
      }
    },
    {
      "cell_type": "code",
      "execution_count": null,
      "metadata": {
        "id": "GU074YSEncWV"
      },
      "outputs": [],
      "source": [
        "SELECT *\n",
        "FROM products as p"
      ]
    },
    {
      "cell_type": "markdown",
      "source": [
        "<b>Задача 2</b>\n",
        "\n",
        "Выведите все записи из таблицы products, отсортировав их по наименованиям товаров в алфавитном порядке, т.е. по возрастанию.\n",
        "\n",
        "Поля в результирующей таблице: product_id, name, price"
      ],
      "metadata": {
        "id": "ePMC5ScepeIf"
      }
    },
    {
      "cell_type": "code",
      "source": [
        "SELECT *\n",
        "FROM products as p\n",
        "ORDER BY p.name"
      ],
      "metadata": {
        "id": "3dzQ_pInpUYU"
      },
      "execution_count": null,
      "outputs": []
    },
    {
      "cell_type": "markdown",
      "source": [
        "<b>Задача 3</b>\n",
        "\n",
        "Отсортируйте таблицу courier_actions сначала по колонке courier_id по возрастанию id курьера, потом по колонке action, а затем по колонке time, но уже по убыванию — от самого последнего действия к самому первому.\n",
        "\n",
        "Добавьте в запрос оператор LIMIT и выведите только первые 1000 строк результирующей таблицы.\n",
        "\n",
        "Поля в результирующей таблице: courier_id, order_id, action, time"
      ],
      "metadata": {
        "id": "1Y6xCsAVpjNb"
      }
    },
    {
      "cell_type": "code",
      "source": [
        "SELECT *\n",
        "FROM courier_actions as ca\n",
        "ORDER BY ca.courier_id, ca.action, ca.time DESC\n",
        "LIMIT 1000"
      ],
      "metadata": {
        "id": "50HH2FxIpjX8"
      },
      "execution_count": null,
      "outputs": []
    },
    {
      "cell_type": "markdown",
      "source": [
        "<b>Задача 4</b>\n",
        "\n",
        "Используя операторы SELECT, FROM, ORDER BY и LIMIT, определите 5 самых дорогих товаров в таблице products, которые доставляет наш сервис. Выведите их наименования и цену.\n",
        "\n",
        "Поля в результирующей таблице: name, price"
      ],
      "metadata": {
        "id": "Zp0FS-rbpjh-"
      }
    },
    {
      "cell_type": "code",
      "source": [
        "SELECT p.name, p.price\n",
        "FROM products as p\n",
        "ORDER BY p.price DESC\n",
        "LIMIT 5"
      ],
      "metadata": {
        "id": "6jKNYp2upjqG"
      },
      "execution_count": null,
      "outputs": []
    },
    {
      "cell_type": "markdown",
      "source": [
        "<b>Задача 5</b>\n",
        "\n",
        "Повторите запрос из предыдущего задания, но теперь колонки name и price переименуйте соответственно в product_name и product_price.\n",
        "\n",
        "Поля в результирующей таблице: product_name, product_price"
      ],
      "metadata": {
        "id": "RWLuL46Upjxr"
      }
    },
    {
      "cell_type": "code",
      "source": [
        "SELECT p.name as product_name, p.price as product_price\n",
        "FROM products as p\n",
        "ORDER BY p.price DESC\n",
        "LIMIT 5"
      ],
      "metadata": {
        "id": "BzaB6quCpj6D"
      },
      "execution_count": null,
      "outputs": []
    },
    {
      "cell_type": "markdown",
      "source": [
        "<b>Задача 6</b>\n",
        "\n",
        "Используя операторы SELECT, FROM, ORDER BY и LIMIT, а также функцию LENGTH, определите товар с самым длинным названием в таблице products. Выведите его наименование, длину наименования в символах, а также цену этого товара. Колонку с длиной наименования в символах назовите name_length.\n",
        "\n",
        "Поля в результирующей таблице: name, name_length, price"
      ],
      "metadata": {
        "id": "GbfHVGd-pkAX"
      }
    },
    {
      "cell_type": "code",
      "source": [
        "SELECT p.name,\n",
        "       length(p.name) as name_length,\n",
        "       p.price\n",
        "FROM   products as p\n",
        "ORDER BY 2 desc\n",
        "LIMIT 1"
      ],
      "metadata": {
        "id": "-_U6YtODpkGx"
      },
      "execution_count": null,
      "outputs": []
    },
    {
      "cell_type": "markdown",
      "source": [
        "<b>Задача 7</b>\n",
        "\n",
        "Примените последовательно функции UPPER и SPLIT_PART к колонке name и преобразуйте наименования товаров в таблице products так, чтобы от названий осталось только первое слово, записанное в верхнем регистре. Колонку с новым названием, состоящим из первого слова, назовите first_word.\n",
        "\n",
        "В результат включите исходные наименования товаров, новые наименования из первого слова, а также цену товаров. Результат отсортируйте по возрастанию исходного наименования товара в колонке name.\n",
        "\n",
        "Поля в результирующей таблице: name, first_word, price"
      ],
      "metadata": {
        "id": "39-mqg6TpkND"
      }
    },
    {
      "cell_type": "code",
      "source": [
        "SELECT p.name,\n",
        "       UPPER(SPLIT_PART(p.name, ' ', 1)) as first_word,\n",
        "       p.price\n",
        "FROM products as p\n",
        "ORDER BY p.name"
      ],
      "metadata": {
        "id": "f60_HHX1pkUg"
      },
      "execution_count": null,
      "outputs": []
    },
    {
      "cell_type": "markdown",
      "source": [
        "<b>Задача 8</b>\n",
        "\n",
        "Измените тип колонки price из таблицы products на VARCHAR. Выведите колонки с наименованием товаров, ценой в исходном формате и ценой в формате VARCHAR. Новую колонку с ценой в новом формате назовите price_char.\n",
        "\n",
        "Результат отсортируйте по возрастанию исходного наименования товара в колонке name. Количество выводимых записей не ограничивайте.\n",
        "\n",
        "Поле в результирующей таблице: name, price, price_char"
      ],
      "metadata": {
        "id": "qkLs8Ntzpkbc"
      }
    },
    {
      "cell_type": "code",
      "source": [
        "SELECT p.name,\n",
        "       p.price,\n",
        "       p.price::VARCHAR as price_char\n",
        "FROM products as p\n",
        "ORDER BY p.name"
      ],
      "metadata": {
        "id": "fUdupYyFpklD"
      },
      "execution_count": null,
      "outputs": []
    },
    {
      "cell_type": "markdown",
      "source": [
        "<b>Задача 9</b>\n",
        "\n",
        "Для первых 200 записей из таблицы orders выведите информацию в следующем виде (обратите внимание на пробелы):\n",
        "\n",
        "Заказ № [id_заказа] создан [дата]\n",
        "\n",
        "Полученную колонку назовите order_info."
      ],
      "metadata": {
        "id": "F0aB4vs9pkqJ"
      }
    },
    {
      "cell_type": "code",
      "source": [
        "SELECT CONCAT('Заказ № ', o.order_id, ' создан ', o.creation_time::DATE) as order_info\n",
        "FROM orders as o\n",
        "LIMIT 200"
      ],
      "metadata": {
        "id": "GnJDQuDOpkwH"
      },
      "execution_count": null,
      "outputs": []
    },
    {
      "cell_type": "markdown",
      "source": [
        "<b>Задача 10</b>\n",
        "\n",
        "Выведите id всех курьеров и их годы рождения из таблицы couriers.\n",
        "\n",
        "Год рождения необходимо получить из колонки birth_date. Новую колонку с годом назовите birth_year. Результат отсортируйте сначала по убыванию года рождения курьера (т.е. от самых младших к самым старшим), затем по возрастанию id курьера.\n",
        "\n",
        "Поля в результирующей таблице: courier_id, birth_year"
      ],
      "metadata": {
        "id": "l1WdIIdTpk0y"
      }
    },
    {
      "cell_type": "code",
      "source": [
        "SELECT c.courier_id,\n",
        "       DATE_PART('YEAR', c.birth_date) as birth_year\n",
        "FROM couriers as c\n",
        "ORDER BY 2 DESC, 1"
      ],
      "metadata": {
        "id": "uoGklX9rpk5u"
      },
      "execution_count": null,
      "outputs": []
    },
    {
      "cell_type": "markdown",
      "source": [
        "<b>Задача 11</b>\n",
        "\n",
        "Как и в предыдущем задании, снова выведите id всех курьеров и их годы рождения, только теперь к извлеченному году примените функцию COALESCE. Укажите параметры функции так, чтобы вместо NULL значений в результат попадало текстовое значение unknown. Названия полей оставьте прежними.\n",
        "\n",
        "Отсортируйте итоговую таблицу сначала по убыванию года рождения курьера, затем по возрастанию id курьера.\n",
        "\n",
        "Поля в результирующей таблице: courier_id, birth_year"
      ],
      "metadata": {
        "id": "NIY83dg5pk-3"
      }
    },
    {
      "cell_type": "code",
      "source": [
        "SELECT c.courier_id,\n",
        "       COALESCE(DATE_PART('YEAR', c.birth_date)::varchar, 'unknown') as birth_year\n",
        "FROM couriers as c\n",
        "ORDER BY 2 DESC, 1"
      ],
      "metadata": {
        "id": "r4iAVh5RplFH"
      },
      "execution_count": null,
      "outputs": []
    },
    {
      "cell_type": "markdown",
      "source": [
        "<b>Задача 12</b>\n",
        "\n",
        "Давайте представим, что по какой-то необъяснимой причине мы вдруг решили в одночасье повысить цену всех товаров в таблице products на 5%.\n",
        "\n",
        "Выведите id и наименования всех товаров, их старую и новую цену. Колонку со старой ценой назовите old_price, а колонку с новой — new_price.\n",
        "\n",
        "Результат отсортируйте сначала по убыванию новой цены, затем по возрастанию id товара.\n",
        "\n",
        "Поля в результирующей таблице: product_id, name, old_price, new_price"
      ],
      "metadata": {
        "id": "zeWDaAQzqtrt"
      }
    },
    {
      "cell_type": "code",
      "source": [
        "SELECT p.product_id,\n",
        "       p.name,\n",
        "       p.price as old_price,\n",
        "       p.price * 1.05 as new_price\n",
        "FROM products as p\n",
        "ORDER BY 4 DESC, 1"
      ],
      "metadata": {
        "id": "7YTubkRxquVQ"
      },
      "execution_count": null,
      "outputs": []
    },
    {
      "cell_type": "markdown",
      "source": [
        "<b>Задача 13</b>\n",
        "\n",
        "Вновь, как и в прошлом задании, повысьте цену всех товаров на 5%, только теперь к колонке с новой ценой примените функцию ROUND. Выведите id и наименования товаров, их старую цену, а также новую цену с округлением. Новую цену округлите до одного знака после запятой, но тип данных не меняйте.\n",
        "\n",
        "Результат отсортируйте сначала по убыванию новой цены, затем по возрастанию id товара.\n",
        "\n",
        "Поля в результирующей таблице: product_id, name, old_price, new_price\n",
        "\n"
      ],
      "metadata": {
        "id": "0R7AhmknqucJ"
      }
    },
    {
      "cell_type": "code",
      "source": [
        "SELECT p.product_id,\n",
        "       p.name,\n",
        "       p.price as old_price,\n",
        "       ROUND(p.price * 1.05, 1) as new_price\n",
        "FROM products as p\n",
        "ORDER BY 4 DESC, 1"
      ],
      "metadata": {
        "id": "ylYid4n6qxxH"
      },
      "execution_count": null,
      "outputs": []
    },
    {
      "cell_type": "markdown",
      "source": [
        "<b>Задача 14</b>\n",
        "\n",
        "Повысьте цену на 5% только на те товары, цена которых превышает 100 рублей. Цену остальных товаров оставьте без изменений. Также не повышайте цену на икру, которая и так стоит 800 рублей. Выведите id и наименования всех товаров, их старую и новую цену. Цену округлять не нужно.\n",
        "\n",
        "Результат отсортируйте сначала по убыванию новой цены, затем по возрастанию id товара.\n",
        "\n",
        "Поля в результирующей таблице: product_id, name, old_price, new_price"
      ],
      "metadata": {
        "id": "ueo_Tnk9qyDM"
      }
    },
    {
      "cell_type": "code",
      "source": [
        "SELECT p.product_id,\n",
        "       p.name,\n",
        "       p.price as old_price,\n",
        "       CASE\n",
        "       WHEN p.price > 100 AND p.name != 'икра' THEN p.price * 1.05\n",
        "       ELSE p.price END as new_price\n",
        "FROM products as p\n",
        "ORDER BY 4 DESC, 1"
      ],
      "metadata": {
        "id": "a2EsYGd6qyQr"
      },
      "execution_count": null,
      "outputs": []
    },
    {
      "cell_type": "markdown",
      "source": [
        "<b>Задача 15</b>\n",
        "\n",
        "Вычислите НДС каждого товара в таблице products и рассчитайте цену без учёта НДС. Выведите всю информацию о товарах, включая сумму налога и цену без его учёта. Колонки с суммой налога и ценой без НДС назовите соответственно tax и price_before_tax. Округлите значения в этих колонках до двух знаков после запятой.\n",
        "\n",
        "Результат отсортируйте сначала по убыванию цены товара без учёта НДС, затем по возрастанию id товара.\n",
        "\n",
        "Поля в результирующей таблице: product_id, name, price, tax, price_before_tax"
      ],
      "metadata": {
        "id": "km55nUwFqyi1"
      }
    },
    {
      "cell_type": "code",
      "source": [
        "SELECT p.product_id,\n",
        "       p.name,\n",
        "       p.price,\n",
        "       ROUND(p.price / 120 * 20, 2) as tax,\n",
        "       ROUND(p.price - p.price / 120 * 20, 2) as price_before_tax\n",
        "FROM products as p\n",
        "ORDER BY 5 DESC, 1"
      ],
      "metadata": {
        "id": "ist7QKlDqyvn"
      },
      "execution_count": null,
      "outputs": []
    },
    {
      "cell_type": "markdown",
      "source": [
        "<b>Задача 16</b>\n",
        "\n",
        "Напишите SQL-запрос к таблице products и выведите всю информацию о товарах, цена которых не превышает 100 рублей. Результат отсортируйте по возрастанию id товара.\n",
        "\n",
        "Поля в результирующей таблице: product_id, name, price"
      ],
      "metadata": {
        "id": "kUPIZVCpPmqW"
      }
    },
    {
      "cell_type": "code",
      "source": [
        "SELECT p.product_id,\n",
        "       p.name,\n",
        "       p.price\n",
        "FROM products as p\n",
        "WHERE p.price <= 100\n",
        "ORDER BY 1"
      ],
      "metadata": {
        "id": "RoZGb9EtPm-5"
      },
      "execution_count": null,
      "outputs": []
    },
    {
      "cell_type": "markdown",
      "source": [
        "<b>Задача 17</b>\n",
        "\n",
        "Отберите пользователей женского пола из таблицы users. Выведите только id этих пользователей. Результат отсортируйте по возрастанию id.\n",
        "\n",
        "Добавьте в запрос оператор LIMIT и выведите только 1000 первых id из отсортированного списка.\n",
        "\n",
        "Поле в результирующей таблице: user_id"
      ],
      "metadata": {
        "id": "j4Bee-BtPnOA"
      }
    },
    {
      "cell_type": "code",
      "source": [
        "SELECT u.user_id\n",
        "FROM users as u\n",
        "WHERE sex = 'female'\n",
        "ORDER BY 1\n",
        "LIMIT 1000"
      ],
      "metadata": {
        "id": "qiowF6i6PnaG"
      },
      "execution_count": null,
      "outputs": []
    },
    {
      "cell_type": "markdown",
      "source": [
        "<b>Задача 18</b>\n",
        "\n",
        "Отберите из таблицы user_actions все действия пользователей по созданию заказов, которые были совершены ими после полуночи 6 сентября 2022 года. Выведите колонки с id пользователей, id созданных заказов и временем их создания.\n",
        "\n",
        "Результат должен быть отсортирован по возрастанию id заказа.\n",
        "\n",
        "Поля в результирующей таблице: user_id, order_id, time"
      ],
      "metadata": {
        "id": "vGNjkoY0Pnnp"
      }
    },
    {
      "cell_type": "code",
      "source": [
        "SELECT ua.user_id,\n",
        "       ua.order_id,\n",
        "       ua.time\n",
        "FROM user_actions as ua\n",
        "WHERE ua.action = 'create_order'\n",
        "AND ua.time >= '2022-09-06'\n",
        "ORDER BY ua.order_id"
      ],
      "metadata": {
        "id": "JCjPWlLWPn0d"
      },
      "execution_count": null,
      "outputs": []
    },
    {
      "cell_type": "markdown",
      "source": [
        "<b>Задача 19</b>\n",
        "\n",
        "Назначьте скидку 20% на все товары из таблицы products и отберите те, цена на которые с учётом скидки превышает 100 рублей. Выведите id товаров, их наименования, прежнюю цену и новую цену с учётом скидки. <br>Колонку со старой ценой назовите old_price, с новой — new_price.\n",
        "\n",
        "Результат должен быть отсортирован по возрастанию id товара.\n",
        "\n",
        "Поля в результирующей таблице: product_id, name, old_price, new_price"
      ],
      "metadata": {
        "id": "_S25l7SVPoGp"
      }
    },
    {
      "cell_type": "code",
      "source": [
        "SELECT p.product_id,\n",
        "       p.name,\n",
        "       p.price as old_price,\n",
        "      (p.price * 0.8) as new_price\n",
        "FROM products as p\n",
        "WHERE p.price * 0.8 > 100\n",
        "ORDER BY 1"
      ],
      "metadata": {
        "id": "pcF1lMwIPoVW"
      },
      "execution_count": null,
      "outputs": []
    },
    {
      "cell_type": "markdown",
      "source": [
        "<b>Задача 20</b>\n",
        "\n",
        "Отберите из таблицы products все товары, названия которых либо начинаются со слова «чай», либо состоят из пяти символов. Выведите две колонки: id товаров и их наименования.\n",
        "\n",
        "Результат должен быть отсортирован по возрастанию id товара.\n",
        "\n",
        "Поля в результирующей таблице: product_id, name"
      ],
      "metadata": {
        "id": "3UHrcN6BQHiz"
      }
    },
    {
      "cell_type": "code",
      "source": [
        "SELECT p.product_id,\n",
        "       p.name\n",
        "FROM products as p\n",
        "WHERE SPLIT_PART(p.name,' ', 1) = 'чай'\n",
        "OR LENGTH(p.name) = 5\n",
        "ORDER BY 1"
      ],
      "metadata": {
        "id": "oUliUbkUQHzX"
      },
      "execution_count": null,
      "outputs": []
    },
    {
      "cell_type": "markdown",
      "source": [
        "<b>Задача 21</b>\n",
        "\n",
        "Отберите из таблицы products все товары, содержащие в своём названии последовательность символов «чай» (без кавычек). Выведите две колонки: id продукта и его название.\n",
        "\n",
        "Результат должен быть отсортирован по возрастанию id товара.\n",
        "\n",
        "Поля в результирующей таблице: product_id, name"
      ],
      "metadata": {
        "id": "9FEiJrxiQICZ"
      }
    },
    {
      "cell_type": "code",
      "source": [
        "SELECT p.product_id,\n",
        "       p.name\n",
        "FROM products as p\n",
        "WHERE p.name LIKE '%чай%'\n",
        "ORDER BY 1"
      ],
      "metadata": {
        "id": "WG2aVA9jQINM"
      },
      "execution_count": null,
      "outputs": []
    },
    {
      "cell_type": "markdown",
      "source": [
        "<b>Задача 22</b>\n",
        "\n",
        "Выберите из таблицы products id и наименования только тех товаров, названия которых начинаются на букву «с» и содержат только одно слово.\n",
        "\n",
        "Результат должен быть отсортирован по возрастанию id товара.\n",
        "\n",
        "Поля в результирующей таблице: product_id, name"
      ],
      "metadata": {
        "id": "3Or4TLPXQIUu"
      }
    },
    {
      "cell_type": "code",
      "source": [
        "SELECT p.product_id,\n",
        "       p.name\n",
        "FROM products as p\n",
        "WHERE p.name LIKE 'с%'\n",
        "AND p.name NOT LIKE '% %'\n",
        "ORDER BY 1"
      ],
      "metadata": {
        "id": "L554HtrIQIcZ"
      },
      "execution_count": null,
      "outputs": []
    },
    {
      "cell_type": "markdown",
      "source": [
        "<b>Задача 23</b>\n",
        "\n",
        "Составьте SQL-запрос, который выбирает из таблицы products все чаи стоимостью больше 60 рублей и вычисляет для них цену со скидкой 25%.\n",
        "\n",
        "Скидку в % менеджер попросил указать в отдельном столбце в формате текста, то есть вот так: «25%» (без кавычек). Столбцы со скидкой и новой ценой назовите соответственно discount и new_price.\n",
        "\n",
        "Также необходимо любым известным способом избавиться от «чайного гриба»: вряд ли менеджер имел в виду и его, когда ставил нам задачу.\n",
        "\n",
        "Результат должен быть отсортирован по возрастанию id товара.\n",
        "\n",
        "Поля в результирующей таблице: product_id, name, price, discount, new_price"
      ],
      "metadata": {
        "id": "31XkF0McQIiu"
      }
    },
    {
      "cell_type": "code",
      "source": [
        "SELECT p.product_id,\n",
        "       p.name,\n",
        "       p.price,\n",
        "       '25%' as discount,\n",
        "       p.price * 0.75 as new_price\n",
        "FROM products as p\n",
        "WHERE p.price > 60\n",
        "AND SPLIT_PART(p.name, ' ', 1) = 'чай'\n",
        "ORDER BY 1"
      ],
      "metadata": {
        "id": "WMrCI61WQIrZ"
      },
      "execution_count": null,
      "outputs": []
    },
    {
      "cell_type": "markdown",
      "source": [
        "<b>Задача 24</b>\n",
        "\n",
        "Из таблицы user_actions выведите всю информацию о действиях пользователей с id 170, 200 и 230 за период с 25 августа по 4 сентября 2022 года включительно. Результат отсортируйте по убыванию id заказа — то есть от самых поздних действий к самым первым.\n",
        "\n",
        "Поля в результирующей таблице: user_id, order_id, action, time"
      ],
      "metadata": {
        "id": "xaEvgjYLQIyk"
      }
    },
    {
      "cell_type": "code",
      "source": [
        "SELECT ua.user_id,\n",
        "       ua.order_id,\n",
        "       ua.action,\n",
        "       ua.time\n",
        "FROM user_actions as ua\n",
        "WHERE ua.user_id IN (170, 200, 230)\n",
        "AND ua.time BETWEEN '2022-08-25' AND '2022-09-05'\n",
        "ORDER BY 2 DESC"
      ],
      "metadata": {
        "id": "C1BgZNj4QI5R"
      },
      "execution_count": null,
      "outputs": []
    },
    {
      "cell_type": "markdown",
      "source": [
        "<b>Задача 25</b>\n",
        "\n",
        "Напишите SQL-запрос к таблице couriers и выведите всю информацию о курьерах, у которых не указан их день рождения.\n",
        "\n",
        "Результат должен быть отсортирован по возрастанию id курьера.\n",
        "\n",
        "Поля в результирующей таблице: birth_date, courier_id, sex"
      ],
      "metadata": {
        "id": "L487ENfUQJAn"
      }
    },
    {
      "cell_type": "code",
      "source": [
        "SELECT c.birth_date,\n",
        "       c.courier_id,\n",
        "       c.sex\n",
        "FROM couriers as c\n",
        "WHERE c.birth_date IS NULL\n",
        "ORDER BY 2"
      ],
      "metadata": {
        "id": "GM4S5OHzQJKH"
      },
      "execution_count": null,
      "outputs": []
    },
    {
      "cell_type": "markdown",
      "source": [
        "<b>Задача 26</b>\n",
        "\n",
        "Определите id и даты рождения 50 самых молодых пользователей мужского пола из таблицы users. Не учитывайте тех пользователей, у которых не указана дата рождения.\n",
        "\n",
        "Поле в результирующей таблице: user_id, birth_date"
      ],
      "metadata": {
        "id": "QAnMX_PdEoYr"
      }
    },
    {
      "cell_type": "code",
      "source": [
        "SELECT u.user_id,\n",
        "       u.birth_date\n",
        "FROM users as u\n",
        "WHERE u.birth_date IS NOT NULL\n",
        "AND u.sex = 'male'\n",
        "ORDER BY u.birth_date DESC\n",
        "LIMIT 50;"
      ],
      "metadata": {
        "id": "PbW47M6SEvzh"
      },
      "execution_count": null,
      "outputs": []
    },
    {
      "cell_type": "markdown",
      "source": [
        "<b>Задача 27</b>\n",
        "\n",
        "Напишите SQL-запрос к таблице courier_actions, чтобы узнать id и время доставки последних 10 заказов, доставленных курьером с id 100.\n",
        "\n",
        "Поля в результирующей таблице: order_id, time"
      ],
      "metadata": {
        "id": "p0A3cVybFurc"
      }
    },
    {
      "cell_type": "code",
      "source": [
        "SELECT ca.order_id,\n",
        "       ca.time\n",
        "FROM courier_actions as ca\n",
        "WHERE ca.courier_id = 100\n",
        "AND ca.action = 'deliver_order'\n",
        "ORDER BY 2 DESC\n",
        "LIMIT 10;"
      ],
      "metadata": {
        "id": "q6e9zo6_FzSn"
      },
      "execution_count": null,
      "outputs": []
    },
    {
      "cell_type": "markdown",
      "source": [
        "<b>Задача 28</b>\n",
        "\n",
        "Из таблицы user_actions получите id всех заказов, сделанных пользователями сервиса в августе 2022 года.\n",
        "\n",
        "Результат отсортируйте по возрастанию id заказа.\n",
        "\n",
        "Поле в результирующей таблице: order_id"
      ],
      "metadata": {
        "id": "XFqnUsfsFzkr"
      }
    },
    {
      "cell_type": "code",
      "source": [
        "SELECT ua.order_id\n",
        "FROM user_actions as ua\n",
        "WHERE DATE_PART('year', ua.time) = 2022\n",
        "AND DATE_PART('month', ua.time) = 8\n",
        "AND ua.action = 'create_order'\n",
        "ORDER BY 1;"
      ],
      "metadata": {
        "id": "Ywj-2JyvFz0X"
      },
      "execution_count": null,
      "outputs": []
    },
    {
      "cell_type": "markdown",
      "source": [
        "<b>Задача 29</b>\n",
        "\n",
        "Из таблицы couriers отберите id всех курьеров, родившихся в период с 1990 по 1995 год включительно.\n",
        "\n",
        "Результат отсортируйте по возрастанию id курьера.\n",
        "\n",
        "Поле в результирующей таблице: courier_id"
      ],
      "metadata": {
        "id": "J9TPwmW0F0F3"
      }
    },
    {
      "cell_type": "code",
      "source": [
        "SELECT c.courier_id\n",
        "FROM couriers as c\n",
        "WHERE DATE_PART('year', c.birth_date) BETWEEN 1990 AND 1995\n",
        "ORDER BY 1;"
      ],
      "metadata": {
        "id": "kGdJm1qwF0SG"
      },
      "execution_count": null,
      "outputs": []
    },
    {
      "cell_type": "markdown",
      "source": [
        "<b>Задача 30</b>\n",
        "\n",
        "Из таблицы user_actions получите информацию о всех отменах заказов, которые пользователи совершали в течение августа 2022 года по средам с 12:00 до 15:59.\n",
        "\n",
        "Результат отсортируйте по убыванию id отменённых заказов.\n",
        "\n",
        "Поля в результирующей таблице: user_id, order_id, action, time"
      ],
      "metadata": {
        "id": "tj4WhUP_F0ek"
      }
    },
    {
      "cell_type": "code",
      "source": [
        "SELECT ua.user_id,\n",
        "       ua.order_id,\n",
        "       ua.action,\n",
        "       ua.time\n",
        "FROM user_actions as ua\n",
        "WHERE ua.action = 'cancel_order'\n",
        "AND DATE_PART('year', ua.time) = 2022\n",
        "AND DATE_PART('month', ua.time) = 8\n",
        "AND DATE_PART('dow', ua.time) = 3\n",
        "AND DATE_PART('hour', ua.time) BETWEEN 12 AND 15\n",
        "AND DATE_PART('minute', ua.time) BETWEEN 0 AND 59\n",
        "ORDER BY 2 DESC;"
      ],
      "metadata": {
        "id": "5qYCs0NsF0ub"
      },
      "execution_count": null,
      "outputs": []
    },
    {
      "cell_type": "markdown",
      "source": [
        "<b>Задача 31</b>\n",
        "\n",
        "Как и в задаче из прошлого урока, вычислите НДС каждого товара в таблице products и рассчитайте цену без учёта НДС. Однако теперь примите во внимание, что для товаров из списка налог составляет 10%. Для остальных товаров НДС тот же — 20%.\n",
        "\n",
        "Выведите всю информацию о товарах, включая сумму налога и цену без его учёта. Колонки с суммой налога и ценой без НДС назовите соответственно tax и price_before_tax. Округлите значения в этих колонках до двух знаков после запятой.\n",
        "\n",
        "Результат отсортируйте сначала по убыванию цены товара без учёта НДС, затем по возрастанию id товара.\n",
        "\n",
        "Поля в результирующей таблице: product_id, name, price, tax, price_before_tax"
      ],
      "metadata": {
        "id": "xc01wlskKAUQ"
      }
    },
    {
      "cell_type": "code",
      "source": [
        "SELECT p.product_id,\n",
        "       p.name,\n",
        "       p.price,\n",
        "       CASE WHEN p.name IN ('сахар', 'сухарики', 'сушки',\n",
        "                            'семечки', 'масло льняное', 'виноград',\n",
        "                            'масло оливковое', 'арбуз', 'батон', 'йогурт',\n",
        "                            'сливки', 'гречка', 'овсянка', 'макароны',\n",
        "                            'баранина', 'апельсины', 'бублики', 'хлеб',\n",
        "                            'горох', 'сметана', 'рыба копченая', 'мука',\n",
        "                            'шпроты', 'сосиски', 'свинина', 'рис', 'масло кунжутное',\n",
        "                            'сгущенка', 'ананас', 'говядина', 'соль', 'рыба вяленая',\n",
        "                            'масло подсолнечное', 'яблоки', 'груши', 'лепешка', 'молоко',\n",
        "                            'курица', 'лаваш', 'вафли', 'мандарины')\n",
        "       THEN ROUND(p.price / 110 * 10, 2)\n",
        "       ELSE ROUND(p.price / 120 * 20, 2) END as tax,\n",
        "       CASE WHEN p.name in ('сахар', 'сухарики', 'сушки',\n",
        "                            'семечки', 'масло льняное', 'виноград',\n",
        "                            'масло оливковое', 'арбуз', 'батон', 'йогурт',\n",
        "                            'сливки', 'гречка', 'овсянка', 'макароны',\n",
        "                            'баранина', 'апельсины', 'бублики', 'хлеб',\n",
        "                            'горох', 'сметана', 'рыба копченая', 'мука',\n",
        "                            'шпроты', 'сосиски', 'свинина', 'рис', 'масло кунжутное',\n",
        "                            'сгущенка', 'ананас', 'говядина', 'соль', 'рыба вяленая',\n",
        "                            'масло подсолнечное', 'яблоки', 'груши', 'лепешка', 'молоко',\n",
        "                            'курица', 'лаваш', 'вафли', 'мандарины')\n",
        "       THEN ROUND(p.price - p.price / 110 * 10, 2)\n",
        "       ELSE ROUND(p.price - p.price / 120 * 20, 2) END as price_before_tax\n",
        "FROM   products as p\n",
        "ORDER BY 5 desc, 1;"
      ],
      "metadata": {
        "id": "Txx5p4NfKAje"
      },
      "execution_count": null,
      "outputs": []
    }
  ]
}