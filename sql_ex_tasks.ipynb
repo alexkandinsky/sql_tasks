{
  "nbformat": 4,
  "nbformat_minor": 0,
  "metadata": {
    "colab": {
      "provenance": [],
      "authorship_tag": "ABX9TyOPqXtq8W2I7EoLM8O84FQk"
    },
    "kernelspec": {
      "name": "python3",
      "display_name": "Python 3"
    },
    "language_info": {
      "name": "python"
    }
  },
  "cells": [
    {
      "cell_type": "markdown",
      "source": [
        "ССЫЛКА НА ИСТОЧНИК ЗАДАЧ: https://sql-ex.ru/"
      ],
      "metadata": {
        "id": "ln1TMmc6K-DE"
      }
    },
    {
      "cell_type": "markdown",
      "source": [
        "<b>1 (1)</b> <br> Найдите номер модели, скорость и размер жесткого диска для всех ПК стоимостью менее 500 дол. Вывести: model, speed и hd"
      ],
      "metadata": {
        "id": "wX11OHJpMJaO"
      }
    },
    {
      "cell_type": "code",
      "execution_count": null,
      "metadata": {
        "id": "r1b4rrwwJlLp"
      },
      "outputs": [],
      "source": [
        "SELECT model,\n",
        "       speed,\n",
        "       hd\n",
        "FROM PC\n",
        "WHERE price < 500"
      ]
    },
    {
      "cell_type": "markdown",
      "source": [
        "<b>2 (2)</b> <br>\n",
        "Найдите производителей принтеров. Вывести: maker"
      ],
      "metadata": {
        "id": "wdcELm0TMqag"
      }
    },
    {
      "cell_type": "code",
      "source": [
        "SELECT DISTINCT maker\n",
        "FROM product\n",
        "WHERE type = 'printer'"
      ],
      "metadata": {
        "id": "VChvVatoMhw2"
      },
      "execution_count": null,
      "outputs": []
    },
    {
      "cell_type": "markdown",
      "source": [
        "<b>3 (1)</b><br>\n",
        "Найдите номер модели, объем памяти и размеры экранов ПК-блокнотов, цена которых превышает 1000 дол."
      ],
      "metadata": {
        "id": "BXFw5I9QM5WT"
      }
    },
    {
      "cell_type": "code",
      "source": [
        "SELECT model,\n",
        "       ram,\n",
        "       screen\n",
        "FROM Laptop\n",
        "WHERE price > 1000"
      ],
      "metadata": {
        "id": "mRdUK9HwM375"
      },
      "execution_count": null,
      "outputs": []
    },
    {
      "cell_type": "markdown",
      "source": [
        "<b>4 (1)</b><br>\n",
        "Найдите все записи таблицы Printer для цветных принтеров."
      ],
      "metadata": {
        "id": "RKSo1-tFNLQQ"
      }
    },
    {
      "cell_type": "code",
      "source": [
        "SELECT *\n",
        "FROM printer\n",
        "WHERE color = 'y'"
      ],
      "metadata": {
        "id": "vu7ejAJYNKRb"
      },
      "execution_count": null,
      "outputs": []
    },
    {
      "cell_type": "markdown",
      "source": [
        "<b>5 (1)</b> <br>\n",
        "Найдите номер модели, скорость и размер жесткого диска ПК, имеющих 12x или 24x CD и цену менее 600 дол."
      ],
      "metadata": {
        "id": "pEXOxZzsNXSR"
      }
    },
    {
      "cell_type": "code",
      "source": [
        "SELECT model,\n",
        "       speed,\n",
        "       hd\n",
        "FROM Pc\n",
        "WHERE (cd = '12x' OR cd = '24x')\n",
        "AND price < 600"
      ],
      "metadata": {
        "id": "hXAKK5Y2NVvZ"
      },
      "execution_count": null,
      "outputs": []
    },
    {
      "cell_type": "markdown",
      "source": [
        "<b>6 (2)</b> <br>\n",
        "Для каждого производителя, выпускающего ПК-блокноты c объёмом жесткого диска не менее 10 Гбайт, найти скорости таких ПК-блокнотов. Вывод: производитель, скорость."
      ],
      "metadata": {
        "id": "g6EB6uIHNoeX"
      }
    },
    {
      "cell_type": "code",
      "source": [
        "SELECT DISTINCT maker,\n",
        "               speed\n",
        "FROM Product\n",
        "JOIN Laptop USING(model)\n",
        "WHERE hd >= 10\n",
        "AND type = 'Laptop'"
      ],
      "metadata": {
        "id": "4zDOcJ13Nl3G"
      },
      "execution_count": null,
      "outputs": []
    },
    {
      "cell_type": "markdown",
      "source": [
        "<b>7 (2)</b> <br>\n",
        "Найдите номера моделей и цены всех имеющихся в продаже продуктов (любого типа) производителя B (латинская буква)."
      ],
      "metadata": {
        "id": "c-BUvzbbN6yW"
      }
    },
    {
      "cell_type": "code",
      "source": [
        "SELECT model, price\n",
        "FROM Product\n",
        "JOIN Pc USING(model)\n",
        "WHERE maker = 'B'\n",
        "UNION\n",
        "SELECT model, price\n",
        "FROM Product\n",
        "JOIN Laptop USING(model)\n",
        "WHERE maker = 'B'\n",
        "UNION\n",
        "SELECT model, price\n",
        "FROM Product\n",
        "JOIN Printer USING(model)\n",
        "WHERE maker = 'B'"
      ],
      "metadata": {
        "id": "xBqgzesDN5W7"
      },
      "execution_count": null,
      "outputs": []
    },
    {
      "cell_type": "markdown",
      "source": [
        "<b>8 (2)</b><br>\n",
        "Найдите производителя, выпускающего ПК, но не ПК-блокноты."
      ],
      "metadata": {
        "id": "8Ri6_WYzOVB8"
      }
    },
    {
      "cell_type": "code",
      "source": [
        "SELECT DISTINCT maker\n",
        "FROM Product\n",
        "WHERE maker IN (SELECT maker\n",
        "                FROM Product\n",
        "                WHERE type = 'PC')\n",
        "AND maker NOT IN (SELECT maker\n",
        "                  FROM Product\n",
        "                  WHERE type = 'Laptop')"
      ],
      "metadata": {
        "id": "NDX253ZgOT1k"
      },
      "execution_count": null,
      "outputs": []
    },
    {
      "cell_type": "markdown",
      "source": [
        "<b>9 (1)</b><br>\n",
        "Найдите производителей ПК с процессором не менее 450 Мгц. Вывести: Maker"
      ],
      "metadata": {
        "id": "KV7ube_EOvG8"
      }
    },
    {
      "cell_type": "code",
      "source": [
        "SELECT DISTINCT maker\n",
        "FROM Product\n",
        "JOIN Pc USING(model)\n",
        "WHERE speed >= 450"
      ],
      "metadata": {
        "id": "ybfKqzhPOtoF"
      },
      "execution_count": null,
      "outputs": []
    },
    {
      "cell_type": "markdown",
      "source": [
        "<b>10 (1)</b><br>\n",
        "Найдите модели принтеров, имеющих самую высокую цену. Вывести: model, price"
      ],
      "metadata": {
        "id": "NG8YENVBO8kW"
      }
    },
    {
      "cell_type": "code",
      "source": [
        "SELECT model,\n",
        "       price\n",
        "FROM Printer\n",
        "WHERE price IN(SELECT MAX(price) as max_price\n",
        "               FROM Printer)"
      ],
      "metadata": {
        "id": "F2usKxokO7oD"
      },
      "execution_count": null,
      "outputs": []
    },
    {
      "cell_type": "markdown",
      "source": [
        "<b>11 (1)</b><br>\n",
        "Найдите среднюю скорость ПК."
      ],
      "metadata": {
        "id": "We7EsonHahLM"
      }
    },
    {
      "cell_type": "code",
      "source": [
        "SELECT AVG(speed) as avg_speed\n",
        "FROM Pc"
      ],
      "metadata": {
        "id": "3K6HQBnvalpR"
      },
      "execution_count": null,
      "outputs": []
    },
    {
      "cell_type": "markdown",
      "source": [
        "<b>12 (1)</b><br>\n",
        "Найдите среднюю скорость ПК-блокнотов, цена которых превышает 1000 дол."
      ],
      "metadata": {
        "id": "czaEQdfhapF_"
      }
    },
    {
      "cell_type": "code",
      "source": [
        "SELECT AVG(speed) as avg_speed\n",
        "FROM Laptop\n",
        "WHERE price > 1000"
      ],
      "metadata": {
        "id": "QDIHgJ9Zapjd"
      },
      "execution_count": null,
      "outputs": []
    },
    {
      "cell_type": "markdown",
      "source": [
        "<b>13 (1)</b><br>Найдите среднюю скорость ПК, выпущенных производителем A."
      ],
      "metadata": {
        "id": "q8RL4RbOapsf"
      }
    },
    {
      "cell_type": "code",
      "source": [
        "SELECT AVG(speed) as avg_speed\n",
        "FROM Product\n",
        "JOIN Pc USING(model)\n",
        "WHERE maker = 'A'"
      ],
      "metadata": {
        "id": "zblRKVcmap8l"
      },
      "execution_count": null,
      "outputs": []
    },
    {
      "cell_type": "markdown",
      "source": [
        "<b>14 (2)</b><br>Найдите класс, имя и страну для кораблей из таблицы Ships, имеющих не менее 10 орудий."
      ],
      "metadata": {
        "id": "w6nxSduzaqKQ"
      }
    },
    {
      "cell_type": "code",
      "source": [
        "SELECT s.class,\n",
        "       s.name,\n",
        "       c.country\n",
        "FROM Ships as s\n",
        "JOIN Classes as c USING(class)\n",
        "WHERE c.numGuns >= 10"
      ],
      "metadata": {
        "id": "fR8PZlDqaqTU"
      },
      "execution_count": null,
      "outputs": []
    },
    {
      "cell_type": "markdown",
      "source": [
        "<b>15 (2)</b><br>\n",
        "Найдите размеры жестких дисков, совпадающих у двух и более PC. Вывести: HD"
      ],
      "metadata": {
        "id": "FSSlGOyTaqcg"
      }
    },
    {
      "cell_type": "code",
      "source": [
        "SELECT hd\n",
        "FROM Pc\n",
        "GROUP BY hd\n",
        "HAVING COUNT(*) >= 2"
      ],
      "metadata": {
        "id": "sEnnnOUfaqm4"
      },
      "execution_count": null,
      "outputs": []
    },
    {
      "cell_type": "markdown",
      "source": [
        "<b>16 (2)</b><br>Найдите пары моделей PC, имеющих одинаковые скорость и RAM. В результате каждая пара указывается только один раз, т.е. (i,j), но не (j,i), Порядок вывода: модель с большим номером, модель с меньшим номером, скорость и RAM."
      ],
      "metadata": {
        "id": "QCxhMjKVP6Sz"
      }
    },
    {
      "cell_type": "code",
      "source": [
        "SELECT DISTINCT pc1.model,\n",
        "                pc2.model,\n",
        "                pc1.speed, pc1.ram\n",
        "FROM PC as pc1, PC as pc2\n",
        "WHERE pc1.model > pc2.model\n",
        "      AND pc1.speed = pc2.speed\n",
        "      AND pc1.ram = pc2.ram"
      ],
      "metadata": {
        "id": "VTlZLkRyP__y"
      },
      "execution_count": null,
      "outputs": []
    },
    {
      "cell_type": "markdown",
      "source": [
        "<b>17 (2)</b><br>Найдите модели ПК-блокнотов, скорость которых меньше скорости каждого из ПК.\n",
        "Вывести: type, model, speed"
      ],
      "metadata": {
        "id": "e6J6FBsgQAor"
      }
    },
    {
      "cell_type": "code",
      "source": [
        "SELECT DISTINCT type,\n",
        "                model,\n",
        "                speed\n",
        "FROM Laptop\n",
        "JOIN Product USING(model)\n",
        "WHERE speed < (SELECT MIN(speed) FROM PC)"
      ],
      "metadata": {
        "id": "1NszKylRQAyt"
      },
      "execution_count": null,
      "outputs": []
    },
    {
      "cell_type": "markdown",
      "source": [
        "<b>18 (2)</b><br>Найдите производителей самых дешевых цветных принтеров. Вывести: maker, price\n"
      ],
      "metadata": {
        "id": "5w9ennh9QA65"
      }
    },
    {
      "cell_type": "code",
      "source": [
        "SELECT DISTINCT maker,\n",
        "                price\n",
        "FROM Printer\n",
        "JOIN Product USING(model)\n",
        "WHERE color = 'y'\n",
        "AND price = (SELECT MIN(price) FROM Printer WHERE color = 'y')"
      ],
      "metadata": {
        "id": "359yPeFDQBDa"
      },
      "execution_count": null,
      "outputs": []
    },
    {
      "cell_type": "markdown",
      "source": [
        "<b>19 (1)</b><br>\n",
        "Для каждого производителя, имеющего модели в таблице Laptop, найдите средний размер экрана выпускаемых им ПК-блокнотов.\n",
        "Вывести: maker, средний размер экрана."
      ],
      "metadata": {
        "id": "GJUnk6ddQBJr"
      }
    },
    {
      "cell_type": "code",
      "source": [
        "SELECT maker,\n",
        "       AVG(screen) as avg_screen_size\n",
        "FROM Laptop\n",
        "JOIN Product USING(model)\n",
        "GROUP BY maker"
      ],
      "metadata": {
        "id": "wMHgpiLHQBQW"
      },
      "execution_count": null,
      "outputs": []
    },
    {
      "cell_type": "markdown",
      "source": [
        "<b>20 (2)</b><br>\n",
        "Найдите производителей, выпускающих по меньшей мере три различных модели ПК. Вывести: Maker, число моделей ПК."
      ],
      "metadata": {
        "id": "VSO4q6jPQBV4"
      }
    },
    {
      "cell_type": "code",
      "source": [
        "SELECT maker,\n",
        "       COUNT(*) as model_count\n",
        "FROM Product\n",
        "WHERE type = 'PC'\n",
        "GROUP BY maker\n",
        "HAVING COUNT(*) >= 3"
      ],
      "metadata": {
        "id": "C1b6WTkZQBa5"
      },
      "execution_count": null,
      "outputs": []
    }
  ]
}