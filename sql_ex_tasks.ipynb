{
  "nbformat": 4,
  "nbformat_minor": 0,
  "metadata": {
    "colab": {
      "provenance": [],
      "authorship_tag": "ABX9TyMgx1rgwRMDYQg8rRiuuw5E"
    },
    "kernelspec": {
      "name": "python3",
      "display_name": "Python 3"
    },
    "language_info": {
      "name": "python"
    }
  },
  "cells": [
    {
      "cell_type": "markdown",
      "source": [
        "ССЫЛКА НА ИСТОЧНИК ЗАДАЧ: https://sql-ex.ru/"
      ],
      "metadata": {
        "id": "ln1TMmc6K-DE"
      }
    },
    {
      "cell_type": "markdown",
      "source": [
        "<b>1 (1)</b> <br> Найдите номер модели, скорость и размер жесткого диска для всех ПК стоимостью менее 500 дол. Вывести: model, speed и hd"
      ],
      "metadata": {
        "id": "wX11OHJpMJaO"
      }
    },
    {
      "cell_type": "code",
      "execution_count": null,
      "metadata": {
        "id": "r1b4rrwwJlLp"
      },
      "outputs": [],
      "source": [
        "SELECT model,\n",
        "       speed,\n",
        "       hd\n",
        "FROM PC\n",
        "WHERE price < 500"
      ]
    },
    {
      "cell_type": "markdown",
      "source": [
        "<b>2 (2)</b> <br>\n",
        "Найдите производителей принтеров. Вывести: maker"
      ],
      "metadata": {
        "id": "wdcELm0TMqag"
      }
    },
    {
      "cell_type": "code",
      "source": [
        "SELECT DISTINCT maker\n",
        "FROM product\n",
        "WHERE type = 'printer'"
      ],
      "metadata": {
        "id": "VChvVatoMhw2"
      },
      "execution_count": null,
      "outputs": []
    },
    {
      "cell_type": "markdown",
      "source": [
        "<b>3 (1)</b><br>\n",
        "Найдите номер модели, объем памяти и размеры экранов ПК-блокнотов, цена которых превышает 1000 дол."
      ],
      "metadata": {
        "id": "BXFw5I9QM5WT"
      }
    },
    {
      "cell_type": "code",
      "source": [
        "SELECT model,\n",
        "       ram,\n",
        "       screen\n",
        "FROM Laptop\n",
        "WHERE price > 1000"
      ],
      "metadata": {
        "id": "mRdUK9HwM375"
      },
      "execution_count": null,
      "outputs": []
    },
    {
      "cell_type": "markdown",
      "source": [
        "<b>4 (1)</b><br>\n",
        "Найдите все записи таблицы Printer для цветных принтеров."
      ],
      "metadata": {
        "id": "RKSo1-tFNLQQ"
      }
    },
    {
      "cell_type": "code",
      "source": [
        "SELECT *\n",
        "FROM printer\n",
        "WHERE color = 'y'"
      ],
      "metadata": {
        "id": "vu7ejAJYNKRb"
      },
      "execution_count": null,
      "outputs": []
    },
    {
      "cell_type": "markdown",
      "source": [
        "<b>5 (1)</b> <br>\n",
        "Найдите номер модели, скорость и размер жесткого диска ПК, имеющих 12x или 24x CD и цену менее 600 дол."
      ],
      "metadata": {
        "id": "pEXOxZzsNXSR"
      }
    },
    {
      "cell_type": "code",
      "source": [
        "SELECT model,\n",
        "       speed,\n",
        "       hd\n",
        "FROM Pc\n",
        "WHERE (cd = '12x' OR cd = '24x')\n",
        "AND price < 600"
      ],
      "metadata": {
        "id": "hXAKK5Y2NVvZ"
      },
      "execution_count": null,
      "outputs": []
    },
    {
      "cell_type": "markdown",
      "source": [
        "<b>6 (2)</b> <br>\n",
        "Для каждого производителя, выпускающего ПК-блокноты c объёмом жесткого диска не менее 10 Гбайт, найти скорости таких ПК-блокнотов. Вывод: производитель, скорость."
      ],
      "metadata": {
        "id": "g6EB6uIHNoeX"
      }
    },
    {
      "cell_type": "code",
      "source": [
        "SELECT DISTINCT maker,\n",
        "               speed\n",
        "FROM Product\n",
        "JOIN Laptop USING(model)\n",
        "WHERE hd >= 10\n",
        "AND type = 'Laptop'"
      ],
      "metadata": {
        "id": "4zDOcJ13Nl3G"
      },
      "execution_count": null,
      "outputs": []
    },
    {
      "cell_type": "markdown",
      "source": [
        "<b>7 (2)</b> <br>\n",
        "Найдите номера моделей и цены всех имеющихся в продаже продуктов (любого типа) производителя B (латинская буква)."
      ],
      "metadata": {
        "id": "c-BUvzbbN6yW"
      }
    },
    {
      "cell_type": "code",
      "source": [
        "SELECT model, price\n",
        "FROM Product\n",
        "JOIN Pc USING(model)\n",
        "WHERE maker = 'B'\n",
        "UNION\n",
        "SELECT model, price\n",
        "FROM Product\n",
        "JOIN Laptop USING(model)\n",
        "WHERE maker = 'B'\n",
        "UNION\n",
        "SELECT model, price\n",
        "FROM Product\n",
        "JOIN Printer USING(model)\n",
        "WHERE maker = 'B'"
      ],
      "metadata": {
        "id": "xBqgzesDN5W7"
      },
      "execution_count": null,
      "outputs": []
    },
    {
      "cell_type": "markdown",
      "source": [
        "<b>8 (2)</b><br>\n",
        "Найдите производителя, выпускающего ПК, но не ПК-блокноты."
      ],
      "metadata": {
        "id": "8Ri6_WYzOVB8"
      }
    },
    {
      "cell_type": "code",
      "source": [
        "SELECT DISTINCT maker\n",
        "FROM Product\n",
        "WHERE maker IN (SELECT maker\n",
        "                FROM Product\n",
        "                WHERE type = 'PC')\n",
        "AND maker NOT IN (SELECT maker\n",
        "                  FROM Product\n",
        "                  WHERE type = 'Laptop')"
      ],
      "metadata": {
        "id": "NDX253ZgOT1k"
      },
      "execution_count": null,
      "outputs": []
    },
    {
      "cell_type": "markdown",
      "source": [
        "<b>9 (1)</b><br>\n",
        "Найдите производителей ПК с процессором не менее 450 Мгц. Вывести: Maker"
      ],
      "metadata": {
        "id": "KV7ube_EOvG8"
      }
    },
    {
      "cell_type": "code",
      "source": [
        "SELECT DISTINCT maker\n",
        "FROM Product\n",
        "JOIN Pc USING(model)\n",
        "WHERE speed >= 450"
      ],
      "metadata": {
        "id": "ybfKqzhPOtoF"
      },
      "execution_count": null,
      "outputs": []
    },
    {
      "cell_type": "markdown",
      "source": [
        "<b>10 (1)</b><br>\n",
        "Найдите модели принтеров, имеющих самую высокую цену. Вывести: model, price"
      ],
      "metadata": {
        "id": "NG8YENVBO8kW"
      }
    },
    {
      "cell_type": "code",
      "source": [
        "SELECT model,\n",
        "       price\n",
        "FROM Printer\n",
        "WHERE price IN(SELECT MAX(price) as max_price\n",
        "               FROM Printer)"
      ],
      "metadata": {
        "id": "F2usKxokO7oD"
      },
      "execution_count": null,
      "outputs": []
    },
    {
      "cell_type": "markdown",
      "source": [
        "<b>11 (1)</b><br>\n",
        "Найдите среднюю скорость ПК."
      ],
      "metadata": {
        "id": "We7EsonHahLM"
      }
    },
    {
      "cell_type": "code",
      "source": [
        "SELECT AVG(speed) as avg_speed\n",
        "FROM Pc"
      ],
      "metadata": {
        "id": "3K6HQBnvalpR"
      },
      "execution_count": null,
      "outputs": []
    },
    {
      "cell_type": "markdown",
      "source": [
        "<b>12 (1)</b><br>\n",
        "Найдите среднюю скорость ПК-блокнотов, цена которых превышает 1000 дол."
      ],
      "metadata": {
        "id": "czaEQdfhapF_"
      }
    },
    {
      "cell_type": "code",
      "source": [
        "SELECT AVG(speed) as avg_speed\n",
        "FROM Laptop\n",
        "WHERE price > 1000"
      ],
      "metadata": {
        "id": "QDIHgJ9Zapjd"
      },
      "execution_count": null,
      "outputs": []
    },
    {
      "cell_type": "markdown",
      "source": [
        "<b>13 (1)</b><br>Найдите среднюю скорость ПК, выпущенных производителем A."
      ],
      "metadata": {
        "id": "q8RL4RbOapsf"
      }
    },
    {
      "cell_type": "code",
      "source": [
        "SELECT AVG(speed) as avg_speed\n",
        "FROM Product\n",
        "JOIN Pc USING(model)\n",
        "WHERE maker = 'A'"
      ],
      "metadata": {
        "id": "zblRKVcmap8l"
      },
      "execution_count": null,
      "outputs": []
    },
    {
      "cell_type": "markdown",
      "source": [
        "<b>14 (2)</b><br>Найдите класс, имя и страну для кораблей из таблицы Ships, имеющих не менее 10 орудий."
      ],
      "metadata": {
        "id": "w6nxSduzaqKQ"
      }
    },
    {
      "cell_type": "code",
      "source": [
        "SELECT s.class,\n",
        "       s.name,\n",
        "       c.country\n",
        "FROM Ships as s\n",
        "JOIN Classes as c USING(class)\n",
        "WHERE c.numGuns >= 10"
      ],
      "metadata": {
        "id": "fR8PZlDqaqTU"
      },
      "execution_count": null,
      "outputs": []
    },
    {
      "cell_type": "markdown",
      "source": [
        "<b>15 (2)</b><br>\n",
        "Найдите размеры жестких дисков, совпадающих у двух и более PC. Вывести: HD"
      ],
      "metadata": {
        "id": "FSSlGOyTaqcg"
      }
    },
    {
      "cell_type": "code",
      "source": [
        "SELECT hd\n",
        "FROM Pc\n",
        "GROUP BY hd\n",
        "HAVING COUNT(*) >= 2"
      ],
      "metadata": {
        "id": "sEnnnOUfaqm4"
      },
      "execution_count": null,
      "outputs": []
    },
    {
      "cell_type": "markdown",
      "source": [
        "<b>16 (2)</b><br>Найдите пары моделей PC, имеющих одинаковые скорость и RAM. В результате каждая пара указывается только один раз, т.е. (i,j), но не (j,i), Порядок вывода: модель с большим номером, модель с меньшим номером, скорость и RAM."
      ],
      "metadata": {
        "id": "QCxhMjKVP6Sz"
      }
    },
    {
      "cell_type": "code",
      "source": [
        "SELECT DISTINCT pc1.model,\n",
        "                pc2.model,\n",
        "                pc1.speed, pc1.ram\n",
        "FROM PC as pc1, PC as pc2\n",
        "WHERE pc1.model > pc2.model\n",
        "      AND pc1.speed = pc2.speed\n",
        "      AND pc1.ram = pc2.ram"
      ],
      "metadata": {
        "id": "VTlZLkRyP__y"
      },
      "execution_count": null,
      "outputs": []
    },
    {
      "cell_type": "markdown",
      "source": [
        "<b>17 (2)</b><br>Найдите модели ПК-блокнотов, скорость которых меньше скорости каждого из ПК.\n",
        "Вывести: type, model, speed"
      ],
      "metadata": {
        "id": "e6J6FBsgQAor"
      }
    },
    {
      "cell_type": "code",
      "source": [
        "SELECT DISTINCT type,\n",
        "                model,\n",
        "                speed\n",
        "FROM Laptop\n",
        "JOIN Product USING(model)\n",
        "WHERE speed < (SELECT MIN(speed) FROM PC)"
      ],
      "metadata": {
        "id": "1NszKylRQAyt"
      },
      "execution_count": null,
      "outputs": []
    },
    {
      "cell_type": "markdown",
      "source": [
        "<b>18 (2)</b><br>Найдите производителей самых дешевых цветных принтеров. Вывести: maker, price\n"
      ],
      "metadata": {
        "id": "5w9ennh9QA65"
      }
    },
    {
      "cell_type": "code",
      "source": [
        "SELECT DISTINCT maker,\n",
        "                price\n",
        "FROM Printer\n",
        "JOIN Product USING(model)\n",
        "WHERE color = 'y'\n",
        "AND price = (SELECT MIN(price) FROM Printer WHERE color = 'y')"
      ],
      "metadata": {
        "id": "359yPeFDQBDa"
      },
      "execution_count": null,
      "outputs": []
    },
    {
      "cell_type": "markdown",
      "source": [
        "<b>19 (1)</b><br>\n",
        "Для каждого производителя, имеющего модели в таблице Laptop, найдите средний размер экрана выпускаемых им ПК-блокнотов.\n",
        "Вывести: maker, средний размер экрана."
      ],
      "metadata": {
        "id": "GJUnk6ddQBJr"
      }
    },
    {
      "cell_type": "code",
      "source": [
        "SELECT maker,\n",
        "       AVG(screen) as avg_screen_size\n",
        "FROM Laptop\n",
        "JOIN Product USING(model)\n",
        "GROUP BY maker"
      ],
      "metadata": {
        "id": "wMHgpiLHQBQW"
      },
      "execution_count": null,
      "outputs": []
    },
    {
      "cell_type": "markdown",
      "source": [
        "<b>20 (2)</b><br>\n",
        "Найдите производителей, выпускающих по меньшей мере три различных модели ПК. Вывести: Maker, число моделей ПК."
      ],
      "metadata": {
        "id": "VSO4q6jPQBV4"
      }
    },
    {
      "cell_type": "code",
      "source": [
        "SELECT maker,\n",
        "       COUNT(*) as model_count\n",
        "FROM Product\n",
        "WHERE type = 'PC'\n",
        "GROUP BY maker\n",
        "HAVING COUNT(*) >= 3"
      ],
      "metadata": {
        "id": "C1b6WTkZQBa5"
      },
      "execution_count": null,
      "outputs": []
    },
    {
      "cell_type": "markdown",
      "source": [
        "<b>21 (1)</b><br>Найдите максимальную цену ПК, выпускаемых каждым производителем, у которого есть модели в таблице PC.\n",
        "Вывести: maker, максимальная цена."
      ],
      "metadata": {
        "id": "71mAc-1iwugE"
      }
    },
    {
      "cell_type": "code",
      "source": [
        "SELECT maker,\n",
        "       MAX(price) as max_price\n",
        "FROM Pc\n",
        "LEFT JOIN Product USING(model)\n",
        "GROUP BY maker"
      ],
      "metadata": {
        "id": "_5cbcutVwupV"
      },
      "execution_count": null,
      "outputs": []
    },
    {
      "cell_type": "markdown",
      "source": [
        "<b>22 (1)</b><br>Для каждого значения скорости ПК, превышающего 600 МГц, определите среднюю цену ПК с такой же скоростью. Вывести: speed, средняя цена."
      ],
      "metadata": {
        "id": "rtfkYXy8wuzE"
      }
    },
    {
      "cell_type": "code",
      "source": [
        "SELECT speed,\n",
        "       AVG(price) as avg_price\n",
        "FROM Pc\n",
        "WHERE speed > 600\n",
        "GROUP BY speed"
      ],
      "metadata": {
        "id": "Rq_Qj2y2wu8w"
      },
      "execution_count": null,
      "outputs": []
    },
    {
      "cell_type": "markdown",
      "source": [
        "<b>23 (2)</b><br>\n",
        "Найдите производителей, которые производили бы как ПК\n",
        "со скоростью не менее 750 МГц, так и ПК-блокноты со скоростью не менее 750 МГц.\n",
        "Вывести: Maker"
      ],
      "metadata": {
        "id": "hAqQQ3XjwvFU"
      }
    },
    {
      "cell_type": "code",
      "source": [
        "SELECT DISTINCT maker\n",
        "FROM Product\n",
        "JOIN Pc USING (model)\n",
        "WHERE speed >= 750\n",
        "AND maker IN (SELECT maker\n",
        "              FROM Product\n",
        "              JOIN Laptop USING(model)\n",
        "              WHERE speed >= 750)"
      ],
      "metadata": {
        "id": "T44fGFUswvOg"
      },
      "execution_count": null,
      "outputs": []
    },
    {
      "cell_type": "markdown",
      "source": [
        "<b>24 (2)</b><br>\n",
        "Перечислите номера моделей любых типов, имеющих самую высокую цену по всей имеющейся в базе данных продукции."
      ],
      "metadata": {
        "id": "rvqMeugfwvW-"
      }
    },
    {
      "cell_type": "code",
      "source": [
        "WITH t1 as(\n",
        "    SELECT model, price\n",
        "    FROM Pc\n",
        "    UNION\n",
        "    SELECT model, price\n",
        "    FROM Laptop\n",
        "    UNION\n",
        "    SELECT model, price\n",
        "    FROM Printer)\n",
        "\n",
        "SELECT DISTINCT model\n",
        "FROM t1\n",
        "WHERE price = (SELECT max(price) FROM t1)"
      ],
      "metadata": {
        "id": "YThk0ga8wvgS"
      },
      "execution_count": null,
      "outputs": []
    },
    {
      "cell_type": "markdown",
      "source": [
        "<b>25 (2)</b><br>\n",
        "Найдите производителей принтеров, которые производят ПК с наименьшим объемом RAM и с самым быстрым процессором среди всех ПК, имеющих наименьший объем RAM. Вывести: Maker"
      ],
      "metadata": {
        "id": "dYpTcFkOwvnO"
      }
    },
    {
      "cell_type": "code",
      "source": [
        "SELECT DISTINCT maker\n",
        "FROM Product\n",
        "WHERE model IN (SELECT model\n",
        "                FROM Pc\n",
        "                WHERE ram = (SELECT MIN(ram)\n",
        "                             FROM Pc)\n",
        "                AND speed = (SELECT MAX(speed)\n",
        "                             FROM Pc\n",
        "                             WHERE ram = (SELECT MIN(ram)\n",
        "                                          FROM Pc)))\n",
        "AND maker IN (SELECT maker\n",
        "              FROM Product\n",
        "              WHERE type = 'Printer')"
      ],
      "metadata": {
        "id": "nNulEuhxwvvY"
      },
      "execution_count": null,
      "outputs": []
    },
    {
      "cell_type": "markdown",
      "source": [
        "<b>26 (2)</b><br>Найдите среднюю цену ПК и ПК-блокнотов, выпущенных производителем A (латинская буква). Вывести: одна общая средняя цена."
      ],
      "metadata": {
        "id": "xpQAxxO8QTwm"
      }
    },
    {
      "cell_type": "code",
      "source": [
        "SELECT AVG(price) as avg_price\n",
        "FROM (SELECT price\n",
        "      FROM Pc\n",
        "      WHERE model IN (SELECT model\n",
        "                      FROM Product\n",
        "                      WHERE maker = 'A')\n",
        "      UNION ALL\n",
        "      SELECT price\n",
        "      FROM Laptop\n",
        "      WHERE model IN (SELECT model\n",
        "                      FROM Product\n",
        "                      WHERE maker = 'A')) as t1"
      ],
      "metadata": {
        "id": "Qb-gU25YQT8D"
      },
      "execution_count": null,
      "outputs": []
    },
    {
      "cell_type": "markdown",
      "source": [
        "<b>27 (2)</b><br>Найдите средний размер диска ПК каждого из тех производителей, которые выпускают и принтеры. Вывести: maker, средний размер HD."
      ],
      "metadata": {
        "id": "iHS13QCDQUJd"
      }
    },
    {
      "cell_type": "code",
      "source": [
        "SELECT maker,\n",
        "       AVG(hd) as avg_hd\n",
        "FROM Product\n",
        "JOIN Pc USING(model)\n",
        "WHERE maker IN (SELECT maker\n",
        "                FROM Product\n",
        "                WHERE type = 'Printer')\n",
        "GROUP BY maker"
      ],
      "metadata": {
        "id": "t79l8XO4QUR2"
      },
      "execution_count": null,
      "outputs": []
    },
    {
      "cell_type": "markdown",
      "source": [
        "<b>28 (2)</b><br>\n",
        "Используя таблицу Product, определить количество производителей, выпускающих по одной модели."
      ],
      "metadata": {
        "id": "hE_lmdqhQUZ7"
      }
    },
    {
      "cell_type": "code",
      "source": [
        "SELECT COUNT(*)\n",
        "FROM Product\n",
        "WHERE maker IN (SELECT maker\n",
        "                FROM Product\n",
        "                GROUP BY maker\n",
        "                HAVING COUNT(*) = 1)"
      ],
      "metadata": {
        "id": "d34PhW3oQUk-"
      },
      "execution_count": null,
      "outputs": []
    },
    {
      "cell_type": "markdown",
      "source": [
        "<b>29 (2)</b><br>В предположении, что приход и расход денег на каждом пункте приема фиксируется не чаще одного раза в день [т.е. первичный ключ (пункт, дата)], написать запрос с выходными данными (пункт, дата, приход, расход). Использовать таблицы Income_o и Outcome_o."
      ],
      "metadata": {
        "id": "OIePzG3MQUuS"
      }
    },
    {
      "cell_type": "code",
      "source": [
        "SELECT point,\n",
        "       date,\n",
        "       inc,\n",
        "       out\n",
        "FROM income_o\n",
        "LEFT JOIN outcome_o USING(point, date)\n",
        "UNION\n",
        "SELECT point,\n",
        "       date,\n",
        "       inc,\n",
        "       out\n",
        "FROM income_o\n",
        "RIGHT JOIN outcome_o USING(point, date)"
      ],
      "metadata": {
        "id": "t4LwZjPVQU2A"
      },
      "execution_count": null,
      "outputs": []
    },
    {
      "cell_type": "markdown",
      "source": [
        "<b>30 (2)</b><br>\n",
        "В предположении, что приход и расход денег на каждом пункте приема фиксируется произвольное число раз (первичным ключом в таблицах является столбец code), требуется получить таблицу, в которой каждому пункту за каждую дату выполнения операций будет соответствовать одна строка.\n",
        "Вывод: point, date, суммарный расход пункта за день (out), суммарный приход пункта за день (inc). Отсутствующие значения считать неопределенными (NULL)."
      ],
      "metadata": {
        "id": "rgpucWDMQU9F"
      }
    },
    {
      "cell_type": "code",
      "source": [
        "SELECT point,\n",
        "       date,\n",
        "       SUM(outcome), SUM(income)\n",
        "FROM (\n",
        "    SELECT point,\n",
        "           date,\n",
        "           SUM(inc) AS income,\n",
        "           null AS outcome\n",
        "    FROM Income\n",
        "    GROUP BY point, date\n",
        "    UNION\n",
        "    SELECT point,\n",
        "           date,\n",
        "           null AS income,\n",
        "           SUM(out) AS outcome\n",
        "    FROM Outcome\n",
        "    GROUP BY point, date) AS t1\n",
        "GROUP BY point, date\n",
        "ORDER BY point"
      ],
      "metadata": {
        "id": "JDFjCZ87QVF9"
      },
      "execution_count": null,
      "outputs": []
    },
    {
      "cell_type": "markdown",
      "source": [
        "<b>31 (1)</b><br>\n",
        "Для классов кораблей, калибр орудий которых не менее 16 дюймов, укажите класс и страну."
      ],
      "metadata": {
        "id": "rhOHDhW6XS3x"
      }
    },
    {
      "cell_type": "code",
      "source": [
        "SELECT class,\n",
        "       country\n",
        "FROM Classes\n",
        "WHERE bore >= 16"
      ],
      "metadata": {
        "id": "-KXXWpFUXYlZ"
      },
      "execution_count": null,
      "outputs": []
    },
    {
      "cell_type": "markdown",
      "source": [
        "<b>32 (3)</b><br>\n",
        "Одной из характеристик корабля является половина куба калибра его главных орудий (mw). С точностью до 2 десятичных знаков определите среднее значение mw для кораблей каждой страны, у которой есть корабли в базе данных."
      ],
      "metadata": {
        "id": "jYkT8dTWXffV"
      }
    },
    {
      "cell_type": "code",
      "source": [
        "SELECT country,\n",
        "       CAST(AVG((power(bore,3)/2))as numeric (6,2)) as weight\n",
        "FROM (SELECT country,\n",
        "             class,\n",
        "             bore,\n",
        "             name\n",
        "      FROM Classes\n",
        "      LEFT JOIN Ships USING(class)\n",
        "      UNION ALL\n",
        "      SELECT DISTINCT country,\n",
        "                      class,\n",
        "                      bore,\n",
        "                      ship\n",
        "      FROM classes as t1\n",
        "      LEFT JOIN outcomes as t2 ON t1.class=t2.ship\n",
        "      WHERE ship = class\n",
        "      AND ship NOT IN (SELECT name\n",
        "                       FROM ships)) as sq\n",
        "WHERE name IS NOT NULL\n",
        "GROUP BY country"
      ],
      "metadata": {
        "id": "y_bKZdtaXeRI"
      },
      "execution_count": null,
      "outputs": []
    },
    {
      "cell_type": "markdown",
      "source": [
        "<b>33 (1)</b><br>\n",
        "Укажите корабли, потопленные в сражениях в Северной Атлантике (North Atlantic). Вывод: ship."
      ],
      "metadata": {
        "id": "SKOfnQf6Xg-4"
      }
    },
    {
      "cell_type": "code",
      "source": [
        "SELECT ship\n",
        "FROM Outcomes as o\n",
        "LEFT JOIN Battles as b ON o.battle = b.name\n",
        "WHERE result = 'sunk'\n",
        "AND battle = 'North Atlantic'"
      ],
      "metadata": {
        "id": "AAPpNF_LXhfn"
      },
      "execution_count": null,
      "outputs": []
    },
    {
      "cell_type": "markdown",
      "source": [
        "<b>34 (2)</b><br>\n",
        "По Вашингтонскому международному договору от начала 1922 г. запрещалось строить линейные корабли водоизмещением более 35 тыс.тонн. Укажите корабли, нарушившие этот договор (учитывать только корабли c известным годом спуска на воду). Вывести названия кораблей."
      ],
      "metadata": {
        "id": "brYNTczRXh_K"
      }
    },
    {
      "cell_type": "code",
      "source": [
        "SELECT name\n",
        "FROM classes,ships\n",
        "WHERE launched >= 1922\n",
        "AND displacement > 35000\n",
        "AND type = 'bb'\n",
        "AND ships.class = classes.class"
      ],
      "metadata": {
        "id": "IPVhQhfCXiKG"
      },
      "execution_count": null,
      "outputs": []
    },
    {
      "cell_type": "markdown",
      "source": [
        "<b>35 (2)</b><br>\n",
        "В таблице Product найти модели, которые состоят только из цифр или только из латинских букв (A-Z, без учета регистра).\n",
        "Вывод: номер модели, тип модели."
      ],
      "metadata": {
        "id": "0kwlH0PVXiY8"
      }
    },
    {
      "cell_type": "code",
      "source": [
        "SELECT model, type\n",
        "FROM Product\n",
        "WHERE model ~ '^[0-9]+$'\n",
        "OR model ~ '^[a-zA-Z]+$'"
      ],
      "metadata": {
        "id": "_dWe-rsxXihJ"
      },
      "execution_count": null,
      "outputs": []
    },
    {
      "cell_type": "markdown",
      "source": [
        "<b>36 (2)</b><br>\n",
        "Перечислите названия головных кораблей, имеющихся в базе данных (учесть корабли в Outcomes)."
      ],
      "metadata": {
        "id": "MXx1Yda-BUKX"
      }
    },
    {
      "cell_type": "code",
      "source": [
        "SELECT class\n",
        "FROM Classes\n",
        "JOIN Ships USING(class)\n",
        "WHERE class = name\n",
        "UNION\n",
        "SELECT class\n",
        "FROM Classes\n",
        "JOIN Outcomes ON Classes.class = Outcomes.ship"
      ],
      "metadata": {
        "id": "np7YDAi7BUYA"
      },
      "execution_count": null,
      "outputs": []
    },
    {
      "cell_type": "markdown",
      "source": [
        "<b>37 (2)</b><br>\n",
        "Найдите классы, в которые входит только один корабль из базы данных (учесть также корабли в Outcomes)."
      ],
      "metadata": {
        "id": "hZZ_8e9fBUjA"
      }
    },
    {
      "cell_type": "code",
      "source": [
        "SELECT class\n",
        "FROM (SELECT class,\n",
        "             name\n",
        "      FROM Ships\n",
        "      UNION\n",
        "      SELECT class,\n",
        "             ship as name\n",
        "      FROM Outcomes\n",
        "      JOIN Classes ON Classes.class = Outcomes.ship) as t1\n",
        "GROUP BY class\n",
        "HAVING COUNT(t1.name) = 1"
      ],
      "metadata": {
        "id": "-SYeSjCGBUtK"
      },
      "execution_count": null,
      "outputs": []
    },
    {
      "cell_type": "markdown",
      "source": [
        "<b>38 (1)</b><br>\n",
        "Найдите страны, имевшие когда-либо классы обычных боевых кораблей ('bb') и имевшие когда-либо классы крейсеров ('bc')."
      ],
      "metadata": {
        "id": "bj2HPlEsBU29"
      }
    },
    {
      "cell_type": "code",
      "source": [
        "SELECT country\n",
        "FROM Classes\n",
        "WHERE type = 'bb'\n",
        "INTERSECT\n",
        "SELECT country\n",
        "FROM Classes\n",
        "WHERE type = 'bc'"
      ],
      "metadata": {
        "id": "Bt-5a288BVGR"
      },
      "execution_count": null,
      "outputs": []
    },
    {
      "cell_type": "markdown",
      "source": [
        "<b>39 (2)</b><br>\n",
        "Найдите корабли, сохранившиеся для будущих сражений ; т.е. выведенные из строя в одной битве (damaged), они участвовали в другой, произошедшей позже."
      ],
      "metadata": {
        "id": "BYR5FZlGNNaO"
      }
    },
    {
      "cell_type": "code",
      "source": [
        "WITH t AS(\n",
        "SELECT *\n",
        "FROM Outcomes as o\n",
        "JOIN battles as b ON o.battle = b.name)\n",
        "\n",
        "SELECT DISTINCT t1.ship\n",
        "FROM t as t1\n",
        "WHERE t1.result = 'damaged'\n",
        "AND EXISTS(SELECT t2.ship\n",
        "           FROM t as t2\n",
        "           WHERE t2.date > t1.date\n",
        "           AND t1.ship = t2.ship)"
      ],
      "metadata": {
        "id": "hUv-vdc6NNl_"
      },
      "execution_count": null,
      "outputs": []
    },
    {
      "cell_type": "markdown",
      "source": [
        "<b>40 (2)</b><br>\n",
        "Найти производителей, которые выпускают более одной модели, при этом все выпускаемые производителем модели являются продуктами одного типа.\n",
        "Вывести: maker, type"
      ],
      "metadata": {
        "id": "Vk3x6tXENNy9"
      }
    },
    {
      "cell_type": "code",
      "source": [
        "SELECT maker,\n",
        "       MAX(type)\n",
        "FROM Product\n",
        "GROUP BY maker\n",
        "HAVING COUNT(model) > 1\n",
        "AND COUNT(DISTINCT type) = 1"
      ],
      "metadata": {
        "id": "dryUXgDwNN8b"
      },
      "execution_count": null,
      "outputs": []
    }
  ]
}