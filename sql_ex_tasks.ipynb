{
  "nbformat": 4,
  "nbformat_minor": 0,
  "metadata": {
    "colab": {
      "provenance": [],
      "authorship_tag": "ABX9TyPxh8yurTyvIJrLdVSZcPsY"
    },
    "kernelspec": {
      "name": "python3",
      "display_name": "Python 3"
    },
    "language_info": {
      "name": "python"
    }
  },
  "cells": [
    {
      "cell_type": "markdown",
      "source": [
        "ССЫЛКА НА ИСТОЧНИК ЗАДАЧ: https://sql-ex.ru/"
      ],
      "metadata": {
        "id": "ln1TMmc6K-DE"
      }
    },
    {
      "cell_type": "markdown",
      "source": [
        "<b>1 (1)</b> <br> Найдите номер модели, скорость и размер жесткого диска для всех ПК стоимостью менее 500 дол. Вывести: model, speed и hd"
      ],
      "metadata": {
        "id": "wX11OHJpMJaO"
      }
    },
    {
      "cell_type": "code",
      "execution_count": null,
      "metadata": {
        "id": "r1b4rrwwJlLp"
      },
      "outputs": [],
      "source": [
        "SELECT model,\n",
        "       speed,\n",
        "       hd\n",
        "FROM PC\n",
        "WHERE price < 500"
      ]
    },
    {
      "cell_type": "markdown",
      "source": [
        "<b>2 (2)</b> <br>\n",
        "Найдите производителей принтеров. Вывести: maker"
      ],
      "metadata": {
        "id": "wdcELm0TMqag"
      }
    },
    {
      "cell_type": "code",
      "source": [
        "SELECT DISTINCT maker\n",
        "FROM product\n",
        "WHERE type = 'printer'"
      ],
      "metadata": {
        "id": "VChvVatoMhw2"
      },
      "execution_count": null,
      "outputs": []
    },
    {
      "cell_type": "markdown",
      "source": [
        "<b>3 (1)</b><br>\n",
        "Найдите номер модели, объем памяти и размеры экранов ПК-блокнотов, цена которых превышает 1000 дол."
      ],
      "metadata": {
        "id": "BXFw5I9QM5WT"
      }
    },
    {
      "cell_type": "code",
      "source": [
        "SELECT model,\n",
        "       ram,\n",
        "       screen\n",
        "FROM Laptop\n",
        "WHERE price > 1000"
      ],
      "metadata": {
        "id": "mRdUK9HwM375"
      },
      "execution_count": null,
      "outputs": []
    },
    {
      "cell_type": "markdown",
      "source": [
        "<b>4 (1)</b><br>\n",
        "Найдите все записи таблицы Printer для цветных принтеров."
      ],
      "metadata": {
        "id": "RKSo1-tFNLQQ"
      }
    },
    {
      "cell_type": "code",
      "source": [
        "SELECT *\n",
        "FROM printer\n",
        "WHERE color = 'y'"
      ],
      "metadata": {
        "id": "vu7ejAJYNKRb"
      },
      "execution_count": null,
      "outputs": []
    },
    {
      "cell_type": "markdown",
      "source": [
        "<b>5 (1)</b> <br>\n",
        "Найдите номер модели, скорость и размер жесткого диска ПК, имеющих 12x или 24x CD и цену менее 600 дол."
      ],
      "metadata": {
        "id": "pEXOxZzsNXSR"
      }
    },
    {
      "cell_type": "code",
      "source": [
        "SELECT model,\n",
        "       speed,\n",
        "       hd\n",
        "FROM Pc\n",
        "WHERE (cd = '12x' OR cd = '24x')\n",
        "AND price < 600"
      ],
      "metadata": {
        "id": "hXAKK5Y2NVvZ"
      },
      "execution_count": null,
      "outputs": []
    },
    {
      "cell_type": "markdown",
      "source": [
        "<b>6 (2)</b> <br>\n",
        "Для каждого производителя, выпускающего ПК-блокноты c объёмом жесткого диска не менее 10 Гбайт, найти скорости таких ПК-блокнотов. Вывод: производитель, скорость."
      ],
      "metadata": {
        "id": "g6EB6uIHNoeX"
      }
    },
    {
      "cell_type": "code",
      "source": [
        "SELECT DISTINCT maker,\n",
        "               speed\n",
        "FROM Product\n",
        "JOIN Laptop USING(model)\n",
        "WHERE hd >= 10\n",
        "AND type = 'Laptop'"
      ],
      "metadata": {
        "id": "4zDOcJ13Nl3G"
      },
      "execution_count": null,
      "outputs": []
    },
    {
      "cell_type": "markdown",
      "source": [
        "<b>7 (2)</b> <br>\n",
        "Найдите номера моделей и цены всех имеющихся в продаже продуктов (любого типа) производителя B (латинская буква)."
      ],
      "metadata": {
        "id": "c-BUvzbbN6yW"
      }
    },
    {
      "cell_type": "code",
      "source": [
        "SELECT model, price\n",
        "FROM Product\n",
        "JOIN Pc USING(model)\n",
        "WHERE maker = 'B'\n",
        "UNION\n",
        "SELECT model, price\n",
        "FROM Product\n",
        "JOIN Laptop USING(model)\n",
        "WHERE maker = 'B'\n",
        "UNION\n",
        "SELECT model, price\n",
        "FROM Product\n",
        "JOIN Printer USING(model)\n",
        "WHERE maker = 'B'"
      ],
      "metadata": {
        "id": "xBqgzesDN5W7"
      },
      "execution_count": null,
      "outputs": []
    },
    {
      "cell_type": "markdown",
      "source": [
        "<b>8 (2)</b><br>\n",
        "Найдите производителя, выпускающего ПК, но не ПК-блокноты."
      ],
      "metadata": {
        "id": "8Ri6_WYzOVB8"
      }
    },
    {
      "cell_type": "code",
      "source": [
        "SELECT DISTINCT maker\n",
        "FROM Product\n",
        "WHERE maker IN (SELECT maker\n",
        "                FROM Product\n",
        "                WHERE type = 'PC')\n",
        "AND maker NOT IN (SELECT maker\n",
        "                  FROM Product\n",
        "                  WHERE type = 'Laptop')"
      ],
      "metadata": {
        "id": "NDX253ZgOT1k"
      },
      "execution_count": null,
      "outputs": []
    },
    {
      "cell_type": "markdown",
      "source": [
        "<b>9 (1)</b><br>\n",
        "Найдите производителей ПК с процессором не менее 450 Мгц. Вывести: Maker"
      ],
      "metadata": {
        "id": "KV7ube_EOvG8"
      }
    },
    {
      "cell_type": "code",
      "source": [
        "SELECT DISTINCT maker\n",
        "FROM Product\n",
        "JOIN Pc USING(model)\n",
        "WHERE speed >= 450"
      ],
      "metadata": {
        "id": "ybfKqzhPOtoF"
      },
      "execution_count": null,
      "outputs": []
    },
    {
      "cell_type": "markdown",
      "source": [
        "<b>10 (1)</b><br>\n",
        "Найдите модели принтеров, имеющих самую высокую цену. Вывести: model, price"
      ],
      "metadata": {
        "id": "NG8YENVBO8kW"
      }
    },
    {
      "cell_type": "code",
      "source": [
        "SELECT model,\n",
        "       price\n",
        "FROM Printer\n",
        "WHERE price IN(SELECT MAX(price) as max_price\n",
        "               FROM Printer)"
      ],
      "metadata": {
        "id": "F2usKxokO7oD"
      },
      "execution_count": null,
      "outputs": []
    }
  ]
}