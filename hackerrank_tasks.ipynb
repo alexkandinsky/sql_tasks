{
  "nbformat": 4,
  "nbformat_minor": 0,
  "metadata": {
    "colab": {
      "provenance": []
    },
    "kernelspec": {
      "name": "python3",
      "display_name": "Python 3"
    },
    "language_info": {
      "name": "python"
    }
  },
  "cells": [
    {
      "cell_type": "markdown",
      "source": [
        "ССЫЛКА НА ИСТОЧНИК ЗАДАЧ: https://www.hackerrank.com/dashboard"
      ],
      "metadata": {
        "id": "Ouz38aXSvMCe"
      }
    },
    {
      "cell_type": "markdown",
      "source": [
        "<b>Select All</b>\n",
        "\n",
        "Query all columns (attributes) for every row in the CITY table."
      ],
      "metadata": {
        "id": "yYGb7ABWsEdI"
      }
    },
    {
      "cell_type": "code",
      "source": [
        "SELECT *\n",
        "FROM city;"
      ],
      "metadata": {
        "id": "4NufcWMgsEw-"
      },
      "execution_count": null,
      "outputs": []
    },
    {
      "cell_type": "markdown",
      "source": [
        "<b>Revising the Select Query I</b>\n",
        "\n",
        "Query all columns for all American cities in the CITY table with populations larger than 100000. The CountryCode for America is USA."
      ],
      "metadata": {
        "id": "AFnz3brfqDO8"
      }
    },
    {
      "cell_type": "code",
      "source": [
        "SELECT *\n",
        "FROM city as c\n",
        "WHERE c.population > 100000\n",
        "AND c.countrycode = 'USA';"
      ],
      "metadata": {
        "id": "P1fQuBY5qzmw"
      },
      "execution_count": null,
      "outputs": []
    },
    {
      "cell_type": "markdown",
      "source": [
        "<b>Revising the Select Query II</b>\n",
        "\n",
        "Query the NAME field for all American cities in the CITY table with populations larger than 120000. The CountryCode for America is USA."
      ],
      "metadata": {
        "id": "idyn0yA-rOfh"
      }
    },
    {
      "cell_type": "code",
      "source": [
        "SELECT c.name\n",
        "FROM city as c\n",
        "WHERE c.population > 120000\n",
        "AND countrycode = 'USA';"
      ],
      "metadata": {
        "id": "_i0clbJsrQE1"
      },
      "execution_count": null,
      "outputs": []
    },
    {
      "cell_type": "markdown",
      "source": [
        "<b>Select By ID</b>\n",
        "\n",
        "Query all columns for a city in CITY with the ID 1661."
      ],
      "metadata": {
        "id": "SWGqP1lzrQST"
      }
    },
    {
      "cell_type": "code",
      "source": [
        "SELECT *\n",
        "FROM city as c\n",
        "WHERE c.id = 1661;"
      ],
      "metadata": {
        "id": "px9MKmDirQh5"
      },
      "execution_count": null,
      "outputs": []
    },
    {
      "cell_type": "markdown",
      "source": [
        "<b>Japanese Cities' Attributes</b>\n",
        "\n",
        "Query all attributes of every Japanese city in the CITY table. The COUNTRYCODE for Japan is JPN."
      ],
      "metadata": {
        "id": "LRr4rGSFrRFX"
      }
    },
    {
      "cell_type": "code",
      "source": [
        "SELECT *\n",
        "FROM city as c\n",
        "WHERE c.countrycode = 'JPN';"
      ],
      "metadata": {
        "id": "IfN74H29rRRE"
      },
      "execution_count": null,
      "outputs": []
    },
    {
      "cell_type": "markdown",
      "source": [
        "<b>Japanese Cities' Names</b>\n",
        "\n",
        "Query the names of all the Japanese cities in the CITY table. The COUNTRYCODE for Japan is JPN."
      ],
      "metadata": {
        "id": "8iEvMMxZrQt4"
      }
    },
    {
      "cell_type": "code",
      "source": [
        "SELECT c.name\n",
        "FROM city as c\n",
        "WHERE c.countrycode = 'JPN';"
      ],
      "metadata": {
        "id": "3EJQfW9UrQ5Q"
      },
      "execution_count": null,
      "outputs": []
    },
    {
      "cell_type": "markdown",
      "source": [
        "<b>Weather Observation Station 1</b>\n",
        "\n",
        "Query a list of CITY and STATE from the STATION table."
      ],
      "metadata": {
        "id": "2_vk92-NrRb3"
      }
    },
    {
      "cell_type": "code",
      "source": [
        "SELECT s.city, s.state\n",
        "FROM station as s;"
      ],
      "metadata": {
        "id": "GxULYUNttphG"
      },
      "execution_count": null,
      "outputs": []
    },
    {
      "cell_type": "markdown",
      "source": [
        "<b>Revising Aggregations - The Count Function</b>\n",
        "\n",
        "Query a count of the number of cities in CITY having a Population larger than 100000"
      ],
      "metadata": {
        "id": "m-NsCk9ftpwt"
      }
    },
    {
      "cell_type": "code",
      "source": [
        "SELECT COUNT(*)\n",
        "FROM city as c\n",
        "WHERE c.population > 100000;"
      ],
      "metadata": {
        "id": "MAisDisqtp-8"
      },
      "execution_count": null,
      "outputs": []
    },
    {
      "cell_type": "markdown",
      "source": [
        "<b>Revising Aggregations - The Sum Function</b>\n",
        "\n",
        "Query the total population of all cities in CITY where District is California."
      ],
      "metadata": {
        "id": "AYbOcQkTtqNQ"
      }
    },
    {
      "cell_type": "code",
      "source": [
        "SELECT SUM(c.population)\n",
        "FROM city as c\n",
        "WHERE c.district = 'California';"
      ],
      "metadata": {
        "id": "Q8HU5FIbtqat"
      },
      "execution_count": null,
      "outputs": []
    },
    {
      "cell_type": "markdown",
      "source": [
        "<b>Revising Aggregations - Averages</b>\n",
        "\n",
        "Query the average population of all cities in CITY where District is California."
      ],
      "metadata": {
        "id": "ERlUIBsNuoDR"
      }
    },
    {
      "cell_type": "code",
      "source": [
        "SELECT AVG(c.population)\n",
        "FROM city as c\n",
        "WHERE c.district = 'California';"
      ],
      "metadata": {
        "id": "VS1E2Mj9uqog"
      },
      "execution_count": null,
      "outputs": []
    },
    {
      "cell_type": "markdown",
      "source": [
        "<b>Weather Observation Station 3</b>\n",
        "\n",
        "Query a list of CITY names from STATION for cities that have an even ID number.<br> Print the results in any order, but exclude duplicates from the answer."
      ],
      "metadata": {
        "id": "UNyCpkpXuq11"
      }
    },
    {
      "cell_type": "code",
      "source": [
        "SELECT DISTINCT s.city\n",
        "FROM station as s\n",
        "WHERE s.id % 2 = 0;"
      ],
      "metadata": {
        "id": "4bG1IYKXurIA"
      },
      "execution_count": null,
      "outputs": []
    },
    {
      "cell_type": "markdown",
      "source": [
        "<b>Weather Observation Station 4</b>\n",
        "\n",
        "Find the difference between the total number of CITY entries in the table and the number of distinct CITY entries in the table."
      ],
      "metadata": {
        "id": "BYHIyqiw41dH"
      }
    },
    {
      "cell_type": "code",
      "source": [
        "SELECT COUNT(s.city) - COUNT(DISTINCT(s.city))\n",
        "FROM station as s;"
      ],
      "metadata": {
        "id": "h9VBjh1P1aAt"
      },
      "execution_count": null,
      "outputs": []
    },
    {
      "cell_type": "markdown",
      "source": [
        "<b>Weather Observation Station 5</b>\n",
        "\n",
        "Query the two cities in STATION with the shortest and longest CITY names, as well as their respective lengths (i.e.: number of characters in the name). If there is more than one smallest or largest city, choose the one that comes first when ordered alphabetically."
      ],
      "metadata": {
        "id": "qF-NHc0h1eke"
      }
    },
    {
      "cell_type": "code",
      "source": [
        "SELECT s.city,\n",
        "       LENGTH(s.city)\n",
        "FROM station as s\n",
        "WHERE LENGTH(s.city) = (SELECT MAX(LENGTH(s.city))\n",
        "                        FROM station as s);\n",
        "\n",
        "SELECT s.city,\n",
        "       LENGTH(s.city)\n",
        "FROM station as s\n",
        "WHERE LENGTH(s.city) = (SELECT MIN(LENGTH(s.city))\n",
        "                        FROM station as s)\n",
        "ORDER BY 1\n",
        "LIMIT 1;"
      ],
      "metadata": {
        "id": "_ZDFcrlN1ibF"
      },
      "execution_count": null,
      "outputs": []
    },
    {
      "cell_type": "markdown",
      "source": [
        "<b>Weather Observation Station 6</b>\n",
        "\n",
        "Query the list of CITY names starting with vowels (i.e., a, e, i, o, or u) from STATION. Your result cannot contain duplicates.\n"
      ],
      "metadata": {
        "id": "AI8g2Uyc1in7"
      }
    },
    {
      "cell_type": "code",
      "source": [
        "SELECT DISTINCT(s.city)\n",
        "FROM station as s\n",
        "WHERE LOWER(LEFT(s.city, 1)) IN ('a', 'e', 'i', 'o', 'u');"
      ],
      "metadata": {
        "id": "Oz-QXI401i3l"
      },
      "execution_count": null,
      "outputs": []
    },
    {
      "cell_type": "markdown",
      "source": [
        "<b>Weather Observation Station 7</b>\n",
        "\n",
        "Query the list of CITY names ending with vowels (a, e, i, o, u) from STATION. Your result cannot contain duplicates.\n",
        "\n"
      ],
      "metadata": {
        "id": "VBGF0pXe1jGE"
      }
    },
    {
      "cell_type": "code",
      "source": [
        "SELECT DISTINCT s.city\n",
        "FROM station as s\n",
        "WHERE RIGHT(s.city, 1) IN ('a', 'e', 'i', 'o', 'u');"
      ],
      "metadata": {
        "id": "IdnhpCJb1jRX"
      },
      "execution_count": null,
      "outputs": []
    },
    {
      "cell_type": "markdown",
      "source": [
        "<b>Weather Observation Station 8</b>\n",
        "\n",
        "Query the list of CITY names from STATION which have vowels (i.e., a, e, i, o, and u) as both their first and last characters. Your result cannot contain duplicates."
      ],
      "metadata": {
        "id": "--6Xfmig74pv"
      }
    },
    {
      "cell_type": "code",
      "source": [
        "SELECT DISTINCT s.city\n",
        "FROM station as s\n",
        "WHERE LOWER(LEFT(s.city, 1)) IN ('a', 'e', 'i', 'o', 'u')\n",
        "AND RIGHT(s.city, 1) IN ('a', 'e', 'i', 'o', 'u');"
      ],
      "metadata": {
        "id": "2QvhqftU77V2"
      },
      "execution_count": null,
      "outputs": []
    },
    {
      "cell_type": "markdown",
      "source": [
        "<b>Weather Observation Station 9</b>\n",
        "\n",
        "Query the list of CITY names from STATION that do not start with vowels. Your result cannot contain duplicates."
      ],
      "metadata": {
        "id": "CQK2eioI9GuM"
      }
    },
    {
      "cell_type": "code",
      "source": [
        "SELECT DISTINCT s.city\n",
        "FROM station as s\n",
        "WHERE LOWER(LEFT(s.city, 1)) NOT IN ('a', 'e', 'i', 'o', 'u');"
      ],
      "metadata": {
        "id": "bQ0KazLk9kv4"
      },
      "execution_count": null,
      "outputs": []
    },
    {
      "cell_type": "markdown",
      "source": [
        "<b>Weather Observation Station 10</b>\n",
        "\n",
        "Query the list of CITY names from STATION that do not end with vowels. Your result cannot contain duplicates."
      ],
      "metadata": {
        "id": "skIa1BBK-BJF"
      }
    },
    {
      "cell_type": "code",
      "source": [
        "SELECT DISTINCT s.city\n",
        "FROM station as s\n",
        "WHERE RIGHT(s.city, 1) NOT IN ('a', 'e', 'i', 'o', 'u');"
      ],
      "metadata": {
        "id": "NZZcuWEbWzjZ"
      },
      "execution_count": null,
      "outputs": []
    },
    {
      "cell_type": "markdown",
      "source": [
        "<b>Weather Observation Station 11</b>\n",
        "\n",
        "Query the list of CITY names from STATION that either do not start with vowels or do not end with vowels.<br> Your result cannot contain duplicates."
      ],
      "metadata": {
        "id": "AlR4QFyNWzyh"
      }
    },
    {
      "cell_type": "code",
      "source": [
        "SELECT DISTINCT s.city\n",
        "FROM station as s\n",
        "WHERE LOWER(LEFT(s.city, 1)) NOT IN ('a', 'e', 'i', 'o', 'u')\n",
        "OR RIGHT(s.city, 1) NOT IN ('a', 'e', 'i', 'o', 'u');"
      ],
      "metadata": {
        "id": "FjJD2cYkWz94"
      },
      "execution_count": null,
      "outputs": []
    },
    {
      "cell_type": "markdown",
      "source": [
        "<b>Weather Observation Station 12</b>\n",
        "\n",
        "Query the list of CITY names from STATION that do not start with vowels and do not end with vowels. <br>Your result cannot contain duplicates."
      ],
      "metadata": {
        "id": "FjOLB3l9W0Nn"
      }
    },
    {
      "cell_type": "code",
      "source": [
        "SELECT DISTINCT s.city\n",
        "FROM station as s\n",
        "WHERE LOWER(LEFT(s.city, 1)) NOT IN ('a', 'e', 'i', 'o', 'u')\n",
        "AND RIGHT(s.city, 1) NOT IN ('a', 'e', 'i', 'o', 'u');"
      ],
      "metadata": {
        "id": "nMc1VusgW0Yq"
      },
      "execution_count": null,
      "outputs": []
    },
    {
      "cell_type": "markdown",
      "source": [
        "<b>Higher Than 75 Marks</b>\n",
        "\n",
        "Query the Name of any student in STUDENTS who scored higher than  Marks. Order your output by the last three characters of each name. If two or more students both have names ending in the same last three characters (i.e.: Bobby, Robby, etc.), secondary sort them by ascending ID."
      ],
      "metadata": {
        "id": "SejQeqH-W0lQ"
      }
    },
    {
      "cell_type": "code",
      "source": [
        "SELECT s.name\n",
        "FROM students as s\n",
        "WHERE marks > 75\n",
        "ORDER BY RIGHT(s.name, 3), s.id;"
      ],
      "metadata": {
        "id": "XvihZXnIW0vH"
      },
      "execution_count": null,
      "outputs": []
    },
    {
      "cell_type": "markdown",
      "source": [
        "<b>Employee Names</b>\n",
        "\n",
        "Write a query that prints a list of employee names (i.e.: the name attribute) from the Employee table in alphabetical order."
      ],
      "metadata": {
        "id": "iI8DQfxxW04W"
      }
    },
    {
      "cell_type": "code",
      "source": [
        "SELECT e.name\n",
        "FROM employee as e\n",
        "ORDER BY e.name;"
      ],
      "metadata": {
        "id": "t1fkSYw5W1B3"
      },
      "execution_count": null,
      "outputs": []
    },
    {
      "cell_type": "markdown",
      "source": [
        "<b>Employee Salaries</b>\n",
        "\n",
        "Write a query that prints a list of employee names (i.e.: the name attribute) for employees in Employee having a salary greater than 2000$  per month who have been employees for less than  months. Sort your result by ascending employee_id."
      ],
      "metadata": {
        "id": "M0FtjUw8a9dx"
      }
    },
    {
      "cell_type": "code",
      "source": [
        "SELECT e.name\n",
        "FROM employee as e\n",
        "WHERE e.salary > 2000\n",
        "AND e.months < 10\n",
        "ORDER BY e.employee_id;"
      ],
      "metadata": {
        "id": "Yp64hIfka-u7"
      },
      "execution_count": null,
      "outputs": []
    },
    {
      "cell_type": "markdown",
      "source": [
        "<b>Average Population</b>\n",
        "\n",
        "Query the average population for all cities in CITY, rounded down to the nearest integer."
      ],
      "metadata": {
        "id": "rZof82_5bp_G"
      }
    },
    {
      "cell_type": "code",
      "source": [
        "SELECT FLOOR(AVG(c.population)) as avg_population\n",
        "FROM city as c;"
      ],
      "metadata": {
        "id": "X1s6NYK_b02C"
      },
      "execution_count": null,
      "outputs": []
    },
    {
      "cell_type": "markdown",
      "source": [
        "<b>Japan Population</b>\n",
        "\n",
        "Query the sum of the populations for all Japanese cities in CITY. The COUNTRYCODE for Japan is JPN."
      ],
      "metadata": {
        "id": "LxIdrDjmc-bi"
      }
    },
    {
      "cell_type": "code",
      "source": [
        "SELECT SUM(c.population) as sum_population\n",
        "FROM city as c\n",
        "WHERE c.countrycode = 'JPN';"
      ],
      "metadata": {
        "id": "IPP-yAtjc-mC"
      },
      "execution_count": null,
      "outputs": []
    },
    {
      "cell_type": "markdown",
      "source": [
        "<b>Population Density Difference</b>\n",
        "\n",
        "Query the difference between the maximum and minimum populations in CITY."
      ],
      "metadata": {
        "id": "Is4RDKNydcLh"
      }
    },
    {
      "cell_type": "code",
      "source": [
        "SELECT MAX(c.population) - MIN(c.population) as diff_population\n",
        "FROM city as c;"
      ],
      "metadata": {
        "id": "up2xKjhRdeT7"
      },
      "execution_count": null,
      "outputs": []
    },
    {
      "cell_type": "markdown",
      "source": [
        "<b>The Blunder</b>\n",
        "\n",
        "Samantha was tasked with calculating the average monthly salaries for all employees in the EMPLOYEES table, but did not realize her keyboard's  key was broken until after completing the calculation. She wants your help finding the difference between her miscalculation (using salaries with any zeros removed), and the actual average salary.\n",
        "\n",
        "Write a query calculating the amount of error (i.e.:  average monthly salaries), and round it up to the next integer."
      ],
      "metadata": {
        "id": "-T_jIwU3dero"
      }
    },
    {
      "cell_type": "code",
      "source": [
        "SELECT CEILING(AVG(e.salary) - AVG(REPLACE(e.salary, 0, ''))) as diff_miscalculation\n",
        "FROM employees as e;"
      ],
      "metadata": {
        "id": "-OC2LO-dde8S"
      },
      "execution_count": null,
      "outputs": []
    },
    {
      "cell_type": "markdown",
      "source": [
        "<b>Top Earners</b>\n",
        "\n",
        "We define an employee's total earnings to be their monthly salary * months  worked, and the maximum total earnings to be the maximum total earnings for any employee in the Employee table. Write a query to find the maximum total earnings for all employees as well as the total number of employees who have maximum total earnings. Then print these values as 2 space-separated integers."
      ],
      "metadata": {
        "id": "ueGSVMezDbrm"
      }
    },
    {
      "cell_type": "code",
      "source": [
        "SELECT (e.salary * e.months) as earnings,\n",
        "       COUNT(*)\n",
        "FROM employee as e\n",
        "GROUP BY 1\n",
        "ORDER BY 1 DESC\n",
        "LIMIT 1;"
      ],
      "metadata": {
        "id": "pVcy61w2Db5d"
      },
      "execution_count": null,
      "outputs": []
    },
    {
      "cell_type": "markdown",
      "source": [
        "<b>Weather Observation Station 2</b>\n",
        "\n",
        "Query the following two values from the STATION table:\n",
        "\n",
        "The sum of all values in LAT_N rounded to a scale of 2 decimal places.\n",
        "\n",
        "The sum of all values in LONG_W rounded to a scale of 2 decimal places."
      ],
      "metadata": {
        "id": "YmOVKIe5DcHb"
      }
    },
    {
      "cell_type": "code",
      "source": [
        "SELECT ROUND(SUM(s.lat_n),2),\n",
        "       ROUND(SUM(s.long_w), 2)\n",
        "FROM station as s;"
      ],
      "metadata": {
        "id": "ap_WgyShDcV5"
      },
      "execution_count": null,
      "outputs": []
    },
    {
      "cell_type": "markdown",
      "source": [
        "<b>Weather Observation Station 13</b>\n",
        "\n",
        "Query the sum of Northern Latitudes (LAT_N) from STATION having values greater than 38.7800 and less than 137.2345 .\n",
        "\n",
        "Truncate your answer to  decimal places."
      ],
      "metadata": {
        "id": "RRK6PdxfDcif"
      }
    },
    {
      "cell_type": "code",
      "source": [
        "SELECT ROUND(SUM(s.lat_n), 4)\n",
        "FROM station as s\n",
        "WHERE s.lat_n BETWEEN 38.7800 AND 137.2345;"
      ],
      "metadata": {
        "id": "Nydj2IYnDcs_"
      },
      "execution_count": null,
      "outputs": []
    },
    {
      "cell_type": "markdown",
      "source": [
        "<b>Weather Observation Station 14</b>\n",
        "\n",
        "Query the greatest value of the Northern Latitudes (LAT_N) from STATION that is less than 137.2345.\n",
        "\n",
        "Truncate your answer to  decimal places."
      ],
      "metadata": {
        "id": "JZFuL52TDc2g"
      }
    },
    {
      "cell_type": "code",
      "source": [
        "SELECT ROUND(MAX(s.lat_n), 4)\n",
        "FROM station as s\n",
        "WHERE s.lat_n < 137.2345;"
      ],
      "metadata": {
        "id": "gpWQvaixDdB9"
      },
      "execution_count": null,
      "outputs": []
    },
    {
      "cell_type": "markdown",
      "source": [
        "<b>Weather Observation Station 15</b>\n",
        "\n",
        "Query the Western Longitude (LONG_W) for the largest Northern Latitude (LAT_N) in STATION that is less than 1237.2345.\n",
        "\n",
        "Round your answer to 4 decimal places."
      ],
      "metadata": {
        "id": "tMJVLgxPDdL9"
      }
    },
    {
      "cell_type": "code",
      "source": [
        "SELECT ROUND(MAX(s.long_w), 4)\n",
        "FROM station as s\n",
        "WHERE s.lat_n = (SELECT MAX(s.lat_n)\n",
        "                 FROM station as s\n",
        "                 WHERE s.lat_n < 137.2345);"
      ],
      "metadata": {
        "id": "BPoMtR4gDdYW"
      },
      "execution_count": null,
      "outputs": []
    }
  ]
}