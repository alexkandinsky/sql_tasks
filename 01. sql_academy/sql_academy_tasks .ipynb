{
  "nbformat": 4,
  "nbformat_minor": 0,
  "metadata": {
    "colab": {
      "provenance": []
    },
    "kernelspec": {
      "name": "python3",
      "display_name": "Python 3"
    },
    "language_info": {
      "name": "python"
    }
  },
  "cells": [
    {
      "cell_type": "markdown",
      "source": [
        "Задание 1\n",
        "\n",
        "Вывести имена всех людей, которые есть в базе данных авиакомпаний"
      ],
      "metadata": {
        "id": "opU8GnvfuOVA"
      }
    },
    {
      "cell_type": "code",
      "source": [
        "SELECT p.name\n",
        "FROM Passenger as p"
      ],
      "metadata": {
        "id": "hyCOfAYMutLC"
      },
      "execution_count": null,
      "outputs": []
    },
    {
      "cell_type": "markdown",
      "source": [
        "Задание 2\n",
        "\n",
        "Вывести названия всеx авиакомпаний"
      ],
      "metadata": {
        "id": "m0iNk1QXuzJC"
      }
    },
    {
      "cell_type": "code",
      "source": [
        "SELECT c.name\n",
        "FROM Company as c"
      ],
      "metadata": {
        "id": "-RpHlN9jvIOj"
      },
      "execution_count": null,
      "outputs": []
    },
    {
      "cell_type": "markdown",
      "source": [
        "Задание 3\n",
        "\n",
        "Вывести все рейсы, совершенные из Москвы\n"
      ],
      "metadata": {
        "id": "KSZnc5gEvWVZ"
      }
    },
    {
      "cell_type": "code",
      "source": [
        "SELECT t.*\n",
        "FROM Trip as t\n",
        "WHERE t.town_from = 'Moscow'"
      ],
      "metadata": {
        "id": "-FEKq9uKvXt-"
      },
      "execution_count": null,
      "outputs": []
    }
  ]
}