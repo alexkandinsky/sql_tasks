{
  "nbformat": 4,
  "nbformat_minor": 0,
  "metadata": {
    "colab": {
      "provenance": [],
      "authorship_tag": "ABX9TyNAgHcxj0W/v3fAu1aYB5eY"
    },
    "kernelspec": {
      "name": "python3",
      "display_name": "Python 3"
    },
    "language_info": {
      "name": "python"
    }
  },
  "cells": [
    {
      "cell_type": "markdown",
      "source": [
        "ССЫЛКА НА ИСТОЧНИК ЗАДАЧ: https://leetcode.com/studyplan/top-sql-50/"
      ],
      "metadata": {
        "id": "jkCXXLNZ_caG"
      }
    },
    {
      "cell_type": "markdown",
      "source": [
        "# <b>SELECT</b>"
      ],
      "metadata": {
        "id": "Y_3ceqBIKeiy"
      }
    },
    {
      "cell_type": "markdown",
      "source": [
        "1757.Recyclable and Low Fat Products\n",
        "\n",
        "Write a solution to find the ids of products that are both low fat and recyclable."
      ],
      "metadata": {
        "id": "MXk05Lh-KmSe"
      }
    },
    {
      "cell_type": "code",
      "source": [
        "SELECT product_id\n",
        "FROM Products\n",
        "WHERE low_fats = 'Y'\n",
        "AND recyclable = 'Y'"
      ],
      "metadata": {
        "id": "JNAZSBZUKkbv"
      },
      "execution_count": null,
      "outputs": []
    },
    {
      "cell_type": "markdown",
      "source": [
        "584.Find Customer Referee\n",
        "\n",
        "Find the names of the customer that are not referred by the customer with id = 2."
      ],
      "metadata": {
        "id": "qgvfJ0PQK1SS"
      }
    },
    {
      "cell_type": "code",
      "source": [
        "SELECT name\n",
        "FROM Customer\n",
        "WHERE referee_id IS NULL\n",
        "OR referee_id != 2"
      ],
      "metadata": {
        "id": "lHu8YYKwK1cB"
      },
      "execution_count": null,
      "outputs": []
    },
    {
      "cell_type": "markdown",
      "source": [
        "595.Big Countries\n",
        "\n",
        "Write a solution to find the name, population, and area of the big countries."
      ],
      "metadata": {
        "id": "dMCxrkpMK1nD"
      }
    },
    {
      "cell_type": "code",
      "source": [
        "SELECT name,\n",
        "       population,\n",
        "       area\n",
        "FROM World\n",
        "WHERE area >= 3000000\n",
        "OR population >= 25000000"
      ],
      "metadata": {
        "id": "S7066RCfK1uo"
      },
      "execution_count": null,
      "outputs": []
    },
    {
      "cell_type": "markdown",
      "source": [
        "1148.Article Views I\n",
        "\n",
        "Write a solution to find all the authors that viewed at least one of their own articles."
      ],
      "metadata": {
        "id": "LFnBcBEiK15Z"
      }
    },
    {
      "cell_type": "code",
      "source": [
        "SELECT DISTINCT author_id as id\n",
        "FROM Views\n",
        "WHERE author_id = viewer_id\n",
        "ORDER BY id"
      ],
      "metadata": {
        "id": "IcYIbK_9K1_z"
      },
      "execution_count": null,
      "outputs": []
    },
    {
      "cell_type": "markdown",
      "source": [
        "683.Invalid Tweets\n",
        "\n",
        "Write a solution to find the IDs of the invalid tweets. The tweet is invalid if the number of characters used in the content of the tweet is strictly greater than 15."
      ],
      "metadata": {
        "id": "ZEWgfS_PK2GO"
      }
    },
    {
      "cell_type": "code",
      "source": [
        "SELECT tweet_id\n",
        "FROM Tweets\n",
        "WHERE LENGTH(content) > 15"
      ],
      "metadata": {
        "id": "jPcsU7A_K2Pg"
      },
      "execution_count": null,
      "outputs": []
    },
    {
      "cell_type": "markdown",
      "source": [
        "## <b>BASIC JOINS</b>"
      ],
      "metadata": {
        "id": "jr3l1nT9Mf8I"
      }
    },
    {
      "cell_type": "markdown",
      "source": [
        "1378.Replace Employee ID With The Unique Identifier\n",
        "\n",
        "Write a solution to show the unique ID of each user, If a user does not have a unique ID replace just show null."
      ],
      "metadata": {
        "id": "nO4GmdoBMug3"
      }
    },
    {
      "cell_type": "code",
      "source": [
        "SELECT unique_id,\n",
        "        name\n",
        "FROM Employees\n",
        "LEFT JOIN EmployeeUNI USING(id)"
      ],
      "metadata": {
        "id": "GeoZCVdgMrMn"
      },
      "execution_count": null,
      "outputs": []
    },
    {
      "cell_type": "markdown",
      "source": [
        "1068.Product Sales Analysis I\n",
        "\n",
        "Write a solution to report the product_name, year, and price for each sale_id in the Sales table."
      ],
      "metadata": {
        "id": "qFmYeUtYM692"
      }
    },
    {
      "cell_type": "code",
      "source": [
        "SELECT product_name,\n",
        "       year,\n",
        "       price\n",
        "FROM Sales\n",
        "JOIN Product USING(product_id)"
      ],
      "metadata": {
        "id": "RL_FgmgYM7Np"
      },
      "execution_count": null,
      "outputs": []
    },
    {
      "cell_type": "markdown",
      "source": [
        "1581.Customer Who Visited but Did Not Make Any Transactions\n",
        "\n",
        "Write a solution to find the IDs of the users who visited without making any transactions and the number of times they made these types of visits."
      ],
      "metadata": {
        "id": "wJDllxIjM7bg"
      }
    },
    {
      "cell_type": "code",
      "source": [
        "SELECT customer_id,\n",
        "       COUNT(*) as count_no_trans\n",
        "FROM Visits\n",
        "LEFT JOIN Transactions USING(visit_id)\n",
        "WHERE transaction_id IS NULL\n",
        "GROUP BY customer_id"
      ],
      "metadata": {
        "id": "l6M_Bi60M7lo"
      },
      "execution_count": null,
      "outputs": []
    },
    {
      "cell_type": "markdown",
      "source": [
        "197.Rising Temperature\n",
        "\n",
        "Write a solution to find all dates' Id with higher temperatures compared to its previous dates (yesterday)."
      ],
      "metadata": {
        "id": "_djyA_cLM7uA"
      }
    },
    {
      "cell_type": "code",
      "source": [
        "SELECT w1.id\n",
        "FROM Weather as w1\n",
        "JOIN Weather as w2 ON DATEDIFF(w1.recordDate, w2.recordDate) = 1\n",
        "WHERE w1.temperature > w2.temperature"
      ],
      "metadata": {
        "id": "NWDBnBTSM72t"
      },
      "execution_count": null,
      "outputs": []
    },
    {
      "cell_type": "markdown",
      "source": [
        "1661.Average Time of Process per Machine\n",
        "\n",
        "The resulting table should have the machine_id along with the average time as processing_time, which should be rounded to 3 decimal places."
      ],
      "metadata": {
        "id": "tS-WoiJmM79x"
      }
    },
    {
      "cell_type": "code",
      "source": [
        "SELECT a1.machine_id,\n",
        "       ROUND(AVG(a2.timestamp - a1.timestamp), 3) as processing_time\n",
        "FROM Activity as a1\n",
        "JOIN Activity as a2 USING(machine_id)\n",
        "WHERE a1.activity_type ='start'\n",
        "AND a2.activity_type = 'end'\n",
        "GROUP BY machine_id"
      ],
      "metadata": {
        "id": "lB7-gSdBM8EM"
      },
      "execution_count": null,
      "outputs": []
    },
    {
      "cell_type": "markdown",
      "source": [
        "577.Employee Bonus\n",
        "\n",
        "Write a solution to report the name and bonus amount of each employee with a bonus less than 1000."
      ],
      "metadata": {
        "id": "uyGRgeJgsI-t"
      }
    },
    {
      "cell_type": "code",
      "source": [
        "SELECT name,\n",
        "       bonus\n",
        "FROM Employee\n",
        "LEFT JOIN Bonus using(empId)\n",
        "WHERE bonus < 1000\n",
        "OR bonus is null"
      ],
      "metadata": {
        "id": "11EOa5JKsJIg"
      },
      "execution_count": null,
      "outputs": []
    },
    {
      "cell_type": "markdown",
      "source": [
        "1280.Students and Examinations\n",
        "\n",
        "Write a solution to find the number of times each student attended each exam."
      ],
      "metadata": {
        "id": "NWeJrnMzsJVK"
      }
    },
    {
      "cell_type": "code",
      "source": [
        "SELECT\n",
        "    s.student_id,\n",
        "    s.student_name,\n",
        "    u.subject_name,\n",
        "    COUNT(e.subject_name) AS attended_exams\n",
        "FROM Students ass\n",
        "CROSS JOIN as Subjects u\n",
        "LEFT JOIN Examinations e\n",
        "ON s.student_id = e.student_id AND u.subject_name = e.subject_name\n",
        "GROUP BY s.student_id, s.student_name, u.subject_name\n",
        "ORDER BY s.student_id, u.subject_name"
      ],
      "metadata": {
        "id": "wKMGgwi5sJee"
      },
      "execution_count": null,
      "outputs": []
    },
    {
      "cell_type": "markdown",
      "source": [
        "570.Managers with at Least 5 Direct Reports\n",
        "\n",
        "Write a solution to find managers with at least five direct reports."
      ],
      "metadata": {
        "id": "8Gq9OkkwsJmG"
      }
    },
    {
      "cell_type": "code",
      "source": [
        "SELECT e2.name\n",
        "FROM Employee as e1\n",
        "JOIN Employee as e2 on e1.managerId = e2.id\n",
        "GROUP BY e1.managerId\n",
        "HAVING COUNT(e1.id) >= 5"
      ],
      "metadata": {
        "id": "BCum-kKssJvk"
      },
      "execution_count": null,
      "outputs": []
    },
    {
      "cell_type": "markdown",
      "source": [
        "1934.Confirmation Rate\n",
        "\n",
        "Write a solution to find the confirmation rate of each user."
      ],
      "metadata": {
        "id": "L-dJpDJMAuc8"
      }
    },
    {
      "cell_type": "code",
      "source": [
        "SELECT user_id,\n",
        "       ROUND(AVG(CASE WHEN action = 'confirmed'  THEN 1 ELSE 0 END), 2) as confirmation_rate\n",
        "FROM Signups\n",
        "LEFT JOIN Confirmations USING(user_id)\n",
        "GROUP BY user_id\n"
      ],
      "metadata": {
        "id": "fg-DExkOAulc"
      },
      "execution_count": null,
      "outputs": []
    },
    {
      "cell_type": "markdown",
      "source": [
        "## <b>BASIC AGGREGATE FUNCTIONS</b>"
      ],
      "metadata": {
        "id": "3Lz8gkC_Mpe1"
      }
    },
    {
      "cell_type": "markdown",
      "source": [
        "620.Not Boring Movies\n",
        "\n",
        "Write a solution to report the movies with an odd-numbered ID and a description that is not \"boring\"."
      ],
      "metadata": {
        "id": "YjdZ05DpAutu"
      }
    },
    {
      "cell_type": "code",
      "source": [
        "SELECT *\n",
        "FROM Cinema\n",
        "WHERE description != 'boring'\n",
        "AND id % 2 != 0\n",
        "ORDER BY rating DESC"
      ],
      "metadata": {
        "id": "zBwNCGCVAu1h"
      },
      "execution_count": null,
      "outputs": []
    },
    {
      "cell_type": "markdown",
      "source": [
        "1251.Average Selling Price\n",
        "\n",
        "Write a solution to find the average selling price for each product. average_price should be rounded to 2 decimal places."
      ],
      "metadata": {
        "id": "2Kh3EBAtAu9F"
      }
    },
    {
      "cell_type": "code",
      "source": [
        "SELECT p.product_id,\n",
        "       IFNULL(ROUND(SUM(price * units) / SUM(units), 2), 0) as average_price\n",
        "FROM Prices as p\n",
        "LEFT JOIN UnitsSold as u\n",
        "ON p.product_id = u.product_id AND\n",
        "u.purchase_date BETWEEN start_date AND end_date\n",
        "GROUP BY p.product_id"
      ],
      "metadata": {
        "id": "J-OsaoFUAvDN"
      },
      "execution_count": null,
      "outputs": []
    },
    {
      "cell_type": "markdown",
      "source": [
        "1075.Project Employees I\n",
        "\n",
        "Write an SQL query that reports the average experience years of all the employees for each project, rounded to 2 digits.\n"
      ],
      "metadata": {
        "id": "g97vPgJP4d2s"
      }
    },
    {
      "cell_type": "code",
      "source": [
        "SELECT project_id,\n",
        "       ROUND(AVG(experience_years), 2) as average_years\n",
        "FROM Project\n",
        "LEFT JOIN Employee using(employee_id)\n",
        "GROUP BY project_id"
      ],
      "metadata": {
        "id": "sBK98LXu4jaa"
      },
      "execution_count": null,
      "outputs": []
    },
    {
      "cell_type": "markdown",
      "source": [
        "1633.Percentage of Users Attended a Contest\n",
        "\n",
        "Write a solution to find the percentage of the users registered in each contest rounded to two decimals."
      ],
      "metadata": {
        "id": "wOpo7mnW4vb0"
      }
    },
    {
      "cell_type": "code",
      "source": [
        "SELECT contest_id,\n",
        "       ROUND(COUNT(user_id) * 100 / (SELECT COUNT(user_id) FROM Users), 2) as percentage\n",
        "FROM Register\n",
        "GROUP BY contest_id\n",
        "GROUP BY percentage DESC, contest_id"
      ],
      "metadata": {
        "id": "3oRImk-C4vru"
      },
      "execution_count": null,
      "outputs": []
    },
    {
      "cell_type": "markdown",
      "source": [
        "1211.Queries Quality and Percentage\n",
        "\n",
        "Write a solution to find each query_name, the quality and poor_query_percentage."
      ],
      "metadata": {
        "id": "AhQIKXIb4v4V"
      }
    },
    {
      "cell_type": "code",
      "source": [
        "SELECT query_name,\n",
        "       ROUND(AVG((rating) / position), 2) as quality,\n",
        "       ROUND(AVG(CASE WHEN rating < 3 THEN 1 ELSE 0 END) * 100, 2) as poor_query_percentage\n",
        "FROM Queries\n",
        "GROUP BY query_name"
      ],
      "metadata": {
        "id": "D-t89UJ04wCu"
      },
      "execution_count": null,
      "outputs": []
    },
    {
      "cell_type": "markdown",
      "source": [
        "1193.Monthly Transactions I\n",
        "\n",
        "Write an SQL query to find for each month and country, the number of transactions and their total amount, the number of approved transactions and their total amount.\n"
      ],
      "metadata": {
        "id": "Hhp-CpNz8zu6"
      }
    },
    {
      "cell_type": "code",
      "source": [
        "SELECT DATE_FORMAT(trans_date, '%Y-%m') as month,\n",
        "       country,\n",
        "       COUNT(id) as trans_count,\n",
        "       SUM(CASE WHEN state ='approved' THEN 1 ELSE 0 END) approved_count,\n",
        "       SUM(amount) as trans_total_amount,\n",
        "       SUM(CASE WHEN state='approved' THEN amount ELSE 0 END) approved_total_amount\n",
        "FROM Transactions\n",
        "GROUP BY month, country"
      ],
      "metadata": {
        "id": "wxGDzhT38z1I"
      },
      "execution_count": null,
      "outputs": []
    },
    {
      "cell_type": "markdown",
      "source": [
        "1174.Immediate Food Delivery II\n",
        "\n",
        "Write a solution to find the percentage of immediate orders in the first orders of all customers, rounded to 2 decimal places."
      ],
      "metadata": {
        "id": "irIACpDg80Gq"
      }
    },
    {
      "cell_type": "code",
      "source": [
        "SELECT ROUND(COUNT(*) / (SELECT COUNT(DISTINCT customer_id) FROM Delivery) * 100, 2) as immediate_percentage\n",
        "FROM (SELECT customer_id\n",
        "      FROM Delivery\n",
        "      GROUP BY customer_id\n",
        "      HAVING MIN(order_date) = MIN(customer_pref_delivery_date)) as t1"
      ],
      "metadata": {
        "id": "3N5UPE3u80RE"
      },
      "execution_count": null,
      "outputs": []
    },
    {
      "cell_type": "markdown",
      "source": [
        "550.Game Play Analysis IV\n",
        "\n",
        "Write a solution to report the fraction of players that logged in again on the day after the day they first logged in, rounded to 2 decimal places. I"
      ],
      "metadata": {
        "id": "j36Bjg3Lzv-j"
      }
    },
    {
      "cell_type": "code",
      "source": [
        "SELECT ROUND(SUM(login)/COUNT(DISTINCT player_id), 2) AS fraction\n",
        "FROM (\n",
        "  SELECT\n",
        "    player_id,\n",
        "    DATEDIFF(event_date, MIN(event_date) OVER(PARTITION BY player_id)) = 1 AS login\n",
        "  FROM Activity\n",
        ") AS t1"
      ],
      "metadata": {
        "id": "tYSj6LwMzweo"
      },
      "execution_count": null,
      "outputs": []
    },
    {
      "cell_type": "markdown",
      "source": [
        "## <b>SORTING AND GROUPING</b>"
      ],
      "metadata": {
        "id": "E980Bybrz67Y"
      }
    },
    {
      "cell_type": "markdown",
      "source": [
        "2356.Number of Unique Subjects Taught by Each Teacher\n",
        "\n",
        "Write a solution to calculate the number of unique subjects each teacher teaches in the university."
      ],
      "metadata": {
        "id": "x2B-VNPC1ZfZ"
      }
    },
    {
      "cell_type": "code",
      "source": [
        "SELECT teacher_id,\n",
        "       COUNT(DISTINCT subject_id) as cnt\n",
        "FROM Teacher\n",
        "GROUP BY teacher_id"
      ],
      "metadata": {
        "id": "CLNmznaUz5FI"
      },
      "execution_count": null,
      "outputs": []
    },
    {
      "cell_type": "markdown",
      "source": [
        "1141.User Activity for the Past 30 Days I\n",
        "\n",
        "Write a solution to find the daily active user count for a period of 30 days ending 2019-07-27 inclusively. A user was active on someday if they made at least one activity on that day."
      ],
      "metadata": {
        "id": "j_lKogel1xmR"
      }
    },
    {
      "cell_type": "code",
      "source": [
        "SELECT activity_date as day,\n",
        "       COUNT(DISTINCT user_id) as active_users\n",
        "FROM Activity\n",
        "WHERE activity_date BETWEEN '2019-06-28' AND '2019-07-27'\n",
        "GROUP BY day\n"
      ],
      "metadata": {
        "id": "dP0jvci_1nwn"
      },
      "execution_count": null,
      "outputs": []
    },
    {
      "cell_type": "markdown",
      "source": [
        "1070.Product Sales Analysis III\n",
        "\n",
        "Write a solution to select the product id, year, quantity, and price for the first year of every product sold."
      ],
      "metadata": {
        "id": "8F06bbfX4LDU"
      }
    },
    {
      "cell_type": "code",
      "source": [
        "SELECT product_id,\n",
        "       year as first_year,\n",
        "       quantity,\n",
        "      price\n",
        "FROM Sales\n",
        "WHERE(product_id, year) IN (SELECT product_id,\n",
        "                                   min(year)\n",
        "                            FROM Sales\n",
        "                            GROUP BY product_id)"
      ],
      "metadata": {
        "id": "FMyB95d84J02"
      },
      "execution_count": null,
      "outputs": []
    }
  ]
}