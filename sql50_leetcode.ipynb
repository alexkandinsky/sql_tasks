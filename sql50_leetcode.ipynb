{
  "nbformat": 4,
  "nbformat_minor": 0,
  "metadata": {
    "colab": {
      "provenance": [],
      "authorship_tag": "ABX9TyM8VG+yz1difXGrDFNOw/gi"
    },
    "kernelspec": {
      "name": "python3",
      "display_name": "Python 3"
    },
    "language_info": {
      "name": "python"
    }
  },
  "cells": [
    {
      "cell_type": "markdown",
      "source": [
        "ССЫЛКА НА ИСТОЧНИК ЗАДАЧ: https://leetcode.com/studyplan/top-sql-50/"
      ],
      "metadata": {
        "id": "jkCXXLNZ_caG"
      }
    },
    {
      "cell_type": "markdown",
      "source": [
        "# <b>SELECT</b>"
      ],
      "metadata": {
        "id": "Y_3ceqBIKeiy"
      }
    },
    {
      "cell_type": "markdown",
      "source": [
        "1757.Recyclable and Low Fat Products\n",
        "\n",
        "Write a solution to find the ids of products that are both low fat and recyclable."
      ],
      "metadata": {
        "id": "MXk05Lh-KmSe"
      }
    },
    {
      "cell_type": "code",
      "source": [
        "SELECT product_id\n",
        "FROM Products\n",
        "WHERE low_fats = 'Y'\n",
        "AND recyclable = 'Y';"
      ],
      "metadata": {
        "id": "JNAZSBZUKkbv"
      },
      "execution_count": null,
      "outputs": []
    },
    {
      "cell_type": "markdown",
      "source": [
        "584.Find Customer Referee\n",
        "\n",
        "Find the names of the customer that are not referred by the customer with id = 2."
      ],
      "metadata": {
        "id": "qgvfJ0PQK1SS"
      }
    },
    {
      "cell_type": "code",
      "source": [
        "SELECT name\n",
        "FROM Customer\n",
        "WHERE referee_id IS NULL\n",
        "OR referee_id != 2;"
      ],
      "metadata": {
        "id": "lHu8YYKwK1cB"
      },
      "execution_count": null,
      "outputs": []
    },
    {
      "cell_type": "markdown",
      "source": [
        "595.Big Countries\n",
        "\n",
        "Write a solution to find the name, population, and area of the big countries."
      ],
      "metadata": {
        "id": "dMCxrkpMK1nD"
      }
    },
    {
      "cell_type": "code",
      "source": [
        "SELECT name,\n",
        "       population,\n",
        "       area\n",
        "FROM World\n",
        "WHERE area >= 3000000\n",
        "OR population >= 25000000;"
      ],
      "metadata": {
        "id": "S7066RCfK1uo"
      },
      "execution_count": null,
      "outputs": []
    },
    {
      "cell_type": "markdown",
      "source": [
        "1148.Article Views I\n",
        "\n",
        "Write a solution to find all the authors that viewed at least one of their own articles."
      ],
      "metadata": {
        "id": "LFnBcBEiK15Z"
      }
    },
    {
      "cell_type": "code",
      "source": [
        "SELECT DISTINCT author_id as id\n",
        "FROM Views\n",
        "WHERE author_id = viewer_id\n",
        "ORDER BY id;"
      ],
      "metadata": {
        "id": "IcYIbK_9K1_z"
      },
      "execution_count": null,
      "outputs": []
    },
    {
      "cell_type": "markdown",
      "source": [
        "683.Invalid Tweets\n",
        "\n",
        "Write a solution to find the IDs of the invalid tweets. The tweet is invalid if the number of characters used in the content of the tweet is strictly greater than 15."
      ],
      "metadata": {
        "id": "ZEWgfS_PK2GO"
      }
    },
    {
      "cell_type": "code",
      "source": [
        "SELECT tweet_id\n",
        "FROM Tweets\n",
        "WHERE LENGTH(content) > 15;"
      ],
      "metadata": {
        "id": "jPcsU7A_K2Pg"
      },
      "execution_count": null,
      "outputs": []
    },
    {
      "cell_type": "markdown",
      "source": [
        "## <b>BASIC JOINS</b>"
      ],
      "metadata": {
        "id": "jr3l1nT9Mf8I"
      }
    },
    {
      "cell_type": "markdown",
      "source": [
        "1378.Replace Employee ID With The Unique Identifier\n",
        "\n",
        "Write a solution to show the unique ID of each user, If a user does not have a unique ID replace just show null."
      ],
      "metadata": {
        "id": "nO4GmdoBMug3"
      }
    },
    {
      "cell_type": "code",
      "source": [
        "SELECT unique_id,\n",
        "        name\n",
        "FROM Employees\n",
        "LEFT JOIN EmployeeUNI USING(id);"
      ],
      "metadata": {
        "id": "GeoZCVdgMrMn"
      },
      "execution_count": null,
      "outputs": []
    },
    {
      "cell_type": "markdown",
      "source": [
        "1068.Product Sales Analysis I\n",
        "\n",
        "Write a solution to report the product_name, year, and price for each sale_id in the Sales table."
      ],
      "metadata": {
        "id": "qFmYeUtYM692"
      }
    },
    {
      "cell_type": "code",
      "source": [
        "SELECT product_name,\n",
        "       year,\n",
        "       price\n",
        "FROM Sales\n",
        "JOIN Product USING(product_id);"
      ],
      "metadata": {
        "id": "RL_FgmgYM7Np"
      },
      "execution_count": null,
      "outputs": []
    },
    {
      "cell_type": "markdown",
      "source": [
        "1581.Customer Who Visited but Did Not Make Any Transactions\n",
        "\n",
        "Write a solution to find the IDs of the users who visited without making any transactions and the number of times they made these types of visits."
      ],
      "metadata": {
        "id": "wJDllxIjM7bg"
      }
    },
    {
      "cell_type": "code",
      "source": [
        "SELECT customer_id,\n",
        "       COUNT(*) as count_no_trans\n",
        "FROM Visits\n",
        "LEFT JOIN Transactions USING(visit_id)\n",
        "WHERE transaction_id IS NULL\n",
        "GROUP BY customer_id;"
      ],
      "metadata": {
        "id": "l6M_Bi60M7lo"
      },
      "execution_count": null,
      "outputs": []
    },
    {
      "cell_type": "markdown",
      "source": [
        "197.Rising Temperature\n",
        "\n",
        "Write a solution to find all dates' Id with higher temperatures compared to its previous dates (yesterday)."
      ],
      "metadata": {
        "id": "_djyA_cLM7uA"
      }
    },
    {
      "cell_type": "code",
      "source": [
        "SELECT w1.id\n",
        "FROM Weather as w1\n",
        "JOIN Weather as w2 ON DATEDIFF(w1.recordDate, w2.recordDate) = 1\n",
        "WHERE w1.temperature > w2.temperature;"
      ],
      "metadata": {
        "id": "NWDBnBTSM72t"
      },
      "execution_count": null,
      "outputs": []
    },
    {
      "cell_type": "markdown",
      "source": [
        "1661.Average Time of Process per Machine\n",
        "\n",
        "The resulting table should have the machine_id along with the average time as processing_time, which should be rounded to 3 decimal places."
      ],
      "metadata": {
        "id": "tS-WoiJmM79x"
      }
    },
    {
      "cell_type": "code",
      "source": [
        "SELECT a1.machine_id,\n",
        "       ROUND(AVG(a2.timestamp - a1.timestamp), 3) as processing_time\n",
        "FROM Activity as a1\n",
        "JOIN Activity as a2 USING(machine_id)\n",
        "WHERE a1.activity_type ='start'\n",
        "AND a2.activity_type = 'end'\n",
        "GROUP BY machine_id;"
      ],
      "metadata": {
        "id": "lB7-gSdBM8EM"
      },
      "execution_count": null,
      "outputs": []
    },
    {
      "cell_type": "markdown",
      "source": [
        "577.Employee Bonus\n",
        "\n",
        "Write a solution to report the name and bonus amount of each employee with a bonus less than 1000."
      ],
      "metadata": {
        "id": "uyGRgeJgsI-t"
      }
    },
    {
      "cell_type": "code",
      "source": [
        "SELECT name,\n",
        "       bonus\n",
        "FROM Employee\n",
        "LEFT JOIN Bonus using(empId)\n",
        "WHERE bonus < 1000\n",
        "OR bonus is null;"
      ],
      "metadata": {
        "id": "11EOa5JKsJIg"
      },
      "execution_count": null,
      "outputs": []
    },
    {
      "cell_type": "markdown",
      "source": [
        "1280.Students and Examinations\n",
        "\n",
        "Write a solution to find the number of times each student attended each exam."
      ],
      "metadata": {
        "id": "NWeJrnMzsJVK"
      }
    },
    {
      "cell_type": "code",
      "source": [
        "SELECT\n",
        "    s.student_id,\n",
        "    s.student_name,\n",
        "    u.subject_name,\n",
        "    COUNT(e.subject_name) AS attended_exams\n",
        "FROM Students ass\n",
        "CROSS JOIN as Subjects u\n",
        "LEFT JOIN Examinations e\n",
        "ON s.student_id = e.student_id AND u.subject_name = e.subject_name\n",
        "GROUP BY s.student_id, s.student_name, u.subject_name\n",
        "ORDER BY s.student_id, u.subject_name;"
      ],
      "metadata": {
        "id": "wKMGgwi5sJee"
      },
      "execution_count": null,
      "outputs": []
    },
    {
      "cell_type": "markdown",
      "source": [
        "570.Managers with at Least 5 Direct Reports\n",
        "\n",
        "Write a solution to find managers with at least five direct reports."
      ],
      "metadata": {
        "id": "8Gq9OkkwsJmG"
      }
    },
    {
      "cell_type": "code",
      "source": [
        "SELECT e2.name\n",
        "FROM Employee as e1\n",
        "JOIN Employee as e2 on e1.managerId = e2.id\n",
        "GROUP BY e1.managerId\n",
        "HAVING COUNT(e1.id) >= 5;"
      ],
      "metadata": {
        "id": "BCum-kKssJvk"
      },
      "execution_count": null,
      "outputs": []
    },
    {
      "cell_type": "markdown",
      "source": [
        "1934.Confirmation Rate\n",
        "\n",
        "Write a solution to find the confirmation rate of each user."
      ],
      "metadata": {
        "id": "L-dJpDJMAuc8"
      }
    },
    {
      "cell_type": "code",
      "source": [
        "SELECT user_id,\n",
        "       ROUND(AVG(CASE WHEN action = 'confirmed'  THEN 1 ELSE 0 END), 2) as confirmation_rate\n",
        "FROM Signups\n",
        "LEFT JOIN Confirmations USING(user_id)\n",
        "GROUP BY user_id\n"
      ],
      "metadata": {
        "id": "fg-DExkOAulc"
      },
      "execution_count": null,
      "outputs": []
    },
    {
      "cell_type": "markdown",
      "source": [
        "620.Not Boring Movies\n",
        "\n",
        "Write a solution to report the movies with an odd-numbered ID and a description that is not \"boring\"."
      ],
      "metadata": {
        "id": "YjdZ05DpAutu"
      }
    },
    {
      "cell_type": "code",
      "source": [
        "SELECT *\n",
        "FROM Cinema\n",
        "WHERE description != 'boring'\n",
        "AND id % 2 != 0\n",
        "ORDER BY rating DESC;"
      ],
      "metadata": {
        "id": "zBwNCGCVAu1h"
      },
      "execution_count": null,
      "outputs": []
    },
    {
      "cell_type": "markdown",
      "source": [
        "1251.Average Selling Price\n",
        "\n",
        "Write a solution to find the average selling price for each product. average_price should be rounded to 2 decimal places."
      ],
      "metadata": {
        "id": "2Kh3EBAtAu9F"
      }
    },
    {
      "cell_type": "code",
      "source": [
        "SELECT p.product_id,\n",
        "       IFNULL(ROUND(SUM(price * units) / SUM(units), 2), 0) as average_price\n",
        "FROM Prices as p\n",
        "LEFT JOIN UnitsSold as u\n",
        "ON p.product_id = u.product_id AND\n",
        "u.purchase_date BETWEEN start_date AND end_date\n",
        "GROUP BY p.product_id"
      ],
      "metadata": {
        "id": "J-OsaoFUAvDN"
      },
      "execution_count": null,
      "outputs": []
    }
  ]
}