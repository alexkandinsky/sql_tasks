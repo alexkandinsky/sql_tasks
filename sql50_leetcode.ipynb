{
  "nbformat": 4,
  "nbformat_minor": 0,
  "metadata": {
    "colab": {
      "provenance": [],
      "authorship_tag": "ABX9TyP6qa4fwPk+Ruch4PaltpZr"
    },
    "kernelspec": {
      "name": "python3",
      "display_name": "Python 3"
    },
    "language_info": {
      "name": "python"
    }
  },
  "cells": [
    {
      "cell_type": "markdown",
      "source": [
        "# <b>SELECT</b>"
      ],
      "metadata": {
        "id": "Y_3ceqBIKeiy"
      }
    },
    {
      "cell_type": "markdown",
      "source": [
        "1757.Recyclable and Low Fat Products\n",
        "\n",
        "Write a solution to find the ids of products that are both low fat and recyclable."
      ],
      "metadata": {
        "id": "MXk05Lh-KmSe"
      }
    },
    {
      "cell_type": "code",
      "source": [
        "SELECT product_id\n",
        "FROM Products\n",
        "WHERE low_fats = 'Y'\n",
        "AND recyclable = 'Y';"
      ],
      "metadata": {
        "id": "JNAZSBZUKkbv"
      },
      "execution_count": null,
      "outputs": []
    },
    {
      "cell_type": "markdown",
      "source": [
        "584.Find Customer Referee\n",
        "\n",
        "Find the names of the customer that are not referred by the customer with id = 2."
      ],
      "metadata": {
        "id": "qgvfJ0PQK1SS"
      }
    },
    {
      "cell_type": "code",
      "source": [
        "SELECT name\n",
        "FROM Customer\n",
        "WHERE referee_id IS NULL\n",
        "OR referee_id != 2;"
      ],
      "metadata": {
        "id": "lHu8YYKwK1cB"
      },
      "execution_count": null,
      "outputs": []
    },
    {
      "cell_type": "markdown",
      "source": [
        "595.Big Countries\n",
        "\n",
        "Write a solution to find the name, population, and area of the big countries."
      ],
      "metadata": {
        "id": "dMCxrkpMK1nD"
      }
    },
    {
      "cell_type": "code",
      "source": [
        "SELECT name,\n",
        "       population,\n",
        "       area\n",
        "FROM World\n",
        "WHERE area >= 3000000\n",
        "OR population >= 25000000;"
      ],
      "metadata": {
        "id": "S7066RCfK1uo"
      },
      "execution_count": null,
      "outputs": []
    },
    {
      "cell_type": "markdown",
      "source": [
        "1148.Article Views I\n",
        "\n",
        "Write a solution to find all the authors that viewed at least one of their own articles."
      ],
      "metadata": {
        "id": "LFnBcBEiK15Z"
      }
    },
    {
      "cell_type": "code",
      "source": [
        "SELECT DISTINCT author_id as id\n",
        "FROM Views\n",
        "WHERE author_id = viewer_id\n",
        "ORDER BY id;"
      ],
      "metadata": {
        "id": "IcYIbK_9K1_z"
      },
      "execution_count": null,
      "outputs": []
    },
    {
      "cell_type": "markdown",
      "source": [
        "683.Invalid Tweets\n",
        "\n",
        "Write a solution to find the IDs of the invalid tweets. The tweet is invalid if the number of characters used in the content of the tweet is strictly greater than 15."
      ],
      "metadata": {
        "id": "ZEWgfS_PK2GO"
      }
    },
    {
      "cell_type": "code",
      "source": [
        "SELECT tweet_id\n",
        "FROM Tweets\n",
        "WHERE LENGTH(content) > 15;"
      ],
      "metadata": {
        "id": "jPcsU7A_K2Pg"
      },
      "execution_count": null,
      "outputs": []
    },
    {
      "cell_type": "markdown",
      "source": [
        "## <b>BASIC JOINS</b>"
      ],
      "metadata": {
        "id": "jr3l1nT9Mf8I"
      }
    },
    {
      "cell_type": "markdown",
      "source": [
        "1378.Replace Employee ID With The Unique Identifier\n",
        "\n",
        "Write a solution to show the unique ID of each user, If a user does not have a unique ID replace just show null."
      ],
      "metadata": {
        "id": "nO4GmdoBMug3"
      }
    },
    {
      "cell_type": "code",
      "source": [
        "SELECT unique_id,\n",
        "        name\n",
        "FROM Employees\n",
        "LEFT JOIN EmployeeUNI USING(id);"
      ],
      "metadata": {
        "id": "GeoZCVdgMrMn"
      },
      "execution_count": null,
      "outputs": []
    },
    {
      "cell_type": "markdown",
      "source": [
        "1068.Product Sales Analysis I\n",
        "\n",
        "Write a solution to report the product_name, year, and price for each sale_id in the Sales table."
      ],
      "metadata": {
        "id": "qFmYeUtYM692"
      }
    },
    {
      "cell_type": "code",
      "source": [
        "SELECT product_name,\n",
        "       year,\n",
        "       price\n",
        "FROM Sales\n",
        "JOIN Product USING(product_id);"
      ],
      "metadata": {
        "id": "RL_FgmgYM7Np"
      },
      "execution_count": null,
      "outputs": []
    },
    {
      "cell_type": "markdown",
      "source": [
        "1581.Customer Who Visited but Did Not Make Any Transactions\n",
        "\n",
        "Write a solution to find the IDs of the users who visited without making any transactions and the number of times they made these types of visits."
      ],
      "metadata": {
        "id": "wJDllxIjM7bg"
      }
    },
    {
      "cell_type": "code",
      "source": [
        "SELECT customer_id,\n",
        "       COUNT(*) as count_no_trans\n",
        "FROM Visits\n",
        "LEFT JOIN Transactions USING(visit_id)\n",
        "WHERE transaction_id IS NULL\n",
        "GROUP BY customer_id;"
      ],
      "metadata": {
        "id": "l6M_Bi60M7lo"
      },
      "execution_count": null,
      "outputs": []
    },
    {
      "cell_type": "markdown",
      "source": [
        "197.Rising Temperature\n",
        "\n",
        "Write a solution to find all dates' Id with higher temperatures compared to its previous dates (yesterday)."
      ],
      "metadata": {
        "id": "_djyA_cLM7uA"
      }
    },
    {
      "cell_type": "code",
      "source": [
        "SELECT w1.id\n",
        "FROM Weather as w1\n",
        "JOIN Weather as w2 ON DATEDIFF(w1.recordDate, w2.recordDate) = 1\n",
        "WHERE w1.temperature > w2.temperature;"
      ],
      "metadata": {
        "id": "NWDBnBTSM72t"
      },
      "execution_count": null,
      "outputs": []
    },
    {
      "cell_type": "markdown",
      "source": [
        "1661.Average Time of Process per Machine\n",
        "\n",
        "The resulting table should have the machine_id along with the average time as processing_time, which should be rounded to 3 decimal places."
      ],
      "metadata": {
        "id": "tS-WoiJmM79x"
      }
    },
    {
      "cell_type": "code",
      "source": [
        "SELECT a1.machine_id,\n",
        "       ROUND(AVG(a2.timestamp - a1.timestamp), 3) as processing_time\n",
        "FROM Activity as a1\n",
        "JOIN Activity as a2 USING(machine_id)\n",
        "WHERE a1.activity_type ='start'\n",
        "AND a2.activity_type = 'end'\n",
        "GROUP BY machine_id"
      ],
      "metadata": {
        "id": "lB7-gSdBM8EM"
      },
      "execution_count": null,
      "outputs": []
    }
  ]
}